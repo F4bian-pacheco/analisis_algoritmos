{
  "nbformat": 4,
  "nbformat_minor": 0,
  "metadata": {
    "kernelspec": {
      "display_name": "Python 3",
      "language": "python",
      "name": "python3"
    },
    "language_info": {
      "codemirror_mode": {
        "name": "ipython",
        "version": 3
      },
      "file_extension": ".py",
      "mimetype": "text/x-python",
      "name": "python",
      "nbconvert_exporter": "python",
      "pygments_lexer": "ipython3",
      "version": "3.6.9"
    },
    "colab": {
      "name": "4.-algoritmo_strassen.ipynb",
      "provenance": []
    }
  },
  "cells": [
    {
      "cell_type": "markdown",
      "metadata": {
        "id": "rAPH0Nurbjg3"
      },
      "source": [
        "# Multiplicacion de matrices\n",
        "\n",
        "Sean $A$ y $B$ dos matrices de tamaño $n\\times n$. Ahora dividimos las matrices en submatrices $A_{i,j}$ y $B_{i,j}$ de tamaño $n/2 \\times n/2$ \n",
        "$$\t\n",
        "A = \\begin{pmatrix}\n",
        "    A_{1,1} & A_{1,2} \\\\\n",
        "    A_{2,1} & A_{2,2} \\\\\n",
        "    \\end{pmatrix}\n",
        "$$\n",
        "\n",
        "$$\n",
        "B = \\begin{pmatrix}\n",
        "\tB_{1,1} & B_{1,2} \\\\\n",
        "\tB_{2,1} & B_{2,2} \\\\\n",
        "\t\\end{pmatrix}\n",
        "$$\n",
        "    \n",
        "La multiplicaci\\'on de las dos matrices puede ser resuelto como:\n",
        "\n",
        "$$\n",
        "A  \\times B = \\begin{pmatrix}\n",
        "\tC_{1,1} & C_{1,2} \\\\\n",
        "\tC_{2,1} & C_{2,2} \\\\\n",
        "\t\\end{pmatrix}\n",
        "$$\n",
        "\n",
        "$$\n",
        "A =\\begin{pmatrix}\n",
        "\tA_{1,1} & A_{1,2} \\\\\n",
        "\tA_{2,1} & A_{2,2} \\\\\n",
        "\t\\end{pmatrix} \\times \\begin{pmatrix}\n",
        "\tB_{1,1} & B_{1,2} \\\\\n",
        "\tB_{2,1} & B_{2,2} \\\\\n",
        "\\end{pmatrix}\n",
        "$$\n",
        "\n",
        "$$\n",
        "C_{i,j}= \\sum_{k=1}^n A_{i,k} \\times B_{k,j}\n",
        "$$\n"
      ]
    },
    {
      "cell_type": "code",
      "metadata": {
        "id": "6fslGri3bjg4"
      },
      "source": [
        "import numpy as np \n",
        "\n",
        "\n",
        "def default_matrix_multiplication(A, B):\n",
        "    if get_matrix_dimensions(A) != get_matrix_dimensions(B):\n",
        "        raise Exception(f'Both matrices are not the same dimension!')\n",
        "    n = A.shape[0]\n",
        "    C = [[0 for i in np.arange(n)] for j in np.arange(n)]\n",
        "    for i in np.arange(n):\n",
        "        for j in np.arange(n):\n",
        "            for k in np.arange(n):\n",
        "                C[i][j] += A[i,k] * B[k,j]\n",
        "    return np.matrix(C)"
      ],
      "execution_count": 1,
      "outputs": []
    },
    {
      "cell_type": "markdown",
      "metadata": {
        "id": "cwuWrqN9bjg-"
      },
      "source": [
        "# Algoritmo Strassen\n",
        "\n",
        "El algoritmo Strassen es un metodo del tipo Divide y Vencer\\'as para resolver el problema de la multiplicacion de matrices cuadradas. El algoritmo Strassen calcula las siguientes operaciones:\n",
        "\n",
        "$$\n",
        "p_1 = (a_{11}) \\times (b_{12} - b_{22})\\\\\n",
        "p_2 = (a_{11} + a_{12}) \\times (b_{22})\\\\\n",
        "p_3 = (a_{21} + a_{22}) \\times (b_{11})\\\\         \n",
        "p_4 = (a_{22}) \\times (b_{21} - b_{11})\\\\         \n",
        "p_5 = (a{11} + a_{22}) \\times (b_{11} + b_{22})\\\\         \n",
        "p_6 = (a_{12} - a_{22}) \\times  (b_{21} + b_{22})\\\\   \n",
        "p_7 = (a{11} - a_{21}) \\times (b_{11} + b_{12})\n",
        "$$"
      ]
    },
    {
      "cell_type": "markdown",
      "metadata": {
        "id": "8iVIFi5pbjg_"
      },
      "source": [
        "$$\n",
        "C_{1,1}=p_5+p_4 - p_2 +p_6\\\\\n",
        "C_{1,2}=p_1 + p_2\\\\\n",
        "C_{2,1}=p_3 + p_4\\\\\n",
        "C_{2,2}=p_1 + p_5 - p_3 +p_7\n",
        "$$"
      ]
    },
    {
      "cell_type": "markdown",
      "metadata": {
        "id": "N655Rtw3bjhA"
      },
      "source": [
        "El siguiente codigo implementa una version recursiva del algoritmo Strassen:"
      ]
    },
    {
      "cell_type": "code",
      "metadata": {
        "id": "HR2rBTeBbjhA"
      },
      "source": [
        "def split_matrix(A):\n",
        "    if A.shape[0] % 2 != 0 or A.shape[1] % 2 != 0:\n",
        "        raise Exception('Odd matrices are not supported!')\n",
        "    matrix_length = A.shape[0]\n",
        "    mid = matrix_length // 2\n",
        "    a11 = A[:mid,:mid]\n",
        "    a21 = A[mid:,:mid]\n",
        "    a22 = A[mid:,mid:]\n",
        "    a12 = A[:mid,mid:]\n",
        "    \n",
        "    return a11, a12, a21, a22\n",
        "\n",
        "def get_matrix_dimensions(matrix):\n",
        "    return matrix.shape\n",
        "\n",
        "def strassen(A,B,base_case=2): \n",
        "    # Base case when size of matrices is 1x1 \n",
        "    if get_matrix_dimensions(A) != get_matrix_dimensions(B):\n",
        "        raise Exception(f'Both matrices are not the same dimension!')\n",
        "    if get_matrix_dimensions(A) == (base_case, base_case):\n",
        "        return default_matrix_multiplication(A, B)\n",
        "\n",
        "    a11, a12, a21, a22 = split_matrix(A) \n",
        "    b11, b12, b21, b22 = split_matrix(B) \n",
        "  \n",
        "    p1 = strassen(a11, b12 - b22)   \n",
        "    p2 = strassen(a11 + a12, b22)         \n",
        "    p3 = strassen(a21 + a22, b11)         \n",
        "    p4 = strassen(a22, b21 - b11)         \n",
        "    p5 = strassen(a11 + a22, b11 + b22)         \n",
        "    p6 = strassen(a12 - a22, b21 + b22)   \n",
        "    p7 = strassen(a11 - a21, b11 + b12)   \n",
        "  \n",
        "    c11 = p5 + p4 - p2 + p6   \n",
        "    c12 = p1 + p2            \n",
        "    c21 = p3 + p4             \n",
        "    c22 = p1 + p5 - p3 - p7   \n",
        "  \n",
        "    C = np.vstack((np.hstack((c11, c12)), np.hstack((c21, c22))))  \n",
        "    return C "
      ],
      "execution_count": 3,
      "outputs": []
    },
    {
      "cell_type": "markdown",
      "metadata": {
        "id": "CzFuF7YvbjhE"
      },
      "source": [
        "Los resultados de la implementacion iterativa y la version recursiva de los algoritmos de multiplicacion de matrices pueden ser comparados con los resutados de Numpy."
      ]
    },
    {
      "cell_type": "code",
      "metadata": {
        "id": "Uvy8UoOUbjhF"
      },
      "source": [
        "def compare_results(C,A,B,decimals=2):\n",
        "    return np.array_equal(np.around(np.dot(A,B), decimals=decimals),\n",
        "                          np.around(C,decimals=decimals))"
      ],
      "execution_count": 4,
      "outputs": []
    },
    {
      "cell_type": "code",
      "metadata": {
        "id": "Zc_ieeYNbjhI",
        "outputId": "1a410b1e-351c-441d-acbc-972eabdcc418",
        "colab": {
          "base_uri": "https://localhost:8080/",
          "height": 53
        }
      },
      "source": [
        "n = 64\n",
        "A = np.matrix(np.random.uniform(0.0, 1.0, n*n).reshape(n,n))\n",
        "B = np.matrix(np.random.uniform(0.0, 1.0, n*n).reshape(n,n))\n",
        "\n",
        "C=default_matrix_multiplication(A,B)\n",
        "print('Resultado correcto iterativo : {0}'.format(compare_results(C,A,B,1)))\n",
        "\n",
        "C2=strassen(A,B)\n",
        "print('Resultado correcto strassen : {0}'.format(compare_results(C2,A,B,1)))"
      ],
      "execution_count": 5,
      "outputs": [
        {
          "output_type": "stream",
          "text": [
            "Resultado correcto iterativo : True\n",
            "Resultado correcto strassen : True\n"
          ],
          "name": "stdout"
        }
      ]
    },
    {
      "cell_type": "code",
      "metadata": {
        "id": "KbWHSEOgbjhM",
        "outputId": "3ddbd5da-6854-4091-efd5-d3421fa8e6f3",
        "colab": {
          "base_uri": "https://localhost:8080/",
          "height": 35
        }
      },
      "source": [
        "A.shape"
      ],
      "execution_count": 7,
      "outputs": [
        {
          "output_type": "execute_result",
          "data": {
            "text/plain": [
              "(64, 64)"
            ]
          },
          "metadata": {
            "tags": []
          },
          "execution_count": 7
        }
      ]
    },
    {
      "cell_type": "code",
      "metadata": {
        "id": "dMXXAKVucH8e",
        "outputId": "b95c3235-c972-4367-a621-93b64123cfea",
        "colab": {
          "base_uri": "https://localhost:8080/",
          "height": 35
        }
      },
      "source": [
        "B.shape"
      ],
      "execution_count": 8,
      "outputs": [
        {
          "output_type": "execute_result",
          "data": {
            "text/plain": [
              "(64, 64)"
            ]
          },
          "metadata": {
            "tags": []
          },
          "execution_count": 8
        }
      ]
    },
    {
      "cell_type": "code",
      "metadata": {
        "id": "sBAUK5A4cI8c",
        "outputId": "57423a95-9700-49c4-e1e7-9367507e44be",
        "colab": {
          "base_uri": "https://localhost:8080/",
          "height": 1000
        }
      },
      "source": [
        "import time\n",
        "from tqdm import tqdm\n",
        "n_dims=[32,64,128]\n",
        "samples=10\n",
        "\n",
        "iterative_time={n:list() for n in n_dims}\n",
        "strassen_time={n:list()for n in n_dims}\n",
        "\n",
        "for n in tqdm(n_dims):\n",
        "  print('Matrix Size : {0}x{0}'.format(n))\n",
        "  for s in tqdm(range(samples)):\n",
        "    A = np.matrix(np.random.uniform(0.0, 1.0, n*n).reshape(n,n))\n",
        "    B = np.matrix(np.random.uniform(0.0, 1.0, n*n).reshape(n,n))\n",
        "    t1=time.time()\n",
        "    C1=default_matrix_multiplication(A,B)\n",
        "    iterative_time[n].append(time.time()-t1)\n",
        "    t2=time.time()\n",
        "    C2=default_matrix_multiplication(A,B)\n",
        "    strassen_time[n].append(time.time()-t2)\n"
      ],
      "execution_count": 33,
      "outputs": [
        {
          "output_type": "stream",
          "text": [
            "\n",
            "\n",
            "\n",
            "\n",
            "\n",
            "\n",
            "  0%|          | 0/3 [00:00<?, ?it/s]\u001b[A\u001b[A\u001b[A\u001b[A\u001b[A\u001b[A\n",
            "\n",
            "\n",
            "\n",
            "\n",
            "\n",
            "\n",
            "  0%|          | 0/10 [00:00<?, ?it/s]\u001b[A\u001b[A\u001b[A\u001b[A\u001b[A\u001b[A\u001b[A\n",
            "\n",
            "\n",
            "\n",
            "\n",
            "\n",
            "\n",
            " 10%|█         | 1/10 [00:00<00:02,  3.71it/s]\u001b[A\u001b[A\u001b[A\u001b[A\u001b[A\u001b[A\u001b[A\n",
            "\n",
            "\n",
            "\n",
            "\n",
            "\n",
            "\n",
            " 20%|██        | 2/10 [00:00<00:02,  3.70it/s]\u001b[A\u001b[A\u001b[A\u001b[A\u001b[A\u001b[A\u001b[A\n",
            "\n",
            "\n",
            "\n",
            "\n",
            "\n",
            "\n",
            " 30%|███       | 3/10 [00:00<00:01,  4.00it/s]\u001b[A\u001b[A\u001b[A\u001b[A\u001b[A\u001b[A\u001b[A\n",
            "\n",
            "\n",
            "\n",
            "\n",
            "\n",
            "\n",
            " 40%|████      | 4/10 [00:00<00:01,  4.33it/s]\u001b[A\u001b[A\u001b[A\u001b[A\u001b[A\u001b[A\u001b[A\n",
            "\n",
            "\n",
            "\n",
            "\n",
            "\n",
            "\n",
            " 50%|█████     | 5/10 [00:01<00:01,  4.16it/s]\u001b[A\u001b[A\u001b[A\u001b[A\u001b[A\u001b[A\u001b[A\n",
            "\n",
            "\n",
            "\n",
            "\n",
            "\n",
            "\n",
            " 60%|██████    | 6/10 [00:01<00:00,  4.69it/s]\u001b[A\u001b[A\u001b[A\u001b[A\u001b[A\u001b[A\u001b[A\n",
            "\n",
            "\n",
            "\n",
            "\n",
            "\n",
            "\n",
            " 70%|███████   | 7/10 [00:01<00:00,  4.37it/s]\u001b[A\u001b[A\u001b[A\u001b[A\u001b[A\u001b[A\u001b[A\n",
            "\n",
            "\n",
            "\n",
            "\n",
            "\n",
            "\n",
            " 80%|████████  | 8/10 [00:01<00:00,  4.17it/s]\u001b[A\u001b[A\u001b[A\u001b[A\u001b[A\u001b[A\u001b[A\n",
            "\n",
            "\n",
            "\n",
            "\n",
            "\n",
            "\n",
            " 90%|█████████ | 9/10 [00:02<00:00,  4.01it/s]\u001b[A\u001b[A\u001b[A\u001b[A\u001b[A\u001b[A\u001b[A\n",
            "\n",
            "\n",
            "\n",
            "\n",
            "\n",
            "\n",
            "100%|██████████| 10/10 [00:02<00:00,  4.36it/s]\n",
            "\n",
            "\n",
            "\n",
            "\n",
            "\n",
            "\n",
            " 33%|███▎      | 1/3 [00:02<00:04,  2.30s/it]\u001b[A\u001b[A\u001b[A\u001b[A\u001b[A\u001b[A\n",
            "\n",
            "\n",
            "\n",
            "\n",
            "\n",
            "\n",
            "  0%|          | 0/10 [00:00<?, ?it/s]\u001b[A\u001b[A\u001b[A\u001b[A\u001b[A\u001b[A\u001b[A\n",
            "\n",
            "\n",
            "\n",
            "\n",
            "\n",
            "\n",
            " 10%|█         | 1/10 [00:01<00:10,  1.22s/it]\u001b[A\u001b[A\u001b[A\u001b[A\u001b[A\u001b[A\u001b[A\n",
            "\n",
            "\n",
            "\n",
            "\n",
            "\n",
            "\n",
            " 20%|██        | 2/10 [00:02<00:09,  1.17s/it]\u001b[A\u001b[A\u001b[A\u001b[A\u001b[A\u001b[A\u001b[A\n",
            "\n",
            "\n",
            "\n",
            "\n",
            "\n",
            "\n",
            " 30%|███       | 3/10 [00:03<00:08,  1.25s/it]\u001b[A\u001b[A\u001b[A\u001b[A\u001b[A\u001b[A\u001b[A\n",
            "\n",
            "\n",
            "\n",
            "\n",
            "\n",
            "\n",
            " 40%|████      | 4/10 [00:04<00:07,  1.26s/it]\u001b[A\u001b[A\u001b[A\u001b[A\u001b[A\u001b[A\u001b[A\n",
            "\n",
            "\n",
            "\n",
            "\n",
            "\n",
            "\n",
            " 50%|█████     | 5/10 [00:06<00:06,  1.25s/it]\u001b[A\u001b[A\u001b[A\u001b[A\u001b[A\u001b[A\u001b[A\n",
            "\n",
            "\n",
            "\n",
            "\n",
            "\n",
            "\n",
            " 60%|██████    | 6/10 [00:07<00:04,  1.24s/it]\u001b[A\u001b[A\u001b[A\u001b[A\u001b[A\u001b[A\u001b[A\n",
            "\n",
            "\n",
            "\n",
            "\n",
            "\n",
            "\n",
            " 70%|███████   | 7/10 [00:08<00:03,  1.30s/it]\u001b[A\u001b[A\u001b[A\u001b[A\u001b[A\u001b[A\u001b[A\n",
            "\n",
            "\n",
            "\n",
            "\n",
            "\n",
            "\n",
            " 80%|████████  | 8/10 [00:09<00:02,  1.25s/it]\u001b[A\u001b[A\u001b[A\u001b[A\u001b[A\u001b[A\u001b[A\n",
            "\n",
            "\n",
            "\n",
            "\n",
            "\n",
            "\n",
            " 90%|█████████ | 9/10 [00:11<00:01,  1.30s/it]\u001b[A\u001b[A\u001b[A\u001b[A\u001b[A\u001b[A\u001b[A\n",
            "\n",
            "\n",
            "\n",
            "\n",
            "\n",
            "\n",
            "100%|██████████| 10/10 [00:12<00:00,  1.25s/it]\n",
            "\n",
            "\n",
            "\n",
            "\n",
            "\n",
            "\n",
            " 67%|██████▋   | 2/3 [00:14<00:05,  5.36s/it]\u001b[A\u001b[A\u001b[A\u001b[A\u001b[A\u001b[A\n",
            "\n",
            "\n",
            "\n",
            "\n",
            "\n",
            "\n",
            "  0%|          | 0/10 [00:00<?, ?it/s]\u001b[A\u001b[A\u001b[A\u001b[A\u001b[A\u001b[A\u001b[A\n",
            "\n",
            "\n",
            "\n",
            "\n",
            "\n",
            "\n",
            " 10%|█         | 1/10 [00:08<01:20,  8.92s/it]\u001b[A\u001b[A\u001b[A\u001b[A\u001b[A\u001b[A\u001b[A\n",
            "\n",
            "\n",
            "\n",
            "\n",
            "\n",
            "\n",
            " 20%|██        | 2/10 [00:17<01:10,  8.83s/it]\u001b[A\u001b[A\u001b[A\u001b[A\u001b[A\u001b[A\u001b[A\n",
            "\n",
            "\n",
            "\n",
            "\n",
            "\n",
            "\n",
            " 30%|███       | 3/10 [00:26<01:01,  8.78s/it]\u001b[A\u001b[A\u001b[A\u001b[A\u001b[A\u001b[A\u001b[A\n",
            "\n",
            "\n",
            "\n",
            "\n",
            "\n",
            "\n",
            " 40%|████      | 4/10 [00:34<00:51,  8.65s/it]\u001b[A\u001b[A\u001b[A\u001b[A\u001b[A\u001b[A\u001b[A\n",
            "\n",
            "\n",
            "\n",
            "\n",
            "\n",
            "\n",
            " 50%|█████     | 5/10 [00:43<00:43,  8.65s/it]\u001b[A\u001b[A\u001b[A\u001b[A\u001b[A\u001b[A\u001b[A\n",
            "\n",
            "\n",
            "\n",
            "\n",
            "\n",
            "\n",
            " 60%|██████    | 6/10 [00:51<00:34,  8.65s/it]\u001b[A\u001b[A\u001b[A\u001b[A\u001b[A\u001b[A\u001b[A\n",
            "\n",
            "\n",
            "\n",
            "\n",
            "\n",
            "\n",
            " 70%|███████   | 7/10 [01:00<00:26,  8.69s/it]\u001b[A\u001b[A\u001b[A\u001b[A\u001b[A\u001b[A\u001b[A\n",
            "\n",
            "\n",
            "\n",
            "\n",
            "\n",
            "\n",
            " 80%|████████  | 8/10 [01:09<00:17,  8.65s/it]\u001b[A\u001b[A\u001b[A\u001b[A\u001b[A\u001b[A\u001b[A\n",
            "\n",
            "\n",
            "\n",
            "\n",
            "\n",
            "\n",
            " 90%|█████████ | 9/10 [01:17<00:08,  8.69s/it]\u001b[A\u001b[A\u001b[A\u001b[A\u001b[A\u001b[A\u001b[A\n",
            "\n",
            "\n",
            "\n",
            "\n",
            "\n",
            "\n",
            "100%|██████████| 10/10 [01:26<00:00,  8.68s/it]\n",
            "\n",
            "\n",
            "\n",
            "\n",
            "\n",
            "\n",
            "100%|██████████| 3/3 [01:41<00:00, 33.87s/it]\n"
          ],
          "name": "stderr"
        }
      ]
    },
    {
      "cell_type": "code",
      "metadata": {
        "id": "frrMipqCjWTo"
      },
      "source": [
        "import pandas as pd\n",
        "\n",
        "df_strassen=pd.DataFrame(strassen_time)\n",
        "df_iterative=pd.DataFrame(iterative_time)"
      ],
      "execution_count": 35,
      "outputs": []
    },
    {
      "cell_type": "code",
      "metadata": {
        "id": "YJiIAmqRjluP"
      },
      "source": [
        "df_strassen['method']='strassen'\n",
        "df_iterative['method']='iterative'"
      ],
      "execution_count": 37,
      "outputs": []
    },
    {
      "cell_type": "code",
      "metadata": {
        "id": "9HfZVk4XjxLj"
      },
      "source": [
        "df_results=pd.concat([df_strassen,df_iterative],axis=0)"
      ],
      "execution_count": 38,
      "outputs": []
    },
    {
      "cell_type": "code",
      "metadata": {
        "id": "Ws2Y3yp-j3zh",
        "outputId": "56be69a1-c4b8-4e41-a312-93751d33a8e2",
        "colab": {
          "base_uri": "https://localhost:8080/",
          "height": 141
        }
      },
      "source": [
        "df_results.groupby('method').mean()"
      ],
      "execution_count": 40,
      "outputs": [
        {
          "output_type": "execute_result",
          "data": {
            "text/html": [
              "<div>\n",
              "<style scoped>\n",
              "    .dataframe tbody tr th:only-of-type {\n",
              "        vertical-align: middle;\n",
              "    }\n",
              "\n",
              "    .dataframe tbody tr th {\n",
              "        vertical-align: top;\n",
              "    }\n",
              "\n",
              "    .dataframe thead th {\n",
              "        text-align: right;\n",
              "    }\n",
              "</style>\n",
              "<table border=\"1\" class=\"dataframe\">\n",
              "  <thead>\n",
              "    <tr style=\"text-align: right;\">\n",
              "      <th></th>\n",
              "      <th>32</th>\n",
              "      <th>64</th>\n",
              "      <th>128</th>\n",
              "    </tr>\n",
              "    <tr>\n",
              "      <th>method</th>\n",
              "      <th></th>\n",
              "      <th></th>\n",
              "      <th></th>\n",
              "    </tr>\n",
              "  </thead>\n",
              "  <tbody>\n",
              "    <tr>\n",
              "      <th>iterative</th>\n",
              "      <td>0.116821</td>\n",
              "      <td>0.644643</td>\n",
              "      <td>4.354383</td>\n",
              "    </tr>\n",
              "    <tr>\n",
              "      <th>strassen</th>\n",
              "      <td>0.105408</td>\n",
              "      <td>0.596194</td>\n",
              "      <td>4.318375</td>\n",
              "    </tr>\n",
              "  </tbody>\n",
              "</table>\n",
              "</div>"
            ],
            "text/plain": [
              "                32        64        128\n",
              "method                                 \n",
              "iterative  0.116821  0.644643  4.354383\n",
              "strassen   0.105408  0.596194  4.318375"
            ]
          },
          "metadata": {
            "tags": []
          },
          "execution_count": 40
        }
      ]
    }
  ]
}