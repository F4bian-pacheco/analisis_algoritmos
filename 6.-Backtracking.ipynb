{
 "cells": [
  {
   "cell_type": "markdown",
   "metadata": {},
   "source": [
    "# Backtracking\n",
    "\n",
    "Backtracking es una estrategia para encontrar la solución a un problema mediante un árbol de soluciones parciales. Si se encuentra la solución, el algoritmo se detiene. De lo contrario, se vuelve atrás de modo de examinar otras configuraciones.\n",
    "\n",
    "El problema de las 8 Reinas es un problema combinatorial que generalmente se resuelve con backtracking. Se trata de ubicar 8 reinas en un tablero de ajedrez de $8 \\times 8$. La restricción del problema es que ninguna reina puede estar en posición de atacar a las otras (en dirección vertical, horizontal o diagonal)\n",
    "\n",
    "Para dos posiciones $(x_1,y_1)$ y $(x_2,y_2)$, podemos chequear las restricciones mediante las siguientes ecuaciones:\n",
    "\n",
    "\\begin{align}\n",
    "x_1 &\\neq x_2 \\\\\n",
    "y_1 &\\neq y_2 \\\\\n",
    "\\vert y_2-x_2 \\vert &\\neq \\vert y_1-x_1 \\vert \\, \\forall x_1 \\neq x_2\n",
    "\\end{align}\n",
    "\n",
    "Para el problema de las 8-reinas, es posible expresar la naturaleza combinatorial del problema contando el número de cadenas de 64-bits que contienen exactamente ocho 1s.\n",
    "\n",
    "\\begin{align}\n",
    "{64\\choose 8} = 4,426,165,368\n",
    "\\end{align}\n",
    "\n",
    "Sin embargo la cantidad de soluciones posibles es solamente $92$. Es posible reducir la cantidad de tableros a generar si consideramos permutaciones $B=[0, 4, 7, 5, 2, 6, 1, 3]$ tal que el primer elemento contiene la posición de la primera reina en la primera fila.\n",
    "\n",
    "En general, para el problema de las n-reinas, la cantidad de soluciones varía según la siguiente tabla.\n",
    "\n",
    "|$n$| Cantidad de soluciones| \n",
    "|---|-------------|\n",
    "| $1$ | $1$ |\n",
    "| $2$  | $0$ |\n",
    "|3 | $0$|\n",
    "|$4$ | $2$|\n",
    "|$5$ | $10$|\n",
    "|$6$ | $4$|\n",
    "|$7$ | $40$|\n",
    "|$8$ | $92$|\n",
    "|$9$ | $352$|\n",
    "|$10$ | $724$|\n",
    "|$11$ | $2680$|\n",
    "|$12$ | $14200$|\n",
    "|$13$ | $73712$|\n",
    "|$14$ | $365596$|\n",
    "|$15$ | $2279184$|\n",
    "|$16$ | $14772512$|\n",
    "|$17$ | $95815104$|\n",
    "|$18$ | $666090624$|\n",
    "|$19$ | $4968057848$|\n",
    "|$20$ | $39029188884$|\n",
    "|$21$ | $314666222712$|\n",
    "|$22$ | $2691008701644$|\n",
    "|$23$ | $24233937684440$|\n",
    "|$24$ | $227514171973736$|\n",
    "|$25$ | $2207893435808352$|\n",
    "|$26$ | $22317699616364044$|\n",
    "\n"
   ]
  },
  {
   "cell_type": "code",
   "execution_count": 3,
   "metadata": {},
   "outputs": [
    {
     "name": "stdout",
     "output_type": "stream",
     "text": [
      "   0   1   0   0\n",
      "   0   0   0   1\n",
      "   1   0   0   0\n",
      "   0   0   1   0\n",
      "------------------\n",
      "   0   0   1   0\n",
      "   1   0   0   0\n",
      "   0   0   0   1\n",
      "   0   1   0   0\n",
      "------------------\n"
     ]
    }
   ],
   "source": [
    "import itertools\n",
    "import math \n",
    "\n",
    "def print_board(sol):\n",
    "    N=len(sol)\n",
    "    board = [[0]*N for _ in range(N)]\n",
    "    for k in range(N):\n",
    "        board[k][sol[k]]=1\n",
    "    longest_cols = [\n",
    "        (max([len(str(row[i])) for row in board]) + 3)\n",
    "        for i in range(len(board[0]))\n",
    "    ]\n",
    "    row_format = \"\".join([\"{:>\" + str(longest_col) + \"}\" for longest_col in longest_cols])\n",
    "    for row in board:\n",
    "        print(row_format.format(*row))\n",
    "    return board\n",
    "\n",
    "def nqueens_permutation(N):\n",
    "    S=itertools.permutations(range(N))\n",
    "    solutions=[]\n",
    "    for sol in S:\n",
    "        if (N == len(set(sol[i]+i for i in range(N))) == len(set(sol[i]-i for i in range(N)))):\n",
    "            solutions.append(sol) \n",
    "    return solutions\n",
    "\n",
    "\n",
    "for sol in nqueens_permutation(4):\n",
    "    print_board(sol)\n",
    "    print '------------------'\n",
    "\n"
   ]
  },
  {
   "cell_type": "markdown",
   "metadata": {},
   "source": [
    "# Algoritmo Backtracking para las n-reinas\n",
    "\n",
    "    1) Comience en la columna hacia la izquierda\n",
    "    2) Si todas las reinas están en posición devuelva Verdadero.\n",
    "    3) Para cada fila en la columna seleccionada tratar:\n",
    "        a) Si la reina puede ser posicionada en la posición [fila,columna], chequear recursivamente si esta posición lleva a una solución.\n",
    "        b) Si la reina en la posición [fila,columna] lleva a una solución, devuelva Verdadero.\n",
    "        c) Si la posición no lleva a una solución, devuelva a una posición anterior (Backtrack) y pruebe otras filas.\n",
    "    3) Si se han probado todas las filas, devuelva Falso y comience Backtracking."
   ]
  },
  {
   "cell_type": "code",
   "execution_count": 134,
   "metadata": {},
   "outputs": [],
   "source": [
    "import copy \n",
    "\n",
    "def is_safe(board): \n",
    "    N=board.shape[0]\n",
    "    safe=False\n",
    "    x,y=np.nonzero(board==1)\n",
    "    if len(np.unique(x))==len(x) & len(np.unique(y))==len(y):\n",
    "        safe=True\n",
    "    return safe\n",
    "    \n",
    "def child_nodes(board):\n",
    "    N=board.shape[0]\n",
    "    child=[]\n",
    "    zero_rows=[i for i,k in enumerate(board.sum(axis=1)==0) if k]\n",
    "    if len(zero_rows):\n",
    "        min_row=min(zero_rows)\n",
    "        for i in range(N):\n",
    "            new_board=copy.deepcopy(board)\n",
    "            new_board[min_row][i]=1\n",
    "            child.append(new_board)\n",
    "    return child\n",
    "\n",
    "def nqueens_backtracking(N):\n",
    "    sol = np.zeros((N,N))\n",
    "    stack, path = [sol], []\n",
    "    while stack:\n",
    "        vertex = stack.pop()\n",
    "        print vertex\n",
    "        print '-----------'\n",
    "        for old_vertex in path:\n",
    "            if np.array_equal(vertex,old_vertex):\n",
    "                continue\n",
    "        path.append(vertex)\n",
    "        for neighbor in child_nodes(vertex):\n",
    "            if is_safe(neighbor):\n",
    "                stack.append(neighbor)\n",
    "    return path"
   ]
  },
  {
   "cell_type": "code",
   "execution_count": 135,
   "metadata": {},
   "outputs": [
    {
     "name": "stdout",
     "output_type": "stream",
     "text": [
      "[0 0]\n",
      "[0 1]\n"
     ]
    },
    {
     "data": {
      "text/plain": [
       "False"
      ]
     },
     "execution_count": 135,
     "metadata": {},
     "output_type": "execute_result"
    }
   ],
   "source": [
    "board=np.zeros((3,3))\n",
    "board[0][0]=1\n",
    "board[0][1]=1\n",
    "x,y=np.nonzero(board==1)\n",
    "print x\n",
    "print y\n",
    "len(np.unique(x))==len(x)"
   ]
  },
  {
   "cell_type": "code",
   "execution_count": 136,
   "metadata": {},
   "outputs": [
    {
     "name": "stdout",
     "output_type": "stream",
     "text": [
      "[[0. 0. 0.]\n",
      " [0. 0. 0.]\n",
      " [0. 0. 0.]]\n",
      "-----------\n",
      "[[0. 0. 1.]\n",
      " [0. 0. 0.]\n",
      " [0. 0. 0.]]\n",
      "-----------\n",
      "[[0. 0. 1.]\n",
      " [0. 1. 0.]\n",
      " [0. 0. 0.]]\n",
      "-----------\n",
      "[[0. 0. 1.]\n",
      " [0. 1. 0.]\n",
      " [1. 0. 0.]]\n",
      "-----------\n",
      "[[0. 0. 1.]\n",
      " [1. 0. 0.]\n",
      " [0. 0. 0.]]\n",
      "-----------\n",
      "[[0. 0. 1.]\n",
      " [1. 0. 0.]\n",
      " [0. 1. 0.]]\n",
      "-----------\n",
      "[[0. 1. 0.]\n",
      " [0. 0. 0.]\n",
      " [0. 0. 0.]]\n",
      "-----------\n",
      "[[0. 1. 0.]\n",
      " [0. 0. 1.]\n",
      " [0. 0. 0.]]\n",
      "-----------\n",
      "[[0. 1. 0.]\n",
      " [0. 0. 1.]\n",
      " [1. 0. 0.]]\n",
      "-----------\n",
      "[[0. 1. 0.]\n",
      " [1. 0. 0.]\n",
      " [0. 0. 0.]]\n",
      "-----------\n",
      "[[0. 1. 0.]\n",
      " [1. 0. 0.]\n",
      " [0. 0. 1.]]\n",
      "-----------\n",
      "[[1. 0. 0.]\n",
      " [0. 0. 0.]\n",
      " [0. 0. 0.]]\n",
      "-----------\n",
      "[[1. 0. 0.]\n",
      " [0. 0. 1.]\n",
      " [0. 0. 0.]]\n",
      "-----------\n",
      "[[1. 0. 0.]\n",
      " [0. 0. 1.]\n",
      " [0. 1. 0.]]\n",
      "-----------\n",
      "[[1. 0. 0.]\n",
      " [0. 1. 0.]\n",
      " [0. 0. 0.]]\n",
      "-----------\n",
      "[[1. 0. 0.]\n",
      " [0. 1. 0.]\n",
      " [0. 0. 1.]]\n",
      "-----------\n"
     ]
    },
    {
     "data": {
      "text/plain": [
       "[array([[0., 0., 0.],\n",
       "        [0., 0., 0.],\n",
       "        [0., 0., 0.]]), array([[0., 0., 1.],\n",
       "        [0., 0., 0.],\n",
       "        [0., 0., 0.]]), array([[0., 0., 1.],\n",
       "        [0., 1., 0.],\n",
       "        [0., 0., 0.]]), array([[0., 0., 1.],\n",
       "        [0., 1., 0.],\n",
       "        [1., 0., 0.]]), array([[0., 0., 1.],\n",
       "        [1., 0., 0.],\n",
       "        [0., 0., 0.]]), array([[0., 0., 1.],\n",
       "        [1., 0., 0.],\n",
       "        [0., 1., 0.]]), array([[0., 1., 0.],\n",
       "        [0., 0., 0.],\n",
       "        [0., 0., 0.]]), array([[0., 1., 0.],\n",
       "        [0., 0., 1.],\n",
       "        [0., 0., 0.]]), array([[0., 1., 0.],\n",
       "        [0., 0., 1.],\n",
       "        [1., 0., 0.]]), array([[0., 1., 0.],\n",
       "        [1., 0., 0.],\n",
       "        [0., 0., 0.]]), array([[0., 1., 0.],\n",
       "        [1., 0., 0.],\n",
       "        [0., 0., 1.]]), array([[1., 0., 0.],\n",
       "        [0., 0., 0.],\n",
       "        [0., 0., 0.]]), array([[1., 0., 0.],\n",
       "        [0., 0., 1.],\n",
       "        [0., 0., 0.]]), array([[1., 0., 0.],\n",
       "        [0., 0., 1.],\n",
       "        [0., 1., 0.]]), array([[1., 0., 0.],\n",
       "        [0., 1., 0.],\n",
       "        [0., 0., 0.]]), array([[1., 0., 0.],\n",
       "        [0., 1., 0.],\n",
       "        [0., 0., 1.]])]"
      ]
     },
     "execution_count": 136,
     "metadata": {},
     "output_type": "execute_result"
    }
   ],
   "source": [
    "nqueens_backtracking(3)"
   ]
  },
  {
   "cell_type": "code",
   "execution_count": 12,
   "metadata": {},
   "outputs": [
    {
     "name": "stdout",
     "output_type": "stream",
     "text": [
      "[[0, 1, 2, 3], [0, 1, 3, 2], [0, 2, 1, 3], [0, 2, 3, 1], [0, 3, 1, 2], [0, 3, 2, 1], [1, 0, 2, 3], [1, 0, 3, 2], [1, 2, 0, 3], [1, 2, 3, 0], [1, 3, 0, 2], [1, 3, 2, 0], [2, 0, 1, 3], [2, 0, 3, 1], [2, 1, 0, 3], [2, 1, 3, 0], [2, 3, 0, 1], [2, 3, 1, 0], [3, 0, 1, 2], [3, 0, 2, 1], [3, 1, 0, 2], [3, 1, 2, 0], [3, 2, 0, 1], [3, 2, 1, 0]]\n"
     ]
    }
   ],
   "source": [
    "def permutation(lst): \n",
    "    if len(lst) == 1: \n",
    "        return [lst] \n",
    "    l = [] # empty list that will store current permutation \n",
    "    for i in range(len(lst)): \n",
    "       m = lst[i]  \n",
    "       remLst = lst[:i] + lst[i+1:] \n",
    "       for p in permutation(remLst): \n",
    "           l.append([m] + p) \n",
    "    return l \n",
    "\n",
    "print permutation(range(4))"
   ]
  },
  {
   "cell_type": "code",
   "execution_count": null,
   "metadata": {},
   "outputs": [],
   "source": []
  },
  {
   "cell_type": "code",
   "execution_count": null,
   "metadata": {},
   "outputs": [],
   "source": []
  }
 ],
 "metadata": {
  "kernelspec": {
   "display_name": "Python 2",
   "language": "python",
   "name": "python2"
  },
  "language_info": {
   "codemirror_mode": {
    "name": "ipython",
    "version": 2
   },
   "file_extension": ".py",
   "mimetype": "text/x-python",
   "name": "python",
   "nbconvert_exporter": "python",
   "pygments_lexer": "ipython2",
   "version": "2.7.15rc1"
  }
 },
 "nbformat": 4,
 "nbformat_minor": 2
}
