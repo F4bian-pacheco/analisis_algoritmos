{
 "cells": [
  {
   "cell_type": "markdown",
   "metadata": {},
   "source": [
    "# Recorrido de Grafos\n",
    "        \n"
   ]
  },
  {
   "cell_type": "code",
   "execution_count": 1,
   "metadata": {},
   "outputs": [],
   "source": [
    "class abstract_graph:\n",
    "    \n",
    "    def __init__(self,_edges):\n",
    "        self.edges=_edges\n",
    "        self.nodes={u for u,v in self.edges} | {v for u,v in self.edges}\n",
    "    \n",
    "    def adjacency_list(self):\n",
    "        pass\n",
    "    \n",
    "class simple_graph(abstract_graph):\n",
    "    \n",
    "    def __init__(self,_edges):\n",
    "        self.edges=_edges\n",
    "        self.nodes={u for u,v in self.edges} | {v for u,v in self.edges}\n",
    "        \n",
    "    \n",
    "    def adjacency_list(self):\n",
    "        adjacent=lambda n : {v for u,v in self.edges if u==n } | {u for u,v in self.edges if v==n}\n",
    "        return {v:adjacent(v) for v in self.nodes}\n",
    "\n",
    "    \n",
    "class simple_digraph(abstract_graph):\n",
    "    \n",
    "    def __init__(self,_edges):\n",
    "        self.edges=_edges\n",
    "        self.nodes={u for u,v in self.edges if u!=None} | {v for u,v in self.edges if v!=None}\n",
    "        \n",
    "    def adjacency_list(self):\n",
    "        adjacent=lambda n : {v for u,v in self.edges if u==n and v!=None} \n",
    "        return {v:adjacent(v) for v in self.nodes} \n",
    "    \n",
    "    def in_degree(self):\n",
    "        degree= lambda n : len({u for u,v in self.edges if v==n and u!=None})\n",
    "        return {v:degree(v) for v in self.nodes}"
   ]
  },
  {
   "cell_type": "code",
   "execution_count": 2,
   "metadata": {},
   "outputs": [
    {
     "name": "stdout",
     "output_type": "stream",
     "text": [
      "100\n"
     ]
    }
   ],
   "source": [
    "import numpy as np\n",
    "random_graph = lambda n,p : {(u,v) for u in np.arange(n) for v \n",
    "                    in np.arange(n) if np.random.rand()>p and u!=v}\n",
    "# cantidad de vértices\n",
    "n=1e2\n",
    "# 1- probabilidad de crear aristas\n",
    "p=0.9\n",
    "\n",
    "E=random_graph(n,p)\n",
    "G=simple_graph(E)\n",
    "\n",
    "print len(G.nodes)\n",
    "#print G.adjacency_list()"
   ]
  },
  {
   "cell_type": "code",
   "execution_count": 3,
   "metadata": {},
   "outputs": [
    {
     "name": "stdout",
     "output_type": "stream",
     "text": [
      "set([0.0, 1, 2.0, 3.0, 4.0, 5.0, 6.0, 7.0, 8.0, 9.0, 10.0, 11.0, 12.0, 13.0, 14.0, 15.0, 16.0, 17.0, 18.0, 19.0, 20.0, 21.0, 22.0, 23.0, 24.0, 25.0, 26.0, 27.0, 28.0, 29.0, 30.0, 31.0, 32.0, 33.0, 34.0, 35.0, 36.0, 37.0, 38.0, 39.0, 40.0, 41.0, 42.0, 43.0, 44.0, 45.0, 46.0, 47.0, 48.0, 49.0, 50.0, 51.0, 52.0, 53.0, 54.0, 55.0, 56.0, 57.0, 58.0, 59.0, 60.0, 61.0, 62.0, 63.0, 64.0, 65.0, 66.0, 67.0, 68.0, 69.0, 70.0, 71.0, 72.0, 73.0, 74.0, 75.0, 76.0, 77.0, 78.0, 79.0, 80.0, 81.0, 82.0, 83.0, 84.0, 85.0, 86.0, 87.0, 88.0, 89.0, 90.0, 91.0, 92.0, 93.0, 94.0, 95.0, 96.0, 97.0, 98.0, 99.0])\n",
      "('Tiempo BFS: ', 1.208025)\n",
      "set([0.0, 1, 2.0, 3.0, 4.0, 5.0, 6.0, 7.0, 8.0, 9.0, 10.0, 11.0, 12.0, 13.0, 14.0, 15.0, 16.0, 17.0, 18.0, 19.0, 20.0, 21.0, 22.0, 23.0, 24.0, 25.0, 26.0, 27.0, 28.0, 29.0, 30.0, 31.0, 32.0, 33.0, 34.0, 35.0, 36.0, 37.0, 38.0, 39.0, 40.0, 41.0, 42.0, 43.0, 44.0, 45.0, 46.0, 47.0, 48.0, 49.0, 50.0, 51.0, 52.0, 53.0, 54.0, 55.0, 56.0, 57.0, 58.0, 59.0, 60.0, 61.0, 62.0, 63.0, 64.0, 65.0, 66.0, 67.0, 68.0, 69.0, 70.0, 71.0, 72.0, 73.0, 74.0, 75.0, 76.0, 77.0, 78.0, 79.0, 80.0, 81.0, 82.0, 83.0, 84.0, 85.0, 86.0, 87.0, 88.0, 89.0, 90.0, 91.0, 92.0, 93.0, 94.0, 95.0, 96.0, 97.0, 98.0, 99.0])\n",
      "('Tiempo DFS: ', 1.222257)\n"
     ]
    }
   ],
   "source": [
    "# https://eddmann.com/posts/depth-first-search-and-breadth-first-search-in-python/\n",
    "import time\n",
    "\n",
    "def dfs(graph, start):\n",
    "    visited, stack = set(), [start]\n",
    "    while stack:\n",
    "        vertex = stack.pop()\n",
    "        if vertex not in visited:\n",
    "            visited.add(vertex)\n",
    "            stack.extend(graph[vertex] - visited)\n",
    "    return visited\n",
    "\n",
    "def bfs(graph, start):\n",
    "    visited, queue = set(), [start]\n",
    "    while queue:\n",
    "        vertex = queue.pop(0)\n",
    "        if vertex not in visited:\n",
    "            visited.add(vertex)\n",
    "            queue.extend(graph[vertex] - visited)\n",
    "    return visited\n",
    "\n",
    "\n",
    "start=time.clock()\n",
    "print(bfs(G.adjacency_list(),1))\n",
    "end=time.clock()\n",
    "print('Tiempo BFS: ',end)\n",
    "start=time.clock()\n",
    "print(dfs(G.adjacency_list(),1))\n",
    "end=time.clock()\n",
    "print('Tiempo DFS: ',end)\n"
   ]
  },
  {
   "cell_type": "code",
   "execution_count": 4,
   "metadata": {},
   "outputs": [],
   "source": [
    "def topological_sort(graph):\n",
    "    topology = []\n",
    "    degree = graph.in_degree()\n",
    "    adj=graph.adjacency_list()\n",
    "    stack=[key for (key,value) in G.in_degree().items() if value==0]   \n",
    "    while stack:\n",
    "        vertex = stack.pop()\n",
    "        topology.append(vertex)\n",
    "        for m in adj[vertex]:\n",
    "            degree[m] -= 1\n",
    "            if not degree[m]:\n",
    "                stack.append(m)\n",
    "    if len(topology) < len(graph.nodes):\n",
    "        raise ValueError('graph contains cycle')\n",
    "    return topology\n",
    "\n",
    "\n"
   ]
  },
  {
   "cell_type": "code",
   "execution_count": 5,
   "metadata": {},
   "outputs": [],
   "source": [
    "import time\n",
    "import os\n",
    "import random\n",
    "from multiprocessing import Process, Queue, Lock\n",
    "\n",
    "\n",
    "def producer(queue, lock, names):\n",
    "    with lock:\n",
    "        print('Starting producer => {}'.format(os.getpid()))\n",
    "    for name in names:\n",
    "        queue.put(name)\n",
    "    with lock:\n",
    "        print('Producer {} exiting...'.format(os.getpid()))\n",
    "\n",
    "def consumer(queue, lock):\n",
    "    with lock:\n",
    "        print('Starting consumer => {}'.format(os.getpid()))\n",
    "    while True:\n",
    "        name = queue.get()\n",
    "        with lock:\n",
    "            print('Process {} got {}'.format(os.getpid(), name))\n",
    "\n",
    "            \n",
    "def parallel_topological_sort(graph):\n",
    "    degree = graph.in_degree()\n",
    "    adj=graph.adjacency_list()\n",
    "    lock = Lock()\n",
    "    producers = []\n",
    "    consumers = []\n",
    "    #names=[key for (key,value) in G.in_degree().items() if value==0]\n",
    "    names = [['F', 'G'],\n",
    "             ['A', 'B', 'C', 'D', 'E']]\n",
    "    queues = [Queue() for n in names]\n",
    "    for i,n in enumerate(names):\n",
    "        producers.append(Process(target=producer, args=(queues[i], lock, n)))\n",
    "\n",
    "    for q in queues:\n",
    "        p = Process(target=consumer, args=(q, lock))\n",
    "        p.daemon = True\n",
    "        consumers.append(p)\n",
    "\n",
    "    for p in producers:\n",
    "        p.start()\n",
    "\n",
    "    for c in consumers:\n",
    "        c.start()\n",
    "\n",
    "    for p in producers:\n",
    "        p.join()\n",
    "\n"
   ]
  },
  {
   "cell_type": "code",
   "execution_count": 6,
   "metadata": {},
   "outputs": [
    {
     "name": "stdout",
     "output_type": "stream",
     "text": [
      "{'A': set(['B', 'D']), 'C': set(['E', 'D']), 'B': set(['C', 'E']), 'E': set([]), 'D': set(['E']), 'G': set([]), 'F': set(['G'])}\n",
      "{'A': 0, 'C': 1, 'B': 1, 'E': 3, 'D': 2, 'G': 1, 'F': 0}\n",
      "('Orden topologico', ['F', 'G', 'A', 'B', 'C', 'D', 'E'])\n",
      "Starting producer => 5712\n",
      "Producer 5712 exiting...\n",
      "Starting producer => 5713\n",
      "Producer 5713 exiting...\n",
      "Starting consumer => 5718\n",
      "Starting consumer => 5725\n",
      "Process 5718 got F\n",
      "Process 5725 got A\n",
      "Process 5718 got G\n",
      "Process 5725 got B\n",
      "Process 5725 got C\n",
      "Process 5725 got D\n",
      "Process 5725 got E\n"
     ]
    }
   ],
   "source": [
    "E=[('A', 'B'),('A', 'D'),('B', 'C'),('B', 'E'),('C', 'D'),('C', 'E'),('D', 'E'),('F', 'G')]\n",
    "G=simple_digraph(E)\n",
    "print G.adjacency_list()\n",
    "print G.in_degree()\n",
    "L=topological_sort(G)\n",
    "print('Orden topologico',L)\n",
    "\n",
    "LP=parallel_topological_sort(G)\n",
    "#print('Orden topologico paralelo',LP)\n"
   ]
  },
  {
   "cell_type": "code",
   "execution_count": 7,
   "metadata": {},
   "outputs": [
    {
     "data": {
      "text/plain": [
       "{'A', 'B', 'C', 'D', 'E', 'F', 'G'}"
      ]
     },
     "execution_count": 7,
     "metadata": {},
     "output_type": "execute_result"
    }
   ],
   "source": [
    "G.nodes"
   ]
  },
  {
   "cell_type": "code",
   "execution_count": 57,
   "metadata": {},
   "outputs": [
    {
     "name": "stdout",
     "output_type": "stream",
     "text": [
      "('Orden topologico Networkx', ['F', 'G', 'A', 'B', 'C', 'D', 'E'])\n"
     ]
    },
    {
     "data": {
      "image/png": "[encoded data removed]",
      "text/plain": [
       "<matplotlib.figure.Figure at 0x7fc4c2e4e090>"
      ]
     },
     "metadata": {},
     "output_type": "display_data"
    }
   ],
   "source": [
    "import networkx as nx\n",
    "import matplotlib.pyplot as plt\n",
    "\n",
    "graph = nx.DiGraph(E)\n",
    "\n",
    "print('Orden topologico Networkx',list(nx.topological_sort(graph)))\n",
    "#plt.figure(1,figsize=(12,12)) \n",
    "labels=nx.draw_networkx_labels(graph,pos=nx.circular_layout(graph))\n",
    "nx.draw(graph,pos=nx.circular_layout(graph))\n",
    "plt.show()"
   ]
  },
  {
   "cell_type": "markdown",
   "metadata": {},
   "source": [
    "# Resolución de Dependencias de Software\n",
    "\n",
    "\n",
    "En esta tarea Ud. debe utilizar el algoritmo de ordenamiento topologico para implementar un gestor de paquetes para Python. De manera de instalar un paquete dado, el gestor de paquete debe analizar las dependencias. Las dependencias forman un grafo dirigido ya que los paquetes sin dependencias pueden ser instalados primero hasta completar la lista completa de dependencias.\n",
    "\n",
    "Un problema común de los gestores de paquetes son las dependencias circulares :\n",
    "\n"
   ]
  },
  {
   "cell_type": "raw",
   "metadata": {},
   "source": [
    "$ pipdeptree\n",
    "Warning!!! Cyclic dependencies found:\n",
    "- CircularDependencyA => CircularDependencyB => CircularDependencyA\n",
    "- CircularDependencyB => CircularDependencyA => CircularDependencyB\n",
    "\n",
    "$ pipdeptree --json-tree > dependencias.json"
   ]
  },
  {
   "cell_type": "markdown",
   "metadata": {},
   "source": [
    "Por lo tanto, de manera de convertir la lista de dependencias en un grafo acíclico dirigido (DAG), se debe eliminar este tipo de dependencias así como también los otros ciclos que puedan aparecer.\n",
    "\n",
    "En particular, se debe entregar un informe con las siguientes actividades:\n",
    "\n",
    "    1.) Convertir archivo JSON de dependencias de software en un DAG (eliminando ciclos).\n",
    "    2.) Implementar ordenamiento topológico sobre el DAG para obtener la secuencia de instalación de los paquetes que satisface las dependencias.\n",
    "    3.) **Extra**  Implementar un instalador paralelo. \n",
    "    \n",
    "[Fuente](https://ipython-books.github.io/143-resolving-dependencies-in-a-directed-acyclic-graph-with-a-topological-sort/)\n"
   ]
  },
  {
   "cell_type": "code",
   "execution_count": null,
   "metadata": {},
   "outputs": [],
   "source": [
    "import json\n",
    "\n",
    "with open('data/dependencias.json') as json_file:\n",
    "    data=json.load(json_file)\n",
    "    \n",
    "print json.dumps(data,indent=4,sort_keys=True)"
   ]
  },
  {
   "cell_type": "code",
   "execution_count": null,
   "metadata": {},
   "outputs": [],
   "source": [
    "import subprocess\n",
    "import sys\n",
    "import multiprocessing\n",
    "\n",
    "def install(package):\n",
    "    subprocess.call([sys.executable, \"-m\", \"pip\", \"install\", package])\n",
    "    \n",
    "class task_scheduler:\n",
    "    \n",
    "    def __init__(self,_edges):\n",
    "        self.edges=_edges\n",
    "        self.di_graph=simple_digraph(_edges)\n",
    "    \n",
    "    def serial_processing(self):\n",
    "        L=topological_sort(self.di_graph)\n",
    "        return L\n",
    "\n",
    "E=[('numpy', 'autograd'),('future', 'autograd')]\n",
    "scheduler=task_scheduler(E)\n",
    "for i,task in enumerate(scheduler.serial_processing()):\n",
    "    print i,task"
   ]
  },
  {
   "cell_type": "code",
   "execution_count": null,
   "metadata": {},
   "outputs": [],
   "source": []
  }
 ],
 "metadata": {
  "kernelspec": {
   "display_name": "Python 2",
   "language": "python",
   "name": "python2"
  },
  "language_info": {
   "codemirror_mode": {
    "name": "ipython",
    "version": 2
   },
   "file_extension": ".py",
   "mimetype": "text/x-python",
   "name": "python",
   "nbconvert_exporter": "python",
   "pygments_lexer": "ipython2",
   "version": "2.7.15rc1"
  }
 },
 "nbformat": 4,
 "nbformat_minor": 2
}
