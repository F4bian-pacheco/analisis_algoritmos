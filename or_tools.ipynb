{
  "nbformat": 4,
  "nbformat_minor": 0,
  "metadata": {
    "colab": {
      "name": "Untitled2.ipynb",
      "provenance": [],
      "authorship_tag": "ABX9TyPLsvsGhAYf3vG+52ithPvI",
      "include_colab_link": true
    },
    "kernelspec": {
      "name": "python3",
      "display_name": "Python 3"
    },
    "language_info": {
      "name": "python"
    }
  },
  "cells": [
    {
      "cell_type": "markdown",
      "metadata": {
        "id": "view-in-github",
        "colab_type": "text"
      },
      "source": [
        "<a href=\"https://colab.research.google.com/github/sherna90/analisis_algoritmos/blob/master/or_tools.ipynb\" target=\"_parent\"><img src=\"https://colab.research.google.com/assets/colab-badge.svg\" alt=\"Open In Colab\"/></a>"
      ]
    },
    {
      "cell_type": "markdown",
      "metadata": {
        "id": "qQOhuMnxbEHU"
      },
      "source": [
        "# TSP OR-Tools"
      ]
    },
    {
      "cell_type": "code",
      "metadata": {
        "id": "4AJpG-qNbIf_"
      },
      "source": [
        "import pandas as pd\n",
        "\n",
        "def load_nodes(path):\n",
        "    df=pd.read_csv(path)\n",
        "    df.rename({'X':'lon','Y':'lat'},axis='columns',inplace=True)\n",
        "    return df\n",
        "\n",
        "def load_data(path):\n",
        "    df=pd.read_csv(path, encoding = 'utf-8',dtype={'InputID':'string','TargetID':'string','Distance':float}) \n",
        "    df['InputID'] = df['InputID'].apply(lambda x: x.encode('ascii', 'ignore').decode('ascii'))\n",
        "    df['TargetID'] = df['TargetID'].apply(lambda x: x.encode('ascii', 'ignore').decode('ascii'))\n",
        "    df['TargetID']=df['TargetID'].astype('category')\n",
        "    df['InputID']=df['InputID'].astype('category')\n",
        "    return df"
      ],
      "execution_count": 12,
      "outputs": []
    },
    {
      "cell_type": "code",
      "metadata": {
        "id": "9TM2ZtVPbN33"
      },
      "source": [
        "dist_path='https://raw.githubusercontent.com/sherna90/analisis_algoritmos/master/tsp_demo/data/distancias_maule.csv'\n",
        "edge_data=load_data(dist_path)\n",
        "nodes_path='https://raw.githubusercontent.com/sherna90/analisis_algoritmos/master/tsp_demo/data/comunas_maule.csv'\n",
        "node_data=load_nodes(nodes_path)"
      ],
      "execution_count": 13,
      "outputs": []
    },
    {
      "cell_type": "code",
      "metadata": {
        "id": "7WznS9QKc-TJ"
      },
      "source": [
        "from scipy.spatial.distance import pdist,squareform\n",
        "\n",
        "dist_mat=squareform(pdist(node_data[['lon','lat']].values,metric='euclidean')).tolist()"
      ],
      "execution_count": 135,
      "outputs": []
    },
    {
      "cell_type": "code",
      "metadata": {
        "id": "v7sDtKlcnnsY"
      },
      "source": [
        "get_distance = lambda input,target : float(edge_data[(edge_data.InputID==input) & (edge_data.TargetID==target)]['Distance'].values/1000)"
      ],
      "execution_count": 138,
      "outputs": []
    },
    {
      "cell_type": "markdown",
      "metadata": {
        "id": "wk3wdf7CrImH"
      },
      "source": [
        ""
      ]
    },
    {
      "cell_type": "code",
      "metadata": {
        "id": "T-X74An7ph2V"
      },
      "source": [
        "dist_mat=[ [0 for target in edge_data.TargetID.unique()] for input in edge_data.InputID.unique()]"
      ],
      "execution_count": 139,
      "outputs": []
    },
    {
      "cell_type": "code",
      "metadata": {
        "id": "Bb0K9o2vqgLd"
      },
      "source": [
        "for i,input in enumerate(edge_data.InputID.unique()):\n",
        "  for j,target in enumerate(edge_data.InputID.unique()):\n",
        "    if input!=target:\n",
        "      dist_mat[i][j]=int(get_distance(input,target))\n",
        "    "
      ],
      "execution_count": 140,
      "outputs": []
    },
    {
      "cell_type": "markdown",
      "metadata": {
        "id": "sydgukUKeanF"
      },
      "source": [
        "# OR Tools\n"
      ]
    },
    {
      "cell_type": "code",
      "metadata": {
        "colab": {
          "base_uri": "https://localhost:8080/"
        },
        "id": "KjolP3NUfFeK",
        "outputId": "e300038e-3db3-4c1e-f574-8d886498340c"
      },
      "source": [
        "!pip install ortools"
      ],
      "execution_count": 126,
      "outputs": [
        {
          "output_type": "stream",
          "text": [
            "Requirement already satisfied: ortools in /usr/local/lib/python3.7/dist-packages (9.0.9048)\n",
            "Requirement already satisfied: absl-py>=0.11 in /usr/local/lib/python3.7/dist-packages (from ortools) (0.12.0)\n",
            "Requirement already satisfied: protobuf>=3.15.8 in /usr/local/lib/python3.7/dist-packages (from ortools) (3.17.3)\n",
            "Requirement already satisfied: six in /usr/local/lib/python3.7/dist-packages (from absl-py>=0.11->ortools) (1.15.0)\n"
          ],
          "name": "stdout"
        }
      ]
    },
    {
      "cell_type": "code",
      "metadata": {
        "id": "IZQ1CBLsf8qM"
      },
      "source": [
        "def create_data_model(dist_mat):\n",
        "    \"\"\"Stores the data for the problem.\"\"\"\n",
        "    data = {}\n",
        "    data['distance_matrix'] = dist_mat\n",
        "    data['num_vehicles'] = 1\n",
        "    data['depot'] = 0\n",
        "    return data"
      ],
      "execution_count": 127,
      "outputs": []
    },
    {
      "cell_type": "code",
      "metadata": {
        "id": "SZEEF35anE3l"
      },
      "source": [
        "def print_solution(manager, routing, solution):\n",
        "    \"\"\"Prints solution on console.\"\"\"\n",
        "    print('Objective: {}'.format(solution.ObjectiveValue()))\n",
        "    index = routing.Start(0)\n",
        "    plan_output = 'Route:\\n'\n",
        "    route_distance = 0\n",
        "    while not routing.IsEnd(index):\n",
        "        plan_output += ' {} ->'.format(manager.IndexToNode(index))\n",
        "        previous_index = index\n",
        "        index = solution.Value(routing.NextVar(index))\n",
        "        route_distance += routing.GetArcCostForVehicle(previous_index, index, 0)\n",
        "    plan_output += ' {}\\n'.format(manager.IndexToNode(index))\n",
        "    print(plan_output)\n",
        "    plan_output += 'Objective: {}m\\n'.format(route_distance)"
      ],
      "execution_count": 128,
      "outputs": []
    },
    {
      "cell_type": "code",
      "metadata": {
        "colab": {
          "base_uri": "https://localhost:8080/"
        },
        "id": "4NnHdkBFemMO",
        "outputId": "e0539828-3a0e-40c2-a3da-a58ef33e73b5"
      },
      "source": [
        "from ortools.constraint_solver import pywrapcp\n",
        "from ortools.constraint_solver import routing_enums_pb2\n",
        "\n",
        "\n",
        "# Create routing model\n",
        "if tsp_size > 0:\n",
        "  data = create_data_model(dist_mat)\n",
        "  # Create the routing index manager.\n",
        "  manager = pywrapcp.RoutingIndexManager(len(data['distance_matrix']),\n",
        "                                         data['num_vehicles'], data['depot'])\n",
        "\n",
        "  # Create Routing Model.\n",
        "  routing = pywrapcp.RoutingModel(manager)\n",
        "  def distance_callback(from_index, to_index):\n",
        "        \"\"\"Returns the distance between the two nodes.\"\"\"\n",
        "        # Convert from routing variable Index to distance matrix NodeIndex.\n",
        "        from_node = manager.IndexToNode(from_index)\n",
        "        to_node = manager.IndexToNode(to_index)\n",
        "        return data['distance_matrix'][from_node][to_node]\n",
        "\n",
        "  transit_callback_index = routing.RegisterTransitCallback(distance_callback)\n",
        "  # [END transit_callback]\n",
        "\n",
        "    # Define cost of each arc.\n",
        "    # [START arc_cost]\n",
        "  routing.SetArcCostEvaluatorOfAllVehicles(transit_callback_index)\n",
        "    # [END arc_cost]\n",
        "\n",
        "    # Setting first solution heuristic.\n",
        "    # [START parameters]\n",
        "  search_parameters = pywrapcp.DefaultRoutingSearchParameters()\n",
        "\n",
        "  def distance_callback(from_index, to_index):\n",
        "        \"\"\"Returns the distance between the two nodes.\"\"\"\n",
        "        # Convert from routing variable Index to distance matrix NodeIndex.\n",
        "        from_node = manager.IndexToNode(from_index)\n",
        "        to_node = manager.IndexToNode(to_index)\n",
        "        return data['distance_matrix'][from_node][to_node]\n",
        "\n",
        "  transit_callback_index = routing.RegisterTransitCallback(distance_callback)\n",
        "\n",
        "  # Define cost of each arc.\n",
        "  routing.SetArcCostEvaluatorOfAllVehicles(transit_callback_index)\n",
        "\n",
        "    # Setting first solution heuristic.\n",
        "  search_parameters = pywrapcp.DefaultRoutingSearchParameters()\n",
        "  search_parameters.local_search_metaheuristic = (\n",
        "    routing_enums_pb2.LocalSearchMetaheuristic.SIMULATED_ANNEALING)\n",
        "  search_parameters.time_limit.seconds = 30\n",
        "  search_parameters.log_search = True\n",
        "  search_parameters.first_solution_strategy = (\n",
        "        routing_enums_pb2.FirstSolutionStrategy.PATH_CHEAPEST_ARC)\n",
        "\n",
        "    # Solve the problem.\n",
        "  solution = routing.SolveWithParameters(search_parameters)\n",
        "\n",
        "  # Print solution on console.\n",
        "  if solution:\n",
        "      print_solution(manager, routing, solution)"
      ],
      "execution_count": 141,
      "outputs": [
        {
          "output_type": "stream",
          "text": [
            "Objective: 781\n",
            "Route:\n",
            " 0 -> 9 -> 10 -> 25 -> 19 -> 26 -> 27 -> 28 -> 21 -> 22 -> 24 -> 23 -> 3 -> 4 -> 29 -> 20 -> 11 -> 7 -> 6 -> 1 -> 8 -> 14 -> 15 -> 16 -> 17 -> 5 -> 13 -> 12 -> 18 -> 2 -> 0\n",
            "\n"
          ],
          "name": "stdout"
        }
      ]
    }
  ]
}