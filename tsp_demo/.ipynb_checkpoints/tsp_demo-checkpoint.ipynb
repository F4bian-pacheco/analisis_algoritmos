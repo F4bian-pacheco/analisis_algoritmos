{
 "cells": [
  {
   "cell_type": "markdown",
   "metadata": {},
   "source": [
    "# Simulated Annealing TSP"
   ]
  },
  {
   "cell_type": "code",
   "execution_count": 1,
   "metadata": {},
   "outputs": [],
   "source": [
    "import pandas as pd"
   ]
  },
  {
   "cell_type": "code",
   "execution_count": 2,
   "metadata": {},
   "outputs": [],
   "source": [
    "def load_nodes(path):\n",
    "    df=pd.read_csv(path)\n",
    "    df.rename({'X':'lon','Y':'lat'},axis='columns',inplace=True)\n",
    "    return df\n",
    "\n",
    "def load_data(path):\n",
    "    df=pd.read_csv(path, encoding = 'utf-8',dtype={'InputID':'string','TargetID':'string','Distance':float}) \n",
    "    df['InputID'] = df['InputID'].apply(lambda x: x.encode('ascii', 'ignore').decode('ascii'))\n",
    "    df['TargetID'] = df['TargetID'].apply(lambda x: x.encode('ascii', 'ignore').decode('ascii'))\n",
    "    #df['TargetID']=df['TargetID'].astype('category')\n",
    "    #df['InputID']=df['InputID'].astype('category')\n",
    "    return df"
   ]
  },
  {
   "cell_type": "code",
   "execution_count": 3,
   "metadata": {},
   "outputs": [],
   "source": [
    "dist_path='data/distancias_maule.csv'\n",
    "edge_data=load_data(dist_path)\n",
    "nodes_path='data/comunas_maule.csv'\n",
    "node_data=load_nodes(nodes_path)"
   ]
  },
  {
   "cell_type": "code",
   "execution_count": 4,
   "metadata": {},
   "outputs": [
    {
     "data": {
      "text/html": [
       "<div>\n",
       "<style scoped>\n",
       "    .dataframe tbody tr th:only-of-type {\n",
       "        vertical-align: middle;\n",
       "    }\n",
       "\n",
       "    .dataframe tbody tr th {\n",
       "        vertical-align: top;\n",
       "    }\n",
       "\n",
       "    .dataframe thead th {\n",
       "        text-align: right;\n",
       "    }\n",
       "</style>\n",
       "<table border=\"1\" class=\"dataframe\">\n",
       "  <thead>\n",
       "    <tr style=\"text-align: right;\">\n",
       "      <th></th>\n",
       "      <th>lon</th>\n",
       "      <th>lat</th>\n",
       "      <th>Z</th>\n",
       "      <th>objectid</th>\n",
       "      <th>shape_leng</th>\n",
       "      <th>dis_elec</th>\n",
       "      <th>cir_sena</th>\n",
       "      <th>cod_comuna</th>\n",
       "      <th>codregion</th>\n",
       "      <th>st_area_sh</th>\n",
       "      <th>st_length_</th>\n",
       "      <th>Region</th>\n",
       "      <th>Comuna</th>\n",
       "      <th>Provincia</th>\n",
       "    </tr>\n",
       "  </thead>\n",
       "  <tbody>\n",
       "    <tr>\n",
       "      <th>0</th>\n",
       "      <td>-71.953081</td>\n",
       "      <td>-35.129891</td>\n",
       "      <td>0</td>\n",
       "      <td>279</td>\n",
       "      <td>191493.545385</td>\n",
       "      <td>17</td>\n",
       "      <td>9</td>\n",
       "      <td>7103</td>\n",
       "      <td>7</td>\n",
       "      <td>1.602501e+09</td>\n",
       "      <td>234347.693056</td>\n",
       "      <td>Región del Maule</td>\n",
       "      <td>Curepto</td>\n",
       "      <td>Talca</td>\n",
       "    </tr>\n",
       "    <tr>\n",
       "      <th>1</th>\n",
       "      <td>-72.284260</td>\n",
       "      <td>-35.613610</td>\n",
       "      <td>0</td>\n",
       "      <td>280</td>\n",
       "      <td>142724.349430</td>\n",
       "      <td>17</td>\n",
       "      <td>9</td>\n",
       "      <td>7104</td>\n",
       "      <td>7</td>\n",
       "      <td>8.575285e+08</td>\n",
       "      <td>175634.266010</td>\n",
       "      <td>Región del Maule</td>\n",
       "      <td>Empedrado</td>\n",
       "      <td>Talca</td>\n",
       "    </tr>\n",
       "    <tr>\n",
       "      <th>2</th>\n",
       "      <td>-71.816301</td>\n",
       "      <td>-35.327665</td>\n",
       "      <td>0</td>\n",
       "      <td>283</td>\n",
       "      <td>176274.410596</td>\n",
       "      <td>17</td>\n",
       "      <td>9</td>\n",
       "      <td>7107</td>\n",
       "      <td>7</td>\n",
       "      <td>1.437081e+09</td>\n",
       "      <td>216188.830744</td>\n",
       "      <td>Región del Maule</td>\n",
       "      <td>Pencahue</td>\n",
       "      <td>Talca</td>\n",
       "    </tr>\n",
       "    <tr>\n",
       "      <th>3</th>\n",
       "      <td>-71.331995</td>\n",
       "      <td>-35.958516</td>\n",
       "      <td>0</td>\n",
       "      <td>271</td>\n",
       "      <td>288033.759891</td>\n",
       "      <td>18</td>\n",
       "      <td>9</td>\n",
       "      <td>7401</td>\n",
       "      <td>7</td>\n",
       "      <td>2.245999e+09</td>\n",
       "      <td>356106.042176</td>\n",
       "      <td>Región del Maule</td>\n",
       "      <td>Linares</td>\n",
       "      <td>Linares</td>\n",
       "    </tr>\n",
       "    <tr>\n",
       "      <th>4</th>\n",
       "      <td>-71.441142</td>\n",
       "      <td>-36.110871</td>\n",
       "      <td>0</td>\n",
       "      <td>272</td>\n",
       "      <td>267604.712137</td>\n",
       "      <td>18</td>\n",
       "      <td>9</td>\n",
       "      <td>7403</td>\n",
       "      <td>7</td>\n",
       "      <td>2.231920e+09</td>\n",
       "      <td>331498.941045</td>\n",
       "      <td>Región del Maule</td>\n",
       "      <td>Longaví</td>\n",
       "      <td>Linares</td>\n",
       "    </tr>\n",
       "  </tbody>\n",
       "</table>\n",
       "</div>"
      ],
      "text/plain": [
       "         lon        lat  Z  objectid     shape_leng  dis_elec  cir_sena  \\\n",
       "0 -71.953081 -35.129891  0       279  191493.545385        17         9   \n",
       "1 -72.284260 -35.613610  0       280  142724.349430        17         9   \n",
       "2 -71.816301 -35.327665  0       283  176274.410596        17         9   \n",
       "3 -71.331995 -35.958516  0       271  288033.759891        18         9   \n",
       "4 -71.441142 -36.110871  0       272  267604.712137        18         9   \n",
       "\n",
       "   cod_comuna  codregion    st_area_sh     st_length_            Region  \\\n",
       "0        7103          7  1.602501e+09  234347.693056  Región del Maule   \n",
       "1        7104          7  8.575285e+08  175634.266010  Región del Maule   \n",
       "2        7107          7  1.437081e+09  216188.830744  Región del Maule   \n",
       "3        7401          7  2.245999e+09  356106.042176  Región del Maule   \n",
       "4        7403          7  2.231920e+09  331498.941045  Región del Maule   \n",
       "\n",
       "      Comuna Provincia  \n",
       "0    Curepto     Talca  \n",
       "1  Empedrado     Talca  \n",
       "2   Pencahue     Talca  \n",
       "3    Linares   Linares  \n",
       "4    Longaví   Linares  "
      ]
     },
     "execution_count": 4,
     "metadata": {},
     "output_type": "execute_result"
    }
   ],
   "source": [
    "node_data.head()"
   ]
  },
  {
   "cell_type": "code",
   "execution_count": 5,
   "metadata": {},
   "outputs": [
    {
     "data": {
      "text/plain": [
       "InputID     Curepto\n",
       "TargetID      Rauco\n",
       "Distance    52563.8\n",
       "Name: 1, dtype: object"
      ]
     },
     "execution_count": 5,
     "metadata": {},
     "output_type": "execute_result"
    }
   ],
   "source": [
    "edge_data.iloc[1]"
   ]
  },
  {
   "cell_type": "code",
   "execution_count": 6,
   "metadata": {},
   "outputs": [],
   "source": [
    "import numpy as np\n",
    "from math import radians, cos, sin, asin, sqrt\n",
    "\n",
    "def haversine(lon1, lat1, lon2, lat2):\n",
    "    lon1, lat1, lon2, lat2 = map(radians, [lon1, lat1, lon2, lat2])\n",
    "    dlon = lon2 - lon1 \n",
    "    dlat = lat2 - lat1 \n",
    "    a = sin(dlat/2)**2 + cos(lat1) * cos(lat2) * sin(dlon/2)**2\n",
    "    c = 2 * asin(sqrt(a)) \n",
    "    r = 6371 # Radius of earth in kilometers. Use 3956 for miles\n",
    "    return c * r *1000"
   ]
  },
  {
   "cell_type": "code",
   "execution_count": 7,
   "metadata": {},
   "outputs": [],
   "source": [
    "get_lon_lat = lambda comuna : node_data[node_data['Comuna']==comuna][['lon','lat']].values[0]"
   ]
  },
  {
   "cell_type": "code",
   "execution_count": 8,
   "metadata": {},
   "outputs": [],
   "source": [
    "p1=get_lon_lat('Curepto')\n",
    "p2=get_lon_lat('Rauco')"
   ]
  },
  {
   "cell_type": "code",
   "execution_count": 9,
   "metadata": {},
   "outputs": [
    {
     "data": {
      "text/plain": [
       "52485.88162076175"
      ]
     },
     "execution_count": 9,
     "metadata": {},
     "output_type": "execute_result"
    }
   ],
   "source": [
    "haversine(p1[0], p1[1], p2[0], p2[1])"
   ]
  },
  {
   "cell_type": "code",
   "execution_count": 10,
   "metadata": {},
   "outputs": [],
   "source": [
    "import numpy as np\n",
    "from heapq import heappush,heappop\n",
    "\n",
    "class abstract_graph:\n",
    "    \n",
    "    def __init__(self,_edges):\n",
    "        self.edges=_edges\n",
    "        self.nodes={u for u,v in self.edges} | {v for u,v in self.edges}\n",
    "        \n",
    "    def adjacency_matrix(self):\n",
    "        pass\n",
    "    \n",
    "    def adjacency_list(self):\n",
    "        pass\n",
    "\n",
    "    \n",
    "class simple_graph(abstract_graph):\n",
    "    \n",
    "    def adjacency_list(self):\n",
    "        adjacent=lambda n : {v for u,v in self.edges if u==n } | {u for u,v in self.edges if v==n}\n",
    "        return {v:adjacent(v) for v in self.nodes}\n",
    "    \n",
    "\n",
    "    \n",
    "class weighted_graph(abstract_graph):\n",
    "    \n",
    "    def __init__(self,_edges):\n",
    "        self.edges=_edges\n",
    "        self.nodes={u for u,v in self.edges.keys()} | {v for u,v in self.edges.keys()}\n",
    "        \n",
    "    def adjacency_matrix(self):\n",
    "        n=len(self.nodes)\n",
    "        mat=np.zeros((n,n))\n",
    "        adjacent=lambda x : [1 if x==v else 0 for (u,v) in enumerate(sorted(list(G.nodes))) ]\n",
    "        L=self.adjacency_list()\n",
    "        i=0\n",
    "        for v in sorted(list(G.nodes)):\n",
    "            for l in L[v]:\n",
    "                mat[i,]+=adjacent(l)\n",
    "            i=i+1\n",
    "        return mat\n",
    "    \n",
    "    def adjacency_list(self):\n",
    "        adjacent=lambda n : {v for u,v in self.edges.keys() if u==n } | {u for u,v in self.edges if v==n}\n",
    "        return {v:adjacent(v) for v in self.nodes}\n",
    "\n",
    "class weighted_digraph(abstract_graph):\n",
    "    \n",
    "    def __init__(self,_edges):\n",
    "        self.edges=_edges\n",
    "        self.nodes={u for u,v in self.edges.keys()} | {v for u,v in self.edges.keys()}\n",
    "        \n",
    "    \n",
    "    def adjacency_list(self):\n",
    "        adjacent=lambda n : {v for u,v in self.edges.keys() if u==n } \n",
    "        return {v:adjacent(v) for v in self.nodes}"
   ]
  },
  {
   "cell_type": "code",
   "execution_count": 11,
   "metadata": {},
   "outputs": [],
   "source": [
    "import heapq\n",
    "\n",
    "def prim_mst(graph,start):\n",
    "    pq, path = [], []\n",
    "    tree=[]\n",
    "    heappush(pq, (0, start))\n",
    "    adjacency=graph.adjacency_list()\n",
    "    while pq:\n",
    "        i,vertex=heappop(pq)\n",
    "        if vertex in path:\n",
    "            continue\n",
    "        print('Vertice : {0}, Prioridad {1}'.format(vertex,i))\n",
    "        path.append(vertex)\n",
    "        for neighbor in adjacency[vertex]:\n",
    "            if neighbor not in path:\n",
    "                if (vertex,neighbor) in graph.edges:\n",
    "                    heappush(pq, (graph.edges[(vertex,neighbor)], neighbor))\n",
    "                    tree.append((vertex,neighbor))\n",
    "                else:\n",
    "                    heappush(pq, (graph.edges[(neighbor,vertex)], neighbor))\n",
    "                    tree.append((neighbor,vertex))\n",
    "    return tree"
   ]
  },
  {
   "cell_type": "code",
   "execution_count": 12,
   "metadata": {},
   "outputs": [],
   "source": [
    "E={}\n",
    "for index, row in edge_data.iterrows():\n",
    "    E.update({(str(row['InputID']), str(row['TargetID'])):row['Distance']/1000})\n"
   ]
  },
  {
   "cell_type": "code",
   "execution_count": 13,
   "metadata": {},
   "outputs": [],
   "source": [
    "G=weighted_graph(E)"
   ]
  },
  {
   "cell_type": "code",
   "execution_count": 14,
   "metadata": {},
   "outputs": [
    {
     "name": "stdout",
     "output_type": "stream",
     "text": [
      "Vertice : Talca, Prioridad 0\n",
      "Vertice : Maule, Prioridad 13.3588466706527\n",
      "Vertice : San Rafael, Prioridad 16.6889646628228\n",
      "Vertice : Pelarco, Prioridad 16.3772167529705\n",
      "Vertice : Ro Claro, Prioridad 15.4509736161126\n",
      "Vertice : Villa Alegre, Prioridad 19.777915813341004\n",
      "Vertice : Yerbas Buenas, Prioridad 12.6247735177256\n",
      "Vertice : Sagrada Familia, Prioridad 22.0322916541346\n",
      "Vertice : Rauco, Prioridad 19.4457417606006\n",
      "Vertice : Pencahue, Prioridad 22.274137574075098\n",
      "Vertice : San Javier, Prioridad 22.941289943907798\n",
      "Vertice : Curepto, Prioridad 25.2287371519794\n",
      "Vertice : Licantn, Prioridad 19.8494699247521\n",
      "Vertice : Vichuqun, Prioridad 15.1272469654501\n",
      "Vertice : Huala, Prioridad 25.6595723154263\n",
      "Vertice : Empedrado, Prioridad 32.3928762302954\n",
      "Vertice : Chanco, Prioridad 20.518050594676\n",
      "Vertice : Pelluhue, Prioridad 26.0556688641867\n",
      "Vertice : Constitucin, Prioridad 27.777706727596097\n",
      "Vertice : Cauquenes, Prioridad 30.239877318467002\n",
      "Vertice : Molina, Prioridad 34.3081934822903\n",
      "Vertice : Curic, Prioridad 17.104121438739398\n",
      "Vertice : Romeral, Prioridad 22.178586232841297\n",
      "Vertice : Teno, Prioridad 34.6809676972725\n",
      "Vertice : Linares, Prioridad 35.445337503350295\n",
      "Vertice : Longav, Prioridad 19.5588842790063\n",
      "Vertice : Parral, Prioridad 24.8918552522387\n",
      "Vertice : Retiro, Prioridad 33.260742431663196\n",
      "Vertice : Colbn, Prioridad 34.545679777878505\n",
      "Vertice : San Clemente, Prioridad 40.279161513546995\n"
     ]
    }
   ],
   "source": [
    "T=prim_mst(G,'Talca')"
   ]
  },
  {
   "cell_type": "code",
   "execution_count": 16,
   "metadata": {},
   "outputs": [
    {
     "name": "stdout",
     "output_type": "stream",
     "text": [
      "Prim MST valor : 35.80\n"
     ]
    }
   ],
   "source": [
    "v=np.sum([G.edges[t]/1000 for t in T])\n",
    "print('Prim MST valor : {0:0.2f}'.format(v))"
   ]
  },
  {
   "cell_type": "markdown",
   "metadata": {},
   "source": [
    "# Simulated Annealing\n",
    "\n",
    "https://github.com/aimacode/aima-pseudocode/blob/master/md/Simulated-Annealing.md\n",
    "\n",
    "__function__ SIMULATED-ANNEALING(_problem_,_schedule_) __returns__ a solution state  \n",
    "\n",
    "&emsp;_current_ &larr; _problem_.INITIAL\\-STATE  \n",
    "&emsp;__for__ _t_ = 1 __to__ &infin;  __do__  \n",
    "&emsp;&emsp;&emsp;_T_ &larr; _schedule(t)_  \n",
    "&emsp;&emsp;&emsp;__if__ _T_ = 0 __then return__ _current_  \n",
    "&emsp;&emsp;&emsp;_next_ &larr; a randomly selected successor of _current_  \n",
    "&emsp;&emsp;&emsp;_&Delta;E_ &larr; VALUE(_next_) - VALUE(_current_)  \n",
    "&emsp;&emsp;&emsp;__if__ _&Delta;E_ > 0 __then__ _current_ &larr; _next_  \n",
    "&emsp;&emsp;&emsp;__else__ _current_ &larr; _next_ only with probability e<sup>_&Delta;E_/_T_</sup>"
   ]
  },
  {
   "cell_type": "code",
   "execution_count": 17,
   "metadata": {},
   "outputs": [],
   "source": [
    "import numpy as np\n",
    "\n",
    "current=np.random.permutation(list(G.nodes))\n",
    "new=np.random.permutation(list(G.nodes))"
   ]
  },
  {
   "cell_type": "code",
   "execution_count": 18,
   "metadata": {},
   "outputs": [
    {
     "data": {
      "text/plain": [
       "array(['San Clemente', 'Maule', 'Longav', 'Cauquenes', 'Huala',\n",
       "       'Pencahue', 'Sagrada Familia', 'Licantn', 'San Javier',\n",
       "       'Empedrado', 'Constitucin', 'Chanco', 'Ro Claro', 'Talca',\n",
       "       'Curepto', 'Molina', 'Retiro', 'Vichuqun', 'Pelluhue',\n",
       "       'San Rafael', 'Parral', 'Pelarco', 'Villa Alegre', 'Yerbas Buenas',\n",
       "       'Curic', 'Rauco', 'Linares', 'Romeral', 'Colbn', 'Teno'],\n",
       "      dtype='<U15')"
      ]
     },
     "execution_count": 18,
     "metadata": {},
     "output_type": "execute_result"
    }
   ],
   "source": [
    "current"
   ]
  },
  {
   "cell_type": "code",
   "execution_count": 144,
   "metadata": {},
   "outputs": [],
   "source": [
    "def make_cycle(G,current):\n",
    "    C=list(zip(current[:-1],current[1:]))\n",
    "    C.append((current[-1],current[0]))\n",
    "    v=np.sum([G.edges[t] for t in C])\n",
    "    return C,v/1000"
   ]
  },
  {
   "cell_type": "code",
   "execution_count": 22,
   "metadata": {},
   "outputs": [],
   "source": [
    "def make_population(G,n_samples):\n",
    "    samples,values=list(),list()\n",
    "    for _ in range(n_samples):\n",
    "        current=np.random.permutation(list(G.nodes))\n",
    "        cycle,value=make_cycle(current)\n",
    "        samples.append(cycle)\n",
    "        values.append(value)\n",
    "    return samples,values"
   ]
  },
  {
   "cell_type": "code",
   "execution_count": 24,
   "metadata": {},
   "outputs": [],
   "source": [
    "samples,values=make_population(G,1000)"
   ]
  },
  {
   "cell_type": "code",
   "execution_count": 25,
   "metadata": {},
   "outputs": [
    {
     "data": {
      "image/png": "[encoded data removed]",
      "text/plain": [
       "<Figure size 432x288 with 1 Axes>"
      ]
     },
     "metadata": {
      "needs_background": "light"
     },
     "output_type": "display_data"
    }
   ],
   "source": [
    "import matplotlib.pyplot as plt\n",
    "\n",
    "plt.hist(values)\n",
    "plt.show()"
   ]
  },
  {
   "cell_type": "code",
   "execution_count": 26,
   "metadata": {},
   "outputs": [
    {
     "data": {
      "text/plain": [
       "(1.9442843332537878, 2.8958817020990733)"
      ]
     },
     "execution_count": 26,
     "metadata": {},
     "output_type": "execute_result"
    }
   ],
   "source": [
    "min(values),max(values)"
   ]
  },
  {
   "cell_type": "code",
   "execution_count": 38,
   "metadata": {},
   "outputs": [],
   "source": [
    "import math\n",
    "\n",
    "class temperature_scheduling:\n",
    "    \n",
    "    def __init__(self,initial_temperature,min_temperature,gamma):\n",
    "        self.initial_temperature=initial_temperature\n",
    "        self.min_temperature=min_temperature\n",
    "        self.temperature=initial_temperature\n",
    "        self.gamma=gamma\n",
    "        \n",
    "    def exponential_decay(self):\n",
    "        self.temperature=self.gamma*self.temperature\n",
    "        return max(self.temperature,self.min_temperature)\n",
    "    \n",
    "    def fast_decay(self,k):\n",
    "        self.temperature=self.initial_temperature/k\n",
    "        return max(self.temperature,self.min_temperature)\n",
    "    \n",
    "    def logarithmic_decay(self,k):\n",
    "        self.temperature=self.initial_temperature*math.log(2,2)/math.log(k+1,2)\n",
    "        return max(self.temperature,self.min_temperature)"
   ]
  },
  {
   "cell_type": "code",
   "execution_count": 39,
   "metadata": {},
   "outputs": [
    {
     "data": {
      "text/plain": [
       "<AxesSubplot:>"
      ]
     },
     "execution_count": 39,
     "metadata": {},
     "output_type": "execute_result"
    },
    {
     "data": {
      "image/png": "[encoded data removed]",
      "text/plain": [
       "<Figure size 432x288 with 1 Axes>"
      ]
     },
     "metadata": {
      "needs_background": "light"
     },
     "output_type": "display_data"
    }
   ],
   "source": [
    "import pandas as pd\n",
    "epochs=1000\n",
    "\n",
    "decays={'exponential':[],'fast':[],'logarithmic':[]}\n",
    "\n",
    "temp=temperature_scheduling(10,1e-3,0.85)\n",
    "\n",
    "for k in range(1,epochs):\n",
    "    decays['exponential'].append(temp.exponential_decay())\n",
    "    decays['fast'].append(temp.fast_decay(k))\n",
    "    decays['logarithmic'].append(temp.logarithmic_decay(k))\n",
    "\n",
    "\n",
    "pd.DataFrame(decays).plot()"
   ]
  },
  {
   "cell_type": "code",
   "execution_count": 98,
   "metadata": {},
   "outputs": [],
   "source": [
    "def mutation(G,current):\n",
    "    i,j=np.random.randint(1,len(G.nodes),size=2)\n",
    "    new=current.copy()\n",
    "    new[i]=current[j]\n",
    "    new[j]=current[i]\n",
    "    return new\n",
    "\n",
    "k=0.85\n",
    "initial_temperature=10*(max(values))\n",
    "min_temp=1e-4\n",
    "\n",
    "current=np.random.permutation(list(G.nodes))\n",
    "current_cycle,current_value=make_cycle(current)\n",
    "temp=temperature_scheduling(initial_temperature,min_temp,k)\n",
    "\n",
    "epochs=1000000\n",
    "loss=[]\n",
    "for i in range(1,epochs):\n",
    "    new=mutation(G,current)\n",
    "    next_cycle,next_value=make_cycle(new)\n",
    "    delta = (next_value-current_value)\n",
    "    T=temp.logarithmic_decay(i)\n",
    "    if delta>0:\n",
    "        current=new\n",
    "    else:\n",
    "        alpha=min(1,np.exp(delta/T))\n",
    "        if alpha>np.random.random():\n",
    "            current=new\n",
    "            current_value=next_value\n",
    "    loss.append(current_value)\n",
    "    "
   ]
  },
  {
   "cell_type": "code",
   "execution_count": 99,
   "metadata": {},
   "outputs": [
    {
     "data": {
      "image/png": "[encoded data removed]",
      "text/plain": [
       "<Figure size 432x288 with 1 Axes>"
      ]
     },
     "metadata": {
      "needs_background": "light"
     },
     "output_type": "display_data"
    }
   ],
   "source": [
    "import matplotlib.pyplot as plt\n",
    "\n",
    "plt.plot(loss)\n",
    "plt.show()"
   ]
  },
  {
   "cell_type": "code",
   "execution_count": 101,
   "metadata": {},
   "outputs": [
    {
     "data": {
      "text/plain": [
       "(array(['Pencahue', 'Huala', 'Romeral', 'Teno', 'Curic', 'San Rafael',\n",
       "        'Sagrada Familia', 'Longav', 'Empedrado', 'Curepto', 'Maule',\n",
       "        'Licantn', 'Villa Alegre', 'Constitucin', 'Rauco', 'Yerbas Buenas',\n",
       "        'Cauquenes', 'Colbn', 'Linares', 'Vichuqun', 'Pelluhue',\n",
       "        'Ro Claro', 'San Javier', 'Retiro', 'Pelarco', 'Talca', 'Chanco',\n",
       "        'Molina', 'Parral', 'San Clemente'], dtype='<U15'),\n",
       " 1.5695515332261953)"
      ]
     },
     "execution_count": 101,
     "metadata": {},
     "output_type": "execute_result"
    }
   ],
   "source": [
    "current,current_value"
   ]
  },
  {
   "cell_type": "code",
   "execution_count": 100,
   "metadata": {},
   "outputs": [
    {
     "data": {
      "text/plain": [
       "(array(['Pencahue', 'Huala', 'Romeral', 'Teno', 'Curic', 'San Rafael',\n",
       "        'Sagrada Familia', 'Longav', 'Empedrado', 'Curepto', 'Maule',\n",
       "        'Licantn', 'Villa Alegre', 'Constitucin', 'Rauco', 'Yerbas Buenas',\n",
       "        'Cauquenes', 'Colbn', 'Linares', 'Vichuqun', 'Pelluhue',\n",
       "        'Ro Claro', 'San Javier', 'Retiro', 'Pelarco', 'Talca', 'Chanco',\n",
       "        'Molina', 'Parral', 'San Clemente'], dtype='<U15'),\n",
       " 1.5695515332261953)"
      ]
     },
     "execution_count": 100,
     "metadata": {},
     "output_type": "execute_result"
    }
   ],
   "source": [
    "current,current_value"
   ]
  },
  {
   "cell_type": "markdown",
   "metadata": {},
   "source": [
    "# Genetic Programming\n",
    "\n",
    "https://github.com/aimacode/aima-pseudocode/blob/master/md/Genetic-Algorithm.md\n",
    "\n",
    "__function__ GENETIC-ALGORITHM(_population_, FITNESS\\-FN) __returns__ an individual  \n",
    "&emsp;__inputs__: _population_, the initial random population of individuals  \n",
    "&emsp;&emsp;&emsp;&emsp;FITNESS\\-FN, a function that measures the fitness of an individual  \n",
    "\n",
    "&emsp;__repeat__  \n",
    "&emsp;&emsp;&emsp;_population_ &larr; [MUTATE(RECOMBINE(SELECT(2, _population_, FITNESS\\-FN)))  \n",
    "&emsp;&emsp;&emsp;&emsp;&emsp;&emsp;&emsp;&emsp;&emsp;&emsp;__for__ _i_ __in__ _population_]  \n",
    "&emsp;__until__ some individual is fit enough, or enough time has elapsed  \n",
    "&emsp;__return__ the best individual in _population_, according to FITNESS\\-FN  \n",
    "\n",
    "---\n",
    "__function__ SELECT(ρ, _population_, FITNESS\\-FN) __returns__ a set of ρ individuals  \n",
    "&emsp;_selection_ &larr; a uniform random sample of 2 * ρ individuals from _population_  \n",
    "&emsp;__return__ the top ρ individuals in _selection_, ranked by FITNESS\\-FN  \n",
    "\n",
    "---\n",
    "__function__ RECOMBINE(_x_, _y_) __returns__ an individual  \n",
    "&emsp;__inputs__: _x_,_y_, parent individuals  \n",
    "  \n",
    "&emsp;_n_ &larr; LENGTH(_x_)  \n",
    "&emsp;_crossover_ &larr; random integer from 0 to _n_  \n",
    "&emsp;__return__ APPEND(_x_\\[0:_crossover_\\], _y_\\[_crossover_: _n_\\])  \n",
    "\n",
    "---\n"
   ]
  },
  {
   "cell_type": "code",
   "execution_count": 125,
   "metadata": {},
   "outputs": [],
   "source": [
    "samples,values=make_population(G,1000)"
   ]
  },
  {
   "cell_type": "code",
   "execution_count": 126,
   "metadata": {},
   "outputs": [
    {
     "data": {
      "image/png": "[encoded data removed]",
      "text/plain": [
       "<Figure size 432x288 with 1 Axes>"
      ]
     },
     "metadata": {
      "needs_background": "light"
     },
     "output_type": "display_data"
    }
   ],
   "source": [
    "plt.hist(values)\n",
    "plt.show()"
   ]
  },
  {
   "cell_type": "code",
   "execution_count": 108,
   "metadata": {},
   "outputs": [],
   "source": [
    "norm_values=[(v-min(values))/(max(values)-min(values)) for v in values]"
   ]
  },
  {
   "cell_type": "code",
   "execution_count": 128,
   "metadata": {},
   "outputs": [
    {
     "data": {
      "image/png": "[encoded data removed]",
      "text/plain": [
       "<Figure size 432x288 with 1 Axes>"
      ]
     },
     "metadata": {
      "needs_background": "light"
     },
     "output_type": "display_data"
    }
   ],
   "source": [
    "plt.hist(norm_values)\n",
    "plt.show()"
   ]
  },
  {
   "cell_type": "code",
   "execution_count": 110,
   "metadata": {},
   "outputs": [],
   "source": [
    "norm_values=[v/sum(norm_values) for v in norm_values]"
   ]
  },
  {
   "cell_type": "code",
   "execution_count": 130,
   "metadata": {},
   "outputs": [
    {
     "data": {
      "image/png": "[encoded data removed]",
      "text/plain": [
       "<Figure size 432x288 with 1 Axes>"
      ]
     },
     "metadata": {
      "needs_background": "light"
     },
     "output_type": "display_data"
    }
   ],
   "source": [
    "plt.hist(norm_values)\n",
    "plt.show()"
   ]
  },
  {
   "cell_type": "code",
   "execution_count": 134,
   "metadata": {},
   "outputs": [],
   "source": [
    "fitness=np.random.choice([1,2,3],size=3,replace=True,p=[.1,.1,.8])"
   ]
  },
  {
   "cell_type": "code",
   "execution_count": 135,
   "metadata": {},
   "outputs": [
    {
     "data": {
      "text/plain": [
       "array([3, 3, 2])"
      ]
     },
     "execution_count": 135,
     "metadata": {},
     "output_type": "execute_result"
    }
   ],
   "source": [
    "fitness"
   ]
  },
  {
   "cell_type": "code",
   "execution_count": 136,
   "metadata": {},
   "outputs": [],
   "source": [
    "fitness=np.random.choice(list(range(len(samples))),size=len(samples),replace=True,p=norm_values)"
   ]
  },
  {
   "cell_type": "code",
   "execution_count": 139,
   "metadata": {},
   "outputs": [],
   "source": [
    "survival=[samples[f] for f in fitness]"
   ]
  },
  {
   "cell_type": "code",
   "execution_count": 141,
   "metadata": {},
   "outputs": [
    {
     "ename": "KeyError",
     "evalue": "(('Ro Claro', 'San Clemente'), ('San Clemente', 'Maule'))",
     "output_type": "error",
     "traceback": [
      "\u001b[0;31m---------------------------------------------------------------------------\u001b[0m",
      "\u001b[0;31mKeyError\u001b[0m                                  Traceback (most recent call last)",
      "\u001b[0;32m<ipython-input-141-caa5ff85dc56>\u001b[0m in \u001b[0;36m<module>\u001b[0;34m\u001b[0m\n\u001b[1;32m     19\u001b[0m         \u001b[0mcurrent\u001b[0m\u001b[0;34m=\u001b[0m\u001b[0msurvival\u001b[0m\u001b[0;34m[\u001b[0m\u001b[0mj\u001b[0m\u001b[0;34m]\u001b[0m\u001b[0;34m\u001b[0m\u001b[0;34m\u001b[0m\u001b[0m\n\u001b[1;32m     20\u001b[0m         \u001b[0msurvival\u001b[0m\u001b[0;34m[\u001b[0m\u001b[0mj\u001b[0m\u001b[0;34m]\u001b[0m\u001b[0;34m=\u001b[0m\u001b[0mmutation\u001b[0m\u001b[0;34m(\u001b[0m\u001b[0mG\u001b[0m\u001b[0;34m,\u001b[0m\u001b[0mcurrent\u001b[0m\u001b[0;34m)\u001b[0m\u001b[0;34m\u001b[0m\u001b[0;34m\u001b[0m\u001b[0m\n\u001b[0;32m---> 21\u001b[0;31m         \u001b[0msurvival_cycle\u001b[0m\u001b[0;34m,\u001b[0m\u001b[0msurvival_value\u001b[0m\u001b[0;34m=\u001b[0m\u001b[0mmake_cycle\u001b[0m\u001b[0;34m(\u001b[0m\u001b[0msurvival\u001b[0m\u001b[0;34m[\u001b[0m\u001b[0mj\u001b[0m\u001b[0;34m]\u001b[0m\u001b[0;34m)\u001b[0m\u001b[0;34m\u001b[0m\u001b[0;34m\u001b[0m\u001b[0m\n\u001b[0m\u001b[1;32m     22\u001b[0m         \u001b[0mvalues\u001b[0m\u001b[0;34m.\u001b[0m\u001b[0mappend\u001b[0m\u001b[0;34m(\u001b[0m\u001b[0msurvival_value\u001b[0m\u001b[0;34m)\u001b[0m\u001b[0;34m\u001b[0m\u001b[0;34m\u001b[0m\u001b[0m\n\u001b[1;32m     23\u001b[0m     \u001b[0msurvival\u001b[0m\u001b[0;34m,\u001b[0m\u001b[0mvalues\u001b[0m\u001b[0;34m=\u001b[0m\u001b[0mselect\u001b[0m\u001b[0;34m(\u001b[0m\u001b[0msurvival\u001b[0m\u001b[0;34m,\u001b[0m\u001b[0mvalues\u001b[0m\u001b[0;34m)\u001b[0m\u001b[0;34m\u001b[0m\u001b[0;34m\u001b[0m\u001b[0m\n",
      "\u001b[0;32m<ipython-input-21-e5ecf97e5d7c>\u001b[0m in \u001b[0;36mmake_cycle\u001b[0;34m(current)\u001b[0m\n\u001b[1;32m      2\u001b[0m     \u001b[0mC\u001b[0m\u001b[0;34m=\u001b[0m\u001b[0mlist\u001b[0m\u001b[0;34m(\u001b[0m\u001b[0mzip\u001b[0m\u001b[0;34m(\u001b[0m\u001b[0mcurrent\u001b[0m\u001b[0;34m[\u001b[0m\u001b[0;34m:\u001b[0m\u001b[0;34m-\u001b[0m\u001b[0;36m1\u001b[0m\u001b[0;34m]\u001b[0m\u001b[0;34m,\u001b[0m\u001b[0mcurrent\u001b[0m\u001b[0;34m[\u001b[0m\u001b[0;36m1\u001b[0m\u001b[0;34m:\u001b[0m\u001b[0;34m]\u001b[0m\u001b[0;34m)\u001b[0m\u001b[0;34m)\u001b[0m\u001b[0;34m\u001b[0m\u001b[0;34m\u001b[0m\u001b[0m\n\u001b[1;32m      3\u001b[0m     \u001b[0mC\u001b[0m\u001b[0;34m.\u001b[0m\u001b[0mappend\u001b[0m\u001b[0;34m(\u001b[0m\u001b[0;34m(\u001b[0m\u001b[0mcurrent\u001b[0m\u001b[0;34m[\u001b[0m\u001b[0;34m-\u001b[0m\u001b[0;36m1\u001b[0m\u001b[0;34m]\u001b[0m\u001b[0;34m,\u001b[0m\u001b[0mcurrent\u001b[0m\u001b[0;34m[\u001b[0m\u001b[0;36m0\u001b[0m\u001b[0;34m]\u001b[0m\u001b[0;34m)\u001b[0m\u001b[0;34m)\u001b[0m\u001b[0;34m\u001b[0m\u001b[0;34m\u001b[0m\u001b[0m\n\u001b[0;32m----> 4\u001b[0;31m     \u001b[0mv\u001b[0m\u001b[0;34m=\u001b[0m\u001b[0mnp\u001b[0m\u001b[0;34m.\u001b[0m\u001b[0msum\u001b[0m\u001b[0;34m(\u001b[0m\u001b[0;34m[\u001b[0m\u001b[0mG\u001b[0m\u001b[0;34m.\u001b[0m\u001b[0medges\u001b[0m\u001b[0;34m[\u001b[0m\u001b[0mt\u001b[0m\u001b[0;34m]\u001b[0m \u001b[0;32mfor\u001b[0m \u001b[0mt\u001b[0m \u001b[0;32min\u001b[0m \u001b[0mC\u001b[0m\u001b[0;34m]\u001b[0m\u001b[0;34m)\u001b[0m\u001b[0;34m\u001b[0m\u001b[0;34m\u001b[0m\u001b[0m\n\u001b[0m\u001b[1;32m      5\u001b[0m     \u001b[0;32mreturn\u001b[0m \u001b[0mC\u001b[0m\u001b[0;34m,\u001b[0m\u001b[0mv\u001b[0m\u001b[0;34m/\u001b[0m\u001b[0;36m1000\u001b[0m\u001b[0;34m\u001b[0m\u001b[0;34m\u001b[0m\u001b[0m\n",
      "\u001b[0;32m<ipython-input-21-e5ecf97e5d7c>\u001b[0m in \u001b[0;36m<listcomp>\u001b[0;34m(.0)\u001b[0m\n\u001b[1;32m      2\u001b[0m     \u001b[0mC\u001b[0m\u001b[0;34m=\u001b[0m\u001b[0mlist\u001b[0m\u001b[0;34m(\u001b[0m\u001b[0mzip\u001b[0m\u001b[0;34m(\u001b[0m\u001b[0mcurrent\u001b[0m\u001b[0;34m[\u001b[0m\u001b[0;34m:\u001b[0m\u001b[0;34m-\u001b[0m\u001b[0;36m1\u001b[0m\u001b[0;34m]\u001b[0m\u001b[0;34m,\u001b[0m\u001b[0mcurrent\u001b[0m\u001b[0;34m[\u001b[0m\u001b[0;36m1\u001b[0m\u001b[0;34m:\u001b[0m\u001b[0;34m]\u001b[0m\u001b[0;34m)\u001b[0m\u001b[0;34m)\u001b[0m\u001b[0;34m\u001b[0m\u001b[0;34m\u001b[0m\u001b[0m\n\u001b[1;32m      3\u001b[0m     \u001b[0mC\u001b[0m\u001b[0;34m.\u001b[0m\u001b[0mappend\u001b[0m\u001b[0;34m(\u001b[0m\u001b[0;34m(\u001b[0m\u001b[0mcurrent\u001b[0m\u001b[0;34m[\u001b[0m\u001b[0;34m-\u001b[0m\u001b[0;36m1\u001b[0m\u001b[0;34m]\u001b[0m\u001b[0;34m,\u001b[0m\u001b[0mcurrent\u001b[0m\u001b[0;34m[\u001b[0m\u001b[0;36m0\u001b[0m\u001b[0;34m]\u001b[0m\u001b[0;34m)\u001b[0m\u001b[0;34m)\u001b[0m\u001b[0;34m\u001b[0m\u001b[0;34m\u001b[0m\u001b[0m\n\u001b[0;32m----> 4\u001b[0;31m     \u001b[0mv\u001b[0m\u001b[0;34m=\u001b[0m\u001b[0mnp\u001b[0m\u001b[0;34m.\u001b[0m\u001b[0msum\u001b[0m\u001b[0;34m(\u001b[0m\u001b[0;34m[\u001b[0m\u001b[0mG\u001b[0m\u001b[0;34m.\u001b[0m\u001b[0medges\u001b[0m\u001b[0;34m[\u001b[0m\u001b[0mt\u001b[0m\u001b[0;34m]\u001b[0m \u001b[0;32mfor\u001b[0m \u001b[0mt\u001b[0m \u001b[0;32min\u001b[0m \u001b[0mC\u001b[0m\u001b[0;34m]\u001b[0m\u001b[0;34m)\u001b[0m\u001b[0;34m\u001b[0m\u001b[0;34m\u001b[0m\u001b[0m\n\u001b[0m\u001b[1;32m      5\u001b[0m     \u001b[0;32mreturn\u001b[0m \u001b[0mC\u001b[0m\u001b[0;34m,\u001b[0m\u001b[0mv\u001b[0m\u001b[0;34m/\u001b[0m\u001b[0;36m1000\u001b[0m\u001b[0;34m\u001b[0m\u001b[0;34m\u001b[0m\u001b[0m\n",
      "\u001b[0;31mKeyError\u001b[0m: (('Ro Claro', 'San Clemente'), ('San Clemente', 'Maule'))"
     ]
    }
   ],
   "source": [
    "def select(samples,values):\n",
    "    norm_values=[(v-min(values))/(max(values)-min(values)) for v in values]\n",
    "    norm_values=[v/sum(norm_values) for v in norm_values]\n",
    "    fitness=np.random.choice(list(range(len(samples))),size=len(samples),replace=True,p=norm_values)\n",
    "    survival=[samples[f] for f in fitness]\n",
    "    new_val=[values[f] for f in fitness]\n",
    "    return survival,new_val\n",
    "\n",
    "samples,values=make_population(G,1000)\n",
    "survival,values=select(samples,values)\n",
    "#current_cycle,current_value=make_cycle(current)\n",
    "\n",
    "\n",
    "epochs=100\n",
    "loss=[]\n",
    "for i in range(1,epochs):\n",
    "    values=list()\n",
    "    for j in range(len(survival)):\n",
    "        current=survival[j]\n",
    "        survival[j]=mutation(G,current)\n",
    "        survival_cycle,survival_value=make_cycle(survival[j])\n",
    "        values.append(survival_value)\n",
    "    survival,values=select(survival,values)\n",
    "    loss.append(min(values))"
   ]
  },
  {
   "cell_type": "code",
   "execution_count": 145,
   "metadata": {},
   "outputs": [
    {
     "ename": "KeyError",
     "evalue": "(('Ro Claro', 'San Clemente'), ('San Clemente', 'Maule'))",
     "output_type": "error",
     "traceback": [
      "\u001b[0;31m---------------------------------------------------------------------------\u001b[0m",
      "\u001b[0;31mKeyError\u001b[0m                                  Traceback (most recent call last)",
      "\u001b[0;32m<ipython-input-145-04c3a4123750>\u001b[0m in \u001b[0;36m<module>\u001b[0;34m\u001b[0m\n\u001b[0;32m----> 1\u001b[0;31m \u001b[0msurvival_cycle\u001b[0m\u001b[0;34m,\u001b[0m\u001b[0msurvival_value\u001b[0m\u001b[0;34m=\u001b[0m\u001b[0mmake_cycle\u001b[0m\u001b[0;34m(\u001b[0m\u001b[0mG\u001b[0m\u001b[0;34m,\u001b[0m\u001b[0msurvival\u001b[0m\u001b[0;34m[\u001b[0m\u001b[0;36m0\u001b[0m\u001b[0;34m]\u001b[0m\u001b[0;34m)\u001b[0m\u001b[0;34m\u001b[0m\u001b[0;34m\u001b[0m\u001b[0m\n\u001b[0m",
      "\u001b[0;32m<ipython-input-144-bb9805e42aed>\u001b[0m in \u001b[0;36mmake_cycle\u001b[0;34m(G, current)\u001b[0m\n\u001b[1;32m      2\u001b[0m     \u001b[0mC\u001b[0m\u001b[0;34m=\u001b[0m\u001b[0mlist\u001b[0m\u001b[0;34m(\u001b[0m\u001b[0mzip\u001b[0m\u001b[0;34m(\u001b[0m\u001b[0mcurrent\u001b[0m\u001b[0;34m[\u001b[0m\u001b[0;34m:\u001b[0m\u001b[0;34m-\u001b[0m\u001b[0;36m1\u001b[0m\u001b[0;34m]\u001b[0m\u001b[0;34m,\u001b[0m\u001b[0mcurrent\u001b[0m\u001b[0;34m[\u001b[0m\u001b[0;36m1\u001b[0m\u001b[0;34m:\u001b[0m\u001b[0;34m]\u001b[0m\u001b[0;34m)\u001b[0m\u001b[0;34m)\u001b[0m\u001b[0;34m\u001b[0m\u001b[0;34m\u001b[0m\u001b[0m\n\u001b[1;32m      3\u001b[0m     \u001b[0mC\u001b[0m\u001b[0;34m.\u001b[0m\u001b[0mappend\u001b[0m\u001b[0;34m(\u001b[0m\u001b[0;34m(\u001b[0m\u001b[0mcurrent\u001b[0m\u001b[0;34m[\u001b[0m\u001b[0;34m-\u001b[0m\u001b[0;36m1\u001b[0m\u001b[0;34m]\u001b[0m\u001b[0;34m,\u001b[0m\u001b[0mcurrent\u001b[0m\u001b[0;34m[\u001b[0m\u001b[0;36m0\u001b[0m\u001b[0;34m]\u001b[0m\u001b[0;34m)\u001b[0m\u001b[0;34m)\u001b[0m\u001b[0;34m\u001b[0m\u001b[0;34m\u001b[0m\u001b[0m\n\u001b[0;32m----> 4\u001b[0;31m     \u001b[0mv\u001b[0m\u001b[0;34m=\u001b[0m\u001b[0mnp\u001b[0m\u001b[0;34m.\u001b[0m\u001b[0msum\u001b[0m\u001b[0;34m(\u001b[0m\u001b[0;34m[\u001b[0m\u001b[0mG\u001b[0m\u001b[0;34m.\u001b[0m\u001b[0medges\u001b[0m\u001b[0;34m[\u001b[0m\u001b[0mt\u001b[0m\u001b[0;34m]\u001b[0m \u001b[0;32mfor\u001b[0m \u001b[0mt\u001b[0m \u001b[0;32min\u001b[0m \u001b[0mC\u001b[0m\u001b[0;34m]\u001b[0m\u001b[0;34m)\u001b[0m\u001b[0;34m\u001b[0m\u001b[0;34m\u001b[0m\u001b[0m\n\u001b[0m\u001b[1;32m      5\u001b[0m     \u001b[0;32mreturn\u001b[0m \u001b[0mC\u001b[0m\u001b[0;34m,\u001b[0m\u001b[0mv\u001b[0m\u001b[0;34m/\u001b[0m\u001b[0;36m1000\u001b[0m\u001b[0;34m\u001b[0m\u001b[0;34m\u001b[0m\u001b[0m\n",
      "\u001b[0;32m<ipython-input-144-bb9805e42aed>\u001b[0m in \u001b[0;36m<listcomp>\u001b[0;34m(.0)\u001b[0m\n\u001b[1;32m      2\u001b[0m     \u001b[0mC\u001b[0m\u001b[0;34m=\u001b[0m\u001b[0mlist\u001b[0m\u001b[0;34m(\u001b[0m\u001b[0mzip\u001b[0m\u001b[0;34m(\u001b[0m\u001b[0mcurrent\u001b[0m\u001b[0;34m[\u001b[0m\u001b[0;34m:\u001b[0m\u001b[0;34m-\u001b[0m\u001b[0;36m1\u001b[0m\u001b[0;34m]\u001b[0m\u001b[0;34m,\u001b[0m\u001b[0mcurrent\u001b[0m\u001b[0;34m[\u001b[0m\u001b[0;36m1\u001b[0m\u001b[0;34m:\u001b[0m\u001b[0;34m]\u001b[0m\u001b[0;34m)\u001b[0m\u001b[0;34m)\u001b[0m\u001b[0;34m\u001b[0m\u001b[0;34m\u001b[0m\u001b[0m\n\u001b[1;32m      3\u001b[0m     \u001b[0mC\u001b[0m\u001b[0;34m.\u001b[0m\u001b[0mappend\u001b[0m\u001b[0;34m(\u001b[0m\u001b[0;34m(\u001b[0m\u001b[0mcurrent\u001b[0m\u001b[0;34m[\u001b[0m\u001b[0;34m-\u001b[0m\u001b[0;36m1\u001b[0m\u001b[0;34m]\u001b[0m\u001b[0;34m,\u001b[0m\u001b[0mcurrent\u001b[0m\u001b[0;34m[\u001b[0m\u001b[0;36m0\u001b[0m\u001b[0;34m]\u001b[0m\u001b[0;34m)\u001b[0m\u001b[0;34m)\u001b[0m\u001b[0;34m\u001b[0m\u001b[0;34m\u001b[0m\u001b[0m\n\u001b[0;32m----> 4\u001b[0;31m     \u001b[0mv\u001b[0m\u001b[0;34m=\u001b[0m\u001b[0mnp\u001b[0m\u001b[0;34m.\u001b[0m\u001b[0msum\u001b[0m\u001b[0;34m(\u001b[0m\u001b[0;34m[\u001b[0m\u001b[0mG\u001b[0m\u001b[0;34m.\u001b[0m\u001b[0medges\u001b[0m\u001b[0;34m[\u001b[0m\u001b[0mt\u001b[0m\u001b[0;34m]\u001b[0m \u001b[0;32mfor\u001b[0m \u001b[0mt\u001b[0m \u001b[0;32min\u001b[0m \u001b[0mC\u001b[0m\u001b[0;34m]\u001b[0m\u001b[0;34m)\u001b[0m\u001b[0;34m\u001b[0m\u001b[0;34m\u001b[0m\u001b[0m\n\u001b[0m\u001b[1;32m      5\u001b[0m     \u001b[0;32mreturn\u001b[0m \u001b[0mC\u001b[0m\u001b[0;34m,\u001b[0m\u001b[0mv\u001b[0m\u001b[0;34m/\u001b[0m\u001b[0;36m1000\u001b[0m\u001b[0;34m\u001b[0m\u001b[0;34m\u001b[0m\u001b[0m\n",
      "\u001b[0;31mKeyError\u001b[0m: (('Ro Claro', 'San Clemente'), ('San Clemente', 'Maule'))"
     ]
    }
   ],
   "source": [
    "survival_cycle,survival_value=make_cycle(G,survival[0])"
   ]
  },
  {
   "cell_type": "code",
   "execution_count": null,
   "metadata": {},
   "outputs": [],
   "source": []
  }
 ],
 "metadata": {
  "kernelspec": {
   "display_name": "Python 3",
   "language": "python",
   "name": "python3"
  },
  "language_info": {
   "codemirror_mode": {
    "name": "ipython",
    "version": 3
   },
   "file_extension": ".py",
   "mimetype": "text/x-python",
   "name": "python",
   "nbconvert_exporter": "python",
   "pygments_lexer": "ipython3",
   "version": "3.8.5"
  }
 },
 "nbformat": 4,
 "nbformat_minor": 5
}
