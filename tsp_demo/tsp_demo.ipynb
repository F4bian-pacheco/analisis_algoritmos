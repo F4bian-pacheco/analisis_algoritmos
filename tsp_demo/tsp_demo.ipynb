{
  "nbformat": 4,
  "nbformat_minor": 5,
  "metadata": {
    "kernelspec": {
      "display_name": "Python 3",
      "language": "python",
      "name": "python3"
    },
    "language_info": {
      "codemirror_mode": {
        "name": "ipython",
        "version": 3
      },
      "file_extension": ".py",
      "mimetype": "text/x-python",
      "name": "python",
      "nbconvert_exporter": "python",
      "pygments_lexer": "ipython3",
      "version": "3.8.5"
    },
    "colab": {
      "name": "tsp_demo.ipynb",
      "provenance": []
    }
  },
  "cells": [
    {
      "cell_type": "markdown",
      "metadata": {
        "id": "_WGbCsNCEZmm"
      },
      "source": [
        "# Simulated Annealing TSP"
      ],
      "id": "_WGbCsNCEZmm"
    },
    {
      "cell_type": "code",
      "metadata": {
        "id": "D9Dvu8kVEZmn"
      },
      "source": [
        "import pandas as pd"
      ],
      "id": "D9Dvu8kVEZmn",
      "execution_count": 1,
      "outputs": []
    },
    {
      "cell_type": "code",
      "metadata": {
        "id": "AqvRS2oiEZmn"
      },
      "source": [
        "def load_nodes(path):\n",
        "    df=pd.read_csv(path)\n",
        "    df.rename({'X':'lon','Y':'lat'},axis='columns',inplace=True)\n",
        "    return df\n",
        "\n",
        "def load_data(path):\n",
        "    df=pd.read_csv(path, encoding = 'utf-8',dtype={'InputID':'string','TargetID':'string','Distance':float}) \n",
        "    df['InputID'] = df['InputID'].apply(lambda x: x.encode('ascii', 'ignore').decode('ascii'))\n",
        "    df['TargetID'] = df['TargetID'].apply(lambda x: x.encode('ascii', 'ignore').decode('ascii'))\n",
        "    #df['TargetID']=df['TargetID'].astype('category')\n",
        "    #df['InputID']=df['InputID'].astype('category')\n",
        "    return df"
      ],
      "id": "AqvRS2oiEZmn",
      "execution_count": 2,
      "outputs": []
    },
    {
      "cell_type": "code",
      "metadata": {
        "id": "Y2YZxtMoEZmn"
      },
      "source": [
        "dist_path='https://raw.githubusercontent.com/sherna90/analisis_algoritmos/master/tsp_demo/data/distancias_maule.csv'\n",
        "edge_data=load_data(dist_path)\n",
        "nodes_path='https://raw.githubusercontent.com/sherna90/analisis_algoritmos/master/tsp_demo/data/comunas_maule.csv'\n",
        "node_data=load_nodes(nodes_path)"
      ],
      "id": "Y2YZxtMoEZmn",
      "execution_count": 3,
      "outputs": []
    },
    {
      "cell_type": "code",
      "metadata": {
        "id": "Nyn1k5foEZmo",
        "outputId": "f9aa1596-e3ab-4b7a-dabe-56c75837a838",
        "colab": {
          "base_uri": "https://localhost:8080/",
          "height": 391
        }
      },
      "source": [
        "node_data.head()"
      ],
      "id": "Nyn1k5foEZmo",
      "execution_count": 4,
      "outputs": [
        {
          "output_type": "execute_result",
          "data": {
            "text/html": [
              "<div>\n",
              "<style scoped>\n",
              "    .dataframe tbody tr th:only-of-type {\n",
              "        vertical-align: middle;\n",
              "    }\n",
              "\n",
              "    .dataframe tbody tr th {\n",
              "        vertical-align: top;\n",
              "    }\n",
              "\n",
              "    .dataframe thead th {\n",
              "        text-align: right;\n",
              "    }\n",
              "</style>\n",
              "<table border=\"1\" class=\"dataframe\">\n",
              "  <thead>\n",
              "    <tr style=\"text-align: right;\">\n",
              "      <th></th>\n",
              "      <th>lon</th>\n",
              "      <th>lat</th>\n",
              "      <th>Z</th>\n",
              "      <th>objectid</th>\n",
              "      <th>shape_leng</th>\n",
              "      <th>dis_elec</th>\n",
              "      <th>cir_sena</th>\n",
              "      <th>cod_comuna</th>\n",
              "      <th>codregion</th>\n",
              "      <th>st_area_sh</th>\n",
              "      <th>st_length_</th>\n",
              "      <th>Region</th>\n",
              "      <th>Comuna</th>\n",
              "      <th>Provincia</th>\n",
              "    </tr>\n",
              "  </thead>\n",
              "  <tbody>\n",
              "    <tr>\n",
              "      <th>0</th>\n",
              "      <td>-71.953081</td>\n",
              "      <td>-35.129891</td>\n",
              "      <td>0</td>\n",
              "      <td>279</td>\n",
              "      <td>191493.545385</td>\n",
              "      <td>17</td>\n",
              "      <td>9</td>\n",
              "      <td>7103</td>\n",
              "      <td>7</td>\n",
              "      <td>1.602501e+09</td>\n",
              "      <td>234347.693056</td>\n",
              "      <td>Región del Maule</td>\n",
              "      <td>Curepto</td>\n",
              "      <td>Talca</td>\n",
              "    </tr>\n",
              "    <tr>\n",
              "      <th>1</th>\n",
              "      <td>-72.284260</td>\n",
              "      <td>-35.613610</td>\n",
              "      <td>0</td>\n",
              "      <td>280</td>\n",
              "      <td>142724.349430</td>\n",
              "      <td>17</td>\n",
              "      <td>9</td>\n",
              "      <td>7104</td>\n",
              "      <td>7</td>\n",
              "      <td>8.575285e+08</td>\n",
              "      <td>175634.266010</td>\n",
              "      <td>Región del Maule</td>\n",
              "      <td>Empedrado</td>\n",
              "      <td>Talca</td>\n",
              "    </tr>\n",
              "    <tr>\n",
              "      <th>2</th>\n",
              "      <td>-71.816301</td>\n",
              "      <td>-35.327665</td>\n",
              "      <td>0</td>\n",
              "      <td>283</td>\n",
              "      <td>176274.410596</td>\n",
              "      <td>17</td>\n",
              "      <td>9</td>\n",
              "      <td>7107</td>\n",
              "      <td>7</td>\n",
              "      <td>1.437081e+09</td>\n",
              "      <td>216188.830744</td>\n",
              "      <td>Región del Maule</td>\n",
              "      <td>Pencahue</td>\n",
              "      <td>Talca</td>\n",
              "    </tr>\n",
              "    <tr>\n",
              "      <th>3</th>\n",
              "      <td>-71.331995</td>\n",
              "      <td>-35.958516</td>\n",
              "      <td>0</td>\n",
              "      <td>271</td>\n",
              "      <td>288033.759891</td>\n",
              "      <td>18</td>\n",
              "      <td>9</td>\n",
              "      <td>7401</td>\n",
              "      <td>7</td>\n",
              "      <td>2.245999e+09</td>\n",
              "      <td>356106.042176</td>\n",
              "      <td>Región del Maule</td>\n",
              "      <td>Linares</td>\n",
              "      <td>Linares</td>\n",
              "    </tr>\n",
              "    <tr>\n",
              "      <th>4</th>\n",
              "      <td>-71.441142</td>\n",
              "      <td>-36.110871</td>\n",
              "      <td>0</td>\n",
              "      <td>272</td>\n",
              "      <td>267604.712137</td>\n",
              "      <td>18</td>\n",
              "      <td>9</td>\n",
              "      <td>7403</td>\n",
              "      <td>7</td>\n",
              "      <td>2.231920e+09</td>\n",
              "      <td>331498.941045</td>\n",
              "      <td>Región del Maule</td>\n",
              "      <td>Longaví</td>\n",
              "      <td>Linares</td>\n",
              "    </tr>\n",
              "  </tbody>\n",
              "</table>\n",
              "</div>"
            ],
            "text/plain": [
              "         lon        lat  Z  ...            Region     Comuna  Provincia\n",
              "0 -71.953081 -35.129891  0  ...  Región del Maule    Curepto      Talca\n",
              "1 -72.284260 -35.613610  0  ...  Región del Maule  Empedrado      Talca\n",
              "2 -71.816301 -35.327665  0  ...  Región del Maule   Pencahue      Talca\n",
              "3 -71.331995 -35.958516  0  ...  Región del Maule    Linares    Linares\n",
              "4 -71.441142 -36.110871  0  ...  Región del Maule    Longaví    Linares\n",
              "\n",
              "[5 rows x 14 columns]"
            ]
          },
          "metadata": {
            "tags": []
          },
          "execution_count": 4
        }
      ]
    },
    {
      "cell_type": "code",
      "metadata": {
        "id": "8WQHYAhsEZmo",
        "outputId": "9e70bcb7-933f-49d8-de27-2337aa0afad8",
        "colab": {
          "base_uri": "https://localhost:8080/"
        }
      },
      "source": [
        "edge_data.iloc[1]"
      ],
      "id": "8WQHYAhsEZmo",
      "execution_count": 5,
      "outputs": [
        {
          "output_type": "execute_result",
          "data": {
            "text/plain": [
              "InputID     Curepto\n",
              "TargetID      Rauco\n",
              "Distance    52563.8\n",
              "Name: 1, dtype: object"
            ]
          },
          "metadata": {
            "tags": []
          },
          "execution_count": 5
        }
      ]
    },
    {
      "cell_type": "code",
      "metadata": {
        "id": "kEomuWRcEZmo"
      },
      "source": [
        "import numpy as np\n",
        "from math import radians, cos, sin, asin, sqrt\n",
        "\n",
        "def haversine(lon1, lat1, lon2, lat2):\n",
        "    lon1, lat1, lon2, lat2 = map(radians, [lon1, lat1, lon2, lat2])\n",
        "    dlon = lon2 - lon1 \n",
        "    dlat = lat2 - lat1 \n",
        "    a = sin(dlat/2)**2 + cos(lat1) * cos(lat2) * sin(dlon/2)**2\n",
        "    c = 2 * asin(sqrt(a)) \n",
        "    r = 6371 # Radius of earth in kilometers. Use 3956 for miles\n",
        "    return c * r *1000"
      ],
      "id": "kEomuWRcEZmo",
      "execution_count": 6,
      "outputs": []
    },
    {
      "cell_type": "code",
      "metadata": {
        "id": "4ORJej8UEZmo"
      },
      "source": [
        "get_lon_lat = lambda comuna : node_data[node_data['Comuna']==comuna][['lon','lat']].values[0]"
      ],
      "id": "4ORJej8UEZmo",
      "execution_count": 7,
      "outputs": []
    },
    {
      "cell_type": "code",
      "metadata": {
        "id": "bfbiDdicEZmp"
      },
      "source": [
        "p1=get_lon_lat('Curepto')\n",
        "p2=get_lon_lat('Rauco')"
      ],
      "id": "bfbiDdicEZmp",
      "execution_count": 8,
      "outputs": []
    },
    {
      "cell_type": "code",
      "metadata": {
        "id": "4uPkJyOIEZmp",
        "outputId": "31037b94-526b-44e5-dad1-fbdb5d3ef60c",
        "colab": {
          "base_uri": "https://localhost:8080/"
        }
      },
      "source": [
        "haversine(p1[0], p1[1], p2[0], p2[1])"
      ],
      "id": "4uPkJyOIEZmp",
      "execution_count": 9,
      "outputs": [
        {
          "output_type": "execute_result",
          "data": {
            "text/plain": [
              "52485.88162076175"
            ]
          },
          "metadata": {
            "tags": []
          },
          "execution_count": 9
        }
      ]
    },
    {
      "cell_type": "code",
      "metadata": {
        "id": "dTla1lmZEZmp"
      },
      "source": [
        "import numpy as np\n",
        "from heapq import heappush,heappop\n",
        "\n",
        "class abstract_graph:\n",
        "    \n",
        "    def __init__(self,_edges):\n",
        "        self.edges=_edges\n",
        "        self.nodes={u for u,v in self.edges} | {v for u,v in self.edges}\n",
        "        \n",
        "    def adjacency_matrix(self):\n",
        "        pass\n",
        "    \n",
        "    def adjacency_list(self):\n",
        "        pass\n",
        "\n",
        "    \n",
        "class simple_graph(abstract_graph):\n",
        "    \n",
        "    def adjacency_list(self):\n",
        "        adjacent=lambda n : {v for u,v in self.edges if u==n } | {u for u,v in self.edges if v==n}\n",
        "        return {v:adjacent(v) for v in self.nodes}\n",
        "    \n",
        "\n",
        "    \n",
        "class weighted_graph(abstract_graph):\n",
        "    \n",
        "    def __init__(self,_edges):\n",
        "        self.edges=_edges\n",
        "        self.nodes={u for u,v in self.edges.keys()} | {v for u,v in self.edges.keys()}\n",
        "        \n",
        "    def adjacency_matrix(self):\n",
        "        n=len(self.nodes)\n",
        "        mat=np.zeros((n,n))\n",
        "        adjacent=lambda x : [1 if x==v else 0 for (u,v) in enumerate(sorted(list(G.nodes))) ]\n",
        "        L=self.adjacency_list()\n",
        "        i=0\n",
        "        for v in sorted(list(G.nodes)):\n",
        "            for l in L[v]:\n",
        "                mat[i,]+=adjacent(l)\n",
        "            i=i+1\n",
        "        return mat\n",
        "    \n",
        "    def adjacency_list(self):\n",
        "        adjacent=lambda n : {v for u,v in self.edges.keys() if u==n } | {u for u,v in self.edges if v==n}\n",
        "        return {v:adjacent(v) for v in self.nodes}\n",
        "\n",
        "class weighted_digraph(abstract_graph):\n",
        "    \n",
        "    def __init__(self,_edges):\n",
        "        self.edges=_edges\n",
        "        self.nodes={u for u,v in self.edges.keys()} | {v for u,v in self.edges.keys()}\n",
        "        \n",
        "    \n",
        "    def adjacency_list(self):\n",
        "        adjacent=lambda n : {v for u,v in self.edges.keys() if u==n } \n",
        "        return {v:adjacent(v) for v in self.nodes}"
      ],
      "id": "dTla1lmZEZmp",
      "execution_count": 10,
      "outputs": []
    },
    {
      "cell_type": "code",
      "metadata": {
        "id": "zOby0jDAEZmp"
      },
      "source": [
        "import heapq\n",
        "\n",
        "def prim_mst(graph,start):\n",
        "    pq, path = [], []\n",
        "    tree=[]\n",
        "    heappush(pq, (0, start))\n",
        "    adjacency=graph.adjacency_list()\n",
        "    while pq:\n",
        "        i,vertex=heappop(pq)\n",
        "        if vertex in path:\n",
        "            continue\n",
        "        print('Vertice : {0}, Prioridad {1}'.format(vertex,i))\n",
        "        path.append(vertex)\n",
        "        for neighbor in adjacency[vertex]:\n",
        "            if neighbor not in path:\n",
        "                if (vertex,neighbor) in graph.edges:\n",
        "                    heappush(pq, (graph.edges[(vertex,neighbor)], neighbor))\n",
        "                    tree.append((vertex,neighbor))\n",
        "                else:\n",
        "                    heappush(pq, (graph.edges[(neighbor,vertex)], neighbor))\n",
        "                    tree.append((neighbor,vertex))\n",
        "    return tree"
      ],
      "id": "zOby0jDAEZmp",
      "execution_count": 11,
      "outputs": []
    },
    {
      "cell_type": "code",
      "metadata": {
        "id": "IRsJFytWEZmq"
      },
      "source": [
        "E={}\n",
        "for index, row in edge_data.iterrows():\n",
        "    E.update({(str(row['InputID']), str(row['TargetID'])):row['Distance']/1000})\n"
      ],
      "id": "IRsJFytWEZmq",
      "execution_count": 12,
      "outputs": []
    },
    {
      "cell_type": "code",
      "metadata": {
        "id": "Gd6kt84zEZmq"
      },
      "source": [
        "G=weighted_graph(E)"
      ],
      "id": "Gd6kt84zEZmq",
      "execution_count": 13,
      "outputs": []
    },
    {
      "cell_type": "code",
      "metadata": {
        "id": "6IwKpbvgEZmq",
        "outputId": "d6cd8dce-3ebd-4898-b1f3-9c562b136a78",
        "colab": {
          "base_uri": "https://localhost:8080/"
        }
      },
      "source": [
        "T=prim_mst(G,'Talca')"
      ],
      "id": "6IwKpbvgEZmq",
      "execution_count": 14,
      "outputs": [
        {
          "output_type": "stream",
          "text": [
            "Vertice : Talca, Prioridad 0\n",
            "Vertice : Maule, Prioridad 13.3588466706527\n",
            "Vertice : San Rafael, Prioridad 16.6889646628228\n",
            "Vertice : Pelarco, Prioridad 16.3772167529705\n",
            "Vertice : Ro Claro, Prioridad 15.4509736161126\n",
            "Vertice : Villa Alegre, Prioridad 19.777915813341004\n",
            "Vertice : Yerbas Buenas, Prioridad 12.6247735177256\n",
            "Vertice : Sagrada Familia, Prioridad 22.0322916541346\n",
            "Vertice : Rauco, Prioridad 19.4457417606006\n",
            "Vertice : Pencahue, Prioridad 22.274137574075098\n",
            "Vertice : San Javier, Prioridad 22.941289943907798\n",
            "Vertice : Curepto, Prioridad 25.2287371519794\n",
            "Vertice : Licantn, Prioridad 19.8494699247521\n",
            "Vertice : Vichuqun, Prioridad 15.1272469654501\n",
            "Vertice : Huala, Prioridad 25.6595723154263\n",
            "Vertice : Empedrado, Prioridad 32.3928762302954\n",
            "Vertice : Chanco, Prioridad 20.518050594676\n",
            "Vertice : Pelluhue, Prioridad 26.0556688641867\n",
            "Vertice : Constitucin, Prioridad 27.777706727596097\n",
            "Vertice : Cauquenes, Prioridad 30.239877318467002\n",
            "Vertice : Molina, Prioridad 34.3081934822903\n",
            "Vertice : Curic, Prioridad 17.104121438739398\n",
            "Vertice : Romeral, Prioridad 22.178586232841297\n",
            "Vertice : Teno, Prioridad 34.6809676972725\n",
            "Vertice : Linares, Prioridad 35.445337503350295\n",
            "Vertice : Longav, Prioridad 19.5588842790063\n",
            "Vertice : Parral, Prioridad 24.8918552522387\n",
            "Vertice : Retiro, Prioridad 33.260742431663196\n",
            "Vertice : Colbn, Prioridad 34.545679777878505\n",
            "Vertice : San Clemente, Prioridad 40.279161513546995\n"
          ],
          "name": "stdout"
        }
      ]
    },
    {
      "cell_type": "code",
      "metadata": {
        "id": "KS2_IbG-EZmq",
        "outputId": "4e718fab-447a-4a1c-b068-3089c6957f8c",
        "colab": {
          "base_uri": "https://localhost:8080/"
        }
      },
      "source": [
        "v=np.sum([G.edges[t] for t in T])\n",
        "print('Prim MST valor : {0:0.2f}'.format(v))"
      ],
      "id": "KS2_IbG-EZmq",
      "execution_count": 15,
      "outputs": [
        {
          "output_type": "stream",
          "text": [
            "Prim MST valor : 35800.90\n"
          ],
          "name": "stdout"
        }
      ]
    },
    {
      "cell_type": "markdown",
      "metadata": {
        "id": "NV-UWKAeEZmq"
      },
      "source": [
        "# Simulated Annealing\n",
        "\n",
        "https://github.com/aimacode/aima-pseudocode/blob/master/md/Simulated-Annealing.md\n",
        "\n",
        "__function__ SIMULATED-ANNEALING(_problem_,_schedule_) __returns__ a solution state  \n",
        "\n",
        "&emsp;_current_ &larr; _problem_.INITIAL\\-STATE  \n",
        "&emsp;__for__ _t_ = 1 __to__ &infin;  __do__  \n",
        "&emsp;&emsp;&emsp;_T_ &larr; _schedule(t)_  \n",
        "&emsp;&emsp;&emsp;__if__ _T_ = 0 __then return__ _current_  \n",
        "&emsp;&emsp;&emsp;_next_ &larr; a randomly selected successor of _current_  \n",
        "&emsp;&emsp;&emsp;_&Delta;E_ &larr; VALUE(_next_) - VALUE(_current_)  \n",
        "&emsp;&emsp;&emsp;__if__ _&Delta;E_ > 0 __then__ _current_ &larr; _next_  \n",
        "&emsp;&emsp;&emsp;__else__ _current_ &larr; _next_ only with probability e<sup>_&Delta;E_/_T_</sup>"
      ],
      "id": "NV-UWKAeEZmq"
    },
    {
      "cell_type": "code",
      "metadata": {
        "id": "nLDo17SmEZmq"
      },
      "source": [
        "import numpy as np\n",
        "\n",
        "current=np.random.permutation(list(G.nodes))\n",
        "new=np.random.permutation(list(G.nodes))"
      ],
      "id": "nLDo17SmEZmq",
      "execution_count": 40,
      "outputs": []
    },
    {
      "cell_type": "code",
      "metadata": {
        "id": "LyaR2HZ3EZmr",
        "outputId": "c05049be-9fe0-469c-c4e4-f7e451b031c6",
        "colab": {
          "base_uri": "https://localhost:8080/"
        }
      },
      "source": [
        "current"
      ],
      "id": "LyaR2HZ3EZmr",
      "execution_count": 41,
      "outputs": [
        {
          "output_type": "execute_result",
          "data": {
            "text/plain": [
              "array(['Pencahue', 'Huala', 'Rauco', 'Licantn', 'Curic', 'Molina',\n",
              "       'Maule', 'Empedrado', 'Villa Alegre', 'Longav', 'Pelarco',\n",
              "       'Vichuqun', 'Romeral', 'San Clemente', 'Ro Claro', 'Linares',\n",
              "       'Parral', 'Curepto', 'Talca', 'Cauquenes', 'Colbn', 'Teno',\n",
              "       'Constitucin', 'San Javier', 'Sagrada Familia', 'San Rafael',\n",
              "       'Pelluhue', 'Yerbas Buenas', 'Retiro', 'Chanco'], dtype='<U15')"
            ]
          },
          "metadata": {
            "tags": []
          },
          "execution_count": 41
        }
      ]
    },
    {
      "cell_type": "code",
      "metadata": {
        "id": "XqfByUuuEZmr"
      },
      "source": [
        "def make_cycle(G,current):\n",
        "    C=list(zip(current[:-1],current[1:]))\n",
        "    C.append((current[-1],current[0]))\n",
        "    v=np.sum([G.edges[t] for t in C])\n",
        "    return C,v"
      ],
      "id": "XqfByUuuEZmr",
      "execution_count": 42,
      "outputs": []
    },
    {
      "cell_type": "code",
      "metadata": {
        "id": "S_GS-g_wGvjb"
      },
      "source": [
        "current=np.random.permutation(list(G.nodes))\n",
        "current_cycle,current_value=make_cycle(G,current)"
      ],
      "id": "S_GS-g_wGvjb",
      "execution_count": 43,
      "outputs": []
    },
    {
      "cell_type": "code",
      "metadata": {
        "id": "mx9vcfPWEZmr"
      },
      "source": [
        "def make_population(G,n_samples):\n",
        "    samples,values=list(),list()\n",
        "    for _ in range(n_samples):\n",
        "        current=np.random.permutation(list(G.nodes))\n",
        "        cycle,value=make_cycle(G,current)\n",
        "        samples.append(cycle)\n",
        "        values.append(value)\n",
        "    return samples,values"
      ],
      "id": "mx9vcfPWEZmr",
      "execution_count": 45,
      "outputs": []
    },
    {
      "cell_type": "code",
      "metadata": {
        "id": "zv9-n2ESEZmr"
      },
      "source": [
        "samples,values=make_population(G,5000)"
      ],
      "id": "zv9-n2ESEZmr",
      "execution_count": 47,
      "outputs": []
    },
    {
      "cell_type": "code",
      "metadata": {
        "id": "DzUhvghuEZmr",
        "outputId": "c8074b6e-3d28-4832-8057-f4c46817fae1",
        "colab": {
          "base_uri": "https://localhost:8080/",
          "height": 265
        }
      },
      "source": [
        "import matplotlib.pyplot as plt\n",
        "\n",
        "plt.hist(values)\n",
        "plt.show()"
      ],
      "id": "DzUhvghuEZmr",
      "execution_count": 49,
      "outputs": [
        {
          "output_type": "display_data",
          "data": {
            "image/png": "[encoded data removed]",
            "text/plain": [
              "<Figure size 432x288 with 1 Axes>"
            ]
          },
          "metadata": {
            "tags": [],
            "needs_background": "light"
          }
        }
      ]
    },
    {
      "cell_type": "code",
      "metadata": {
        "id": "QwNyLHHOEZmr"
      },
      "source": [
        "delta=max(values)-min(values)"
      ],
      "id": "QwNyLHHOEZmr",
      "execution_count": 60,
      "outputs": []
    },
    {
      "cell_type": "code",
      "metadata": {
        "id": "WoFdL3ccEZmr"
      },
      "source": [
        "import math\n",
        "\n",
        "class temperature_scheduling:\n",
        "    \n",
        "    def __init__(self,initial_temperature,min_temperature,gamma):\n",
        "        self.initial_temperature=initial_temperature\n",
        "        self.min_temperature=min_temperature\n",
        "        self.temperature=initial_temperature\n",
        "        self.gamma=gamma\n",
        "        \n",
        "    def exponential_decay(self):\n",
        "        self.temperature=self.gamma*self.temperature\n",
        "        return max(self.temperature,self.min_temperature)\n",
        "    \n",
        "    def fast_decay(self,k):\n",
        "        self.temperature=self.initial_temperature/k\n",
        "        return max(self.temperature,self.min_temperature)\n",
        "    \n",
        "    def logarithmic_decay(self,k):\n",
        "        self.temperature=self.initial_temperature*math.log(2,2)/math.log(k+1,2)\n",
        "        return max(self.temperature,self.min_temperature)"
      ],
      "id": "WoFdL3ccEZmr",
      "execution_count": 53,
      "outputs": []
    },
    {
      "cell_type": "code",
      "metadata": {
        "id": "NqKwpoWTEZms",
        "outputId": "000e870f-c31c-425c-b8c9-562194abd6ec",
        "colab": {
          "base_uri": "https://localhost:8080/",
          "height": 282
        }
      },
      "source": [
        "import pandas as pd\n",
        "epochs=int(1e3)\n",
        "\n",
        "decays={'exponential':[],'fast':[],'logarithmic':[]}\n",
        "\n",
        "temp=temperature_scheduling(delta,1e-3,0.55)\n",
        "\n",
        "for k in range(1,epochs):\n",
        "    decays['exponential'].append(temp.exponential_decay())\n",
        "    decays['fast'].append(temp.fast_decay(k))\n",
        "    decays['logarithmic'].append(temp.logarithmic_decay(k))\n",
        "\n",
        "\n",
        "pd.DataFrame(decays).plot()"
      ],
      "id": "NqKwpoWTEZms",
      "execution_count": 92,
      "outputs": [
        {
          "output_type": "execute_result",
          "data": {
            "text/plain": [
              "<matplotlib.axes._subplots.AxesSubplot at 0x7fcfd2cb4810>"
            ]
          },
          "metadata": {
            "tags": []
          },
          "execution_count": 92
        },
        {
          "output_type": "display_data",
          "data": {
            "image/png": "[encoded data removed]",
            "text/plain": [
              "<Figure size 432x288 with 1 Axes>"
            ]
          },
          "metadata": {
            "tags": [],
            "needs_background": "light"
          }
        }
      ]
    },
    {
      "cell_type": "code",
      "metadata": {
        "id": "H5KoiEmOEZms"
      },
      "source": [
        "def mutation(G,current):\n",
        "    i,j=np.random.randint(0,len(G.nodes),size=2)\n",
        "    new=current.copy()\n",
        "    new[i]=current[j]\n",
        "    new[j]=current[i]\n",
        "    return new\n",
        "\n",
        "k=0.85\n",
        "initial_temperature=1.2*(max(values)-min(values))\n",
        "min_temp=1e-4\n",
        "\n",
        "current=np.random.permutation(list(G.nodes))\n",
        "current_cycle,current_value=make_cycle(G,current)\n",
        "temp=temperature_scheduling(initial_temperature,min_temp,k)\n",
        "\n",
        "epochs=1000000\n",
        "loss=[]\n",
        "for i in range(1,epochs):\n",
        "    new=mutation(G,current)\n",
        "    next_cycle,next_value=make_cycle(G,new)\n",
        "    delta = (next_value-current_value)\n",
        "    T=temp.logarithmic_decay(i)\n",
        "    if delta>0:\n",
        "        current=new\n",
        "    else:\n",
        "        alpha=min(1,np.exp(delta/T))\n",
        "        if alpha>np.random.random():\n",
        "            current=new\n",
        "            current_value=next_value\n",
        "    loss.append(current_value)\n",
        "    "
      ],
      "id": "H5KoiEmOEZms",
      "execution_count": 82,
      "outputs": []
    },
    {
      "cell_type": "code",
      "metadata": {
        "id": "orCfAgCZEZms",
        "outputId": "2361a659-6e25-487f-abff-bb3419302147",
        "colab": {
          "base_uri": "https://localhost:8080/",
          "height": 278
        }
      },
      "source": [
        "import matplotlib.pyplot as plt\n",
        "\n",
        "plt.plot(loss)\n",
        "plt.show()"
      ],
      "id": "orCfAgCZEZms",
      "execution_count": 83,
      "outputs": [
        {
          "output_type": "display_data",
          "data": {
            "image/png": "[encoded data removed]",
            "text/plain": [
              "<Figure size 432x288 with 1 Axes>"
            ]
          },
          "metadata": {
            "tags": [],
            "needs_background": "light"
          }
        }
      ]
    },
    {
      "cell_type": "code",
      "metadata": {
        "id": "HydkPiC-EZms",
        "outputId": "00091902-0503-4025-bbce-9dc0516b9f35",
        "colab": {
          "base_uri": "https://localhost:8080/"
        }
      },
      "source": [
        "current,current_value"
      ],
      "id": "HydkPiC-EZms",
      "execution_count": 84,
      "outputs": [
        {
          "output_type": "execute_result",
          "data": {
            "text/plain": [
              "(array(['Constitucin', 'Linares', 'Molina', 'Curic', 'Empedrado',\n",
              "        'Cauquenes', 'San Clemente', 'Curepto', 'Retiro', 'San Javier',\n",
              "        'Talca', 'Huala', 'Parral', 'Pelarco', 'Vichuqun', 'Romeral',\n",
              "        'Sagrada Familia', 'San Rafael', 'Yerbas Buenas', 'Maule',\n",
              "        'Pelluhue', 'Teno', 'Longav', 'Rauco', 'Chanco', 'Colbn',\n",
              "        'Licantn', 'Villa Alegre', 'Pencahue', 'Ro Claro'], dtype='<U15'),\n",
              " 1722.4613818362577)"
            ]
          },
          "metadata": {
            "tags": []
          },
          "execution_count": 84
        }
      ]
    },
    {
      "cell_type": "code",
      "metadata": {
        "id": "ADZmFHBKEZms",
        "outputId": "873801fb-860f-4f61-f269-16eea407bd52",
        "colab": {
          "base_uri": "https://localhost:8080/"
        }
      },
      "source": [
        "current,current_value"
      ],
      "id": "ADZmFHBKEZms",
      "execution_count": 68,
      "outputs": [
        {
          "output_type": "execute_result",
          "data": {
            "text/plain": [
              "(array(['Villa Alegre', 'Huala', 'Rauco', 'Retiro', 'Pelluhue', 'Molina',\n",
              "        'Licantn', 'Vichuqun', 'Constitucin', 'Talca', 'Curic', 'Parral',\n",
              "        'Pencahue', 'Maule', 'Empedrado', 'Cauquenes', 'Colbn', 'Romeral',\n",
              "        'Linares', 'Ro Claro', 'Teno', 'Yerbas Buenas', 'Curepto',\n",
              "        'Longav', 'San Javier', 'San Clemente', 'Sagrada Familia',\n",
              "        'Chanco', 'Pelarco', 'San Rafael'], dtype='<U15'), 1535.9605869789748)"
            ]
          },
          "metadata": {
            "tags": []
          },
          "execution_count": 68
        }
      ]
    },
    {
      "cell_type": "markdown",
      "metadata": {
        "id": "ZIMqZnI5EZms"
      },
      "source": [
        "# Genetic Programming\n",
        "\n",
        "https://github.com/aimacode/aima-pseudocode/blob/master/md/Genetic-Algorithm.md\n",
        "\n",
        "__function__ GENETIC-ALGORITHM(_population_, FITNESS\\-FN) __returns__ an individual  \n",
        "&emsp;__inputs__: _population_, the initial random population of individuals  \n",
        "&emsp;&emsp;&emsp;&emsp;FITNESS\\-FN, a function that measures the fitness of an individual  \n",
        "\n",
        "&emsp;__repeat__  \n",
        "&emsp;&emsp;&emsp;_population_ &larr; [MUTATE(RECOMBINE(SELECT(2, _population_, FITNESS\\-FN)))  \n",
        "&emsp;&emsp;&emsp;&emsp;&emsp;&emsp;&emsp;&emsp;&emsp;&emsp;__for__ _i_ __in__ _population_]  \n",
        "&emsp;__until__ some individual is fit enough, or enough time has elapsed  \n",
        "&emsp;__return__ the best individual in _population_, according to FITNESS\\-FN  \n",
        "\n",
        "---\n",
        "__function__ SELECT(ρ, _population_, FITNESS\\-FN) __returns__ a set of ρ individuals  \n",
        "&emsp;_selection_ &larr; a uniform random sample of 2 * ρ individuals from _population_  \n",
        "&emsp;__return__ the top ρ individuals in _selection_, ranked by FITNESS\\-FN  \n",
        "\n",
        "---\n",
        "__function__ RECOMBINE(_x_, _y_) __returns__ an individual  \n",
        "&emsp;__inputs__: _x_,_y_, parent individuals  \n",
        "  \n",
        "&emsp;_n_ &larr; LENGTH(_x_)  \n",
        "&emsp;_crossover_ &larr; random integer from 0 to _n_  \n",
        "&emsp;__return__ APPEND(_x_\\[0:_crossover_\\], _y_\\[_crossover_: _n_\\])  \n",
        "\n",
        "---\n"
      ],
      "id": "ZIMqZnI5EZms"
    },
    {
      "cell_type": "code",
      "metadata": {
        "id": "qqzslt3bEZmt"
      },
      "source": [
        "samples,values=make_population(G,1000)"
      ],
      "id": "qqzslt3bEZmt",
      "execution_count": null,
      "outputs": []
    },
    {
      "cell_type": "code",
      "metadata": {
        "id": "Q68CjkX8EZmt",
        "outputId": "ab7cbec9-3045-4f06-911d-1fd95e54441e"
      },
      "source": [
        "plt.hist(values)\n",
        "plt.show()"
      ],
      "id": "Q68CjkX8EZmt",
      "execution_count": null,
      "outputs": [
        {
          "output_type": "display_data",
          "data": {
            "image/png": "[encoded data removed]",
            "text/plain": [
              "<Figure size 432x288 with 1 Axes>"
            ]
          },
          "metadata": {
            "tags": [],
            "needs_background": "light"
          }
        }
      ]
    },
    {
      "cell_type": "code",
      "metadata": {
        "id": "r-kwsh9_EZmt"
      },
      "source": [
        "norm_values=[(v-min(values))/(max(values)-min(values)) for v in values]"
      ],
      "id": "r-kwsh9_EZmt",
      "execution_count": null,
      "outputs": []
    },
    {
      "cell_type": "code",
      "metadata": {
        "id": "4JZyj_t7EZmt",
        "outputId": "999a8b4c-b0ef-4299-adaa-8a847ee09c32"
      },
      "source": [
        "plt.hist(norm_values)\n",
        "plt.show()"
      ],
      "id": "4JZyj_t7EZmt",
      "execution_count": null,
      "outputs": [
        {
          "output_type": "display_data",
          "data": {
            "image/png": "[encoded data removed]",
            "text/plain": [
              "<Figure size 432x288 with 1 Axes>"
            ]
          },
          "metadata": {
            "tags": [],
            "needs_background": "light"
          }
        }
      ]
    },
    {
      "cell_type": "code",
      "metadata": {
        "id": "UcocHn-OEZmt"
      },
      "source": [
        "norm_values=[v/sum(norm_values) for v in norm_values]"
      ],
      "id": "UcocHn-OEZmt",
      "execution_count": null,
      "outputs": []
    },
    {
      "cell_type": "code",
      "metadata": {
        "id": "pRj6tBV5EZmt",
        "outputId": "a435fe72-14b5-474d-c658-4d6b1026998b"
      },
      "source": [
        "plt.hist(norm_values)\n",
        "plt.show()"
      ],
      "id": "pRj6tBV5EZmt",
      "execution_count": null,
      "outputs": [
        {
          "output_type": "display_data",
          "data": {
            "image/png": "[encoded data removed]",
            "text/plain": [
              "<Figure size 432x288 with 1 Axes>"
            ]
          },
          "metadata": {
            "tags": [],
            "needs_background": "light"
          }
        }
      ]
    },
    {
      "cell_type": "code",
      "metadata": {
        "id": "enec0MPKEZmt"
      },
      "source": [
        "fitness=np.random.choice(list(range(len(samples))),size=len(samples),replace=True,p=norm_values)"
      ],
      "id": "enec0MPKEZmt",
      "execution_count": null,
      "outputs": []
    },
    {
      "cell_type": "code",
      "metadata": {
        "id": "8IEuUD1pEZmt"
      },
      "source": [
        "def make_population(G,n_samples):\n",
        "    samples,values=list(),list()\n",
        "    for _ in range(n_samples):\n",
        "        current=np.random.permutation(list(G.nodes))\n",
        "        cycle,value=make_cycle(G,current)\n",
        "        samples.append(current)\n",
        "        values.append(value)\n",
        "    return samples,values\n",
        "\n",
        "def mutation(G,current):\n",
        "    i,j=np.random.randint(1,len(G.nodes),size=2)\n",
        "    new=current.copy()\n",
        "    new[i]=current[j]\n",
        "    new[j]=current[i]\n",
        "    return new\n",
        "\n",
        "def select(samples,values):\n",
        "    norm_values=[(v-min(values))/(max(values)-min(values)) for v in values]\n",
        "    norm_values=[v/sum(norm_values) for v in norm_values]\n",
        "    fitness=np.random.choice(list(range(len(samples))),size=len(samples),replace=True,p=norm_values)\n",
        "    survival=[samples[f] for f in fitness]\n",
        "    new_val=[values[f] for f in fitness]\n",
        "    return survival,new_val\n",
        "\n",
        "samples,values=make_population(G,100)\n",
        "survival,values=select(samples,values)\n",
        "#current_cycle,current_value=make_cycle(current)\n",
        "\n"
      ],
      "id": "8IEuUD1pEZmt",
      "execution_count": null,
      "outputs": []
    },
    {
      "cell_type": "code",
      "metadata": {
        "id": "C5YPSCVJEZmu"
      },
      "source": [
        "\n",
        "epochs=100000\n",
        "loss=[]\n",
        "for i in range(1,epochs):\n",
        "    values=list()\n",
        "    for j in range(len(survival)):\n",
        "        current=survival[j]\n",
        "        survival[j]=mutation(G,current)\n",
        "        survival_cycle,survival_value=make_cycle(G,survival[j])\n",
        "        values.append(survival_value)\n",
        "    survival,values=select(survival,values)\n",
        "    loss.append(min(values))"
      ],
      "id": "C5YPSCVJEZmu",
      "execution_count": null,
      "outputs": []
    },
    {
      "cell_type": "raw",
      "metadata": {
        "id": "cVQIxooZEZmu"
      },
      "source": [
        "import matplotlib.pyplot as plt\n",
        "\n",
        "plt.plot(loss)\n",
        "plt.show()"
      ],
      "id": "cVQIxooZEZmu"
    },
    {
      "cell_type": "code",
      "metadata": {
        "id": "nprjObZiEZmu",
        "outputId": "17ce215a-5dfc-4360-d25f-09dddcd4fef9"
      },
      "source": [
        "loss[-1]"
      ],
      "id": "nprjObZiEZmu",
      "execution_count": null,
      "outputs": [
        {
          "output_type": "execute_result",
          "data": {
            "text/plain": [
              "2.532433775315792"
            ]
          },
          "metadata": {
            "tags": []
          },
          "execution_count": 74
        }
      ]
    },
    {
      "cell_type": "code",
      "metadata": {
        "id": "dRTmgK37EZmu"
      },
      "source": [
        ""
      ],
      "id": "dRTmgK37EZmu",
      "execution_count": null,
      "outputs": []
    }
  ]
}