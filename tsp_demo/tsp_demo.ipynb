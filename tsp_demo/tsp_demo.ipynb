{
  "nbformat": 4,
  "nbformat_minor": 5,
  "metadata": {
    "kernelspec": {
      "display_name": "Python 3",
      "language": "python",
      "name": "python3"
    },
    "language_info": {
      "codemirror_mode": {
        "name": "ipython",
        "version": 3
      },
      "file_extension": ".py",
      "mimetype": "text/x-python",
      "name": "python",
      "nbconvert_exporter": "python",
      "pygments_lexer": "ipython3",
      "version": "3.9.2"
    },
    "colab": {
      "name": "tsp_demo.ipynb",
      "provenance": []
    }
  },
  "cells": [
    {
      "cell_type": "markdown",
      "metadata": {
        "id": "5f8c6646"
      },
      "source": [
        "# Simulated Annealing TSP"
      ],
      "id": "5f8c6646"
    },
    {
      "cell_type": "code",
      "metadata": {
        "id": "8e0a10a8"
      },
      "source": [
        "import pandas as pd"
      ],
      "id": "8e0a10a8",
      "execution_count": 2,
      "outputs": []
    },
    {
      "cell_type": "code",
      "metadata": {
        "id": "435b6f7a"
      },
      "source": [
        "def load_nodes(path):\n",
        "    df=pd.read_csv(path)\n",
        "    df.rename({'X':'lon','Y':'lat'},axis='columns',inplace=True)\n",
        "    return df\n",
        "\n",
        "def load_data(path):\n",
        "    df=pd.read_csv(path, encoding = 'utf-8',dtype={'InputID':'string','TargetID':'string','Distance':float}) \n",
        "    df['InputID'] = df['InputID'].apply(lambda x: x.encode('ascii', 'ignore').decode('ascii'))\n",
        "    df['TargetID'] = df['TargetID'].apply(lambda x: x.encode('ascii', 'ignore').decode('ascii'))\n",
        "    #df['TargetID']=df['TargetID'].astype('category')\n",
        "    #df['InputID']=df['InputID'].astype('category')\n",
        "    return df"
      ],
      "id": "435b6f7a",
      "execution_count": 4,
      "outputs": []
    },
    {
      "cell_type": "code",
      "metadata": {
        "id": "4d084a98"
      },
      "source": [
        "dist_path='https://raw.githubusercontent.com/sherna90/analisis_algoritmos/master/tsp_demo/data/distancias_maule.csv'\n",
        "edge_data=load_data(dist_path)\n",
        "nodes_path='https://raw.githubusercontent.com/sherna90/analisis_algoritmos/master/tsp_demo/data/comunas_maule.csv'\n",
        "node_data=load_nodes(nodes_path)"
      ],
      "id": "4d084a98",
      "execution_count": 5,
      "outputs": []
    },
    {
      "cell_type": "code",
      "metadata": {
        "id": "d6fbf505",
        "outputId": "fca12892-4879-42dc-837f-18c3e8ca6066",
        "colab": {
          "base_uri": "https://localhost:8080/",
          "height": 195
        }
      },
      "source": [
        "node_data.head()"
      ],
      "id": "d6fbf505",
      "execution_count": 6,
      "outputs": [
        {
          "output_type": "execute_result",
          "data": {
            "text/html": [
              "<div>\n",
              "<style scoped>\n",
              "    .dataframe tbody tr th:only-of-type {\n",
              "        vertical-align: middle;\n",
              "    }\n",
              "\n",
              "    .dataframe tbody tr th {\n",
              "        vertical-align: top;\n",
              "    }\n",
              "\n",
              "    .dataframe thead th {\n",
              "        text-align: right;\n",
              "    }\n",
              "</style>\n",
              "<table border=\"1\" class=\"dataframe\">\n",
              "  <thead>\n",
              "    <tr style=\"text-align: right;\">\n",
              "      <th></th>\n",
              "      <th>lon</th>\n",
              "      <th>lat</th>\n",
              "      <th>Z</th>\n",
              "      <th>objectid</th>\n",
              "      <th>shape_leng</th>\n",
              "      <th>dis_elec</th>\n",
              "      <th>cir_sena</th>\n",
              "      <th>cod_comuna</th>\n",
              "      <th>codregion</th>\n",
              "      <th>st_area_sh</th>\n",
              "      <th>st_length_</th>\n",
              "      <th>Region</th>\n",
              "      <th>Comuna</th>\n",
              "      <th>Provincia</th>\n",
              "    </tr>\n",
              "  </thead>\n",
              "  <tbody>\n",
              "    <tr>\n",
              "      <th>0</th>\n",
              "      <td>-71.953081</td>\n",
              "      <td>-35.129891</td>\n",
              "      <td>0</td>\n",
              "      <td>279</td>\n",
              "      <td>191493.545385</td>\n",
              "      <td>17</td>\n",
              "      <td>9</td>\n",
              "      <td>7103</td>\n",
              "      <td>7</td>\n",
              "      <td>1.602501e+09</td>\n",
              "      <td>234347.693056</td>\n",
              "      <td>Región del Maule</td>\n",
              "      <td>Curepto</td>\n",
              "      <td>Talca</td>\n",
              "    </tr>\n",
              "    <tr>\n",
              "      <th>1</th>\n",
              "      <td>-72.284260</td>\n",
              "      <td>-35.613610</td>\n",
              "      <td>0</td>\n",
              "      <td>280</td>\n",
              "      <td>142724.349430</td>\n",
              "      <td>17</td>\n",
              "      <td>9</td>\n",
              "      <td>7104</td>\n",
              "      <td>7</td>\n",
              "      <td>8.575285e+08</td>\n",
              "      <td>175634.266010</td>\n",
              "      <td>Región del Maule</td>\n",
              "      <td>Empedrado</td>\n",
              "      <td>Talca</td>\n",
              "    </tr>\n",
              "    <tr>\n",
              "      <th>2</th>\n",
              "      <td>-71.816301</td>\n",
              "      <td>-35.327665</td>\n",
              "      <td>0</td>\n",
              "      <td>283</td>\n",
              "      <td>176274.410596</td>\n",
              "      <td>17</td>\n",
              "      <td>9</td>\n",
              "      <td>7107</td>\n",
              "      <td>7</td>\n",
              "      <td>1.437081e+09</td>\n",
              "      <td>216188.830744</td>\n",
              "      <td>Región del Maule</td>\n",
              "      <td>Pencahue</td>\n",
              "      <td>Talca</td>\n",
              "    </tr>\n",
              "    <tr>\n",
              "      <th>3</th>\n",
              "      <td>-71.331995</td>\n",
              "      <td>-35.958516</td>\n",
              "      <td>0</td>\n",
              "      <td>271</td>\n",
              "      <td>288033.759891</td>\n",
              "      <td>18</td>\n",
              "      <td>9</td>\n",
              "      <td>7401</td>\n",
              "      <td>7</td>\n",
              "      <td>2.245999e+09</td>\n",
              "      <td>356106.042176</td>\n",
              "      <td>Región del Maule</td>\n",
              "      <td>Linares</td>\n",
              "      <td>Linares</td>\n",
              "    </tr>\n",
              "    <tr>\n",
              "      <th>4</th>\n",
              "      <td>-71.441142</td>\n",
              "      <td>-36.110871</td>\n",
              "      <td>0</td>\n",
              "      <td>272</td>\n",
              "      <td>267604.712137</td>\n",
              "      <td>18</td>\n",
              "      <td>9</td>\n",
              "      <td>7403</td>\n",
              "      <td>7</td>\n",
              "      <td>2.231920e+09</td>\n",
              "      <td>331498.941045</td>\n",
              "      <td>Región del Maule</td>\n",
              "      <td>Longaví</td>\n",
              "      <td>Linares</td>\n",
              "    </tr>\n",
              "  </tbody>\n",
              "</table>\n",
              "</div>"
            ],
            "text/plain": [
              "         lon        lat  Z  ...            Region     Comuna  Provincia\n",
              "0 -71.953081 -35.129891  0  ...  Región del Maule    Curepto      Talca\n",
              "1 -72.284260 -35.613610  0  ...  Región del Maule  Empedrado      Talca\n",
              "2 -71.816301 -35.327665  0  ...  Región del Maule   Pencahue      Talca\n",
              "3 -71.331995 -35.958516  0  ...  Región del Maule    Linares    Linares\n",
              "4 -71.441142 -36.110871  0  ...  Región del Maule    Longaví    Linares\n",
              "\n",
              "[5 rows x 14 columns]"
            ]
          },
          "metadata": {
            "tags": []
          },
          "execution_count": 6
        }
      ]
    },
    {
      "cell_type": "code",
      "metadata": {
        "id": "cbc34446",
        "outputId": "55c87bd6-6d1a-4553-9530-32f2707b76ed"
      },
      "source": [
        "edge_data.iloc[1]"
      ],
      "id": "cbc34446",
      "execution_count": null,
      "outputs": [
        {
          "output_type": "execute_result",
          "data": {
            "text/plain": [
              "InputID          Curepto\n",
              "TargetID           Rauco\n",
              "Distance    52563.813577\n",
              "Name: 1, dtype: object"
            ]
          },
          "metadata": {
            "tags": []
          },
          "execution_count": 39
        }
      ]
    },
    {
      "cell_type": "code",
      "metadata": {
        "id": "bd0920d5"
      },
      "source": [
        "import numpy as np\n",
        "from math import radians, cos, sin, asin, sqrt\n",
        "\n",
        "def haversine(lon1, lat1, lon2, lat2):\n",
        "    lon1, lat1, lon2, lat2 = map(radians, [lon1, lat1, lon2, lat2])\n",
        "    dlon = lon2 - lon1 \n",
        "    dlat = lat2 - lat1 \n",
        "    a = sin(dlat/2)**2 + cos(lat1) * cos(lat2) * sin(dlon/2)**2\n",
        "    c = 2 * asin(sqrt(a)) \n",
        "    r = 6371 # Radius of earth in kilometers. Use 3956 for miles\n",
        "    return c * r *1000"
      ],
      "id": "bd0920d5",
      "execution_count": null,
      "outputs": []
    },
    {
      "cell_type": "code",
      "metadata": {
        "id": "ea7ea0b6"
      },
      "source": [
        "get_lon_lat = lambda comuna : node_data[node_data['Comuna']==comuna][['lon','lat']].values[0]"
      ],
      "id": "ea7ea0b6",
      "execution_count": null,
      "outputs": []
    },
    {
      "cell_type": "code",
      "metadata": {
        "id": "9ee9aa4e"
      },
      "source": [
        "p1=get_lon_lat('Curepto')\n",
        "p2=get_lon_lat('Rauco')"
      ],
      "id": "9ee9aa4e",
      "execution_count": null,
      "outputs": []
    },
    {
      "cell_type": "code",
      "metadata": {
        "id": "8ca6e3aa",
        "outputId": "af511172-7fd4-4607-fd32-031f8f25d85d"
      },
      "source": [
        "haversine(p1[0], p1[1], p2[0], p2[1])"
      ],
      "id": "8ca6e3aa",
      "execution_count": null,
      "outputs": [
        {
          "output_type": "execute_result",
          "data": {
            "text/plain": [
              "52485.881620759625"
            ]
          },
          "metadata": {
            "tags": []
          },
          "execution_count": 50
        }
      ]
    },
    {
      "cell_type": "code",
      "metadata": {
        "id": "fb8a4721"
      },
      "source": [
        "import numpy as np\n",
        "from heapq import heappush,heappop\n",
        "\n",
        "class abstract_graph:\n",
        "    \n",
        "    def __init__(self,_edges):\n",
        "        self.edges=_edges\n",
        "        self.nodes={u for u,v in self.edges} | {v for u,v in self.edges}\n",
        "        \n",
        "    def adjacency_matrix(self):\n",
        "        pass\n",
        "    \n",
        "    def adjacency_list(self):\n",
        "        pass\n",
        "\n",
        "    \n",
        "class simple_graph(abstract_graph):\n",
        "    \n",
        "    def adjacency_list(self):\n",
        "        adjacent=lambda n : {v for u,v in self.edges if u==n } | {u for u,v in self.edges if v==n}\n",
        "        return {v:adjacent(v) for v in self.nodes}\n",
        "    \n",
        "\n",
        "    \n",
        "class weighted_graph(abstract_graph):\n",
        "    \n",
        "    def __init__(self,_edges):\n",
        "        self.edges=_edges\n",
        "        self.nodes={u for u,v in self.edges.keys()} | {v for u,v in self.edges.keys()}\n",
        "        \n",
        "    def adjacency_matrix(self):\n",
        "        n=len(self.nodes)\n",
        "        mat=np.zeros((n,n))\n",
        "        adjacent=lambda x : [1 if x==v else 0 for (u,v) in enumerate(sorted(list(G.nodes))) ]\n",
        "        L=self.adjacency_list()\n",
        "        i=0\n",
        "        for v in sorted(list(G.nodes)):\n",
        "            for l in L[v]:\n",
        "                mat[i,]+=adjacent(l)\n",
        "            i=i+1\n",
        "        return mat\n",
        "    \n",
        "    def adjacency_list(self):\n",
        "        adjacent=lambda n : {v for u,v in self.edges.keys() if u==n } | {u for u,v in self.edges if v==n}\n",
        "        return {v:adjacent(v) for v in self.nodes}\n",
        "\n",
        "class weighted_digraph(abstract_graph):\n",
        "    \n",
        "    def __init__(self,_edges):\n",
        "        self.edges=_edges\n",
        "        self.nodes={u for u,v in self.edges.keys()} | {v for u,v in self.edges.keys()}\n",
        "        \n",
        "    \n",
        "    def adjacency_list(self):\n",
        "        adjacent=lambda n : {v for u,v in self.edges.keys() if u==n } \n",
        "        return {v:adjacent(v) for v in self.nodes}"
      ],
      "id": "fb8a4721",
      "execution_count": null,
      "outputs": []
    },
    {
      "cell_type": "code",
      "metadata": {
        "id": "792df525"
      },
      "source": [
        "import heapq\n",
        "\n",
        "def prim_mst(graph,start):\n",
        "    pq, path = [], []\n",
        "    tree=[]\n",
        "    heappush(pq, (0, start))\n",
        "    adjacency=graph.adjacency_list()\n",
        "    while pq:\n",
        "        i,vertex=heappop(pq)\n",
        "        if vertex in path:\n",
        "            continue\n",
        "        print('Vertice : {0}, Prioridad {1}'.format(vertex,i))\n",
        "        path.append(vertex)\n",
        "        for neighbor in adjacency[vertex]:\n",
        "            if neighbor not in path:\n",
        "                if (vertex,neighbor) in graph.edges:\n",
        "                    heappush(pq, (graph.edges[(vertex,neighbor)], neighbor))\n",
        "                    tree.append((vertex,neighbor))\n",
        "                else:\n",
        "                    heappush(pq, (graph.edges[(neighbor,vertex)], neighbor))\n",
        "                    tree.append((neighbor,vertex))\n",
        "    return tree"
      ],
      "id": "792df525",
      "execution_count": null,
      "outputs": []
    },
    {
      "cell_type": "code",
      "metadata": {
        "id": "12e27a76"
      },
      "source": [
        "E={}\n",
        "for index, row in edge_data.iterrows():\n",
        "    E.update({(str(row['InputID']), str(row['TargetID'])):row['Distance']/1000})\n"
      ],
      "id": "12e27a76",
      "execution_count": null,
      "outputs": []
    },
    {
      "cell_type": "code",
      "metadata": {
        "id": "e80b2b6b"
      },
      "source": [
        "G=weighted_graph(E)"
      ],
      "id": "e80b2b6b",
      "execution_count": null,
      "outputs": []
    },
    {
      "cell_type": "code",
      "metadata": {
        "id": "14c87897",
        "outputId": "2181b2c3-b957-4b4a-9196-17c062144737"
      },
      "source": [
        "T=prim_mst(G,'Talca')"
      ],
      "id": "14c87897",
      "execution_count": null,
      "outputs": [
        {
          "output_type": "stream",
          "text": [
            "Vertice : Talca, Prioridad 0\n",
            "Vertice : Maule, Prioridad 13.3588466706527\n",
            "Vertice : San Rafael, Prioridad 16.6889646628228\n",
            "Vertice : Pelarco, Prioridad 16.3772167529705\n",
            "Vertice : Ro Claro, Prioridad 15.4509736161126\n",
            "Vertice : Villa Alegre, Prioridad 19.777915813341\n",
            "Vertice : Yerbas Buenas, Prioridad 12.6247735177256\n",
            "Vertice : Sagrada Familia, Prioridad 22.0322916541346\n",
            "Vertice : Rauco, Prioridad 19.445741760600598\n",
            "Vertice : Pencahue, Prioridad 22.274137574075098\n",
            "Vertice : San Javier, Prioridad 22.941289943907798\n",
            "Vertice : Curepto, Prioridad 25.2287371519794\n",
            "Vertice : Licantn, Prioridad 19.8494699247521\n",
            "Vertice : Vichuqun, Prioridad 15.1272469654501\n",
            "Vertice : Huala, Prioridad 25.6595723154263\n",
            "Vertice : Empedrado, Prioridad 32.3928762302954\n",
            "Vertice : Chanco, Prioridad 20.518050594675998\n",
            "Vertice : Pelluhue, Prioridad 26.0556688641867\n",
            "Vertice : Constitucin, Prioridad 27.7777067275961\n",
            "Vertice : Cauquenes, Prioridad 30.239877318467\n",
            "Vertice : Molina, Prioridad 34.3081934822903\n",
            "Vertice : Curic, Prioridad 17.104121438739398\n",
            "Vertice : Romeral, Prioridad 22.178586232841297\n",
            "Vertice : Teno, Prioridad 34.6809676972725\n",
            "Vertice : Linares, Prioridad 35.4453375033503\n",
            "Vertice : Longav, Prioridad 19.5588842790063\n",
            "Vertice : Parral, Prioridad 24.8918552522387\n",
            "Vertice : Retiro, Prioridad 33.2607424316632\n",
            "Vertice : Colbn, Prioridad 34.5456797778785\n",
            "Vertice : San Clemente, Prioridad 40.279161513546995\n"
          ],
          "name": "stdout"
        }
      ]
    },
    {
      "cell_type": "code",
      "metadata": {
        "id": "0a9931d0",
        "outputId": "6cadc94c-71b2-4516-dc69-b6f53b4ff261"
      },
      "source": [
        "v=np.sum([G.edges[t] for t in T])\n",
        "print('Prim MST valor : {0:0.2f}'.format(v))"
      ],
      "id": "0a9931d0",
      "execution_count": null,
      "outputs": [
        {
          "output_type": "stream",
          "text": [
            "Prim MST valor : 35800.90\n"
          ],
          "name": "stdout"
        }
      ]
    },
    {
      "cell_type": "markdown",
      "metadata": {
        "id": "f2a2c02c"
      },
      "source": [
        "# Simulated Annealing\n",
        "\n",
        "https://github.com/aimacode/aima-pseudocode/blob/master/md/Simulated-Annealing.md\n",
        "\n",
        "__function__ SIMULATED-ANNEALING(_problem_,_schedule_) __returns__ a solution state  \n",
        "\n",
        "&emsp;_current_ &larr; _problem_.INITIAL\\-STATE  \n",
        "&emsp;__for__ _t_ = 1 __to__ &infin;  __do__  \n",
        "&emsp;&emsp;&emsp;_T_ &larr; _schedule(t)_  \n",
        "&emsp;&emsp;&emsp;__if__ _T_ = 0 __then return__ _current_  \n",
        "&emsp;&emsp;&emsp;_next_ &larr; a randomly selected successor of _current_  \n",
        "&emsp;&emsp;&emsp;_&Delta;E_ &larr; VALUE(_next_) - VALUE(_current_)  \n",
        "&emsp;&emsp;&emsp;__if__ _&Delta;E_ > 0 __then__ _current_ &larr; _next_  \n",
        "&emsp;&emsp;&emsp;__else__ _current_ &larr; _next_ only with probability e<sup>_&Delta;E_/_T_</sup>"
      ],
      "id": "f2a2c02c"
    },
    {
      "cell_type": "code",
      "metadata": {
        "id": "6a1dd0be"
      },
      "source": [
        "import numpy as np\n",
        "\n",
        "current=np.random.permutation(list(G.nodes))\n",
        "new=np.random.permutation(list(G.nodes))"
      ],
      "id": "6a1dd0be",
      "execution_count": null,
      "outputs": []
    },
    {
      "cell_type": "code",
      "metadata": {
        "id": "e2aa77f5",
        "outputId": "70864c0d-7efe-4e34-ac00-02f266ea015b"
      },
      "source": [
        "current"
      ],
      "id": "e2aa77f5",
      "execution_count": null,
      "outputs": [
        {
          "output_type": "execute_result",
          "data": {
            "text/plain": [
              "array(['San Rafael', 'Villa Alegre', 'Pelluhue', 'Romeral', 'Constitucin',\n",
              "       'San Clemente', 'Cauquenes', 'Molina', 'Curic', 'Talca', 'Curepto',\n",
              "       'Huala', 'Vichuqun', 'Maule', 'Yerbas Buenas', 'Empedrado',\n",
              "       'Sagrada Familia', 'Pencahue', 'Rauco', 'Chanco', 'Longav',\n",
              "       'Ro Claro', 'San Javier', 'Teno', 'Retiro', 'Parral', 'Licantn',\n",
              "       'Colbn', 'Pelarco', 'Linares'], dtype='<U15')"
            ]
          },
          "metadata": {
            "tags": []
          },
          "execution_count": 102
        }
      ]
    },
    {
      "cell_type": "code",
      "metadata": {
        "id": "8840db83"
      },
      "source": [
        "def make_cycle(current):\n",
        "    C=list(zip(current[:-1],current[1:]))\n",
        "    C.append((current[-1],current[0]))\n",
        "    v=np.sum([G.edges[t] for t in C])\n",
        "    return C,v/1000"
      ],
      "id": "8840db83",
      "execution_count": null,
      "outputs": []
    },
    {
      "cell_type": "code",
      "metadata": {
        "id": "e28cf61a"
      },
      "source": [
        "k=0.9999\n",
        "T=1.\n",
        "\n",
        "current=np.random.permutation(list(G.nodes))\n",
        "current_cycle,current_value=make_cycle(current)\n",
        "epochs=10000\n",
        "loss=[]\n",
        "for i in range(epochs):\n",
        "    new=np.random.permutation(list(G.nodes))\n",
        "    next_cycle,next_value=make_cycle(new)\n",
        "    delta = (current_value-next_value)\n",
        "    if delta>0:\n",
        "        current=new\n",
        "    else:\n",
        "        alpha=min(1,np.exp(delta/T))\n",
        "        if alpha>np.random.random():\n",
        "            current=new\n",
        "            current_value=next_value\n",
        "    T=k*T\n",
        "    loss.append(current_value)\n",
        "    "
      ],
      "id": "e28cf61a",
      "execution_count": null,
      "outputs": []
    },
    {
      "cell_type": "code",
      "metadata": {
        "id": "2105fc40",
        "outputId": "ebb1d966-283c-47aa-a397-4c09b34cd85e"
      },
      "source": [
        "import matplotlib.pyplot as plt\n",
        "\n",
        "plt.plot(loss)\n",
        "plt.show()"
      ],
      "id": "2105fc40",
      "execution_count": null,
      "outputs": [
        {
          "output_type": "display_data",
          "data": {
            "image/png": "[encoded data removed]",
            "text/plain": [
              "<Figure size 432x288 with 1 Axes>"
            ]
          },
          "metadata": {
            "tags": [],
            "needs_background": "light"
          }
        }
      ]
    },
    {
      "cell_type": "code",
      "metadata": {
        "id": "74f0c87c",
        "outputId": "5cb3545b-4ed3-4e8f-c0a8-575976f3a14d"
      },
      "source": [
        "current,current_value"
      ],
      "id": "74f0c87c",
      "execution_count": null,
      "outputs": [
        {
          "output_type": "execute_result",
          "data": {
            "text/plain": [
              "(array(['Villa Alegre', 'Maule', 'Curepto', 'Retiro', 'San Rafael',\n",
              "        'Linares', 'Licantn', 'Vichuqun', 'Ro Claro', 'Teno',\n",
              "        'Constitucin', 'Huala', 'Parral', 'Longav', 'Colbn',\n",
              "        'Sagrada Familia', 'Molina', 'San Clemente', 'Romeral',\n",
              "        'Yerbas Buenas', 'San Javier', 'Pelluhue', 'Chanco', 'Empedrado',\n",
              "        'Pelarco', 'Pencahue', 'Curic', 'Rauco', 'Cauquenes', 'Talca'],\n",
              "       dtype='<U15'),\n",
              " 3.014902350394983)"
            ]
          },
          "metadata": {
            "tags": []
          },
          "execution_count": 186
        }
      ]
    },
    {
      "cell_type": "code",
      "metadata": {
        "id": "c6da6542",
        "outputId": "e029f6a4-8c26-474e-8884-d26f79821053"
      },
      "source": [
        "current,current_value"
      ],
      "id": "c6da6542",
      "execution_count": null,
      "outputs": [
        {
          "output_type": "execute_result",
          "data": {
            "text/plain": [
              "(array(['Villa Alegre', 'Maule', 'Curepto', 'Retiro', 'San Rafael',\n",
              "        'Linares', 'Licantn', 'Vichuqun', 'Ro Claro', 'Teno',\n",
              "        'Constitucin', 'Huala', 'Parral', 'Longav', 'Colbn',\n",
              "        'Sagrada Familia', 'Molina', 'San Clemente', 'Romeral',\n",
              "        'Yerbas Buenas', 'San Javier', 'Pelluhue', 'Chanco', 'Empedrado',\n",
              "        'Pelarco', 'Pencahue', 'Curic', 'Rauco', 'Cauquenes', 'Talca'],\n",
              "       dtype='<U15'),\n",
              " 3.014902350394983)"
            ]
          },
          "metadata": {
            "tags": []
          },
          "execution_count": 188
        }
      ]
    },
    {
      "cell_type": "code",
      "metadata": {
        "id": "d9f955d5"
      },
      "source": [
        ""
      ],
      "id": "d9f955d5",
      "execution_count": null,
      "outputs": []
    }
  ]
}