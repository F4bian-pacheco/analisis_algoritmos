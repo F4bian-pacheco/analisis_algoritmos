{
 "cells": [
  {
   "cell_type": "markdown",
   "metadata": {},
   "source": [
    " # Problema de la Mochila\n",
    " \n",
    " El problema de la mochila surge en areas de investigacion de operaciones en las cuales se requiere alojar un numero de items con el maximo valor bajo ciertas restricciones. Si hacemos $X=\\{x_1,\\ldots,x_n\\}$ un conjunto de items, con $x_i \\in \\{0,1\\}$ siendo una variable binaria que indica la presencia del item $i$, $W=\\{w_1,\\ldots,w_n\\}$ los pesos de los items y $V=\\{v_1,\\ldots,v_n\\}$ el valor asociado a cada uno de los items, el problema de optimizacion puede ser escrito como:\n",
    " \n",
    " $F(X)=\\operatorname{max}\\sum_i x_i*v_i$\n",
    "  \n",
    "  Dado \n",
    "  \n",
    " $\\sum_i x_i*w_i < W_{max}$\n",
    "  "
   ]
  },
  {
   "cell_type": "code",
   "execution_count": 1,
   "metadata": {},
   "outputs": [],
   "source": [
    "from itertools import chain, combinations\n",
    "\n",
    "def powerset(iterable):\n",
    "    \"powerset([1,2,3]) --> () (1,) (2,) (3,) (1,2) (1,3) (2,3) (1,2,3)\"\n",
    "    s = list(iterable)\n",
    "    return chain.from_iterable(combinations(s, r) for r in range(len(s)+1))"
   ]
  },
  {
   "cell_type": "code",
   "execution_count": 2,
   "metadata": {},
   "outputs": [
    {
     "name": "stdout",
     "output_type": "stream",
     "text": [
      "pesos :  [769, 382, 875, 479, 877]\n",
      "valores :  [758, 74, 549, 289, 143]\n",
      "------------------------------\n",
      "Mochila 0, items : (), valor : 0.0, peso : 0.0\n",
      "Mochila 1, items : (0,), valor : 758, peso : 769\n",
      "Mochila 2, items : (1,), valor : 74, peso : 382\n",
      "Mochila 3, items : (2,), valor : 549, peso : 875\n",
      "Mochila 4, items : (3,), valor : 289, peso : 479\n",
      "Mochila 5, items : (4,), valor : 143, peso : 877\n",
      "Mochila 6, items : (0, 1), valor : 832, peso : 1151\n",
      "Mochila 7, items : (0, 2), valor : 1307, peso : 1644\n",
      "Mochila 8, items : (0, 3), valor : 1047, peso : 1248\n",
      "Mochila 9, items : (0, 4), valor : 901, peso : 1646\n",
      "Mochila 10, items : (1, 2), valor : 623, peso : 1257\n",
      "Mochila 11, items : (1, 3), valor : 363, peso : 861\n",
      "Mochila 12, items : (1, 4), valor : 217, peso : 1259\n",
      "Mochila 13, items : (2, 3), valor : 838, peso : 1354\n",
      "Mochila 14, items : (2, 4), valor : 692, peso : 1752\n",
      "Mochila 15, items : (3, 4), valor : 432, peso : 1356\n",
      "Mochila 16, items : (0, 1, 2), valor : 1381, peso : 2026\n",
      "Mochila 17, items : (0, 1, 3), valor : 1121, peso : 1630\n",
      "Mochila 18, items : (0, 1, 4), valor : 975, peso : 2028\n",
      "Mochila 19, items : (0, 2, 3), valor : 1596, peso : 2123\n",
      "Mochila 20, items : (0, 2, 4), valor : 1450, peso : 2521\n",
      "Mochila 21, items : (0, 3, 4), valor : 1190, peso : 2125\n",
      "Mochila 22, items : (1, 2, 3), valor : 912, peso : 1736\n",
      "Mochila 23, items : (1, 2, 4), valor : 766, peso : 2134\n",
      "Mochila 24, items : (1, 3, 4), valor : 506, peso : 1738\n",
      "Mochila 25, items : (2, 3, 4), valor : 981, peso : 2231\n",
      "Mochila 26, items : (0, 1, 2, 3), valor : 1670, peso : 2505\n",
      "Mochila 27, items : (0, 1, 2, 4), valor : 1524, peso : 2903\n",
      "Mochila 28, items : (0, 1, 3, 4), valor : 1264, peso : 2507\n",
      "Mochila 29, items : (0, 2, 3, 4), valor : 1739, peso : 3000\n",
      "Mochila 30, items : (1, 2, 3, 4), valor : 1055, peso : 2613\n",
      "Mochila 31, items : (0, 1, 2, 3, 4), valor : 1813, peso : 3382\n"
     ]
    }
   ],
   "source": [
    "import random\n",
    "import numpy as np\n",
    "\n",
    "n=5\n",
    "W = [random.randint(20, 1000) for _ in range(n)]  # peso\n",
    "V  = [random.randint(10, 800) for _ in range(n)] # valor\n",
    "W_max=1000\n",
    "print('pesos : ',W)\n",
    "print('valores : ',V)\n",
    "print('------------------------------')\n",
    "for i,p in enumerate(powerset(range(n))):\n",
    "    print('Mochila {0}, items : {1}, valor : {2}, peso : {3}'.format(\n",
    "            i,p,np.sum([V[i] for i in p]),np.sum([W[i] for i in p])))"
   ]
  },
  {
   "cell_type": "code",
   "execution_count": 3,
   "metadata": {},
   "outputs": [],
   "source": [
    "# A Dynamic Programming based Python Program for 0-1 Knapsack problem \n",
    "# Returns the maximum value that can be put in a knapsack of capacity W \n",
    "def knapsack(W_max, W, V, n): \n",
    "    C = [[0 for x in range(W_max+1)] for x in range(n+1)] \n",
    "    # Build table in bottom up manner \n",
    "    for i in range(n+1): \n",
    "        for w in range(W_max+1): \n",
    "            if i==0 or w==0: \n",
    "                C[i][w] = 0\n",
    "            elif W[i-1] <= w: \n",
    "                C[i][w] = max(V[i-1] + C[i-1][w-W[i-1]],  C[i-1][w]) \n",
    "            else: \n",
    "                C[i][w] = C[i-1][w] \n",
    "  \n",
    "    return C "
   ]
  },
  {
   "cell_type": "code",
   "execution_count": 4,
   "metadata": {},
   "outputs": [],
   "source": [
    "def knapsack_greedy(W, wt, val, n):\n",
    "    # elements in the knapsack (the order must be consequent)\n",
    "    v_in_knapsack = []\n",
    "    w_in_knapsack = []\n",
    "    # current weight of all the elements put in the knapsack so far\n",
    "    weight_in_knapsack = 0\n",
    "    # sort elements by purity in descendant order\n",
    "    for v_i,w_i in sorted(zip(val,wt),key=lambda x:x[0]/x[1] if x[1]!=0 else x[0], reverse=True):\n",
    "        if w_i + weight_in_knapsack <= W:  # if I can carry it,\n",
    "            v_in_knapsack.append(v_i)\n",
    "            w_in_knapsack.append(w_i)\n",
    "            weight_in_knapsack += w_i\n",
    "\n",
    "    return v_in_knapsack, w_in_knapsack"
   ]
  },
  {
   "cell_type": "code",
   "execution_count": 5,
   "metadata": {},
   "outputs": [
    {
     "name": "stdout",
     "output_type": "stream",
     "text": [
      "[[   0    0    0    0    0]\n",
      " [   0 1500 1500 1500 1500]\n",
      " [   0 1500 1500 1500 3000]\n",
      " [   0 1500 1500 2000 3500]]\n"
     ]
    }
   ],
   "source": [
    "# Example from Grokking Algorithms. p161\n",
    "import numpy as np\n",
    "\n",
    "values = [1500,3000,2000]\n",
    "weights = [[1,4,3]]\n",
    "capacities = [4]\n",
    "\n",
    "C=knapsack(capacities[0],weights[0],values,len(values))\n",
    "\n",
    "print(np.asarray(C))"
   ]
  },
  {
   "cell_type": "code",
   "execution_count": 6,
   "metadata": {},
   "outputs": [
    {
     "name": "stdout",
     "output_type": "stream",
     "text": [
      "[1500, 2000]\n",
      "[1, 3]\n"
     ]
    }
   ],
   "source": [
    "v_c,w_c=knapsack_greedy(capacities[0],weights[0],values,len(values))\n",
    "\n",
    "print(v_c)\n",
    "print(w_c)"
   ]
  },
  {
   "cell_type": "code",
   "execution_count": 7,
   "metadata": {},
   "outputs": [
    {
     "name": "stdout",
     "output_type": "stream",
     "text": [
      "Total value = 7534\n",
      "Total weight = 850\n"
     ]
    }
   ],
   "source": [
    "# Example from https://developers.google.com/optimization/bin/knapsack\n",
    "\n",
    "values = [\n",
    "    360, 83, 59, 130, 431, 67, 230, 52, 93, 125, 670, 892, 600, 38, 48, 147,\n",
    "    78, 256, 63, 17, 120, 164, 432, 35, 92, 110, 22, 42, 50, 323, 514, 28,\n",
    "    87, 73, 78, 15, 26, 78, 210, 36, 85, 189, 274, 43, 33, 10, 19, 389, 276,\n",
    "    312\n",
    "]\n",
    "weights = [[\n",
    "    7, 0, 30, 22, 80, 94, 11, 81, 70, 64, 59, 18, 0, 36, 3, 8, 15, 42, 9, 0,\n",
    "    42, 47, 52, 32, 26, 48, 55, 6, 29, 84, 2, 4, 18, 56, 7, 29, 93, 44, 71,\n",
    "    3, 86, 66, 31, 65, 0, 79, 20, 65, 52, 13\n",
    "]]\n",
    "capacities = [850]\n",
    "\n",
    "C=knapsack(capacities[0],weights[0],values,len(values))\n",
    "print('Total value = {0}'.format(C[-1][-1]))\n",
    "print('Total weight = {0}'.format(len(C[0])-1))"
   ]
  },
  {
   "cell_type": "code",
   "execution_count": 8,
   "metadata": {},
   "outputs": [
    {
     "name": "stdout",
     "output_type": "stream",
     "text": [
      "Total value =  7534\n",
      "Total weight =  850\n"
     ]
    }
   ],
   "source": [
    "import numpy as np\n",
    "\n",
    "v_c,w_c=knapsack_greedy(capacities[0],weights[0],values,len(values))\n",
    "\n",
    "print('Total value = ',np.sum(v_c))\n",
    "print('Total weight = ',np.sum(w_c))"
   ]
  },
  {
   "cell_type": "code",
   "execution_count": 9,
   "metadata": {},
   "outputs": [],
   "source": [
    "import numpy as np\n",
    "import time\n",
    "import pandas as pd\n",
    "\n",
    "def run_experiment(W_max,method,num_items,n_samp=10):\n",
    "    ellapsed_time={m:[] for m in method}\n",
    "    s_n=[]\n",
    "    for n in num_items:\n",
    "        for j in range(n_samp):\n",
    "            s_n.append(n)\n",
    "            W = [random.randint(20, 1000) for _ in range(n)]  # peso\n",
    "            V  = [random.randint(10, 800) for _ in range(n)] # valor\n",
    "            for m in method:\n",
    "                start=time.clock()\n",
    "                eval(m+\"(W_max,W,V,len(V))\")\n",
    "                end=time.clock()\n",
    "                ellapsed_time[m].append(end-start)\n",
    "    df_list=[]\n",
    "    for m in method:\n",
    "        df=pd.DataFrame({'n':s_n,\n",
    "                         'time':ellapsed_time[m],\n",
    "                         'method':[m]*len(ellapsed_time[m]),\n",
    "                         'w_max':[W_max]*len(ellapsed_time[m])})\n",
    "        df_list.append(df)\n",
    "    df_average=pd.concat(df_list,axis=0)\n",
    "    return df_average"
   ]
  },
  {
   "cell_type": "code",
   "execution_count": 27,
   "metadata": {},
   "outputs": [],
   "source": [
    "import warnings\n",
    "warnings.filterwarnings(\"ignore\")\n",
    "import seaborn as sns\n",
    "import matplotlib.pyplot as plt\n",
    "sns.set(style=\"whitegrid\")\n",
    "\n",
    "W_max=1000\n",
    "method=['knapsack_greedy','knapsack']\n",
    "num_items=[100,200,300,1000]\n",
    "\n",
    "\n",
    "df_1000=run_experiment(W_max,method,num_items,10)\n",
    "\n",
    "df_100=run_experiment(W_max,method,num_items,10)\n",
    "\n"
   ]
  },
  {
   "cell_type": "code",
   "execution_count": 26,
   "metadata": {},
   "outputs": [
    {
     "data": {
      "text/plain": [
       "<seaborn.axisgrid.FacetGrid at 0x7fe4ceeacfd0>"
      ]
     },
     "execution_count": 26,
     "metadata": {},
     "output_type": "execute_result"
    },
    {
     "data": {
      "image/png": "[encoded data removed]",
      "text/plain": [
       "<Figure size 360x720 with 1 Axes>"
      ]
     },
     "metadata": {},
     "output_type": "display_data"
    },
    {
     "data": {
      "image/png": "[encoded data removed]",
      "text/plain": [
       "<Figure size 496.1x360 with 1 Axes>"
      ]
     },
     "metadata": {},
     "output_type": "display_data"
    }
   ],
   "source": [
    "df_average=pd.concat([df_100,df_1000],axis=0)\n",
    "plt.figure(1, figsize=(5,10))\n",
    "plt.subplot(211)\n",
    "sns.lmplot(x=\"n\", y=\"time\", hue=\"method\",row=\"w_max\", data=df_average)"
   ]
  },
  {
   "cell_type": "code",
   "execution_count": 102,
   "metadata": {},
   "outputs": [],
   "source": []
  },
  {
   "cell_type": "code",
   "execution_count": 105,
   "metadata": {},
   "outputs": [],
   "source": [
    "df_dp=df_average[df_average[\"method\"]=='knapsack']"
   ]
  },
  {
   "cell_type": "code",
   "execution_count": 109,
   "metadata": {},
   "outputs": [
    {
     "data": {
      "text/html": [
       "<div>\n",
       "<style scoped>\n",
       "    .dataframe tbody tr th:only-of-type {\n",
       "        vertical-align: middle;\n",
       "    }\n",
       "\n",
       "    .dataframe tbody tr th {\n",
       "        vertical-align: top;\n",
       "    }\n",
       "\n",
       "    .dataframe thead th {\n",
       "        text-align: right;\n",
       "    }\n",
       "</style>\n",
       "<table border=\"1\" class=\"dataframe\">\n",
       "  <thead>\n",
       "    <tr style=\"text-align: right;\">\n",
       "      <th></th>\n",
       "      <th></th>\n",
       "      <th>time</th>\n",
       "    </tr>\n",
       "    <tr>\n",
       "      <th>w_max</th>\n",
       "      <th>n</th>\n",
       "      <th></th>\n",
       "    </tr>\n",
       "  </thead>\n",
       "  <tbody>\n",
       "    <tr>\n",
       "      <th rowspan=\"4\" valign=\"top\">100</th>\n",
       "      <th>100</th>\n",
       "      <td>0.003708</td>\n",
       "    </tr>\n",
       "    <tr>\n",
       "      <th>200</th>\n",
       "      <td>0.003850</td>\n",
       "    </tr>\n",
       "    <tr>\n",
       "      <th>300</th>\n",
       "      <td>0.005866</td>\n",
       "    </tr>\n",
       "    <tr>\n",
       "      <th>1000</th>\n",
       "      <td>0.021677</td>\n",
       "    </tr>\n",
       "    <tr>\n",
       "      <th rowspan=\"4\" valign=\"top\">1000</th>\n",
       "      <th>100</th>\n",
       "      <td>0.040555</td>\n",
       "    </tr>\n",
       "    <tr>\n",
       "      <th>200</th>\n",
       "      <td>0.062392</td>\n",
       "    </tr>\n",
       "    <tr>\n",
       "      <th>300</th>\n",
       "      <td>0.093677</td>\n",
       "    </tr>\n",
       "    <tr>\n",
       "      <th>1000</th>\n",
       "      <td>0.335423</td>\n",
       "    </tr>\n",
       "  </tbody>\n",
       "</table>\n",
       "</div>"
      ],
      "text/plain": [
       "                time\n",
       "w_max n             \n",
       "100   100   0.003708\n",
       "      200   0.003850\n",
       "      300   0.005866\n",
       "      1000  0.021677\n",
       "1000  100   0.040555\n",
       "      200   0.062392\n",
       "      300   0.093677\n",
       "      1000  0.335423"
      ]
     },
     "execution_count": 109,
     "metadata": {},
     "output_type": "execute_result"
    }
   ],
   "source": [
    "df_dp.groupby(['w_max','n']).mean()"
   ]
  },
  {
   "cell_type": "code",
   "execution_count": 110,
   "metadata": {},
   "outputs": [
    {
     "data": {
      "text/plain": [
       "<matplotlib.axes._subplots.AxesSubplot at 0x7f1ef9941f28>"
      ]
     },
     "execution_count": 110,
     "metadata": {},
     "output_type": "execute_result"
    },
    {
     "data": {
      "image/png": "[encoded data removed]",
      "text/plain": [
       "<Figure size 432x288 with 1 Axes>"
      ]
     },
     "metadata": {},
     "output_type": "display_data"
    }
   ],
   "source": [
    "sns.boxplot(x=\"n\", y=\"time\",hue=\"w_max\", data=df_dp)"
   ]
  },
  {
   "cell_type": "code",
   "execution_count": null,
   "metadata": {},
   "outputs": [],
   "source": []
  }
 ],
 "metadata": {
  "kernelspec": {
   "display_name": "Python 3",
   "language": "python",
   "name": "python3"
  },
  "language_info": {
   "codemirror_mode": {
    "name": "ipython",
    "version": 3
   },
   "file_extension": ".py",
   "mimetype": "text/x-python",
   "name": "python",
   "nbconvert_exporter": "python",
   "pygments_lexer": "ipython3",
   "version": "3.6.9"
  }
 },
 "nbformat": 4,
 "nbformat_minor": 2
}
