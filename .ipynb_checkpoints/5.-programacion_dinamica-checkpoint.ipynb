{
 "cells": [
  {
   "cell_type": "markdown",
   "metadata": {},
   "source": [
    "# Programación Dinámica\n",
    "\n",
    "La programación dinámica es una técnica para resolver problemas de optimización que exhiben las siguientes propiedades:\n",
    "\n",
    "    1 Puede ser descompuesto en sub-problemas traslapados.\n",
    "    2 Contienen sub-estructuras óptimas\n",
    "    3 El número de sub-problemas es relativamente bajo\n",
    "    "
   ]
  },
  {
   "cell_type": "markdown",
   "metadata": {},
   "source": [
    "# Secuenciamiento de ADN\n",
    "\n",
    "\n",
    "El alineamiento de secuencias es una manera de analizar estructuras evolutivas entre genes o proteínas. Dadas dos secuencias de ADN $S_1=[A,C,G,T,C,A,T,C,A ]$ y $S_2=[T,A,G,T,G,T,C,A]$ nos interesa encontrar la sub-cadena común más larga. Podemos formalizar el problema de secuenciamiento como encontrar el alineamiento de sub-cadenas con el mínimo costo. \n",
    "\n",
    "La noción de similitud entre sub-cadenas se puede definir como encontrar una secuencia creciente de indices $I=[i_1,i_2,\\ldots\\,i_k]$ tal que $x_{i_j}=y_j$ para todo $x_{i_j} \\in S_1$ y $y_j \\in S_2$.\n",
    "\n",
    "La solución de fuerza bruta consiste en enumerar todas las sub-cadenas posibles. Sin enbargo, este número crece exponencialmente con el tamaño de la cadena. "
   ]
  },
  {
   "cell_type": "code",
   "execution_count": 39,
   "metadata": {},
   "outputs": [
    {
     "name": "stdout",
     "output_type": "stream",
     "text": [
      "{1: set([('C',), ('T',), ('A',), ('G',)]), 2: set([('A', 'A'), ('A', 'T'), ('T', 'T'), ('T', 'A'), ('C', 'A'), ('T', 'C'), ('G', 'A'), ('G', 'T'), ('A', 'G'), ('G', 'C'), ('A', 'C')]), 3: set([('T', 'T', 'C'), ('A', 'T', 'T'), ('G', 'C', 'A'), ('G', 'T', 'A'), ('A', 'T', 'A'), ('T', 'A', 'T'), ('A', 'G', 'T'), ('A', 'G', 'C'), ('T', 'A', 'A'), ('A', 'C', 'A'), ('A', 'T', 'C'), ('T', 'C', 'A'), ('G', 'T', 'C'), ('T', 'T', 'A'), ('A', 'G', 'A'), ('T', 'A', 'C'), ('G', 'T', 'T')]), 4: set([('A', 'T', 'C', 'A'), ('A', 'T', 'T', 'C'), ('T', 'A', 'C', 'A'), ('T', 'T', 'C', 'A'), ('A', 'G', 'T', 'C'), ('T', 'A', 'T', 'A'), ('G', 'T', 'T', 'C'), ('A', 'G', 'T', 'T'), ('T', 'A', 'T', 'C'), ('A', 'G', 'T', 'A'), ('G', 'T', 'T', 'A'), ('A', 'T', 'T', 'A'), ('G', 'T', 'C', 'A'), ('A', 'G', 'C', 'A')]), 5: set([('A', 'T', 'T', 'C', 'A'), ('A', 'G', 'T', 'T', 'A'), ('A', 'G', 'T', 'C', 'A'), ('T', 'A', 'T', 'C', 'A'), ('G', 'T', 'T', 'C', 'A'), ('A', 'G', 'T', 'T', 'C')]), 6: set([('A', 'G', 'T', 'T', 'C', 'A')]), 7: set([])}\n"
     ]
    }
   ],
   "source": [
    "from itertools import combinations as comb\n",
    "\n",
    "S_1='ACGTCATCA'\n",
    "S_2='TAGTGTCA'\n",
    "\n",
    "def LCS_BF(X,Y):\n",
    "    n=min(len(X),len(Y))\n",
    "    sol={}\n",
    "    for k in range(1,n):\n",
    "        sub_str_1=set(comb(X, k))\n",
    "        sub_str_2=set(comb(Y, k))\n",
    "        sol_k={k:sub_str_1 & sub_str_2}\n",
    "        sol.update(sol_k)\n",
    "    return sol\n",
    "\n",
    "print(LCS_BF(S_1,S_2))"
   ]
  },
  {
   "cell_type": "code",
   "execution_count": 42,
   "metadata": {},
   "outputs": [],
   "source": [
    "def LCS_DP(X,Y):\n",
    "    n=min(len(X),len(Y))\n",
    "    sol={}\n",
    "    diff={}\n",
    "    for k in range(1,n):\n",
    "        sub_str_1=set(comb(X, k))\n",
    "        sub_str_2=set(comb(Y, k))\n",
    "        diff_k={k:sub_str_1 - sub_str_2}\n",
    "        diff.update(diff_k)\n",
    "        sol_k={k:sub_str_1 & sub_str_2}\n",
    "        sol.update(sol_k)\n",
    "    return sol"
   ]
  },
  {
   "cell_type": "code",
   "execution_count": 43,
   "metadata": {},
   "outputs": [
    {
     "name": "stdout",
     "output_type": "stream",
     "text": [
      "{1: set([('C',), ('T',), ('A',), ('G',)]), 2: set([('A', 'A'), ('A', 'T'), ('T', 'T'), ('T', 'A'), ('C', 'A'), ('T', 'C'), ('G', 'A'), ('G', 'T'), ('A', 'G'), ('G', 'C'), ('A', 'C')]), 3: set([('T', 'T', 'C'), ('A', 'T', 'T'), ('G', 'C', 'A'), ('G', 'T', 'A'), ('A', 'T', 'A'), ('T', 'A', 'T'), ('A', 'G', 'T'), ('A', 'G', 'C'), ('T', 'A', 'A'), ('A', 'C', 'A'), ('A', 'T', 'C'), ('T', 'C', 'A'), ('G', 'T', 'C'), ('T', 'T', 'A'), ('A', 'G', 'A'), ('T', 'A', 'C'), ('G', 'T', 'T')]), 4: set([('A', 'T', 'C', 'A'), ('A', 'T', 'T', 'C'), ('T', 'A', 'C', 'A'), ('T', 'T', 'C', 'A'), ('A', 'G', 'T', 'C'), ('T', 'A', 'T', 'A'), ('G', 'T', 'T', 'C'), ('A', 'G', 'T', 'T'), ('T', 'A', 'T', 'C'), ('A', 'G', 'T', 'A'), ('G', 'T', 'T', 'A'), ('A', 'T', 'T', 'A'), ('G', 'T', 'C', 'A'), ('A', 'G', 'C', 'A')]), 5: set([('A', 'T', 'T', 'C', 'A'), ('A', 'G', 'T', 'T', 'A'), ('A', 'G', 'T', 'C', 'A'), ('T', 'A', 'T', 'C', 'A'), ('G', 'T', 'T', 'C', 'A'), ('A', 'G', 'T', 'T', 'C')]), 6: set([('A', 'G', 'T', 'T', 'C', 'A')]), 7: set([])}\n"
     ]
    }
   ],
   "source": [
    "print(LCS_DP(S_1,S_2))"
   ]
  },
  {
   "cell_type": "code",
   "execution_count": 27,
   "metadata": {},
   "outputs": [
    {
     "name": "stdout",
     "output_type": "stream",
     "text": [
      "1 7\n"
     ]
    }
   ],
   "source": [
    "print i1,i2"
   ]
  },
  {
   "cell_type": "code",
   "execution_count": 19,
   "metadata": {},
   "outputs": [
    {
     "data": {
      "text/plain": [
       "'GTGTCA'"
      ]
     },
     "execution_count": 19,
     "metadata": {},
     "output_type": "execute_result"
    }
   ],
   "source": [
    "S_2[i1+1:]\n"
   ]
  },
  {
   "cell_type": "code",
   "execution_count": null,
   "metadata": {},
   "outputs": [],
   "source": []
  }
 ],
 "metadata": {
  "kernelspec": {
   "display_name": "Python 2",
   "language": "python",
   "name": "python2"
  },
  "language_info": {
   "codemirror_mode": {
    "name": "ipython",
    "version": 2
   },
   "file_extension": ".py",
   "mimetype": "text/x-python",
   "name": "python",
   "nbconvert_exporter": "python",
   "pygments_lexer": "ipython2",
   "version": "2.7.12"
  }
 },
 "nbformat": 4,
 "nbformat_minor": 2
}
