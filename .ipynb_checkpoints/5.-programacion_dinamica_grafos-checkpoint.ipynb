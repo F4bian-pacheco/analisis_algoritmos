{
 "cells": [
  {
   "cell_type": "markdown",
   "metadata": {},
   "source": [
    "# Programacion Dinamica Grafos\n",
    "\n"
   ]
  },
  {
   "cell_type": "code",
   "execution_count": 1,
   "metadata": {},
   "outputs": [],
   "source": [
    "class abstract_graph:\n",
    "    \n",
    "    def __init__(self,_edges):\n",
    "        self.edges=_edges\n",
    "        self.nodes={u for u,v in self.edges} | {v for u,v in self.edges}\n",
    "    \n",
    "    def adjacency_list(self):\n",
    "        pass\n",
    "    \n",
    "class weighted_graph(abstract_graph):\n",
    "    \n",
    "    def __init__(self,_edges):\n",
    "        self.edges=_edges\n",
    "        self.nodes={u for u,v in self.edges.keys()} | {v for u,v in self.edges.keys()}\n",
    "        \n",
    "    \n",
    "    def adjacency_list(self):\n",
    "        adjacent=lambda n : {v:self.edges[(u,v)] for u,v in self.edges.keys() if u==n }\n",
    "        return {v:adjacent(v) for v in self.nodes}"
   ]
  },
  {
   "cell_type": "code",
   "execution_count": 6,
   "metadata": {},
   "outputs": [],
   "source": [
    "import heapq\n",
    "import numpy as np\n",
    "\n",
    "def Dijkstra(G,start):\n",
    "    L = G.adjacency_list()\n",
    "    U = {start:start}\n",
    "    D = {v:np.inf for v in G.nodes}\n",
    "    D.update(L[start])\n",
    "    D.update({start:0})\n",
    "    PQ = []\n",
    "    for v,w in L[start].iteritems():\n",
    "        heapq.heappush(PQ,(D[v],v))\n",
    "    k = start\n",
    "    while set(U.keys())!=G.nodes:\n",
    "        parent = k\n",
    "        while len(PQ)>0 and k in U:\n",
    "            w_k,k=heapq.heappop(PQ)\n",
    "        for v,w_kv in L[k].iteritems():\n",
    "            new_dist=w_kv+D[k]\n",
    "            if D[v]>(new_dist):\n",
    "                D.update({v:new_dist})\n",
    "                heapq.heappush(PQ,(D[v],v))\n",
    "        U.update({k:parent})\n",
    "    return D,U\n",
    "\n",
    "\n",
    "def shortest_path(parent,start,end):\n",
    "    path=[end]\n",
    "    k=end\n",
    "    while k!=start:\n",
    "        path.append(parent[k])\n",
    "        k=parent[k]\n",
    "    return path"
   ]
  },
  {
   "cell_type": "code",
   "execution_count": 14,
   "metadata": {},
   "outputs": [
    {
     "name": "stdout",
     "output_type": "stream",
     "text": [
      "Nodos : set(['a', 'start', 'b', 'fin'])\n",
      "Lista de adyacencia : {'a': {'fin': 1}, 'start': {'a': 6, 'b': 2}, 'b': {'a': 3, 'fin': 5}, 'fin': {}}\n",
      "{'a': 5, 'start': 0, 'b': 2, 'fin': 6}\n",
      "['fin', 'a', 'b', 'start']\n"
     ]
    }
   ],
   "source": [
    "# Ejemplo de \"Grokking algorithms\". A. Bhargava. p. 131\n",
    "\n",
    "E={('start','a'):6,('start','b'):2,('b','a'):3,('a','fin'):1,\n",
    "   ('b','fin'):5}\n",
    "\n",
    "G=weighted_graph(E)\n",
    "\n",
    "print 'Nodos :',G.nodes\n",
    "print 'Lista de adyacencia :',G.adjacency_list()\n",
    "D,U=Dijkstra(G,'start')\n",
    "print 'Distancias mas cortas :' D\n",
    "\n",
    "print shortest_path(U,'start','fin')"
   ]
  },
  {
   "cell_type": "code",
   "execution_count": 11,
   "metadata": {},
   "outputs": [
    {
     "name": "stdout",
     "output_type": "stream",
     "text": [
      "Nodos : set(['a', 'c', 'b', 'e', 'd', 'z'])\n",
      "Lista de adyacencia : {'a': {'c': 2, 'b': 4}, 'c': {'a': 2, 'b': 1, 'e': 10, 'd': 8}, 'b': {'a': 4, 'c': 1, 'd': 5}, 'e': {'c': 10, 'z': 3, 'd': 2}, 'd': {'b': 5, 'z': 6, 'e': 2, 'c': 8}, 'z': {'e': 3, 'd': 6}}\n",
      "Distancias :  {'a': 0, 'c': 2, 'b': 3, 'e': 10, 'd': 8, 'z': 13}\n",
      "Camino mas corto :  ['b', 'c', 'a']\n"
     ]
    }
   ],
   "source": [
    "# Ejemplo de \"Discrete Mathematics and its Applications\". K.H. Rosen 7th Edition. p 713 \n",
    "\n",
    "E={('a','b'):4,('b','a'):4,('b','d'):5,('d','b'):5,\n",
    "   ('a','c'):2,('c','a'):2,('c','b'):1,('b','c'):1,\n",
    "   ('c','d'):8,('d','c'):8,('e','c'):10,('c','e'):10,\n",
    "   ('d','e'):2,('e','d'):2,('d','z'):6,('z','d'):6,\n",
    "   ('e','z'):3,('z','e'):3}\n",
    "\n",
    "G=weighted_graph(E)\n",
    "\n",
    "\n",
    "print 'Nodos :',G.nodes\n",
    "print 'Lista de adyacencia :',G.adjacency_list()\n",
    "\n",
    "start='a'\n",
    "D,U=Dijkstra(G,start)\n",
    "print 'Distancias : ',D\n",
    "print 'Camino mas corto : ',shortest_path(U,start,'b')"
   ]
  },
  {
   "cell_type": "code",
   "execution_count": 12,
   "metadata": {},
   "outputs": [
    {
     "name": "stdout",
     "output_type": "stream",
     "text": [
      "nodos :  set([0, 1, 2, 3, 4, 5, 6, 7, 8, 9])\n",
      "lista adyacencia :  {0: {1: 7, 2: 3, 3: 7, 4: 4, 5: 1, 6: 3, 7: 5, 9: 1}, 1: {0: 4, 2: 5, 3: 3, 4: 5, 5: 4, 6: 3, 7: 4, 8: 5, 9: 7}, 2: {0: 8, 1: 4, 3: 7, 4: 8, 5: 8, 6: 7, 7: 8, 8: 1, 9: 6}, 3: {0: 4, 1: 8, 2: 3, 4: 6, 5: 7, 6: 2, 7: 1, 9: 9}, 4: {0: 2, 1: 9, 2: 6, 3: 6, 5: 5, 6: 4, 8: 4, 9: 4}, 5: {1: 7, 2: 6, 3: 6, 4: 7, 6: 1, 8: 8, 9: 1}, 6: {2: 2, 3: 2, 4: 5, 5: 9, 7: 7, 8: 5, 9: 2}, 7: {0: 6, 1: 6, 2: 6, 3: 1, 4: 9, 5: 5, 6: 4, 8: 3, 9: 2}, 8: {0: 6, 1: 7, 2: 9, 3: 4, 4: 2, 6: 9, 7: 2, 9: 3}, 9: {0: 1, 1: 5, 2: 7, 3: 9, 4: 3, 5: 2, 6: 7, 7: 8, 8: 3}}\n",
      "-------------------------------------\n",
      "Distancias :  {0: 4, 1: 7, 2: 3, 3: 0, 4: 6, 5: 5, 6: 2, 7: 1, 8: 4, 9: 3}\n",
      "Caminos mas cortos :  {0: 9, 1: 4, 2: 6, 3: 3, 4: 5, 5: 8, 6: 7, 7: 3, 8: 0, 9: 2}\n"
     ]
    }
   ],
   "source": [
    "random_graph = lambda n,p : {(u,v):np.random.randint(1,10) for u in np.arange(n) for v \n",
    "                    in np.arange(n) if np.random.rand()>p and u!=v}\n",
    "# cantidad de vértices\n",
    "n=10\n",
    "# 1- probabilidad de crear aristas\n",
    "p=0.1\n",
    "\n",
    "E=random_graph(n,p)\n",
    "\n",
    "G=weighted_graph(E)\n",
    "print 'nodos : ',G.nodes\n",
    "\n",
    "print 'lista adyacencia : ',G.adjacency_list()\n",
    "print '-------------------------------------'\n",
    "# chequear que el grafo sea conexo y que el vértice inicial exista!\n",
    "start=3\n",
    "D,U=Dijkstra(G,start)\n",
    "\n",
    "print 'Distancias : ',D\n",
    "print 'Caminos mas cortos : ',U"
   ]
  },
  {
   "cell_type": "markdown",
   "metadata": {},
   "source": [
    "# Tarea\n",
    "\n",
    "En esta tarea Ud. debe comprobar las siguientes hipótesis:\n",
    "\n",
    "    1.) La complejidad del algoritmo Dijsktra no depende de la cantidad de aristas del grafo.\n",
    "    2.) El peor caso del algoritmo Bellman-Ford se produce cuando el grafo es denso (gran cantidad de aristas).\n",
    "    3.) Cuando se requiere calcular las distancias más cortas entre todos los vértices del grafo, independiente de la cantidad de vértices el algoritmo Floyd-Warshall mejora el tiempo de ejecución de la fuerza bruta."
   ]
  },
  {
   "cell_type": "code",
   "execution_count": null,
   "metadata": {},
   "outputs": [],
   "source": []
  }
 ],
 "metadata": {
  "kernelspec": {
   "display_name": "Python 2",
   "language": "python",
   "name": "python2"
  },
  "language_info": {
   "codemirror_mode": {
    "name": "ipython",
    "version": 2
   },
   "file_extension": ".py",
   "mimetype": "text/x-python",
   "name": "python",
   "nbconvert_exporter": "python",
   "pygments_lexer": "ipython2",
   "version": "2.7.15rc1"
  }
 },
 "nbformat": 4,
 "nbformat_minor": 2
}
