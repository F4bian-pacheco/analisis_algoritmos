{
 "cells": [
  {
   "cell_type": "markdown",
   "metadata": {},
   "source": [
    "# Análisis de Algoritmos ICI522\n",
    "\n",
    "Los programas resuelven problemas, pero existen muchas formas de resolver un problema. Cómo saber cuándo un programa es mejor que otro?\n",
    "\n",
    "El análisis de algoritmos es la manera de determinar los requerimientos de tiempo y espacio requeridos por un programa.\n",
    "\n",
    "La notación O Grande o $\\mathcal{O}(f(n))$ se utliza para definir una cota superior del comportamiento asintótico del crecimiento del tiempo de ejecución de un programa."
   ]
  },
  {
   "cell_type": "markdown",
   "metadata": {},
   "source": [
    "# Costo Constante\n",
    "\n",
    "El costo constante se refiere al caso cuando el algoritmo tiene costo invariante al tamaño del problema $\\mathcal{O}(1)$"
   ]
  },
  {
   "cell_type": "code",
   "execution_count": 1,
   "metadata": {},
   "outputs": [
    {
     "name": "stdout",
     "output_type": "stream",
     "text": [
      "0.130160808563\n",
      "0.0908298492432\n"
     ]
    }
   ],
   "source": [
    "import timeit\n",
    "\n",
    "square_exp = lambda n : n**2\n",
    "\n",
    "square = lambda n : n*n\n",
    "\n",
    "\n",
    "print(timeit.timeit('square_exp(1e3)',setup='from __main__ import square_exp'))\n",
    "print(timeit.timeit('square(1e3)',setup='from __main__ import square'))\n",
    "#timeit.timeit('square(1e5)', number=10000)"
   ]
  },
  {
   "cell_type": "markdown",
   "metadata": {},
   "source": [
    "# Costo Lineal\n",
    "\n",
    "El costo lineal se refiere al caso cuando el algoritmo tiene costo lineal con respecto al tamaño del problema $\\mathcal{O}(n)$"
   ]
  },
  {
   "cell_type": "code",
   "execution_count": 2,
   "metadata": {},
   "outputs": [
    {
     "name": "stdout",
     "output_type": "stream",
     "text": [
      "La suma acumulativa de 10 es :    45\n",
      "La suma acumulativa de 1000 es : 499500\n"
     ]
    }
   ],
   "source": [
    "def cumsum(n):\n",
    "    j=0\n",
    "    for i in range(int(n)):\n",
    "        j=j+i\n",
    "    return j\n",
    "\n",
    "print('La suma acumulativa de 10 es : %5d'%cumsum(10))\n",
    "print('La suma acumulativa de 1000 es : %5d'%cumsum(1e3))"
   ]
  },
  {
   "cell_type": "code",
   "execution_count": 3,
   "metadata": {},
   "outputs": [],
   "source": [
    "import warnings\n",
    "warnings.filterwarnings(\"ignore\")\n",
    "import time\n",
    "import numpy as np\n",
    "import matplotlib.pyplot as plt\n",
    "#import seaborn as sns\n",
    "#sns.set()\n",
    "\n",
    "def reject_outliers(x,y, m=2):\n",
    "    x=np.array(x)\n",
    "    y=np.array(y)\n",
    "    index=abs(y - np.mean(y)) < m * np.std(y)\n",
    "    return x[index],y[index]\n",
    "\n",
    "def detrend(x,y,degree):\n",
    "    model = np.polyfit(x,y,degree)\n",
    "    predicted = np.polyval(model,x)\n",
    "    return predicted\n",
    "\n",
    "def plot_cost(n,fun,deg,title):\n",
    "    x=range(int(n))\n",
    "    y=[]\n",
    "    for i in x:\n",
    "        start=time.clock()\n",
    "        fun(i)\n",
    "        end=time.clock()\n",
    "        y.append(end-start)\n",
    "    x,y=reject_outliers(x,y)\n",
    "    plt.subplot(2, 1, 1)\n",
    "    plt.title(title)\n",
    "    plt.xlabel('Tiempo')\n",
    "    plt.hist(y, alpha=0.5)\n",
    "    plt.subplot(2, 1, 2)\n",
    "    z=detrend(x,y,deg)\n",
    "    plt.plot(x,y)\n",
    "    plt.plot(x,z)\n",
    "    plt.ylabel('Tiempo')\n",
    "    plt.xlabel('n')\n",
    "    plt.show()\n",
    "    \n",
    "def compare_cost(n,fun1,fun2,deg,title):\n",
    "    x=range(int(n))\n",
    "    y1=[]\n",
    "    y2=[]\n",
    "    for i in x:\n",
    "        start=time.clock()\n",
    "        fun1(i)\n",
    "        end=time.clock()\n",
    "        y1.append(end-start)\n",
    "    for i in x:\n",
    "        start=time.clock()\n",
    "        fun2(i)\n",
    "        end=time.clock()\n",
    "        y2.append(end-start)\n",
    "    plt.subplot(2, 1, 1)\n",
    "    plt.title(title)\n",
    "    plt.xlabel('Tiempo')\n",
    "    plt.hist(y1, alpha=0.5)\n",
    "    plt.hist(y2, alpha=0.5)\n",
    "    plt.subplot(2, 1, 2)\n",
    "    z1=detrend(x,y1,deg)\n",
    "    plt.plot(x,y1,alpha=.5)\n",
    "    plt.plot(x,z1)\n",
    "    z2=detrend(x,y2,deg)\n",
    "    plt.plot(x,y2,alpha=.5)\n",
    "    plt.plot(x,z2)    \n",
    "    plt.ylabel('Tiempo')\n",
    "    plt.xlabel('n')\n",
    "    plt.show()\n",
    "    return x,y1,y2"
   ]
  },
  {
   "cell_type": "code",
   "execution_count": 4,
   "metadata": {},
   "outputs": [
    {
     "data": {
      "image/png": "[encoded data removed]",
      "text/plain": [
       "<matplotlib.figure.Figure at 0x7f9f0803e590>"
      ]
     },
     "metadata": {},
     "output_type": "display_data"
    }
   ],
   "source": [
    "x,y1,y2=compare_cost(1e4,square_exp,square,1,\"costo constante\")"
   ]
  },
  {
   "cell_type": "code",
   "execution_count": 7,
   "metadata": {},
   "outputs": [
    {
     "name": "stdout",
     "output_type": "stream",
     "text": [
      "Tiempo promedio de la funcion f(x)=x**2 : 1.015300e-06\n",
      "Tiempo promedio de la funcion f(x)=x*x : 9.929000e-07\n",
      "Varianza de la funcion f(x)=x**2 : 7.518659e-13\n",
      "Varianza de la funcion f(x)=x*x : 3.320250e-12\n",
      "Ttest_indResult(statistic=1.1099828244150527, pvalue=0.26701977441950886)\n"
     ]
    }
   ],
   "source": [
    "from scipy import stats\n",
    "import statsmodels.api as sm\n",
    "\n",
    "print('Tiempo promedio de la funcion f(x)=x**2 : %4e'%np.mean(y1))\n",
    "print('Tiempo promedio de la funcion f(x)=x*x : %4e'%np.mean(y2))\n",
    "\n",
    "print('Varianza de la funcion f(x)=x**2 : %4e'%np.var(y1))\n",
    "print('Varianza de la funcion f(x)=x*x : %4e'%np.var(y2))\n",
    "\n",
    "print stats.ttest_ind(y1,y2)\n"
   ]
  },
  {
   "cell_type": "code",
   "execution_count": 31,
   "metadata": {},
   "outputs": [
    {
     "data": {
      "image/png": "[encoded data removed]",
      "text/plain": [
       "<matplotlib.figure.Figure at 0x7fda6d17e8d0>"
      ]
     },
     "metadata": {},
     "output_type": "display_data"
    }
   ],
   "source": [
    "plot_cost(1e4,cumsum,2,\"costo lineal\")"
   ]
  },
  {
   "cell_type": "code",
   "execution_count": null,
   "metadata": {},
   "outputs": [],
   "source": []
  },
  {
   "cell_type": "code",
   "execution_count": null,
   "metadata": {},
   "outputs": [],
   "source": []
  }
 ],
 "metadata": {
  "kernelspec": {
   "display_name": "Python 2",
   "language": "python",
   "name": "python2"
  },
  "language_info": {
   "codemirror_mode": {
    "name": "ipython",
    "version": 2
   },
   "file_extension": ".py",
   "mimetype": "text/x-python",
   "name": "python",
   "nbconvert_exporter": "python",
   "pygments_lexer": "ipython2",
   "version": "2.7.15rc1"
  }
 },
 "nbformat": 4,
 "nbformat_minor": 2
}
