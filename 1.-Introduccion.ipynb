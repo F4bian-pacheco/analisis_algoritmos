{
 "cells": [
  {
   "cell_type": "markdown",
   "metadata": {},
   "source": [
    "# Análisis de Algoritmos ICI522\n",
    "\n",
    "Los programas resuelven problemas, pero existen muchas formas de resolver un problema. Cómo saber cuándo un programa es mejor que otro?\n",
    "\n",
    "El análisis de algoritmos es la manera de determinar los requerimientos de tiempo y espacio requeridos por un programa.\n",
    "\n",
    "La notación O Grande o $\\mathcal{O}(f(n))$ se utliza para definir una cota superior del comportamiento asintótico del crecimiento del tiempo de ejecución de un programa."
   ]
  },
  {
   "cell_type": "markdown",
   "metadata": {},
   "source": [
    "# Costo Constante\n",
    "\n",
    "El costo constante se refiere al caso cuando el algoritmo tiene costo invariante al tamaño del problema $\\mathcal{O}(1)$"
   ]
  },
  {
   "cell_type": "code",
   "execution_count": 10,
   "metadata": {},
   "outputs": [],
   "source": [
    "import time\n",
    "\n",
    "square_exp = lambda n : n**2\n",
    "square = lambda n : n*n\n",
    "\n",
    "experiments={1,100,1000,10000}\n",
    "samples=100\n",
    "results_1={}\n",
    "results_2={}\n",
    "for n in experiments:\n",
    "    result1=[]\n",
    "    result2=[]\n",
    "    for sample in range(samples):\n",
    "        t = time.process_time()\n",
    "        square_exp(n)\n",
    "        t1 = time.process_time() - t\n",
    "        t = time.process_time()\n",
    "        square(n)\n",
    "        t2 = time.process_time() - t\n",
    "        result1.append(t1)\n",
    "        result2.append(t2)\n",
    "    results_1.update({n:result1})\n",
    "    results_2.update({n:result2})"
   ]
  },
  {
   "cell_type": "code",
   "execution_count": 11,
   "metadata": {},
   "outputs": [],
   "source": [
    "import pandas as pd\n",
    "\n",
    "df_sq_exp=pd.DataFrame(results_1)\n",
    "df_sq=pd.DataFrame(results_2)"
   ]
  },
  {
   "cell_type": "code",
   "execution_count": 26,
   "metadata": {},
   "outputs": [
    {
     "data": {
      "image/png": "[encoded data removed]",
      "text/plain": [
       "<Figure size 576x576 with 4 Axes>"
      ]
     },
     "metadata": {},
     "output_type": "display_data"
    },
    {
     "data": {
      "image/png": "[encoded data removed]",
      "text/plain": [
       "<Figure size 576x576 with 4 Axes>"
      ]
     },
     "metadata": {},
     "output_type": "display_data"
    }
   ],
   "source": [
    "import matplotlib.pyplot as plt\n",
    "\n",
    "df_sq_exp.hist(figsize=(8,8),sharey=True)\n",
    "plt.suptitle(r'$f(n)=n**2$')\n",
    "plt.show()\n",
    "\n",
    "df_sq.hist(figsize=(8,8),sharey=True)\n",
    "plt.suptitle(r'$f(n)=n*n$')\n",
    "plt.show()"
   ]
  },
  {
   "cell_type": "code",
   "execution_count": 31,
   "metadata": {},
   "outputs": [
    {
     "data": {
      "text/html": [
       "<div>\n",
       "<style scoped>\n",
       "    .dataframe tbody tr th:only-of-type {\n",
       "        vertical-align: middle;\n",
       "    }\n",
       "\n",
       "    .dataframe tbody tr th {\n",
       "        vertical-align: top;\n",
       "    }\n",
       "\n",
       "    .dataframe thead th {\n",
       "        text-align: right;\n",
       "    }\n",
       "</style>\n",
       "<table border=\"1\" class=\"dataframe\">\n",
       "  <thead>\n",
       "    <tr style=\"text-align: right;\">\n",
       "      <th></th>\n",
       "      <th>1000</th>\n",
       "      <th>1</th>\n",
       "      <th>100</th>\n",
       "      <th>10000</th>\n",
       "    </tr>\n",
       "  </thead>\n",
       "  <tbody>\n",
       "    <tr>\n",
       "      <th>count</th>\n",
       "      <td>1.000000e+02</td>\n",
       "      <td>100.000000</td>\n",
       "      <td>1.000000e+02</td>\n",
       "      <td>1.000000e+02</td>\n",
       "    </tr>\n",
       "    <tr>\n",
       "      <th>mean</th>\n",
       "      <td>2.281510e-06</td>\n",
       "      <td>0.000002</td>\n",
       "      <td>1.830260e-06</td>\n",
       "      <td>1.885970e-06</td>\n",
       "    </tr>\n",
       "    <tr>\n",
       "      <th>std</th>\n",
       "      <td>6.948223e-07</td>\n",
       "      <td>0.000001</td>\n",
       "      <td>1.773651e-07</td>\n",
       "      <td>2.171498e-07</td>\n",
       "    </tr>\n",
       "    <tr>\n",
       "      <th>min</th>\n",
       "      <td>2.156000e-06</td>\n",
       "      <td>0.000002</td>\n",
       "      <td>1.706000e-06</td>\n",
       "      <td>1.728000e-06</td>\n",
       "    </tr>\n",
       "    <tr>\n",
       "      <th>25%</th>\n",
       "      <td>2.188000e-06</td>\n",
       "      <td>0.000002</td>\n",
       "      <td>1.741000e-06</td>\n",
       "      <td>1.756750e-06</td>\n",
       "    </tr>\n",
       "    <tr>\n",
       "      <th>50%</th>\n",
       "      <td>2.201000e-06</td>\n",
       "      <td>0.000002</td>\n",
       "      <td>1.755000e-06</td>\n",
       "      <td>1.812000e-06</td>\n",
       "    </tr>\n",
       "    <tr>\n",
       "      <th>75%</th>\n",
       "      <td>2.233500e-06</td>\n",
       "      <td>0.000002</td>\n",
       "      <td>1.827000e-06</td>\n",
       "      <td>1.907250e-06</td>\n",
       "    </tr>\n",
       "    <tr>\n",
       "      <th>max</th>\n",
       "      <td>9.145000e-06</td>\n",
       "      <td>0.000016</td>\n",
       "      <td>2.817000e-06</td>\n",
       "      <td>3.064000e-06</td>\n",
       "    </tr>\n",
       "  </tbody>\n",
       "</table>\n",
       "</div>"
      ],
      "text/plain": [
       "              1000        1             100           10000\n",
       "count  1.000000e+02  100.000000  1.000000e+02  1.000000e+02\n",
       "mean   2.281510e-06    0.000002  1.830260e-06  1.885970e-06\n",
       "std    6.948223e-07    0.000001  1.773651e-07  2.171498e-07\n",
       "min    2.156000e-06    0.000002  1.706000e-06  1.728000e-06\n",
       "25%    2.188000e-06    0.000002  1.741000e-06  1.756750e-06\n",
       "50%    2.201000e-06    0.000002  1.755000e-06  1.812000e-06\n",
       "75%    2.233500e-06    0.000002  1.827000e-06  1.907250e-06\n",
       "max    9.145000e-06    0.000016  2.817000e-06  3.064000e-06"
      ]
     },
     "execution_count": 31,
     "metadata": {},
     "output_type": "execute_result"
    }
   ],
   "source": [
    "df_sq_exp.describe()"
   ]
  },
  {
   "cell_type": "code",
   "execution_count": 32,
   "metadata": {},
   "outputs": [
    {
     "data": {
      "text/html": [
       "<div>\n",
       "<style scoped>\n",
       "    .dataframe tbody tr th:only-of-type {\n",
       "        vertical-align: middle;\n",
       "    }\n",
       "\n",
       "    .dataframe tbody tr th {\n",
       "        vertical-align: top;\n",
       "    }\n",
       "\n",
       "    .dataframe thead th {\n",
       "        text-align: right;\n",
       "    }\n",
       "</style>\n",
       "<table border=\"1\" class=\"dataframe\">\n",
       "  <thead>\n",
       "    <tr style=\"text-align: right;\">\n",
       "      <th></th>\n",
       "      <th>1000</th>\n",
       "      <th>1</th>\n",
       "      <th>100</th>\n",
       "      <th>10000</th>\n",
       "    </tr>\n",
       "  </thead>\n",
       "  <tbody>\n",
       "    <tr>\n",
       "      <th>count</th>\n",
       "      <td>1.000000e+02</td>\n",
       "      <td>1.000000e+02</td>\n",
       "      <td>1.000000e+02</td>\n",
       "      <td>1.000000e+02</td>\n",
       "    </tr>\n",
       "    <tr>\n",
       "      <th>mean</th>\n",
       "      <td>1.859440e-06</td>\n",
       "      <td>1.804500e-06</td>\n",
       "      <td>1.508160e-06</td>\n",
       "      <td>1.580610e-06</td>\n",
       "    </tr>\n",
       "    <tr>\n",
       "      <th>std</th>\n",
       "      <td>6.594937e-08</td>\n",
       "      <td>1.009354e-07</td>\n",
       "      <td>7.456401e-08</td>\n",
       "      <td>2.559793e-07</td>\n",
       "    </tr>\n",
       "    <tr>\n",
       "      <th>min</th>\n",
       "      <td>1.821000e-06</td>\n",
       "      <td>1.442000e-06</td>\n",
       "      <td>1.420000e-06</td>\n",
       "      <td>1.416000e-06</td>\n",
       "    </tr>\n",
       "    <tr>\n",
       "      <th>25%</th>\n",
       "      <td>1.834000e-06</td>\n",
       "      <td>1.800750e-06</td>\n",
       "      <td>1.465000e-06</td>\n",
       "      <td>1.457000e-06</td>\n",
       "    </tr>\n",
       "    <tr>\n",
       "      <th>50%</th>\n",
       "      <td>1.845500e-06</td>\n",
       "      <td>1.816500e-06</td>\n",
       "      <td>1.481000e-06</td>\n",
       "      <td>1.493500e-06</td>\n",
       "    </tr>\n",
       "    <tr>\n",
       "      <th>75%</th>\n",
       "      <td>1.870250e-06</td>\n",
       "      <td>1.850250e-06</td>\n",
       "      <td>1.517500e-06</td>\n",
       "      <td>1.615000e-06</td>\n",
       "    </tr>\n",
       "    <tr>\n",
       "      <th>max</th>\n",
       "      <td>2.471000e-06</td>\n",
       "      <td>2.018000e-06</td>\n",
       "      <td>1.845000e-06</td>\n",
       "      <td>3.525000e-06</td>\n",
       "    </tr>\n",
       "  </tbody>\n",
       "</table>\n",
       "</div>"
      ],
      "text/plain": [
       "              1000          1             100           10000\n",
       "count  1.000000e+02  1.000000e+02  1.000000e+02  1.000000e+02\n",
       "mean   1.859440e-06  1.804500e-06  1.508160e-06  1.580610e-06\n",
       "std    6.594937e-08  1.009354e-07  7.456401e-08  2.559793e-07\n",
       "min    1.821000e-06  1.442000e-06  1.420000e-06  1.416000e-06\n",
       "25%    1.834000e-06  1.800750e-06  1.465000e-06  1.457000e-06\n",
       "50%    1.845500e-06  1.816500e-06  1.481000e-06  1.493500e-06\n",
       "75%    1.870250e-06  1.850250e-06  1.517500e-06  1.615000e-06\n",
       "max    2.471000e-06  2.018000e-06  1.845000e-06  3.525000e-06"
      ]
     },
     "execution_count": 32,
     "metadata": {},
     "output_type": "execute_result"
    }
   ],
   "source": [
    "df_sq.describe()"
   ]
  },
  {
   "cell_type": "code",
   "execution_count": 53,
   "metadata": {},
   "outputs": [
    {
     "name": "stdout",
     "output_type": "stream",
     "text": [
      "n=1000, valor-p : 0.00000001\n",
      "Datos provienen de distribuciones diferentes\n",
      "----------------------------------------\n",
      "n=1, valor-p : 0.00059650\n",
      "Datos provienen de distribuciones diferentes\n",
      "----------------------------------------\n",
      "n=100, valor-p : 0.00000000\n",
      "Datos provienen de distribuciones diferentes\n",
      "----------------------------------------\n",
      "n=10000, valor-p : 0.00000000\n",
      "Datos provienen de distribuciones diferentes\n",
      "----------------------------------------\n"
     ]
    }
   ],
   "source": [
    "from scipy import stats\n",
    "\n",
    "# Student’s t-test\n",
    "# Tests whether the means of two independent samples are significantly different.\n",
    "\n",
    "for n in experiments:\n",
    "    pvalue=stats.ttest_ind(df_sq[n],df_sq_exp[n])[1]\n",
    "    print('n={0}, valor-p : {1:06.8f}'.format(n,pvalue))\n",
    "    if pvalue > 0.05:\n",
    "        print('Datos provienen de la misma distribucion')\n",
    "    else:\n",
    "        print('Datos provienen de distribuciones diferentes')\n",
    "    print('----------------------------------------')"
   ]
  },
  {
   "cell_type": "code",
   "execution_count": 97,
   "metadata": {},
   "outputs": [
    {
     "name": "stdout",
     "output_type": "stream",
     "text": [
      "stat=2.088, p=0.070\n",
      "Datos provienen de la misma distribucion\n"
     ]
    }
   ],
   "source": [
    "from scipy.stats import ttest_ind\n",
    "import numpy as np\n",
    "\n",
    "# problema con tama~{n}os de muestra peque~{n}os!\n",
    "\n",
    "samples=5\n",
    "data1 = np.random.normal(1,1,samples)\n",
    "data2 = np.random.normal(0,1,samples)\n",
    "stat, p = ttest_ind(data1, data2)\n",
    "\n",
    "print('stat=%.3f, p=%.3f' % (stat, p))\n",
    "if p > 0.05:\n",
    "    print('Datos provienen de la misma distribucion')\n",
    "else:\n",
    "    print('Datos provienen de distribuciones diferentes')"
   ]
  },
  {
   "cell_type": "markdown",
   "metadata": {},
   "source": [
    "# Costo Lineal\n",
    "\n",
    "El costo lineal se refiere al caso cuando el algoritmo tiene costo lineal con respecto al tamaño del problema $\\mathcal{O}(n)$"
   ]
  },
  {
   "cell_type": "code",
   "execution_count": 27,
   "metadata": {},
   "outputs": [
    {
     "name": "stdout",
     "output_type": "stream",
     "text": [
      "La suma acumulativa de 10 es :    45\n",
      "La suma acumulativa de 1000 es : 499500\n"
     ]
    }
   ],
   "source": [
    "def cumsum(n):\n",
    "    j=0\n",
    "    for i in range(int(n)):\n",
    "        j=j+i\n",
    "    return j\n",
    "\n",
    "print('La suma acumulativa de 10 es : %5d'%cumsum(10))\n",
    "print('La suma acumulativa de 1000 es : %5d'%cumsum(1e3))"
   ]
  },
  {
   "cell_type": "code",
   "execution_count": 48,
   "metadata": {},
   "outputs": [],
   "source": [
    "import time\n",
    "\n",
    "experiments={1,100,1000,10000}\n",
    "samples=100\n",
    "results={}\n",
    "for n in experiments:\n",
    "    result=[]\n",
    "    for sample in range(samples):\n",
    "        t = time.process_time()\n",
    "        cumsum(n)\n",
    "        t1 = time.process_time() - t\n",
    "        result.append(t1)\n",
    "    results.update({n:result})\n"
   ]
  },
  {
   "cell_type": "code",
   "execution_count": 49,
   "metadata": {},
   "outputs": [],
   "source": [
    "df_cumsum=pd.DataFrame(results)"
   ]
  },
  {
   "cell_type": "code",
   "execution_count": 54,
   "metadata": {},
   "outputs": [
    {
     "data": {
      "text/plain": [
       "Text(0.5, 1.0, 'Costo lineal')"
      ]
     },
     "execution_count": 54,
     "metadata": {},
     "output_type": "execute_result"
    },
    {
     "data": {
      "image/png": "[encoded data removed]",
      "text/plain": [
       "<Figure size 432x288 with 1 Axes>"
      ]
     },
     "metadata": {},
     "output_type": "display_data"
    }
   ],
   "source": [
    "df_cumsum.mean().plot()\n",
    "plt.title('Costo lineal')"
   ]
  },
  {
   "cell_type": "code",
   "execution_count": 98,
   "metadata": {},
   "outputs": [
    {
     "data": {
      "text/html": [
       "<div>\n",
       "<style scoped>\n",
       "    .dataframe tbody tr th:only-of-type {\n",
       "        vertical-align: middle;\n",
       "    }\n",
       "\n",
       "    .dataframe tbody tr th {\n",
       "        vertical-align: top;\n",
       "    }\n",
       "\n",
       "    .dataframe thead th {\n",
       "        text-align: right;\n",
       "    }\n",
       "</style>\n",
       "<table border=\"1\" class=\"dataframe\">\n",
       "  <thead>\n",
       "    <tr style=\"text-align: right;\">\n",
       "      <th></th>\n",
       "      <th>1000</th>\n",
       "      <th>1</th>\n",
       "      <th>100</th>\n",
       "      <th>10000</th>\n",
       "    </tr>\n",
       "  </thead>\n",
       "  <tbody>\n",
       "    <tr>\n",
       "      <th>0</th>\n",
       "      <td>0.000051</td>\n",
       "      <td>0.000002</td>\n",
       "      <td>0.000005</td>\n",
       "      <td>0.000446</td>\n",
       "    </tr>\n",
       "    <tr>\n",
       "      <th>1</th>\n",
       "      <td>0.000044</td>\n",
       "      <td>0.000001</td>\n",
       "      <td>0.000004</td>\n",
       "      <td>0.000414</td>\n",
       "    </tr>\n",
       "    <tr>\n",
       "      <th>2</th>\n",
       "      <td>0.000044</td>\n",
       "      <td>0.000001</td>\n",
       "      <td>0.000004</td>\n",
       "      <td>0.000444</td>\n",
       "    </tr>\n",
       "    <tr>\n",
       "      <th>3</th>\n",
       "      <td>0.000044</td>\n",
       "      <td>0.000001</td>\n",
       "      <td>0.000004</td>\n",
       "      <td>0.001121</td>\n",
       "    </tr>\n",
       "    <tr>\n",
       "      <th>4</th>\n",
       "      <td>0.000044</td>\n",
       "      <td>0.000001</td>\n",
       "      <td>0.000004</td>\n",
       "      <td>0.000496</td>\n",
       "    </tr>\n",
       "  </tbody>\n",
       "</table>\n",
       "</div>"
      ],
      "text/plain": [
       "      1000      1         100       10000\n",
       "0  0.000051  0.000002  0.000005  0.000446\n",
       "1  0.000044  0.000001  0.000004  0.000414\n",
       "2  0.000044  0.000001  0.000004  0.000444\n",
       "3  0.000044  0.000001  0.000004  0.001121\n",
       "4  0.000044  0.000001  0.000004  0.000496"
      ]
     },
     "execution_count": 98,
     "metadata": {},
     "output_type": "execute_result"
    }
   ],
   "source": [
    "df_cumsum.head()"
   ]
  },
  {
   "cell_type": "code",
   "execution_count": null,
   "metadata": {},
   "outputs": [],
   "source": []
  }
 ],
 "metadata": {
  "kernelspec": {
   "display_name": "Python 3",
   "language": "python",
   "name": "python3"
  },
  "language_info": {
   "codemirror_mode": {
    "name": "ipython",
    "version": 3
   },
   "file_extension": ".py",
   "mimetype": "text/x-python",
   "name": "python",
   "nbconvert_exporter": "python",
   "pygments_lexer": "ipython3",
   "version": "3.6.9"
  }
 },
 "nbformat": 4,
 "nbformat_minor": 2
}
