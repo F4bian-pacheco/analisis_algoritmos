{
 "cells": [
  {
   "cell_type": "markdown",
   "metadata": {
    "colab_type": "text",
    "id": "1P1Mmvjfxjt8"
   },
   "source": [
    "# Análisis de Algoritmos ICI522\n",
    "\n",
    "Los programas resuelven problemas, pero existen muchas formas de resolver un problema. Cómo saber cuándo un programa es mejor que otro?\n",
    "\n",
    "El análisis de algoritmos es la manera de determinar los requerimientos de tiempo y espacio requeridos por un programa.\n",
    "\n",
    "La notación O Grande o $\\mathcal{O}(f(n))$ se utliza para definir una cota superior del comportamiento asintótico del crecimiento del tiempo de ejecución de un programa."
   ]
  },
  {
   "cell_type": "code",
   "execution_count": 1,
   "metadata": {
    "colab": {
     "base_uri": "https://localhost:8080/",
     "height": 194
    },
    "colab_type": "code",
    "id": "qi6xfBa8xjt9",
    "outputId": "325ac7e2-a0ad-41f1-99b5-cbea573c98fa"
   },
   "outputs": [
    {
     "name": "stdout",
     "output_type": "stream",
     "text": [
      "3.6.9\n",
      "Help on built-in function clock in module time:\n",
      "\n",
      "clock(...)\n",
      "    clock() -> floating point number\n",
      "    \n",
      "    Return the CPU time or real time since the start of the process or since\n",
      "    the first call to clock().  This has as much precision as the system\n",
      "    records.\n",
      "\n"
     ]
    }
   ],
   "source": [
    "from platform import python_version\n",
    "\n",
    "print(python_version())\n",
    "\n",
    "import time\n",
    "\n",
    "help(time.clock)"
   ]
  },
  {
   "cell_type": "markdown",
   "metadata": {
    "colab_type": "text",
    "id": "QYz_pC3zxjuD"
   },
   "source": [
    "# Costo Constante\n",
    "\n",
    "El costo constante se refiere al caso cuando el algoritmo tiene costo invariante al tamaño del problema $\\mathcal{O}(1)$"
   ]
  },
  {
   "cell_type": "code",
   "execution_count": 77,
   "metadata": {
    "colab": {},
    "colab_type": "code",
    "id": "XIT5P2RExjuE"
   },
   "outputs": [],
   "source": [
    "import time\n",
    "from time import clock\n",
    "\n",
    "square_exp = lambda n : n**2\n",
    "square = lambda n : n*n\n",
    "\n",
    "experiments={1,100,300,500,1000,3000,5000,7000,10000}\n",
    "samples=1000\n",
    "results_1={}\n",
    "results_2={}\n",
    "for n in experiments:\n",
    "    result1=[]\n",
    "    result2=[]\n",
    "    for sample in range(samples):\n",
    "        t = clock()\n",
    "        v1=square_exp(n)\n",
    "        t1 = clock() - t\n",
    "        t = clock()\n",
    "        v2=square(n)\n",
    "        t2 = clock() - t\n",
    "        result1.append(t1)\n",
    "        result2.append(t2)\n",
    "    results_1.update({n:result1})\n",
    "    results_2.update({n:result2})"
   ]
  },
  {
   "cell_type": "code",
   "execution_count": 78,
   "metadata": {
    "colab": {},
    "colab_type": "code",
    "id": "VIS8eAFrxjuH"
   },
   "outputs": [],
   "source": [
    "import pandas as pd\n",
    "\n",
    "df_sq_exp=pd.DataFrame(results_1)\n",
    "df_sq=pd.DataFrame(results_2)"
   ]
  },
  {
   "cell_type": "code",
   "execution_count": 79,
   "metadata": {
    "colab": {},
    "colab_type": "code",
    "id": "Uk-cTIvN1HPf"
   },
   "outputs": [],
   "source": [
    "df_sq_exp=df_sq_exp.stack().reset_index()\n",
    "df_sq=df_sq.stack().reset_index()"
   ]
  },
  {
   "cell_type": "code",
   "execution_count": 80,
   "metadata": {
    "colab": {},
    "colab_type": "code",
    "id": "FhBppMwsyG9E"
   },
   "outputs": [],
   "source": [
    "df_sq_exp['method']='n**2'\n",
    "df_sq['method']='n*n'"
   ]
  },
  {
   "cell_type": "code",
   "execution_count": 81,
   "metadata": {
    "colab": {},
    "colab_type": "code",
    "id": "773izoDjya8M"
   },
   "outputs": [],
   "source": [
    "df=pd.concat([df_sq,df_sq_exp])"
   ]
  },
  {
   "cell_type": "code",
   "execution_count": 82,
   "metadata": {
    "colab": {},
    "colab_type": "code",
    "id": "UpfMy-J9yhBX"
   },
   "outputs": [],
   "source": [
    "df['method']=df['method'].astype('category')"
   ]
  },
  {
   "cell_type": "code",
   "execution_count": 83,
   "metadata": {
    "colab": {},
    "colab_type": "code",
    "id": "K7rdTR-w02xS"
   },
   "outputs": [],
   "source": [
    "df.drop(columns=['level_0'],inplace=True)"
   ]
  },
  {
   "cell_type": "code",
   "execution_count": 84,
   "metadata": {
    "colab": {},
    "colab_type": "code",
    "id": "Ow2Qqw672FQS"
   },
   "outputs": [],
   "source": [
    "df.rename(columns={'level_1':'size',0:'time'},inplace=True)"
   ]
  },
  {
   "cell_type": "code",
   "execution_count": 85,
   "metadata": {
    "colab": {},
    "colab_type": "code",
    "id": "obFZ_Mit2bwf"
   },
   "outputs": [],
   "source": [
    "df['size']=df['size'].astype('category')"
   ]
  },
  {
   "cell_type": "code",
   "execution_count": 86,
   "metadata": {
    "colab": {
     "base_uri": "https://localhost:8080/",
     "height": 549
    },
    "colab_type": "code",
    "id": "7gjMmqVHyxST",
    "outputId": "ea85c69f-83c9-43a7-c855-553f2ee63aeb"
   },
   "outputs": [
    {
     "data": {
      "image/png": "[encoded data removed]",
      "text/plain": [
       "<Figure size 432x540 with 9 Axes>"
      ]
     },
     "metadata": {
      "needs_background": "light",
      "tags": []
     },
     "output_type": "display_data"
    }
   ],
   "source": [
    "import matplotlib.pyplot as plt\n",
    "import seaborn as sns\n",
    "\n",
    "g = sns.catplot(x=\"method\", y=\"time\", col=\"size\",data=df, saturation=.5,\n",
    "                kind=\"bar\", col_wrap=3, height=2.5, aspect=.8)"
   ]
  },
  {
   "cell_type": "code",
   "execution_count": 87,
   "metadata": {
    "colab": {
     "base_uri": "https://localhost:8080/",
     "height": 495
    },
    "colab_type": "code",
    "id": "5k3mgqgIxjuY",
    "outputId": "7fa4e20b-9c65-413c-ea08-02350d6f0949"
   },
   "outputs": [
    {
     "name": "stdout",
     "output_type": "stream",
     "text": [
      "n=1, valor-p : 0.00000000\n",
      "Datos provienen de distribuciones diferentes\n",
      "----------------------------------------\n",
      "n=100, valor-p : 0.00005486\n",
      "Datos provienen de distribuciones diferentes\n",
      "----------------------------------------\n",
      "n=1000, valor-p : 0.00000000\n",
      "Datos provienen de distribuciones diferentes\n",
      "----------------------------------------\n",
      "n=5000, valor-p : 0.00000001\n",
      "Datos provienen de distribuciones diferentes\n",
      "----------------------------------------\n",
      "n=300, valor-p : 0.00000000\n",
      "Datos provienen de distribuciones diferentes\n",
      "----------------------------------------\n",
      "n=10000, valor-p : 0.00000000\n",
      "Datos provienen de distribuciones diferentes\n",
      "----------------------------------------\n",
      "n=7000, valor-p : 0.00000000\n",
      "Datos provienen de distribuciones diferentes\n",
      "----------------------------------------\n",
      "n=500, valor-p : 0.00000000\n",
      "Datos provienen de distribuciones diferentes\n",
      "----------------------------------------\n",
      "n=3000, valor-p : 0.00000000\n",
      "Datos provienen de distribuciones diferentes\n",
      "----------------------------------------\n"
     ]
    }
   ],
   "source": [
    "from scipy import stats\n",
    "\n",
    "# Student’s t-test\n",
    "# Tests whether the means of two independent samples are significantly different.\n",
    "\n",
    "for n in experiments:\n",
    "    pvalue=stats.ttest_ind(df.loc[(df['method'] == 'n*n') & (df['size'] ==n)]['time'],\n",
    "                           df.loc[(df['method'] == 'n**2') & (df['size'] ==n)]['time'])[1]\n",
    "    print('n={0}, valor-p : {1:06.8f}'.format(n,pvalue))\n",
    "    if pvalue > 0.05:\n",
    "        print('Datos provienen de la misma distribucion')\n",
    "    else:\n",
    "        print('Datos provienen de distribuciones diferentes')\n",
    "    print('----------------------------------------')"
   ]
  },
  {
   "cell_type": "code",
   "execution_count": 15,
   "metadata": {
    "colab": {
     "base_uri": "https://localhost:8080/",
     "height": 52
    },
    "colab_type": "code",
    "id": "MxvKouCQxjuc",
    "outputId": "a6086498-0814-4d18-ca52-4b400555cfea"
   },
   "outputs": [
    {
     "name": "stdout",
     "output_type": "stream",
     "text": [
      "stat=0.939, p=0.375\n",
      "Datos provienen de la misma distribucion\n"
     ]
    }
   ],
   "source": [
    "from scipy.stats import ttest_ind\n",
    "import numpy as np\n",
    "\n",
    "# problema con tama~{n}os de muestra peque~{n}os!\n",
    "\n",
    "samples=5\n",
    "data1 = np.random.normal(1,1,samples)\n",
    "data2 = np.random.normal(0,1,samples)\n",
    "stat, p = ttest_ind(data1, data2)\n",
    "\n",
    "print('stat=%.3f, p=%.3f' % (stat, p))\n",
    "if p > 0.05:\n",
    "    print('Datos provienen de la misma distribucion')\n",
    "else:\n",
    "    print('Datos provienen de distribuciones diferentes')"
   ]
  },
  {
   "cell_type": "markdown",
   "metadata": {
    "colab_type": "text",
    "id": "s65NV2Z2xjuf"
   },
   "source": [
    "# Costo Lineal\n",
    "\n",
    "El costo lineal se refiere al caso cuando el algoritmo tiene costo lineal con respecto al tamaño del problema $\\mathcal{O}(n)$"
   ]
  },
  {
   "cell_type": "code",
   "execution_count": 1,
   "metadata": {
    "colab": {},
    "colab_type": "code",
    "id": "RmRQJHsrxjug",
    "outputId": "662d4720-938a-4d24-ea35-4e2d3b22538d"
   },
   "outputs": [
    {
     "name": "stdout",
     "output_type": "stream",
     "text": [
      "La suma acumulativa de 10 es :    45\n",
      "La suma acumulativa de 1000 es : 499500\n"
     ]
    }
   ],
   "source": [
    "def cumsum(n):\n",
    "    j=0\n",
    "    for i in range(int(n)):\n",
    "        j=j+i\n",
    "    return j\n",
    "\n",
    "print('La suma acumulativa de 10 es : %5d'%cumsum(10))\n",
    "print('La suma acumulativa de 1000 es : %5d'%cumsum(1e3))"
   ]
  },
  {
   "cell_type": "code",
   "execution_count": 14,
   "metadata": {
    "colab": {},
    "colab_type": "code",
    "id": "k7lksh5QxjvI"
   },
   "outputs": [
    {
     "name": "stdout",
     "output_type": "stream",
     "text": [
      "La suma acumulativa de 10 es :    45\n",
      "La suma acumulativa de 1000 es : 499500\n"
     ]
    }
   ],
   "source": [
    "import numpy as np\n",
    "\n",
    "print('La suma acumulativa de 10 es : %5d'%np.cumsum(np.arange(10))[-1])\n",
    "print('La suma acumulativa de 1000 es : %5d'%np.cumsum(np.arange(1e3))[-1])"
   ]
  },
  {
   "cell_type": "markdown",
   "metadata": {},
   "source": [
    "# Tarea\n",
    "\n",
    "En este laboratorio Ud debe completar las siguientes tareas:\n",
    "\n",
    "    1.) Comparar dos implementaciones distintas para una funcion de costo lineal.\n",
    "    2.) Reportar los tiempos de ejecucion para distintos tamaños de problema.\n",
    "    3.) Evaluar los valores-p para cada tamaño de problema e implementación."
   ]
  },
  {
   "cell_type": "code",
   "execution_count": null,
   "metadata": {},
   "outputs": [],
   "source": []
  }
 ],
 "metadata": {
  "colab": {
   "name": "1.-Introduccion.ipynb",
   "provenance": []
  },
  "kernelspec": {
   "display_name": "Python 3",
   "language": "python",
   "name": "python3"
  },
  "language_info": {
   "codemirror_mode": {
    "name": "ipython",
    "version": 3
   },
   "file_extension": ".py",
   "mimetype": "text/x-python",
   "name": "python",
   "nbconvert_exporter": "python",
   "pygments_lexer": "ipython3",
   "version": "3.6.9"
  }
 },
 "nbformat": 4,
 "nbformat_minor": 1
}
