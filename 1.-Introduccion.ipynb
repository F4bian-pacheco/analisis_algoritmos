{
  "nbformat": 4,
  "nbformat_minor": 0,
  "metadata": {
    "colab": {
      "name": "1.-Introduccion.ipynb",
      "provenance": []
    },
    "kernelspec": {
      "display_name": "Python 3",
      "language": "python",
      "name": "python3"
    },
    "language_info": {
      "codemirror_mode": {
        "name": "ipython",
        "version": 3
      },
      "file_extension": ".py",
      "mimetype": "text/x-python",
      "name": "python",
      "nbconvert_exporter": "python",
      "pygments_lexer": "ipython3",
      "version": "3.6.9"
    }
  },
  "cells": [
    {
      "cell_type": "markdown",
      "metadata": {
        "id": "1P1Mmvjfxjt8"
      },
      "source": [
        "# Análisis de Algoritmos ICI522\n",
        "\n",
        "Los programas resuelven problemas, pero existen muchas formas de resolver un problema. Cómo saber cuándo un programa es mejor que otro?\n",
        "\n",
        "El análisis de algoritmos es la manera de determinar los requerimientos de tiempo y espacio requeridos por un programa.\n",
        "\n",
        "La notación O Grande o $\\mathcal{O}(f(n))$ se utliza para definir una cota superior del comportamiento asintótico del crecimiento del tiempo de ejecución de un programa."
      ]
    },
    {
      "cell_type": "code",
      "metadata": {
        "colab": {
          "base_uri": "https://localhost:8080/"
        },
        "id": "qi6xfBa8xjt9",
        "outputId": "418dfb73-88d5-4042-89da-627cfc6dcefd"
      },
      "source": [
        "from platform import python_version\n",
        "\n",
        "print(python_version())\n",
        "\n",
        "import time\n",
        "\n",
        "help(time.time)"
      ],
      "execution_count": 3,
      "outputs": [
        {
          "output_type": "stream",
          "text": [
            "3.7.10\n",
            "Help on built-in function time in module time:\n",
            "\n",
            "time(...)\n",
            "    time() -> floating point number\n",
            "    \n",
            "    Return the current time in seconds since the Epoch.\n",
            "    Fractions of a second may be present if the system clock provides them.\n",
            "\n"
          ],
          "name": "stdout"
        }
      ]
    },
    {
      "cell_type": "markdown",
      "metadata": {
        "id": "QYz_pC3zxjuD"
      },
      "source": [
        "# Costo Constante\n",
        "\n",
        "El costo constante se refiere al caso cuando el algoritmo tiene costo invariante al tamaño del problema $\\mathcal{O}(1)$"
      ]
    },
    {
      "cell_type": "code",
      "metadata": {
        "id": "XIT5P2RExjuE"
      },
      "source": [
        "import time\n",
        "from time import time\n",
        "\n",
        "square_exp = lambda n : n**2\n",
        "square = lambda n : n*n\n",
        "\n",
        "experiments={1,100,300,500,1000,3000,5000,7000,10000}\n",
        "samples=1000\n",
        "results_1={}\n",
        "results_2={}\n",
        "for n in experiments:\n",
        "    result1=[]\n",
        "    result2=[]\n",
        "    for sample in range(samples):\n",
        "        t = time()\n",
        "        v1=square_exp(n)\n",
        "        t1 = time() - t\n",
        "        t = time()\n",
        "        v2=square(n)\n",
        "        t2 = time() - t\n",
        "        result1.append(t1)\n",
        "        result2.append(t2)\n",
        "    results_1.update({n:result1})\n",
        "    results_2.update({n:result2})"
      ],
      "execution_count": 22,
      "outputs": []
    },
    {
      "cell_type": "code",
      "metadata": {
        "id": "VIS8eAFrxjuH"
      },
      "source": [
        "import pandas as pd\n",
        "\n",
        "df_sq_exp=pd.DataFrame(results_1)\n",
        "df_sq=pd.DataFrame(results_2)"
      ],
      "execution_count": 48,
      "outputs": []
    },
    {
      "cell_type": "code",
      "metadata": {
        "id": "Uk-cTIvN1HPf"
      },
      "source": [
        "df_sq_exp=df_sq_exp.stack().reset_index()\n",
        "df_sq=df_sq.stack().reset_index()"
      ],
      "execution_count": 49,
      "outputs": []
    },
    {
      "cell_type": "code",
      "metadata": {
        "id": "FhBppMwsyG9E"
      },
      "source": [
        "df_sq_exp['method']='n**2'\n",
        "df_sq['method']='n*n'"
      ],
      "execution_count": 50,
      "outputs": []
    },
    {
      "cell_type": "code",
      "metadata": {
        "id": "773izoDjya8M"
      },
      "source": [
        "df=pd.concat([df_sq,df_sq_exp])"
      ],
      "execution_count": 51,
      "outputs": []
    },
    {
      "cell_type": "code",
      "metadata": {
        "id": "UpfMy-J9yhBX"
      },
      "source": [
        "df['method']=df['method'].astype('category')"
      ],
      "execution_count": 52,
      "outputs": []
    },
    {
      "cell_type": "code",
      "metadata": {
        "id": "K7rdTR-w02xS"
      },
      "source": [
        "df.drop(columns=['level_0'],inplace=True)"
      ],
      "execution_count": 53,
      "outputs": []
    },
    {
      "cell_type": "code",
      "metadata": {
        "id": "Ow2Qqw672FQS"
      },
      "source": [
        "df.rename(columns={'level_1':'size',0:'time'},inplace=True)"
      ],
      "execution_count": 54,
      "outputs": []
    },
    {
      "cell_type": "code",
      "metadata": {
        "id": "obFZ_Mit2bwf"
      },
      "source": [
        "df['size']=df['size'].astype('category')"
      ],
      "execution_count": 55,
      "outputs": []
    },
    {
      "cell_type": "code",
      "metadata": {
        "colab": {
          "base_uri": "https://localhost:8080/",
          "height": 563
        },
        "id": "7gjMmqVHyxST",
        "outputId": "12c5a5d8-8a4e-4b8a-ef4c-3217aa36c1d9"
      },
      "source": [
        "import matplotlib.pyplot as plt\n",
        "import seaborn as sns\n",
        "\n",
        "g = sns.catplot(x=\"method\", y=\"time\", col=\"size\",data=df, saturation=.5,\n",
        "                kind=\"bar\", col_wrap=3, height=2.5, aspect=.8)"
      ],
      "execution_count": 56,
      "outputs": [
        {
          "output_type": "display_data",
          "data": {
            "image/png": "[encoded data removed]",
            "text/plain": [
              "<Figure size 432x540 with 9 Axes>"
            ]
          },
          "metadata": {
            "tags": [],
            "needs_background": "light"
          }
        }
      ]
    },
    {
      "cell_type": "markdown",
      "metadata": {
        "id": "axUy55HVlR2b"
      },
      "source": [
        "Primero comprobamos que para un mismo tamaño de entrada, ambos metodos entregan resultados diferentes de tiempo de ejecucion"
      ]
    },
    {
      "cell_type": "code",
      "metadata": {
        "colab": {
          "base_uri": "https://localhost:8080/"
        },
        "id": "5k3mgqgIxjuY",
        "outputId": "15467df0-9972-4bb4-800a-492040b9ebb2"
      },
      "source": [
        "from scipy import stats\n",
        "\n",
        "# Student’s t-test\n",
        "# Tests whether the means of two independent samples are significantly different.\n",
        "\n",
        "for n in experiments:\n",
        "    pvalue=stats.ttest_ind(df.loc[(df['method'] == 'n*n') & (df['size'] ==n)]['time'],\n",
        "                           df.loc[(df['method'] == 'n**2') & (df['size'] ==n)]['time'])[1]\n",
        "    print('n={0}, valor-p : {1:06.8f}'.format(n,pvalue))\n",
        "    if pvalue > 0.05:\n",
        "        print('Datos provienen de la misma distribucion')\n",
        "    else:\n",
        "        print('Datos provienen de distribuciones diferentes')\n",
        "    print('----------------------------------------')"
      ],
      "execution_count": 64,
      "outputs": [
        {
          "output_type": "stream",
          "text": [
            "n=1, valor-p : 0.00000000\n",
            "Datos provienen de distribuciones diferentes\n",
            "----------------------------------------\n",
            "n=100, valor-p : 0.00000000\n",
            "Datos provienen de distribuciones diferentes\n",
            "----------------------------------------\n",
            "n=1000, valor-p : 0.00000000\n",
            "Datos provienen de distribuciones diferentes\n",
            "----------------------------------------\n",
            "n=5000, valor-p : 0.00004713\n",
            "Datos provienen de distribuciones diferentes\n",
            "----------------------------------------\n",
            "n=300, valor-p : 0.00000000\n",
            "Datos provienen de distribuciones diferentes\n",
            "----------------------------------------\n",
            "n=10000, valor-p : 0.00000000\n",
            "Datos provienen de distribuciones diferentes\n",
            "----------------------------------------\n",
            "n=7000, valor-p : 0.00000000\n",
            "Datos provienen de distribuciones diferentes\n",
            "----------------------------------------\n",
            "n=500, valor-p : 0.00000000\n",
            "Datos provienen de distribuciones diferentes\n",
            "----------------------------------------\n",
            "n=3000, valor-p : 0.00000000\n",
            "Datos provienen de distribuciones diferentes\n",
            "----------------------------------------\n"
          ],
          "name": "stdout"
        }
      ]
    },
    {
      "cell_type": "markdown",
      "metadata": {
        "id": "4xBE0IY5llZK"
      },
      "source": [
        "Ahora, para un mismo metodo comprobamnos que tiene costo constante"
      ]
    },
    {
      "cell_type": "code",
      "metadata": {
        "id": "-Bwm_984knQM",
        "outputId": "3ffad5d6-f2d1-4168-c979-8cf3ed0b4bfc",
        "colab": {
          "base_uri": "https://localhost:8080/"
        }
      },
      "source": [
        "n1=1\n",
        "n2=3000\n",
        "pvalue=stats.ttest_ind(df.loc[(df['method'] == 'n*n') & (df['size'] ==n1)]['time'],\n",
        "                           df.loc[(df['method'] == 'n*n') & (df['size'] ==n2)]['time'])[1]\n",
        "print('n1={0},n2={1} valor-p : {2:06.8f}'.format(n1,n2,pvalue))\n",
        "if pvalue > 0.05:\n",
        "  print('Datos provienen de la misma distribucion')\n",
        "else:\n",
        "  print('Datos provienen de distribuciones diferentes')"
      ],
      "execution_count": 66,
      "outputs": [
        {
          "output_type": "stream",
          "text": [
            "n1=1,n2=3000 valor-p : 0.13816493\n",
            "Datos provienen de la misma distribucion\n"
          ],
          "name": "stdout"
        }
      ]
    },
    {
      "cell_type": "markdown",
      "metadata": {
        "id": "g_c0AEdUmKQu"
      },
      "source": [
        "Una consideracion importante al comparar poblaciones es el tamaño muestreal. En poblaciones pequeñas, no es posible determinar variaciones en sus medias o varianzas."
      ]
    },
    {
      "cell_type": "code",
      "metadata": {
        "colab": {
          "base_uri": "https://localhost:8080/"
        },
        "id": "MxvKouCQxjuc",
        "outputId": "b1763e8a-9159-4b6c-d13f-77387ec0bf70"
      },
      "source": [
        "from scipy.stats import ttest_ind\n",
        "import numpy as np\n",
        "\n",
        "# problema con tama~{n}os de muestra peque~{n}os!\n",
        "\n",
        "samples=5\n",
        "data1 = np.random.normal(1,1,samples)\n",
        "data2 = np.random.normal(0,1,samples)\n",
        "stat, p = ttest_ind(data1, data2)\n",
        "\n",
        "print('stat=%.3f, p=%.3f' % (stat, p))\n",
        "if p > 0.05:\n",
        "    print('Datos provienen de la misma distribucion')\n",
        "else:\n",
        "    print('Datos provienen de distribuciones diferentes')"
      ],
      "execution_count": 67,
      "outputs": [
        {
          "output_type": "stream",
          "text": [
            "stat=1.269, p=0.240\n",
            "Datos provienen de la misma distribucion\n"
          ],
          "name": "stdout"
        }
      ]
    },
    {
      "cell_type": "markdown",
      "metadata": {
        "id": "s65NV2Z2xjuf"
      },
      "source": [
        "# Costo Lineal\n",
        "\n",
        "El costo lineal se refiere al caso cuando el algoritmo tiene costo lineal con respecto al tamaño del problema $\\mathcal{O}(n)$"
      ]
    },
    {
      "cell_type": "code",
      "metadata": {
        "id": "RmRQJHsrxjug",
        "outputId": "662d4720-938a-4d24-ea35-4e2d3b22538d"
      },
      "source": [
        "def cumsum(n):\n",
        "    j=0\n",
        "    for i in range(int(n)):\n",
        "        j=j+i\n",
        "    return j\n",
        "\n",
        "print('La suma acumulativa de 10 es : %5d'%cumsum(10))\n",
        "print('La suma acumulativa de 1000 es : %5d'%cumsum(1e3))"
      ],
      "execution_count": null,
      "outputs": [
        {
          "output_type": "stream",
          "text": [
            "La suma acumulativa de 10 es :    45\n",
            "La suma acumulativa de 1000 es : 499500\n"
          ],
          "name": "stdout"
        }
      ]
    },
    {
      "cell_type": "code",
      "metadata": {
        "id": "k7lksh5QxjvI",
        "outputId": "d278bd0a-7ca9-4680-feb7-a64d828012eb"
      },
      "source": [
        "import numpy as np\n",
        "\n",
        "print('La suma acumulativa de 10 es : %5d'%np.cumsum(np.arange(10))[-1])\n",
        "print('La suma acumulativa de 1000 es : %5d'%np.cumsum(np.arange(1e3))[-1])"
      ],
      "execution_count": null,
      "outputs": [
        {
          "output_type": "stream",
          "text": [
            "La suma acumulativa de 10 es :    45\n",
            "La suma acumulativa de 1000 es : 499500\n"
          ],
          "name": "stdout"
        }
      ]
    },
    {
      "cell_type": "markdown",
      "metadata": {
        "id": "q1lDQNAAdki0"
      },
      "source": [
        "# Tarea\n",
        "\n",
        "En este laboratorio Ud debe completar las siguientes tareas:\n",
        "\n",
        "    1.) Comparar dos implementaciones distintas para una funcion de costo lineal.\n",
        "    2.) Reportar los tiempos de ejecucion para distintos tamaños de problema.\n",
        "    3.) Evaluar los valores-p para cada tamaño de problema e implementación."
      ]
    },
    {
      "cell_type": "code",
      "metadata": {
        "id": "uxNdro3-dki0"
      },
      "source": [
        ""
      ],
      "execution_count": null,
      "outputs": []
    }
  ]
}