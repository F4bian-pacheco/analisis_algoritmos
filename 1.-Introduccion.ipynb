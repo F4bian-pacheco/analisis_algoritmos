{
  "nbformat": 4,
  "nbformat_minor": 0,
  "metadata": {
    "colab": {
      "name": "1.-Introduccion.ipynb",
      "provenance": []
    },
    "kernelspec": {
      "display_name": "Python 3",
      "language": "python",
      "name": "python3"
    },
    "language_info": {
      "codemirror_mode": {
        "name": "ipython",
        "version": 3
      },
      "file_extension": ".py",
      "mimetype": "text/x-python",
      "name": "python",
      "nbconvert_exporter": "python",
      "pygments_lexer": "ipython3",
      "version": "3.6.9"
    }
  },
  "cells": [
    {
      "cell_type": "markdown",
      "metadata": {
        "id": "1P1Mmvjfxjt8"
      },
      "source": [
        "# Diseño y Análisis de Algoritmos INF413\n",
        "\n",
        "Los programas resuelven problemas, pero existen muchas formas de resolver un problema. Cómo saber cuándo un programa es mejor que otro?\n",
        "\n",
        "El análisis de algoritmos es la manera de determinar los requerimientos de tiempo y espacio requeridos por un programa.\n",
        "\n",
        "La notación O Grande o $\\mathcal{O}(f(n))$ se utliza para definir una cota superior del comportamiento asintótico del crecimiento del tiempo de ejecución de un programa."
      ]
    },
    {
      "cell_type": "code",
      "metadata": {
        "colab": {
          "base_uri": "https://localhost:8080/"
        },
        "id": "qi6xfBa8xjt9",
        "outputId": "8a4970a9-58a2-4b7c-d33b-283195fbfb7f"
      },
      "source": [
        "from platform import python_version\n",
        "\n",
        "print(python_version())\n",
        "\n",
        "import time\n",
        "\n",
        "help(time.time)"
      ],
      "execution_count": 1,
      "outputs": [
        {
          "output_type": "stream",
          "name": "stdout",
          "text": [
            "3.7.13\n",
            "Help on built-in function time in module time:\n",
            "\n",
            "time(...)\n",
            "    time() -> floating point number\n",
            "    \n",
            "    Return the current time in seconds since the Epoch.\n",
            "    Fractions of a second may be present if the system clock provides them.\n",
            "\n"
          ]
        }
      ]
    },
    {
      "cell_type": "code",
      "source": [
        "import math\n",
        "\n",
        "\n",
        "def isPrime(num):\n",
        "  if num < 2:\n",
        "    return False\n",
        "  for i in range(2, int(math.sqrt(num)) + 1):\n",
        "    if num % i == 0:\n",
        "      return False\n",
        "  return True\n",
        "\n",
        "def SieveOfEratosthenes(n):\n",
        "    n=np.int64(n)\n",
        "    prime = [True for i in range(n + 1)]\n",
        "    p = 2\n",
        "    while (p * p <= n):\n",
        "        if (prime[p] == True):  \n",
        "            for i in range(p ** 2, n + 1, p):\n",
        "                prime[i] = False\n",
        "        p += 1\n",
        "    prime[0]= False\n",
        "    prime[1]= False\n",
        "    for i,p in enumerate(prime):\n",
        "      if i==n and p:\n",
        "        return True\n",
        "    return False\n",
        "    "
      ],
      "metadata": {
        "id": "Y6MHgxHDqyd9"
      },
      "execution_count": 92,
      "outputs": []
    },
    {
      "cell_type": "code",
      "source": [
        "isPrime(1e16)"
      ],
      "metadata": {
        "id": "Lt47JZc_rrmJ",
        "outputId": "43baba70-6c08-4380-c9af-e93f470e88a4",
        "colab": {
          "base_uri": "https://localhost:8080/"
        }
      },
      "execution_count": 85,
      "outputs": [
        {
          "output_type": "execute_result",
          "data": {
            "text/plain": [
              "False"
            ]
          },
          "metadata": {},
          "execution_count": 85
        }
      ]
    },
    {
      "cell_type": "code",
      "source": [
        "SieveOfEratosthenes(1e2)"
      ],
      "metadata": {
        "id": "SXEzptKGuhL_",
        "outputId": "2dff9be6-ad49-445e-a15a-3a0f1d132941",
        "colab": {
          "base_uri": "https://localhost:8080/",
          "height": 287
        }
      },
      "execution_count": 91,
      "outputs": [
        {
          "output_type": "error",
          "ename": "TypeError",
          "evalue": "ignored",
          "traceback": [
            "\u001b[0;31m---------------------------------------------------------------------------\u001b[0m",
            "\u001b[0;31mTypeError\u001b[0m                                 Traceback (most recent call last)",
            "\u001b[0;32m<ipython-input-91-08679ceea872>\u001b[0m in \u001b[0;36m<module>\u001b[0;34m()\u001b[0m\n\u001b[0;32m----> 1\u001b[0;31m \u001b[0mSieveOfEratosthenes\u001b[0m\u001b[0;34m(\u001b[0m\u001b[0;36m1e2\u001b[0m\u001b[0;34m)\u001b[0m\u001b[0;34m\u001b[0m\u001b[0;34m\u001b[0m\u001b[0m\n\u001b[0m",
            "\u001b[0;32m<ipython-input-84-46c7232b7f41>\u001b[0m in \u001b[0;36mSieveOfEratosthenes\u001b[0;34m(n)\u001b[0m\n\u001b[1;32m     15\u001b[0m     \u001b[0;32mwhile\u001b[0m \u001b[0;34m(\u001b[0m\u001b[0mp\u001b[0m \u001b[0;34m*\u001b[0m \u001b[0mp\u001b[0m \u001b[0;34m<=\u001b[0m \u001b[0mn\u001b[0m\u001b[0;34m)\u001b[0m\u001b[0;34m:\u001b[0m\u001b[0;34m\u001b[0m\u001b[0;34m\u001b[0m\u001b[0m\n\u001b[1;32m     16\u001b[0m         \u001b[0;32mif\u001b[0m \u001b[0;34m(\u001b[0m\u001b[0mprime\u001b[0m\u001b[0;34m[\u001b[0m\u001b[0mp\u001b[0m\u001b[0;34m]\u001b[0m \u001b[0;34m==\u001b[0m \u001b[0;32mTrue\u001b[0m\u001b[0;34m)\u001b[0m\u001b[0;34m:\u001b[0m\u001b[0;34m\u001b[0m\u001b[0;34m\u001b[0m\u001b[0m\n\u001b[0;32m---> 17\u001b[0;31m             \u001b[0;32mfor\u001b[0m \u001b[0mi\u001b[0m \u001b[0;32min\u001b[0m \u001b[0mrange\u001b[0m\u001b[0;34m(\u001b[0m\u001b[0mp\u001b[0m \u001b[0;34m**\u001b[0m \u001b[0;36m2\u001b[0m\u001b[0;34m,\u001b[0m \u001b[0mn\u001b[0m \u001b[0;34m+\u001b[0m \u001b[0;36m1\u001b[0m\u001b[0;34m,\u001b[0m \u001b[0mp\u001b[0m\u001b[0;34m)\u001b[0m\u001b[0;34m:\u001b[0m\u001b[0;34m\u001b[0m\u001b[0;34m\u001b[0m\u001b[0m\n\u001b[0m\u001b[1;32m     18\u001b[0m                 \u001b[0mprime\u001b[0m\u001b[0;34m[\u001b[0m\u001b[0mi\u001b[0m\u001b[0;34m]\u001b[0m \u001b[0;34m=\u001b[0m \u001b[0;32mFalse\u001b[0m\u001b[0;34m\u001b[0m\u001b[0;34m\u001b[0m\u001b[0m\n\u001b[1;32m     19\u001b[0m         \u001b[0mp\u001b[0m \u001b[0;34m+=\u001b[0m \u001b[0;36m1\u001b[0m\u001b[0;34m\u001b[0m\u001b[0;34m\u001b[0m\u001b[0m\n",
            "\u001b[0;31mTypeError\u001b[0m: 'float' object cannot be interpreted as an integer"
          ]
        }
      ]
    },
    {
      "cell_type": "markdown",
      "metadata": {
        "id": "QYz_pC3zxjuD"
      },
      "source": [
        "# Costo Lineal\n",
        "\n",
        "El costo constante se refiere al caso cuando el algoritmo tiene costo lineal al tamaño del problema $\\mathcal{O}(n)$"
      ]
    },
    {
      "cell_type": "code",
      "metadata": {
        "id": "XIT5P2RExjuE"
      },
      "source": [
        "import time\n",
        "import numpy as np\n",
        "\n",
        "\n",
        "time_data={'method':list(),'ellapsed_time':list(),'problem_size':list()}\n",
        "problems={1,1e2,1e6,1e8,1e12}\n",
        "methods=['isPrime','SieveOfEratosthenes']\n",
        "sample_size=1000\n",
        "for m in methods:\n",
        "  for p in problems:\n",
        "    for i in range(sample_size):\n",
        "      a=np.random.randint(p)\n",
        "      t1=time.time()\n",
        "      eval(m)(a)\n",
        "      ellapsed_time=time.time()-t1\n",
        "      time_data['problem_size'].append(p)\n",
        "      time_data['method'].append(m)\n",
        "      time_data['ellapsed_time'].append(ellapsed_time)"
      ],
      "execution_count": 11,
      "outputs": []
    },
    {
      "cell_type": "code",
      "source": [
        "import pandas as pd\n",
        "\n",
        "df=pd.DataFrame(time_data,columns=time_data.keys())"
      ],
      "metadata": {
        "id": "U8xeSDK5nyuv"
      },
      "execution_count": 12,
      "outputs": []
    },
    {
      "cell_type": "code",
      "source": [
        "df['problem_size']=df['problem_size'].astype('int64')"
      ],
      "metadata": {
        "id": "JYUNuQn-oDaI"
      },
      "execution_count": 15,
      "outputs": []
    },
    {
      "cell_type": "code",
      "metadata": {
        "colab": {
          "base_uri": "https://localhost:8080/",
          "height": 369
        },
        "id": "7gjMmqVHyxST",
        "outputId": "953232a1-a323-4340-ef87-d619b6bb76c6"
      },
      "source": [
        "import matplotlib.pyplot as plt\n",
        "import seaborn as sns\n",
        "\n",
        "g = sns.catplot(x=\"method\", y=\"ellapsed_time\", col=\"problem_size\",data=df, saturation=.5,\n",
        "                kind=\"bar\", col_wrap=3, height=2.5, aspect=.8)"
      ],
      "execution_count": 16,
      "outputs": [
        {
          "output_type": "display_data",
          "data": {
            "text/plain": [
              "<Figure size 432x360 with 5 Axes>"
            ],
            "image/png": "[encoded data removed]"
          },
          "metadata": {
            "needs_background": "light"
          }
        }
      ]
    },
    {
      "cell_type": "markdown",
      "metadata": {
        "id": "axUy55HVlR2b"
      },
      "source": [
        "Primero comprobamos que para un mismo tamaño de entrada, ambos metodos entregan resultados diferentes de tiempo de ejecucion"
      ]
    },
    {
      "cell_type": "code",
      "metadata": {
        "colab": {
          "base_uri": "https://localhost:8080/"
        },
        "id": "5k3mgqgIxjuY",
        "outputId": "d0b5bef7-3da4-48c5-a2fe-35f6e847f9a7"
      },
      "source": [
        "from scipy import stats\n",
        "\n",
        "# Student’s t-test\n",
        "# Tests whether the means of two independent samples are significantly different.\n",
        "\n",
        "for n in sorted(problems):\n",
        "    pvalue=stats.ttest_ind(df.loc[(df['method'] == 'square') & (df['problem_size'] ==n)]['ellapsed_time'],\n",
        "                           df.loc[(df['method'] == 'square_exp') & (df['problem_size'] ==n)]['ellapsed_time'])[1]\n",
        "    print('n={0}, valor-p : {1:06.8f}'.format(n,pvalue))\n",
        "    if pvalue > 0.05:\n",
        "        print('Datos provienen de la misma distribucion')\n",
        "    else:\n",
        "        print('Datos provienen de distribuciones diferentes')\n",
        "    print('----------------------------------------')"
      ],
      "execution_count": 22,
      "outputs": [
        {
          "output_type": "stream",
          "name": "stdout",
          "text": [
            "n=1, valor-p : 0.18817604\n",
            "Datos provienen de la misma distribucion\n",
            "----------------------------------------\n",
            "n=100.0, valor-p : 0.59558349\n",
            "Datos provienen de la misma distribucion\n",
            "----------------------------------------\n",
            "n=1000000.0, valor-p : 0.00000000\n",
            "Datos provienen de distribuciones diferentes\n",
            "----------------------------------------\n",
            "n=100000000.0, valor-p : 0.04103374\n",
            "Datos provienen de distribuciones diferentes\n",
            "----------------------------------------\n",
            "n=1000000000000.0, valor-p : 0.01827620\n",
            "Datos provienen de distribuciones diferentes\n",
            "----------------------------------------\n"
          ]
        }
      ]
    },
    {
      "cell_type": "markdown",
      "metadata": {
        "id": "4xBE0IY5llZK"
      },
      "source": [
        "Ahora, para un mismo metodo comprobamnos que tiene costo constante"
      ]
    },
    {
      "cell_type": "code",
      "metadata": {
        "colab": {
          "base_uri": "https://localhost:8080/"
        },
        "id": "-Bwm_984knQM",
        "outputId": "e78ee0a5-88f7-42a6-b9e9-c1121747d922"
      },
      "source": [
        "n1=np.int64(1e2)\n",
        "n2=np.int64(1e8)\n",
        "pvalue=stats.ttest_ind(df.loc[(df['method'] == 'square') & (df['problem_size'] ==n1)]['ellapsed_time'],\n",
        "                           df.loc[(df['method'] == 'square') & (df['problem_size'] ==n2)]['ellapsed_time'])[1]\n",
        "print('n1={0},n2={1} valor-p : {2:06.8f}'.format(n1,n2,pvalue))\n",
        "if pvalue > 0.05:\n",
        "  print('Datos provienen de la misma distribucion')\n",
        "else:\n",
        "  print('Datos provienen de distribuciones diferentes')"
      ],
      "execution_count": 36,
      "outputs": [
        {
          "output_type": "stream",
          "name": "stdout",
          "text": [
            "n1=100,n2=100000000 valor-p : 0.56981597\n",
            "Datos provienen de la misma distribucion\n"
          ]
        }
      ]
    },
    {
      "cell_type": "markdown",
      "metadata": {
        "id": "g_c0AEdUmKQu"
      },
      "source": [
        "Una consideracion importante al comparar poblaciones es el tamaño muestreal. En poblaciones pequeñas, no es posible determinar variaciones en sus medias o varianzas."
      ]
    },
    {
      "cell_type": "code",
      "metadata": {
        "colab": {
          "base_uri": "https://localhost:8080/"
        },
        "id": "MxvKouCQxjuc",
        "outputId": "b1763e8a-9159-4b6c-d13f-77387ec0bf70"
      },
      "source": [
        "from scipy.stats import ttest_ind\n",
        "import numpy as np\n",
        "\n",
        "# problema con tama~{n}os de muestra peque~{n}os!\n",
        "\n",
        "samples=5\n",
        "data1 = np.random.normal(1,1,samples)\n",
        "data2 = np.random.normal(0,1,samples)\n",
        "stat, p = ttest_ind(data1, data2)\n",
        "\n",
        "print('stat=%.3f, p=%.3f' % (stat, p))\n",
        "if p > 0.05:\n",
        "    print('Datos provienen de la misma distribucion')\n",
        "else:\n",
        "    print('Datos provienen de distribuciones diferentes')"
      ],
      "execution_count": null,
      "outputs": [
        {
          "output_type": "stream",
          "text": [
            "stat=1.269, p=0.240\n",
            "Datos provienen de la misma distribucion\n"
          ],
          "name": "stdout"
        }
      ]
    },
    {
      "cell_type": "markdown",
      "metadata": {
        "id": "s65NV2Z2xjuf"
      },
      "source": [
        "# Costo Lineal\n",
        "\n",
        "El costo lineal se refiere al caso cuando el algoritmo tiene costo lineal con respecto al tamaño del problema $\\mathcal{O}(n)$"
      ]
    },
    {
      "cell_type": "code",
      "metadata": {
        "id": "RmRQJHsrxjug",
        "outputId": "662d4720-938a-4d24-ea35-4e2d3b22538d"
      },
      "source": [
        "def cumsum(n):\n",
        "    j=0\n",
        "    for i in range(int(n)):\n",
        "        j=j+i\n",
        "    return j\n",
        "\n",
        "print('La suma acumulativa de 10 es : %5d'%cumsum(10))\n",
        "print('La suma acumulativa de 1000 es : %5d'%cumsum(1e3))"
      ],
      "execution_count": null,
      "outputs": [
        {
          "output_type": "stream",
          "text": [
            "La suma acumulativa de 10 es :    45\n",
            "La suma acumulativa de 1000 es : 499500\n"
          ],
          "name": "stdout"
        }
      ]
    },
    {
      "cell_type": "code",
      "metadata": {
        "id": "k7lksh5QxjvI",
        "outputId": "d278bd0a-7ca9-4680-feb7-a64d828012eb"
      },
      "source": [
        "import numpy as np\n",
        "\n",
        "print('La suma acumulativa de 10 es : %5d'%np.cumsum(np.arange(10))[-1])\n",
        "print('La suma acumulativa de 1000 es : %5d'%np.cumsum(np.arange(1e3))[-1])"
      ],
      "execution_count": null,
      "outputs": [
        {
          "output_type": "stream",
          "text": [
            "La suma acumulativa de 10 es :    45\n",
            "La suma acumulativa de 1000 es : 499500\n"
          ],
          "name": "stdout"
        }
      ]
    },
    {
      "cell_type": "markdown",
      "metadata": {
        "id": "q1lDQNAAdki0"
      },
      "source": [
        "# Tarea\n",
        "\n",
        "En este laboratorio Ud debe completar las siguientes tareas:\n",
        "\n",
        "    1.) Comparar dos implementaciones distintas para una funcion de costo lineal.\n",
        "    2.) Reportar los tiempos de ejecucion para distintos tamaños de problema.\n",
        "    3.) Evaluar los valores-p para cada tamaño de problema e implementación.\n",
        "\n",
        "https://stackoverflow.com/questions/20458132/recursive-cumulative-sum"
      ]
    },
    {
      "cell_type": "code",
      "metadata": {
        "id": "uxNdro3-dki0"
      },
      "source": [
        ""
      ],
      "execution_count": null,
      "outputs": []
    }
  ]
}