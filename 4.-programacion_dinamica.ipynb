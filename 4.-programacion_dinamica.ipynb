{
 "cells": [
  {
   "cell_type": "markdown",
   "metadata": {},
   "source": [
    "# Programación Dinámica\n",
    "\n",
    "La programación dinámica es una técnica para resolver problemas de optimización que exhiben las siguientes propiedades:\n",
    "\n",
    "    1 Puede ser descompuesto en sub-problemas traslapados.\n",
    "    2 Contienen sub-estructuras óptimas\n",
    "    3 El número de sub-problemas es relativamente bajo\n",
    "    "
   ]
  },
  {
   "cell_type": "markdown",
   "metadata": {},
   "source": [
    "# Secuenciamiento de ADN\n",
    "\n",
    "\n",
    "El alineamiento de secuencias es una manera de analizar estructuras evolutivas entre genes o proteínas. Dadas dos secuencias de ADN $S_1=[A,C,G,T,C,A,T,C,A ]$ y $S_2=[T,A,G,T,G,T,C,A]$ nos interesa encontrar la sub-cadena común más larga. Podemos formalizar el problema de secuenciamiento como encontrar el alineamiento de sub-cadenas con el mínimo costo. \n",
    "\n",
    "La noción de similitud entre sub-cadenas se puede definir como encontrar una secuencia creciente de indices $I=[i_1,i_2,\\ldots\\,i_k]$ tal que $x_{i_j}=y_j$ para todo $x_{i_j} \\in S_1$ y $y_j \\in S_2$.\n",
    "\n",
    "La solución de fuerza bruta consiste en enumerar todas las sub-cadenas posibles. Sin enbargo, este número crece exponencialmente con el tamaño de la cadena. "
   ]
  },
  {
   "cell_type": "code",
   "execution_count": 9,
   "metadata": {},
   "outputs": [
    {
     "name": "stdout",
     "output_type": "stream",
     "text": [
      "3\n"
     ]
    }
   ],
   "source": [
    "from itertools import combinations as comb\n",
    "\n",
    "S_1='ACCG'\n",
    "S_2='CCAGCA'\n",
    "\n",
    "def LCS_BF(X,Y):\n",
    "    n=min(len(X),len(Y))\n",
    "    sol={}\n",
    "    for k in range(1,n):\n",
    "        sub_str_1=set(comb(X, k))\n",
    "        sub_str_2=set(comb(Y, k))\n",
    "        sol_k={k:sub_str_1 & sub_str_2}\n",
    "        sol.update(sol_k)\n",
    "    return sol\n",
    "\n",
    "print(len(LCS_BF(S_1,S_2)))"
   ]
  },
  {
   "cell_type": "code",
   "execution_count": 10,
   "metadata": {},
   "outputs": [],
   "source": [
    "def LCS_DP(X , Y):\n",
    "    m = len(X)\n",
    "    n = len(Y)\n",
    "    L = [[None]*(n+1) for i in xrange(m+1)]\n",
    "    for i in range(m+1):\n",
    "        for j in range(n+1):\n",
    "            if i == 0 or j == 0 :\n",
    "                L[i][j] = 0\n",
    "            elif X[i-1] == Y[j-1]:\n",
    "                L[i][j] = L[i-1][j-1]+1\n",
    "            else:\n",
    "                L[i][j] = max(L[i-1][j] , L[i][j-1])\n",
    "    return L[m][n]"
   ]
  },
  {
   "cell_type": "code",
   "execution_count": 11,
   "metadata": {},
   "outputs": [
    {
     "name": "stdout",
     "output_type": "stream",
     "text": [
      "3\n"
     ]
    }
   ],
   "source": [
    "print(LCS_DP(S_1,S_2))"
   ]
  },
  {
   "cell_type": "code",
   "execution_count": null,
   "metadata": {},
   "outputs": [],
   "source": []
  }
 ],
 "metadata": {
  "kernelspec": {
   "display_name": "Python 2",
   "language": "python",
   "name": "python2"
  },
  "language_info": {
   "codemirror_mode": {
    "name": "ipython",
    "version": 2
   },
   "file_extension": ".py",
   "mimetype": "text/x-python",
   "name": "python",
   "nbconvert_exporter": "python",
   "pygments_lexer": "ipython2",
   "version": "2.7.15+"
  }
 },
 "nbformat": 4,
 "nbformat_minor": 2
}
