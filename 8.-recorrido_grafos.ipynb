{
  "nbformat": 4,
  "nbformat_minor": 0,
  "metadata": {
    "kernelspec": {
      "display_name": "Python 3",
      "language": "python",
      "name": "python3"
    },
    "language_info": {
      "codemirror_mode": {
        "name": "ipython",
        "version": 3
      },
      "file_extension": ".py",
      "mimetype": "text/x-python",
      "name": "python",
      "nbconvert_exporter": "python",
      "pygments_lexer": "ipython3",
      "version": "3.6.9"
    },
    "colab": {
      "name": "8.-recorrido_grafos.ipynb",
      "provenance": []
    }
  },
  "cells": [
    {
      "cell_type": "markdown",
      "metadata": {
        "id": "SXYmVOoP9nnQ"
      },
      "source": [
        "# Recorrido de Grafos\n",
        "        \n"
      ]
    },
    {
      "cell_type": "code",
      "metadata": {
        "id": "3lW2fCpK9nnU"
      },
      "source": [
        "class abstract_graph:\n",
        "    \n",
        "    def __init__(self,_edges):\n",
        "        self.edges=_edges\n",
        "        self.nodes={u for u,v in self.edges} | {v for u,v in self.edges}\n",
        "    \n",
        "    def adjacency_list(self):\n",
        "        pass\n",
        "    \n",
        "class simple_graph(abstract_graph):\n",
        "    \n",
        "    def __init__(self,_edges):\n",
        "        self.edges=_edges\n",
        "        self.nodes={u for u,v in self.edges} | {v for u,v in self.edges}\n",
        "        \n",
        "    \n",
        "    def adjacency_list(self):\n",
        "        adjacent=lambda n : {v for u,v in self.edges if u==n } | {u for u,v in self.edges if v==n}\n",
        "        return {v:adjacent(v) for v in self.nodes}\n",
        "\n",
        "    \n",
        "class simple_digraph(abstract_graph):\n",
        "    \n",
        "    def __init__(self,_edges):\n",
        "        self.edges=_edges\n",
        "        self.nodes={u for u,v in self.edges if u!=None} | {v for u,v in self.edges if v!=None}\n",
        "        \n",
        "    def adjacency_list(self):\n",
        "        adjacent=lambda n : {v for u,v in self.edges if u==n and v!=None} \n",
        "        return {v:adjacent(v) for v in self.nodes} \n",
        "    \n",
        "    def in_degree(self):\n",
        "        degree= lambda n : len({u for u,v in self.edges if v==n and u!=None})\n",
        "        return {v:degree(v) for v in self.nodes}"
      ],
      "execution_count": 3,
      "outputs": []
    },
    {
      "cell_type": "code",
      "metadata": {
        "id": "OaZZbNlJ9nna",
        "colab": {
          "base_uri": "https://localhost:8080/"
        },
        "outputId": "58f7cdda-ae5a-4861-d723-ec82a05cc467"
      },
      "source": [
        "import numpy as np\n",
        "random_graph = lambda n,p : {(int(u),int(v)) for u in np.arange(n) for v \n",
        "                    in np.arange(n) if np.random.rand()>p and u!=v}\n",
        "# cantidad de vértices\n",
        "n=5e2\n",
        "# 1- probabilidad de crear aristas\n",
        "p=0.9\n",
        "\n",
        "E=random_graph(n,p)\n",
        "G=simple_digraph(E)\n",
        "\n",
        "print(len(G.nodes))\n",
        "#print G.adjacency_list()"
      ],
      "execution_count": 4,
      "outputs": [
        {
          "output_type": "stream",
          "text": [
            "500\n"
          ],
          "name": "stdout"
        }
      ]
    },
    {
      "cell_type": "code",
      "metadata": {
        "id": "Yt11SY9P_tsa",
        "colab": {
          "base_uri": "https://localhost:8080/"
        },
        "outputId": "f75f47a6-4fb0-4c6f-9f5d-16a359f3d20a"
      },
      "source": [
        "U=list()\n",
        "U.append(1)\n",
        "U.append(2)\n",
        "U.append(3)\n",
        "U.append(4)\n",
        "U.pop(0)"
      ],
      "execution_count": null,
      "outputs": [
        {
          "output_type": "execute_result",
          "data": {
            "text/plain": [
              "1"
            ]
          },
          "metadata": {
            "tags": []
          },
          "execution_count": 115
        }
      ]
    },
    {
      "cell_type": "code",
      "metadata": {
        "id": "3HZ5OTYb9nne",
        "colab": {
          "base_uri": "https://localhost:8080/"
        },
        "outputId": "8d7d3bd9-7b7a-48db-d817-2bbd50c32420"
      },
      "source": [
        "# https://eddmann.com/posts/depth-first-search-and-breadth-first-search-in-python/\n",
        "import time\n",
        "from collections import deque\n",
        "\n",
        "def dfs(graph, start):\n",
        "    visited, stack, path = set(), [start],[]\n",
        "    while stack:\n",
        "        vertex = stack.pop()\n",
        "        if vertex not in visited:\n",
        "            visited.add(vertex)\n",
        "            path.append(vertex)\n",
        "            stack.extend(graph[vertex] - visited)\n",
        "    return path\n",
        "\n",
        "def bfs(graph, start):\n",
        "    visited, queue, path = set(), [start],[]\n",
        "    while queue:\n",
        "        vertex = queue.pop(0)\n",
        "        if vertex not in visited:\n",
        "            visited.add(vertex)\n",
        "            path.append(vertex)\n",
        "            queue.extend(graph[vertex] - visited)\n",
        "    return path\n",
        "\n",
        "def bfs2(graph, start):\n",
        "    visited, queue, path = set(), deque([start]),[]\n",
        "    while queue:\n",
        "        vertex = queue.popleft()\n",
        "        if vertex not in visited:\n",
        "            visited.add(vertex)\n",
        "            path.append(vertex)\n",
        "            queue.extend(graph[vertex] - visited)\n",
        "    return path\n",
        "\n",
        "\n",
        "start=time.clock()\n",
        "bfs(G.adjacency_list(),1)\n",
        "end=time.clock()-start\n",
        "print('Tiempo BFS: {0:.2f}[s]'.format(end))\n",
        "start=time.clock()\n",
        "bfs2(G.adjacency_list(),1)\n",
        "end=time.clock()-start\n",
        "print('Tiempo BFS Queue: {0:.2f}[s]'.format(end))\n",
        "start=time.clock()\n",
        "dfs(G.adjacency_list(),1)\n",
        "end=time.clock()-start\n",
        "print('Tiempo DFS: {0:.2f}[s]'.format(end))\n"
      ],
      "execution_count": 5,
      "outputs": [
        {
          "output_type": "stream",
          "text": [
            "/usr/local/lib/python3.7/dist-packages/ipykernel_launcher.py:36: DeprecationWarning: time.clock has been deprecated in Python 3.3 and will be removed from Python 3.8: use time.perf_counter or time.process_time instead\n",
            "/usr/local/lib/python3.7/dist-packages/ipykernel_launcher.py:38: DeprecationWarning: time.clock has been deprecated in Python 3.3 and will be removed from Python 3.8: use time.perf_counter or time.process_time instead\n",
            "/usr/local/lib/python3.7/dist-packages/ipykernel_launcher.py:40: DeprecationWarning: time.clock has been deprecated in Python 3.3 and will be removed from Python 3.8: use time.perf_counter or time.process_time instead\n"
          ],
          "name": "stderr"
        },
        {
          "output_type": "stream",
          "text": [
            "Tiempo BFS: 2.22[s]\n"
          ],
          "name": "stdout"
        },
        {
          "output_type": "stream",
          "text": [
            "/usr/local/lib/python3.7/dist-packages/ipykernel_launcher.py:42: DeprecationWarning: time.clock has been deprecated in Python 3.3 and will be removed from Python 3.8: use time.perf_counter or time.process_time instead\n",
            "/usr/local/lib/python3.7/dist-packages/ipykernel_launcher.py:44: DeprecationWarning: time.clock has been deprecated in Python 3.3 and will be removed from Python 3.8: use time.perf_counter or time.process_time instead\n"
          ],
          "name": "stderr"
        },
        {
          "output_type": "stream",
          "text": [
            "Tiempo BFS Queue: 2.72[s]\n",
            "Tiempo DFS: 2.48[s]\n"
          ],
          "name": "stdout"
        },
        {
          "output_type": "stream",
          "text": [
            "/usr/local/lib/python3.7/dist-packages/ipykernel_launcher.py:46: DeprecationWarning: time.clock has been deprecated in Python 3.3 and will be removed from Python 3.8: use time.perf_counter or time.process_time instead\n"
          ],
          "name": "stderr"
        }
      ]
    },
    {
      "cell_type": "code",
      "metadata": {
        "id": "cFtrzddh9nni",
        "colab": {
          "base_uri": "https://localhost:8080/"
        },
        "outputId": "b4654a3e-2810-4943-b8a5-9f9383fecf27"
      },
      "source": [
        "import timeit\n",
        "\n",
        "print(timeit.timeit(stmt='l.pop(0)',setup='l = list(range(100000))',number=99999))\n",
        "print(timeit.timeit(setup='import collections; l = collections.deque(range(100000))', stmt='l.popleft()', number=99999))"
      ],
      "execution_count": 6,
      "outputs": [
        {
          "output_type": "stream",
          "text": [
            "0.8859984690000147\n",
            "0.006682118000014725\n"
          ],
          "name": "stdout"
        }
      ]
    },
    {
      "cell_type": "code",
      "metadata": {
        "id": "MJZ4EMye9nnm",
        "colab": {
          "base_uri": "https://localhost:8080/"
        },
        "outputId": "7ed894ea-1067-46da-e511-6633dee2cacb"
      },
      "source": [
        "graph = {'A': set(['B', 'C']),\n",
        "         'B': set(['A', 'D', 'E']),\n",
        "         'C': set(['A', 'F']),\n",
        "         'D': set(['B']),\n",
        "         'E': set(['B', 'F']),\n",
        "         'F': set(['C', 'E'])}\n",
        "\n",
        "def tree_path(parents,start):\n",
        "    path=[end]\n",
        "    k=end\n",
        "    while k is not None:\n",
        "        path.append(parent[k])\n",
        "        k=parent[k]\n",
        "    return path[:-1][::-1]\n",
        "\n",
        "print('DFS:',dfs(graph,'A'))\n",
        "print('BFS:',bfs(graph,'A'))\n",
        "print('BFS:',bfs2(graph,'A'))"
      ],
      "execution_count": null,
      "outputs": [
        {
          "output_type": "stream",
          "text": [
            "DFS: ['A', 'C', 'F', 'E', 'B', 'D']\n",
            "BFS: ['A', 'B', 'C', 'E', 'D', 'F']\n",
            "BFS: ['A', 'B', 'C', 'E', 'D', 'F']\n"
          ],
          "name": "stdout"
        }
      ]
    },
    {
      "cell_type": "code",
      "metadata": {
        "id": "g9lADGzvC13i"
      },
      "source": [
        "E=[('A','B'),('A','C'),('C','F'),('B','D'),('B','E'),('E','F')]\n",
        "graph=simple_digraph(E)"
      ],
      "execution_count": null,
      "outputs": []
    },
    {
      "cell_type": "code",
      "metadata": {
        "id": "sZJdNBuuEIr-",
        "colab": {
          "base_uri": "https://localhost:8080/",
          "height": 319
        },
        "outputId": "cda89e78-868c-493c-c365-240f514cae66"
      },
      "source": [
        "\n",
        "import networkx as nx\n",
        "import matplotlib.pyplot as plt\n",
        "\n",
        "G_nx=nx.DiGraph()\n",
        "G_nx.add_edges_from(E)\n",
        "pos = nx.circular_layout(G_nx)  # positions for all nodes\n",
        "nx.draw(G_nx,with_labels=True,pos=pos)\n",
        "labels = nx.get_edge_attributes(G_nx,'weight')\n",
        "nx.draw_networkx_edge_labels(G_nx,pos,edge_labels=labels)\n",
        "\n",
        "plt.show()"
      ],
      "execution_count": 7,
      "outputs": [
        {
          "output_type": "display_data",
          "data": {
            "image/png": "[encoded data removed]",
            "text/plain": [
              "<Figure size 432x288 with 1 Axes>"
            ]
          },
          "metadata": {
            "tags": []
          }
        }
      ]
    },
    {
      "cell_type": "code",
      "metadata": {
        "id": "qfTLn3MU9nnq"
      },
      "source": [
        "def topological_sort(graph):\n",
        "    topology = []\n",
        "    degree = graph.in_degree()\n",
        "    adj=graph.adjacency_list()\n",
        "    stack=[key for (key,value) in degree.items() if value==0]   \n",
        "    while stack:\n",
        "        vertex = stack.pop()\n",
        "        topology.append(vertex)\n",
        "        for m in adj[vertex]:\n",
        "            degree[m] -= 1\n",
        "            if not degree[m]:\n",
        "                stack.append(m)\n",
        "    if len(topology) < len(graph.nodes):\n",
        "        raise ValueError('graph contains cycle')\n",
        "    return topology\n",
        "\n",
        "\n"
      ],
      "execution_count": 52,
      "outputs": []
    },
    {
      "cell_type": "code",
      "metadata": {
        "id": "e-GYLQUgETGo"
      },
      "source": [
        "T=topological_sort(graph)"
      ],
      "execution_count": null,
      "outputs": []
    },
    {
      "cell_type": "code",
      "metadata": {
        "id": "W3Gwc7jCGWof",
        "colab": {
          "base_uri": "https://localhost:8080/"
        },
        "outputId": "8c61f285-38bc-499b-987c-646c83c9b837"
      },
      "source": [
        "T"
      ],
      "execution_count": null,
      "outputs": [
        {
          "output_type": "execute_result",
          "data": {
            "text/plain": [
              "['A', 'C', 'B', 'D', 'E', 'F']"
            ]
          },
          "metadata": {
            "tags": []
          },
          "execution_count": 70
        }
      ]
    },
    {
      "cell_type": "code",
      "metadata": {
        "id": "0L-ft8X39nnt"
      },
      "source": [
        "import time\n",
        "import os\n",
        "import random\n",
        "from multiprocessing import Process, Queue, Lock\n",
        "\n",
        "\n",
        "def producer(queue, lock, names,degree,adj):\n",
        "  with lock:\n",
        "    print('Starting producer => {}'.format(os.getpid()))\n",
        "  start=names[0]\n",
        "  stack=[start]   \n",
        "  while stack:\n",
        "    vertex = stack.pop()\n",
        "    queue.put(vertex)\n",
        "    for m in adj[vertex]:\n",
        "        with lock:\n",
        "          degree[m] -= 1\n",
        "          if degree[m]==0:\n",
        "            stack.append(m)\n",
        "  with lock:\n",
        "    print('Producer {} exiting...'.format(os.getpid()))\n",
        "\n",
        "def consumer(queue, lock):\n",
        "    with lock:\n",
        "        print('Starting consumer => {}'.format(os.getpid()))\n",
        "    while True:\n",
        "        name = queue.get()\n",
        "        with lock:\n",
        "            print('Process {} got {}'.format(os.getpid(), name))\n",
        "\n",
        "            \n",
        "def parallel_topological_sort(graph):\n",
        "    degree = graph.in_degree()\n",
        "    adj=graph.adjacency_list()\n",
        "    lock = Lock()\n",
        "    producers = []\n",
        "    consumers = []\n",
        "    names=[key for (key,value) in degree.items() if value==0]\n",
        "    print(names)\n",
        "    #names = [['F', 'G'],\n",
        "    #         ['A', 'B', 'C', 'D', 'E']]\n",
        "    queues = [Queue() for n in names]\n",
        "    for i,n in enumerate(names):\n",
        "        producers.append(Process(target=producer, args=(queues[i], lock, n,degree,adj)))\n",
        "\n",
        "    for q in queues:\n",
        "        p = Process(target=consumer, args=(q, lock))\n",
        "        p.daemon = True\n",
        "        consumers.append(p)\n",
        "\n",
        "    for p in producers:\n",
        "        p.start()\n",
        "\n",
        "    for c in consumers:\n",
        "        c.start()\n",
        "\n",
        "    for p in producers:\n",
        "        p.join()\n",
        "\n"
      ],
      "execution_count": 8,
      "outputs": []
    },
    {
      "cell_type": "code",
      "metadata": {
        "id": "PWXzCYE7Rre3",
        "colab": {
          "base_uri": "https://localhost:8080/"
        },
        "outputId": "38c6ba9f-631a-434a-be6a-3df608b3645a"
      },
      "source": [
        "graph.adjacency_list()"
      ],
      "execution_count": null,
      "outputs": [
        {
          "output_type": "execute_result",
          "data": {
            "text/plain": [
              "{'A': {'B', 'C'},\n",
              " 'B': {'D', 'E'},\n",
              " 'C': {'F'},\n",
              " 'D': set(),\n",
              " 'E': {'F'},\n",
              " 'F': set()}"
            ]
          },
          "metadata": {
            "tags": []
          },
          "execution_count": 200
        }
      ]
    },
    {
      "cell_type": "code",
      "metadata": {
        "id": "1YRd-PJgIRWF",
        "colab": {
          "base_uri": "https://localhost:8080/"
        },
        "outputId": "a3bad38c-2b3e-4b93-b641-8358d94595f1"
      },
      "source": [
        "parallel_topological_sort(graph)"
      ],
      "execution_count": null,
      "outputs": [
        {
          "output_type": "stream",
          "text": [
            "Starting producer => 1788\n",
            "Producer 1788 exiting...\n",
            "Starting consumer => 1791\n",
            "Process 1791 got A\n",
            "Process 1791 got C\n",
            "Process 1791 got B\n",
            "Process 1791 got D\n",
            "Process 1791 got E\n",
            "Process 1791 got F\n"
          ],
          "name": "stdout"
        }
      ]
    },
    {
      "cell_type": "code",
      "metadata": {
        "id": "d-8ptCptIlD1",
        "colab": {
          "base_uri": "https://localhost:8080/"
        },
        "outputId": "c72ba461-bb3f-4684-fb53-b1367c1f5ca6"
      },
      "source": [
        "graph.in_degree()"
      ],
      "execution_count": null,
      "outputs": [
        {
          "output_type": "execute_result",
          "data": {
            "text/plain": [
              "{'A': 0, 'B': 1, 'C': 1, 'D': 1, 'E': 1, 'F': 2}"
            ]
          },
          "metadata": {
            "tags": []
          },
          "execution_count": 202
        }
      ]
    },
    {
      "cell_type": "code",
      "metadata": {
        "id": "YDnB5I6V9nnw",
        "colab": {
          "base_uri": "https://localhost:8080/",
          "height": 319
        },
        "outputId": "5f852611-b1af-4008-bcdd-86f0f93ff333"
      },
      "source": [
        "E=[('A', 'B'),('A', 'D'),('B', 'C'),('B', 'E'),('C', 'D'),('C', 'E'),('D', 'E'),('F', 'G')]\n",
        "G=simple_digraph(E)\n",
        "\n",
        "G_nx=nx.DiGraph()\n",
        "G_nx.add_edges_from(E)\n",
        "pos = nx.circular_layout(G_nx)  # positions for all nodes\n",
        "nx.draw(G_nx,with_labels=True,pos=pos)\n",
        "labels = nx.get_edge_attributes(G_nx,'weight')\n",
        "nx.draw_networkx_edge_labels(G_nx,pos,edge_labels=labels)\n",
        "\n",
        "plt.show()"
      ],
      "execution_count": null,
      "outputs": [
        {
          "output_type": "display_data",
          "data": {
            "image/png": "[encoded data removed]",
            "text/plain": [
              "<Figure size 432x288 with 1 Axes>"
            ]
          },
          "metadata": {
            "tags": []
          }
        }
      ]
    },
    {
      "cell_type": "code",
      "metadata": {
        "id": "pcBV-tq-I5jr",
        "colab": {
          "base_uri": "https://localhost:8080/"
        },
        "outputId": "33d28470-a57b-4ef2-dc69-5d0f605ff75f"
      },
      "source": [
        "print(G.adjacency_list())\n",
        "print(G.in_degree())\n",
        "L=topological_sort(G)\n",
        "print('Orden topologico',L)\n",
        "\n",
        "LP=parallel_topological_sort(G)"
      ],
      "execution_count": null,
      "outputs": [
        {
          "output_type": "stream",
          "text": [
            "{'B': {'E', 'C'}, 'C': {'E', 'D'}, 'G': set(), 'E': set(), 'D': {'E'}, 'F': {'G'}, 'A': {'B', 'D'}}\n",
            "{'B': 1, 'C': 1, 'G': 1, 'E': 3, 'D': 2, 'F': 0, 'A': 0}\n",
            "Orden topologico ['A', 'B', 'C', 'D', 'E', 'F', 'G']\n",
            "['F', 'A']\n",
            "Starting producer => 1860\n",
            "Starting producer => 1863\n",
            "Producer 1860 exiting...\n",
            "Producer 1863 exiting...\n",
            "Starting consumer => 1873\n",
            "Starting consumer => 1865\n",
            "Process 1873 got A\n",
            "Process 1873 got B\n",
            "Process 1873 got C\n",
            "Process 1873 got D\n",
            "Process 1865 got F\n",
            "Process 1865 got G\n",
            "Process 1873 got E\n"
          ],
          "name": "stdout"
        }
      ]
    },
    {
      "cell_type": "code",
      "metadata": {
        "id": "A9bfiVHd9nn1",
        "colab": {
          "base_uri": "https://localhost:8080/"
        },
        "outputId": "1cfb3c56-31f8-4bd1-d848-90bbd7ede01e"
      },
      "source": [
        "G.nodes"
      ],
      "execution_count": null,
      "outputs": [
        {
          "output_type": "execute_result",
          "data": {
            "text/plain": [
              "{'A', 'B', 'C', 'D', 'E', 'F', 'G'}"
            ]
          },
          "metadata": {
            "tags": []
          },
          "execution_count": 133
        }
      ]
    },
    {
      "cell_type": "markdown",
      "metadata": {
        "id": "DOc9hgzC9nn_"
      },
      "source": [
        "# Resolución de Dependencias de Software\n",
        "\n",
        "\n",
        "En esta tarea Ud. debe utilizar el algoritmo de ordenamiento topologico para implementar un gestor de paquetes para Python. De manera de instalar un paquete dado, el gestor de paquete debe analizar las dependencias. Las dependencias forman un grafo dirigido ya que los paquetes sin dependencias pueden ser instalados primero hasta completar la lista completa de dependencias.\n",
        "\n",
        "Un problema común de los gestores de paquetes son las dependencias circulares :\n",
        "\n"
      ]
    },
    {
      "cell_type": "markdown",
      "metadata": {
        "id": "BSw_GWMM9nn_"
      },
      "source": [
        "$ pipdeptree\n",
        "Warning!!! Cyclic dependencies found:\n",
        "- CircularDependencyA => CircularDependencyB => CircularDependencyA\n",
        "- CircularDependencyB => CircularDependencyA => CircularDependencyB\n",
        "\n",
        "$ pipdeptree --json-tree > dependencias.json"
      ]
    },
    {
      "cell_type": "markdown",
      "metadata": {
        "id": "LNFMM1ho9noA"
      },
      "source": [
        "Por lo tanto, de manera de convertir la lista de dependencias en un grafo acíclico dirigido (DAG), se debe eliminar este tipo de dependencias así como también los otros ciclos que puedan aparecer.\n",
        "\n",
        "En particular, se debe entregar un informe con las siguientes actividades:\n",
        "\n",
        "    1.) Convertir archivo JSON de dependencias de software en un DAG (eliminando ciclos).\n",
        "    2.) Implementar ordenamiento topológico sobre el DAG para obtener la secuencia de instalación de los paquetes que satisface las dependencias.\n",
        "    3.) **Extra**  Implementar un instalador paralelo. \n",
        "    \n",
        "[Fuente](https://ipython-books.github.io/143-resolving-dependencies-in-a-directed-acyclic-graph-with-a-topological-sort/)\n"
      ]
    },
    {
      "cell_type": "code",
      "metadata": {
        "id": "IPM5Or05TcbA",
        "colab": {
          "base_uri": "https://localhost:8080/"
        },
        "outputId": "cc320575-4455-485b-e6df-90eeaad98c7d"
      },
      "source": [
        "!pip install pipdeptree"
      ],
      "execution_count": 9,
      "outputs": [
        {
          "output_type": "stream",
          "text": [
            "Collecting pipdeptree\n",
            "  Downloading https://files.pythonhosted.org/packages/fa/22/8f1350b55e4297670813815142425b58829036197f0b4a0fc8f543928717/pipdeptree-2.0.0-py3-none-any.whl\n",
            "Requirement already satisfied: pip>=6.0.0 in /usr/local/lib/python3.7/dist-packages (from pipdeptree) (19.3.1)\n",
            "Installing collected packages: pipdeptree\n",
            "Successfully installed pipdeptree-2.0.0\n"
          ],
          "name": "stdout"
        }
      ]
    },
    {
      "cell_type": "code",
      "metadata": {
        "id": "P6UiwC5TvfjD",
        "outputId": "756c5167-7077-407d-ab8d-2ac25775528a",
        "colab": {
          "base_uri": "https://localhost:8080/"
        }
      },
      "source": [
        "! rm dependencias.json"
      ],
      "execution_count": 10,
      "outputs": [
        {
          "output_type": "stream",
          "text": [
            "rm: cannot remove 'dependencias.json': No such file or directory\n"
          ],
          "name": "stdout"
        }
      ]
    },
    {
      "cell_type": "code",
      "metadata": {
        "id": "N7tNM2_dTkCs"
      },
      "source": [
        "!pipdeptree  --packages tensorflow  --json-tree > dependencias.json"
      ],
      "execution_count": 12,
      "outputs": []
    },
    {
      "cell_type": "code",
      "metadata": {
        "id": "5eL8G76g9noB"
      },
      "source": [
        "import json\n",
        "\n",
        "with open('dependencias.json') as json_file:\n",
        "    data=json.load(json_file)\n",
        "    \n",
        "#print(json.dumps(data,indent=4,sort_keys=True))"
      ],
      "execution_count": 13,
      "outputs": []
    },
    {
      "cell_type": "code",
      "metadata": {
        "id": "LDPdjcTz7tjF",
        "outputId": "ffaa31e4-1297-4b18-ad57-c21f76dfbb43",
        "colab": {
          "base_uri": "https://localhost:8080/"
        }
      },
      "source": [
        "data[0].keys()"
      ],
      "execution_count": 35,
      "outputs": [
        {
          "output_type": "execute_result",
          "data": {
            "text/plain": [
              "dict_keys(['key', 'package_name', 'installed_version', 'required_version', 'dependencies'])"
            ]
          },
          "metadata": {
            "tags": []
          },
          "execution_count": 35
        }
      ]
    },
    {
      "cell_type": "code",
      "metadata": {
        "id": "hLJBjOXkhLD0"
      },
      "source": [
        "def import_package_dependencies(data,max_depth=3, depth=0):\n",
        "  edge_list=set()\n",
        "  if depth > max_depth:\n",
        "    return\n",
        "  node=data['key']\n",
        "  if data['dependencies']:\n",
        "    for dep in data['dependencies']:\n",
        "      edge_list.update({(dep['key'],node)})\n",
        "      child_edge=import_package_dependencies(dep,max_depth=max_depth, depth=depth+1)\n",
        "      if child_edge:\n",
        "        edge_list.update(child_edge)\n",
        "  return edge_list "
      ],
      "execution_count": 59,
      "outputs": []
    },
    {
      "cell_type": "code",
      "metadata": {
        "id": "3VMZq3CR-Gzs"
      },
      "source": [
        "E=import_package_dependencies(data[0],max_depth=6)"
      ],
      "execution_count": 60,
      "outputs": []
    },
    {
      "cell_type": "code",
      "metadata": {
        "id": "d79gHDnC9noD",
        "colab": {
          "base_uri": "https://localhost:8080/"
        },
        "outputId": "d6f3d3da-4202-4219-8118-c763d920da33"
      },
      "source": [
        "import subprocess\n",
        "import sys\n",
        "import multiprocessing\n",
        "\n",
        "def install(package):\n",
        "    subprocess.call([sys.executable, \"-m\", \"pip\", \"install\", package])\n",
        "    \n",
        "class task_scheduler:\n",
        "    \n",
        "    def __init__(self,_edges):\n",
        "        self.edges=_edges\n",
        "        self.di_graph=simple_digraph(_edges)\n",
        "    \n",
        "    def serial_processing(self):\n",
        "        L=topological_sort(self.di_graph)\n",
        "        return L\n",
        "\n",
        "dep=[import_package_dependencies(pkg) for pkg in data]\n",
        "E=list(set.union(*map(set, dep)))\n",
        "scheduler=task_scheduler(E)\n",
        "for i,task in enumerate(scheduler.serial_processing()):\n",
        "    print(i,task)"
      ],
      "execution_count": 64,
      "outputs": [
        {
          "output_type": "stream",
          "text": [
            "0 tensorboard-data-server\n",
            "1 wheel\n",
            "2 keras-nightly\n",
            "3 cached-property\n",
            "4 idna\n",
            "5 cachetools\n",
            "6 typing-extensions\n",
            "7 six\n",
            "8 google-pasta\n",
            "9 absl-py\n",
            "10 astunparse\n",
            "11 grpcio\n",
            "12 tensorboard-plugin-wit\n",
            "13 flatbuffers\n",
            "14 gast\n",
            "15 pyasn1\n",
            "16 rsa\n",
            "17 pyasn1-modules\n",
            "18 werkzeug\n",
            "19 tensorflow-estimator\n",
            "20 setuptools\n",
            "21 google-auth\n",
            "22 protobuf\n",
            "23 zipp\n",
            "24 importlib-metadata\n",
            "25 markdown\n",
            "26 oauthlib\n",
            "27 certifi\n",
            "28 urllib3\n",
            "29 numpy\n",
            "30 keras-preprocessing\n",
            "31 opt-einsum\n",
            "32 h5py\n",
            "33 chardet\n",
            "34 requests\n",
            "35 requests-oauthlib\n",
            "36 google-auth-oauthlib\n",
            "37 tensorboard\n",
            "38 wrapt\n",
            "39 termcolor\n",
            "40 tensorflow\n"
          ],
          "name": "stdout"
        }
      ]
    },
    {
      "cell_type": "code",
      "metadata": {
        "id": "aBMS2yxKtlVK"
      },
      "source": [
        "G=simple_digraph(E)"
      ],
      "execution_count": 65,
      "outputs": []
    },
    {
      "cell_type": "code",
      "metadata": {
        "id": "fp9Va0J99noG",
        "colab": {
          "base_uri": "https://localhost:8080/"
        },
        "outputId": "4a8ecced-7795-467c-f252-1f5c31467ea0"
      },
      "source": [
        "G.in_degree()"
      ],
      "execution_count": 66,
      "outputs": [
        {
          "output_type": "execute_result",
          "data": {
            "text/plain": [
              "{'absl-py': 1,\n",
              " 'astunparse': 2,\n",
              " 'cached-property': 0,\n",
              " 'cachetools': 0,\n",
              " 'certifi': 0,\n",
              " 'chardet': 0,\n",
              " 'flatbuffers': 0,\n",
              " 'gast': 0,\n",
              " 'google-auth': 5,\n",
              " 'google-auth-oauthlib': 2,\n",
              " 'google-pasta': 1,\n",
              " 'grpcio': 1,\n",
              " 'h5py': 2,\n",
              " 'idna': 0,\n",
              " 'importlib-metadata': 2,\n",
              " 'keras-nightly': 0,\n",
              " 'keras-preprocessing': 2,\n",
              " 'markdown': 1,\n",
              " 'numpy': 0,\n",
              " 'oauthlib': 0,\n",
              " 'opt-einsum': 1,\n",
              " 'protobuf': 2,\n",
              " 'pyasn1': 0,\n",
              " 'pyasn1-modules': 1,\n",
              " 'requests': 4,\n",
              " 'requests-oauthlib': 2,\n",
              " 'rsa': 1,\n",
              " 'setuptools': 0,\n",
              " 'six': 0,\n",
              " 'tensorboard': 13,\n",
              " 'tensorboard-data-server': 0,\n",
              " 'tensorboard-plugin-wit': 0,\n",
              " 'tensorflow': 19,\n",
              " 'tensorflow-estimator': 0,\n",
              " 'termcolor': 0,\n",
              " 'typing-extensions': 0,\n",
              " 'urllib3': 0,\n",
              " 'werkzeug': 0,\n",
              " 'wheel': 0,\n",
              " 'wrapt': 0,\n",
              " 'zipp': 0}"
            ]
          },
          "metadata": {
            "tags": []
          },
          "execution_count": 66
        }
      ]
    },
    {
      "cell_type": "code",
      "metadata": {
        "id": "Y_DlXy2p_bN_"
      },
      "source": [
        "T=topological_sort(G)"
      ],
      "execution_count": 67,
      "outputs": []
    }
  ]
}