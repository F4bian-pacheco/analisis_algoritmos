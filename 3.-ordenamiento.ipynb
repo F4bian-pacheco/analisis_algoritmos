{
 "cells": [
  {
   "cell_type": "markdown",
   "metadata": {},
   "source": [
    "# Ordenamiento\n",
    "\n",
    "El ordenamiento de arreglos corresponde a encontrar una permutación tal que cada elemento sea menor a su sucesor. "
   ]
  },
  {
   "cell_type": "code",
   "execution_count": 1,
   "metadata": {},
   "outputs": [],
   "source": [
    "def selection_sort(collection):\n",
    "    length = len(collection)\n",
    "    for i in range(length):\n",
    "        least = i\n",
    "        for k in range(i + 1, length):\n",
    "            if collection[k] < collection[least]:\n",
    "                least = k\n",
    "        collection[least], collection[i] = (collection[i], collection[least])\n",
    "    return collection\n",
    "\n",
    "def insertion_sort(collection):\n",
    "    for index in range(1, len(collection)):\n",
    "        while 0 < index and collection[index] < collection[index - 1]:\n",
    "            collection[index], collection[index - 1] = collection[index - 1], collection[index]\n",
    "            index -= 1\n",
    "    return collection"
   ]
  },
  {
   "cell_type": "code",
   "execution_count": 2,
   "metadata": {},
   "outputs": [
    {
     "data": {
      "text/plain": [
       "[1, 2, 3]"
      ]
     },
     "execution_count": 2,
     "metadata": {},
     "output_type": "execute_result"
    }
   ],
   "source": [
    "insertion_sort([3,2,1])"
   ]
  },
  {
   "cell_type": "code",
   "execution_count": 3,
   "metadata": {},
   "outputs": [
    {
     "name": "stdout",
     "output_type": "stream",
     "text": [
      "Insertion Sort: 0.165666\n",
      "Selection Sort : 0.132967\n"
     ]
    }
   ],
   "source": [
    "import numpy as np\n",
    "import time\n",
    "\n",
    "def gen_random(size):\n",
    "    return np.random.permutation(np.arange(size,dtype=np.int8))\n",
    "\n",
    "def gen_worst_case(size):\n",
    "    return np.arange(size,-1,-1,dtype=np.int8)\n",
    "\n",
    "def gen_best_case(size):\n",
    "    return np.arange(size,dtype=np.int8)\n",
    "\n",
    "arr=gen_best_case(1000)\n",
    "\n",
    "start=time.clock()\n",
    "insertion_sort(arr.copy())\n",
    "end=time.clock()\n",
    "t1=end-start\n",
    "\n",
    "start=time.clock()\n",
    "selection_sort(arr.copy())\n",
    "end=time.clock()\n",
    "t2=end-start\n",
    "\n",
    "\n",
    "\n",
    "print('Insertion Sort: %2f'%t1)\n",
    "print('Selection Sort : %2f'%t2)\n"
   ]
  },
  {
   "cell_type": "code",
   "execution_count": 4,
   "metadata": {},
   "outputs": [],
   "source": [
    "def merge_sort(A):\n",
    "    n=len(A)\n",
    "    if len(A) <= 1:\n",
    "      return A\n",
    "    L = merge_sort(A[0:int(n/2)])\n",
    "    R = merge_sort(A[int(n/2):n])\n",
    "    return merge(L, R)\n",
    "\n",
    "def merge(L, R):\n",
    "    result = []\n",
    "    l_idx, r_idx = (0, 0)\n",
    "    while l_idx < len(L) and r_idx < len(R):\n",
    "      if L[l_idx] < R[r_idx]:\n",
    "        result.append(L[l_idx])\n",
    "        l_idx += 1\n",
    "      else:\n",
    "        result.append(R[r_idx])\n",
    "        r_idx += 1\n",
    "    result.extend(L[l_idx:len(L)])\n",
    "    result.extend(R[r_idx:len(R)])\n",
    "    return result"
   ]
  },
  {
   "cell_type": "code",
   "execution_count": 5,
   "metadata": {},
   "outputs": [
    {
     "name": "stdout",
     "output_type": "stream",
     "text": [
      "[0 1 2 3 4]\n",
      "[5 6 7 8 9]\n"
     ]
    }
   ],
   "source": [
    "arr=gen_best_case(10)\n",
    "\n",
    "print(arr[0:int(10/2)])\n",
    "print(arr[int(10/2):10])\n",
    "#sorted_arr=merge_sort(arr)\n",
    "\n",
    "#print(sorted_arr)"
   ]
  },
  {
   "cell_type": "code",
   "execution_count": 74,
   "metadata": {},
   "outputs": [],
   "source": [
    "import pandas as pd\n",
    "import time \n",
    "import sys\n",
    "\n",
    "method=[merge_sort,selection_sort,insertion_sort]\n",
    "fun=[gen_random,gen_worst_case,gen_best_case]\n",
    "n_data=[1000,2000,3000,4000,5000,10000,20000]\n",
    "n_samp=10\n",
    "\n",
    "s_n=[]\n",
    "ellapsed_time={m.__name__:[] for m in method}\n",
    "\n",
    "for i in n_data:\n",
    "    for j in range(n_samp):\n",
    "        s_n.append(i)\n",
    "        arr=gen_random(i)\n",
    "        for m in method:\n",
    "            start=time.clock()\n",
    "            m(arr.copy())\n",
    "            end=time.clock()\n",
    "            ellapsed_time[m.__name__].append(end-start)\n",
    "        "
   ]
  },
  {
   "cell_type": "code",
   "execution_count": 75,
   "metadata": {},
   "outputs": [
    {
     "data": {
      "text/html": [
       "<div>\n",
       "<style scoped>\n",
       "    .dataframe tbody tr th:only-of-type {\n",
       "        vertical-align: middle;\n",
       "    }\n",
       "\n",
       "    .dataframe tbody tr th {\n",
       "        vertical-align: top;\n",
       "    }\n",
       "\n",
       "    .dataframe thead th {\n",
       "        text-align: right;\n",
       "    }\n",
       "</style>\n",
       "<table border=\"1\" class=\"dataframe\">\n",
       "  <thead>\n",
       "    <tr style=\"text-align: right;\">\n",
       "      <th></th>\n",
       "      <th>n</th>\n",
       "      <th>time</th>\n",
       "      <th>method</th>\n",
       "    </tr>\n",
       "  </thead>\n",
       "  <tbody>\n",
       "    <tr>\n",
       "      <th>0</th>\n",
       "      <td>1000</td>\n",
       "      <td>0.008633</td>\n",
       "      <td>merge_sort</td>\n",
       "    </tr>\n",
       "    <tr>\n",
       "      <th>1</th>\n",
       "      <td>1000</td>\n",
       "      <td>0.004866</td>\n",
       "      <td>merge_sort</td>\n",
       "    </tr>\n",
       "    <tr>\n",
       "      <th>2</th>\n",
       "      <td>1000</td>\n",
       "      <td>0.004688</td>\n",
       "      <td>merge_sort</td>\n",
       "    </tr>\n",
       "    <tr>\n",
       "      <th>3</th>\n",
       "      <td>1000</td>\n",
       "      <td>0.004603</td>\n",
       "      <td>merge_sort</td>\n",
       "    </tr>\n",
       "    <tr>\n",
       "      <th>4</th>\n",
       "      <td>1000</td>\n",
       "      <td>0.004940</td>\n",
       "      <td>merge_sort</td>\n",
       "    </tr>\n",
       "  </tbody>\n",
       "</table>\n",
       "</div>"
      ],
      "text/plain": [
       "      n      time      method\n",
       "0  1000  0.008633  merge_sort\n",
       "1  1000  0.004866  merge_sort\n",
       "2  1000  0.004688  merge_sort\n",
       "3  1000  0.004603  merge_sort\n",
       "4  1000  0.004940  merge_sort"
      ]
     },
     "execution_count": 75,
     "metadata": {},
     "output_type": "execute_result"
    }
   ],
   "source": [
    "df_list=[]\n",
    "for m in method:\n",
    "    df=pd.DataFrame({'n':s_n,'time':ellapsed_time[m.__name__],'method':[m.__name__]*len(ellapsed_time[m.__name__])})\n",
    "    df_list.append(df)\n",
    "df=pd.concat(df_list,axis=0)\n",
    "df.head()"
   ]
  },
  {
   "cell_type": "code",
   "execution_count": 106,
   "metadata": {},
   "outputs": [
    {
     "data": {
      "image/png": "[encoded data removed]",
      "text/plain": [
       "<Figure size 476.6x360 with 1 Axes>"
      ]
     },
     "metadata": {},
     "output_type": "display_data"
    }
   ],
   "source": [
    "import warnings\n",
    "warnings.filterwarnings(\"ignore\")\n",
    "import seaborn as sns\n",
    "import matplotlib.pyplot as plt\n",
    "sns.set(style=\"whitegrid\")\n",
    "\n",
    "sns.lmplot(x=\"n\", y=\"time\", hue=\"method\",order=2, data=df)\n",
    "plt.show()"
   ]
  },
  {
   "cell_type": "code",
   "execution_count": 78,
   "metadata": {},
   "outputs": [
    {
     "data": {
      "text/html": [
       "<div>\n",
       "<style scoped>\n",
       "    .dataframe tbody tr th:only-of-type {\n",
       "        vertical-align: middle;\n",
       "    }\n",
       "\n",
       "    .dataframe tbody tr th {\n",
       "        vertical-align: top;\n",
       "    }\n",
       "\n",
       "    .dataframe thead th {\n",
       "        text-align: right;\n",
       "    }\n",
       "</style>\n",
       "<table border=\"1\" class=\"dataframe\">\n",
       "  <thead>\n",
       "    <tr style=\"text-align: right;\">\n",
       "      <th></th>\n",
       "      <th></th>\n",
       "      <th>time</th>\n",
       "    </tr>\n",
       "    <tr>\n",
       "      <th>method</th>\n",
       "      <th>n</th>\n",
       "      <th></th>\n",
       "    </tr>\n",
       "  </thead>\n",
       "  <tbody>\n",
       "    <tr>\n",
       "      <th rowspan=\"7\" valign=\"top\">insertion_sort</th>\n",
       "      <th>1000</th>\n",
       "      <td>0.176755</td>\n",
       "    </tr>\n",
       "    <tr>\n",
       "      <th>2000</th>\n",
       "      <td>0.765445</td>\n",
       "    </tr>\n",
       "    <tr>\n",
       "      <th>3000</th>\n",
       "      <td>1.680713</td>\n",
       "    </tr>\n",
       "    <tr>\n",
       "      <th>4000</th>\n",
       "      <td>2.933166</td>\n",
       "    </tr>\n",
       "    <tr>\n",
       "      <th>5000</th>\n",
       "      <td>4.220524</td>\n",
       "    </tr>\n",
       "    <tr>\n",
       "      <th>10000</th>\n",
       "      <td>18.406501</td>\n",
       "    </tr>\n",
       "    <tr>\n",
       "      <th>20000</th>\n",
       "      <td>68.914283</td>\n",
       "    </tr>\n",
       "    <tr>\n",
       "      <th rowspan=\"7\" valign=\"top\">merge_sort</th>\n",
       "      <th>1000</th>\n",
       "      <td>0.005578</td>\n",
       "    </tr>\n",
       "    <tr>\n",
       "      <th>2000</th>\n",
       "      <td>0.011750</td>\n",
       "    </tr>\n",
       "    <tr>\n",
       "      <th>3000</th>\n",
       "      <td>0.017938</td>\n",
       "    </tr>\n",
       "    <tr>\n",
       "      <th>4000</th>\n",
       "      <td>0.023516</td>\n",
       "    </tr>\n",
       "    <tr>\n",
       "      <th>5000</th>\n",
       "      <td>0.028148</td>\n",
       "    </tr>\n",
       "    <tr>\n",
       "      <th>10000</th>\n",
       "      <td>0.065620</td>\n",
       "    </tr>\n",
       "    <tr>\n",
       "      <th>20000</th>\n",
       "      <td>0.128752</td>\n",
       "    </tr>\n",
       "    <tr>\n",
       "      <th rowspan=\"7\" valign=\"top\">selection_sort</th>\n",
       "      <th>1000</th>\n",
       "      <td>0.141923</td>\n",
       "    </tr>\n",
       "    <tr>\n",
       "      <th>2000</th>\n",
       "      <td>0.583661</td>\n",
       "    </tr>\n",
       "    <tr>\n",
       "      <th>3000</th>\n",
       "      <td>1.285411</td>\n",
       "    </tr>\n",
       "    <tr>\n",
       "      <th>4000</th>\n",
       "      <td>2.270363</td>\n",
       "    </tr>\n",
       "    <tr>\n",
       "      <th>5000</th>\n",
       "      <td>3.283227</td>\n",
       "    </tr>\n",
       "    <tr>\n",
       "      <th>10000</th>\n",
       "      <td>13.993897</td>\n",
       "    </tr>\n",
       "    <tr>\n",
       "      <th>20000</th>\n",
       "      <td>52.826830</td>\n",
       "    </tr>\n",
       "  </tbody>\n",
       "</table>\n",
       "</div>"
      ],
      "text/plain": [
       "                           time\n",
       "method         n               \n",
       "insertion_sort 1000    0.176755\n",
       "               2000    0.765445\n",
       "               3000    1.680713\n",
       "               4000    2.933166\n",
       "               5000    4.220524\n",
       "               10000  18.406501\n",
       "               20000  68.914283\n",
       "merge_sort     1000    0.005578\n",
       "               2000    0.011750\n",
       "               3000    0.017938\n",
       "               4000    0.023516\n",
       "               5000    0.028148\n",
       "               10000   0.065620\n",
       "               20000   0.128752\n",
       "selection_sort 1000    0.141923\n",
       "               2000    0.583661\n",
       "               3000    1.285411\n",
       "               4000    2.270363\n",
       "               5000    3.283227\n",
       "               10000  13.993897\n",
       "               20000  52.826830"
      ]
     },
     "execution_count": 78,
     "metadata": {},
     "output_type": "execute_result"
    }
   ],
   "source": [
    "df.groupby(['method','n']).mean()\n"
   ]
  },
  {
   "cell_type": "code",
   "execution_count": 79,
   "metadata": {},
   "outputs": [
    {
     "data": {
      "text/html": [
       "<div>\n",
       "<style scoped>\n",
       "    .dataframe tbody tr th:only-of-type {\n",
       "        vertical-align: middle;\n",
       "    }\n",
       "\n",
       "    .dataframe tbody tr th {\n",
       "        vertical-align: top;\n",
       "    }\n",
       "\n",
       "    .dataframe thead th {\n",
       "        text-align: right;\n",
       "    }\n",
       "</style>\n",
       "<table border=\"1\" class=\"dataframe\">\n",
       "  <thead>\n",
       "    <tr style=\"text-align: right;\">\n",
       "      <th></th>\n",
       "      <th></th>\n",
       "      <th>time</th>\n",
       "    </tr>\n",
       "    <tr>\n",
       "      <th>method</th>\n",
       "      <th>n</th>\n",
       "      <th></th>\n",
       "    </tr>\n",
       "  </thead>\n",
       "  <tbody>\n",
       "    <tr>\n",
       "      <th rowspan=\"7\" valign=\"top\">insertion_sort</th>\n",
       "      <th>1000</th>\n",
       "      <td>0.000145</td>\n",
       "    </tr>\n",
       "    <tr>\n",
       "      <th>2000</th>\n",
       "      <td>0.002642</td>\n",
       "    </tr>\n",
       "    <tr>\n",
       "      <th>3000</th>\n",
       "      <td>0.012037</td>\n",
       "    </tr>\n",
       "    <tr>\n",
       "      <th>4000</th>\n",
       "      <td>0.023652</td>\n",
       "    </tr>\n",
       "    <tr>\n",
       "      <th>5000</th>\n",
       "      <td>0.027008</td>\n",
       "    </tr>\n",
       "    <tr>\n",
       "      <th>10000</th>\n",
       "      <td>0.878181</td>\n",
       "    </tr>\n",
       "    <tr>\n",
       "      <th>20000</th>\n",
       "      <td>1.151831</td>\n",
       "    </tr>\n",
       "    <tr>\n",
       "      <th rowspan=\"7\" valign=\"top\">merge_sort</th>\n",
       "      <th>1000</th>\n",
       "      <td>0.000002</td>\n",
       "    </tr>\n",
       "    <tr>\n",
       "      <th>2000</th>\n",
       "      <td>0.000003</td>\n",
       "    </tr>\n",
       "    <tr>\n",
       "      <th>3000</th>\n",
       "      <td>0.000008</td>\n",
       "    </tr>\n",
       "    <tr>\n",
       "      <th>4000</th>\n",
       "      <td>0.000004</td>\n",
       "    </tr>\n",
       "    <tr>\n",
       "      <th>5000</th>\n",
       "      <td>0.000001</td>\n",
       "    </tr>\n",
       "    <tr>\n",
       "      <th>10000</th>\n",
       "      <td>0.000025</td>\n",
       "    </tr>\n",
       "    <tr>\n",
       "      <th>20000</th>\n",
       "      <td>0.000051</td>\n",
       "    </tr>\n",
       "    <tr>\n",
       "      <th rowspan=\"7\" valign=\"top\">selection_sort</th>\n",
       "      <th>1000</th>\n",
       "      <td>0.000112</td>\n",
       "    </tr>\n",
       "    <tr>\n",
       "      <th>2000</th>\n",
       "      <td>0.001357</td>\n",
       "    </tr>\n",
       "    <tr>\n",
       "      <th>3000</th>\n",
       "      <td>0.005010</td>\n",
       "    </tr>\n",
       "    <tr>\n",
       "      <th>4000</th>\n",
       "      <td>0.027124</td>\n",
       "    </tr>\n",
       "    <tr>\n",
       "      <th>5000</th>\n",
       "      <td>0.012698</td>\n",
       "    </tr>\n",
       "    <tr>\n",
       "      <th>10000</th>\n",
       "      <td>0.569529</td>\n",
       "    </tr>\n",
       "    <tr>\n",
       "      <th>20000</th>\n",
       "      <td>1.052165</td>\n",
       "    </tr>\n",
       "  </tbody>\n",
       "</table>\n",
       "</div>"
      ],
      "text/plain": [
       "                          time\n",
       "method         n              \n",
       "insertion_sort 1000   0.000145\n",
       "               2000   0.002642\n",
       "               3000   0.012037\n",
       "               4000   0.023652\n",
       "               5000   0.027008\n",
       "               10000  0.878181\n",
       "               20000  1.151831\n",
       "merge_sort     1000   0.000002\n",
       "               2000   0.000003\n",
       "               3000   0.000008\n",
       "               4000   0.000004\n",
       "               5000   0.000001\n",
       "               10000  0.000025\n",
       "               20000  0.000051\n",
       "selection_sort 1000   0.000112\n",
       "               2000   0.001357\n",
       "               3000   0.005010\n",
       "               4000   0.027124\n",
       "               5000   0.012698\n",
       "               10000  0.569529\n",
       "               20000  1.052165"
      ]
     },
     "execution_count": 79,
     "metadata": {},
     "output_type": "execute_result"
    }
   ],
   "source": [
    "df.groupby(['method','n']).var()"
   ]
  },
  {
   "cell_type": "code",
   "execution_count": 148,
   "metadata": {},
   "outputs": [
    {
     "name": "stdout",
     "output_type": "stream",
     "text": [
      "Selection Sort\n",
      "Grado : 0, Residuos : 22154.98\n",
      "Grado : 1, Residuos : 1045.01\n",
      "Grado : 2, Residuos : 16.91\n",
      "Grado : 3, Residuos : 15.47\n",
      "Grado : 4, Residuos : 15.14\n",
      "Grado : 5, Residuos : 15.04\n",
      "Grado : 6, Residuos : 15.01\n"
     ]
    }
   ],
   "source": [
    "from numpy.polynomial import polynomial as P\n",
    "\n",
    "sort_data=df[df.method=='selection_sort'][['n','time']].to_numpy()\n",
    "x = sort_data[:,0].flatten()\n",
    "y = sort_data[:,1].flatten()\n",
    "\n",
    "print(\"Selection Sort\")\n",
    "for i in np.arange(7):\n",
    "    c, stats = P.polyfit(x,y,i,full=True)\n",
    "    print(\"Grado : {0}, Residuos : {1:0.2f}\".format(i,stats[0][0]))"
   ]
  },
  {
   "cell_type": "code",
   "execution_count": 147,
   "metadata": {},
   "outputs": [
    {
     "name": "stdout",
     "output_type": "stream",
     "text": [
      "Insertion Sort\n",
      "Grado : 0, Residuos : 37728.79\n",
      "Grado : 1, Residuos : 1751.34\n",
      "Grado : 2, Residuos : 23.76\n",
      "Grado : 3, Residuos : 19.99\n",
      "Grado : 4, Residuos : 19.10\n",
      "Grado : 5, Residuos : 18.89\n",
      "Grado : 6, Residuos : 18.86\n"
     ]
    }
   ],
   "source": [
    "sort_data=df[df.method=='insertion_sort'][['n','time']].to_numpy()\n",
    "x = sort_data[:,0].flatten()\n",
    "y = sort_data[:,1].flatten()\n",
    "\n",
    "print(\"Insertion Sort\")\n",
    "for i in np.arange(7):\n",
    "    c, stats = P.polyfit(x,y,i,full=True)\n",
    "    print(\"Grado : {0}, Residuos : {1:0.2f}\".format(i,stats[0][0]))"
   ]
  },
  {
   "cell_type": "code",
   "execution_count": 146,
   "metadata": {},
   "outputs": [
    {
     "name": "stdout",
     "output_type": "stream",
     "text": [
      "Merge Sort\n",
      "Grado : 0, Residuos : 0.11\n",
      "Grado : 1, Residuos : 0.00\n",
      "Grado : 2, Residuos : 0.00\n",
      "Grado : 3, Residuos : 0.00\n",
      "Grado : 4, Residuos : 0.00\n",
      "Grado : 5, Residuos : 0.00\n",
      "Grado : 6, Residuos : 0.00\n"
     ]
    }
   ],
   "source": [
    "sort_data=df[df.method=='merge_sort'][['n','time']].to_numpy()\n",
    "x = sort_data[:,0].flatten()\n",
    "y = sort_data[:,1].flatten()\n",
    "\n",
    "print(\"Merge Sort\")\n",
    "for i in np.arange(7):\n",
    "    c, stats = P.polyfit(x,y,i,full=True)\n",
    "    print(\"Grado : {0}, Residuos : {1:0.2f}\".format(i,stats[0][0]))"
   ]
  },
  {
   "cell_type": "code",
   "execution_count": 155,
   "metadata": {},
   "outputs": [
    {
     "name": "stdout",
     "output_type": "stream",
     "text": [
      "Grado : 0, Residuos : 2480.77\n",
      "Grado : 1, Residuos : 22.01\n",
      "Grado : 2, Residuos : 0.65\n",
      "Grado : 3, Residuos : 0.04\n",
      "Grado : 4, Residuos : 0.00\n",
      "Grado : 5, Residuos : 0.00\n",
      "Grado : 6, Residuos : 0.00\n"
     ]
    }
   ],
   "source": [
    "np.random.seed(123)\n",
    "from numpy.polynomial import polynomial as P\n",
    "x = np.linspace(1,10,51)\n",
    "y = x*np.log(x)+np.random.normal(51)\n",
    "for i in np.arange(7):\n",
    "    c, stats = P.polyfit(x,y,i,full=True)\n",
    "    print(\"Grado : {0}, Residuos : {1:0.2f}\".format(i,stats[0][0]))"
   ]
  },
  {
   "cell_type": "code",
   "execution_count": 153,
   "metadata": {},
   "outputs": [
    {
     "name": "stdout",
     "output_type": "stream",
     "text": [
      "Grado : 0, Residuos : 45328.74\n",
      "Grado : 1, Residuos : 2008.32\n",
      "Grado : 2, Residuos : 0.00\n",
      "Grado : 3, Residuos : 0.00\n",
      "Grado : 4, Residuos : 0.00\n",
      "Grado : 5, Residuos : 0.00\n",
      "Grado : 6, Residuos : 0.00\n"
     ]
    }
   ],
   "source": [
    "np.random.seed(123)\n",
    "from numpy.polynomial import polynomial as P\n",
    "x = np.linspace(1,10,51)\n",
    "y = x**2+np.random.normal(51)\n",
    "for i in np.arange(7):\n",
    "    c, stats = P.polyfit(x,y,i,full=True)\n",
    "    print(\"Grado : {0}, Residuos : {1:0.2f}\".format(i,stats[0][0]))"
   ]
  },
  {
   "cell_type": "code",
   "execution_count": null,
   "metadata": {},
   "outputs": [],
   "source": []
  }
 ],
 "metadata": {
  "kernelspec": {
   "display_name": "Python 3",
   "language": "python",
   "name": "python3"
  },
  "language_info": {
   "codemirror_mode": {
    "name": "ipython",
    "version": 3
   },
   "file_extension": ".py",
   "mimetype": "text/x-python",
   "name": "python",
   "nbconvert_exporter": "python",
   "pygments_lexer": "ipython3",
   "version": "3.6.9"
  }
 },
 "nbformat": 4,
 "nbformat_minor": 2
}
