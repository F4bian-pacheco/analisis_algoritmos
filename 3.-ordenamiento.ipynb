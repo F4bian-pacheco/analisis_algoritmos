{
 "cells": [
  {
   "cell_type": "markdown",
   "metadata": {},
   "source": [
    "# Ordenamiento\n",
    "\n",
    "El ordenamiento de arreglos corresponde a encontrar una permutación tal que cada elemento sea menor a su sucesor. "
   ]
  },
  {
   "cell_type": "code",
   "execution_count": 2,
   "metadata": {},
   "outputs": [],
   "source": [
    "def selection_sort(collection):\n",
    "    length = len(collection)\n",
    "    for i in range(length):\n",
    "        least = i\n",
    "        for k in range(i + 1, length):\n",
    "            if collection[k] < collection[least]:\n",
    "                least = k\n",
    "        collection[least], collection[i] = (collection[i], collection[least])\n",
    "    return collection\n",
    "\n",
    "def insertion_sort(collection):\n",
    "    for index in range(1, len(collection)):\n",
    "        while 0 < index and collection[index] < collection[index - 1]:\n",
    "            collection[index], collection[index - 1] = collection[index - 1], collection[index]\n",
    "            index -= 1\n",
    "    return collection"
   ]
  },
  {
   "cell_type": "code",
   "execution_count": 2,
   "metadata": {},
   "outputs": [
    {
     "data": {
      "text/plain": [
       "[1, 2, 3]"
      ]
     },
     "execution_count": 2,
     "metadata": {},
     "output_type": "execute_result"
    }
   ],
   "source": [
    "insertion_sort([3,2,1])"
   ]
  },
  {
   "cell_type": "code",
   "execution_count": 8,
   "metadata": {},
   "outputs": [
    {
     "name": "stdout",
     "output_type": "stream",
     "text": [
      "Insertion Sort: 0.192838\n",
      "Selection Sort : 0.143258\n"
     ]
    }
   ],
   "source": [
    "import numpy as np\n",
    "import time\n",
    "\n",
    "def gen_random(size):\n",
    "    return np.random.permutation(np.arange(size,dtype=np.int8))\n",
    "\n",
    "def gen_worst_case(size):\n",
    "    return np.arange(size,-1,-1,dtype=np.int8)\n",
    "\n",
    "def gen_best_case(size):\n",
    "    return np.arange(size,dtype=np.int8)\n",
    "\n",
    "arr=gen_best_case(1000)\n",
    "\n",
    "start=time.clock()\n",
    "insertion_sort(arr.copy())\n",
    "end=time.clock()\n",
    "t1=end-start\n",
    "\n",
    "start=time.clock()\n",
    "selection_sort(arr.copy())\n",
    "end=time.clock()\n",
    "t2=end-start\n",
    "\n",
    "\n",
    "\n",
    "print('Insertion Sort: %2f'%t1)\n",
    "print('Selection Sort : %2f'%t2)\n"
   ]
  },
  {
   "cell_type": "code",
   "execution_count": 5,
   "metadata": {},
   "outputs": [],
   "source": [
    "def merge_sort(A):\n",
    "    n=len(A)\n",
    "    if len(A) <= 1:\n",
    "      return A\n",
    "    L = merge_sort(A[0:int(n/2)])\n",
    "    R = merge_sort(A[int(n/2):n])\n",
    "    return merge(L, R)\n",
    "\n",
    "def merge(L, R):\n",
    "    result = []\n",
    "    l_idx, r_idx = (0, 0)\n",
    "    while l_idx < len(L) and r_idx < len(R):\n",
    "      if L[l_idx] < R[r_idx]:\n",
    "        result.append(L[l_idx])\n",
    "        l_idx += 1\n",
    "      else:\n",
    "        result.append(R[r_idx])\n",
    "        r_idx += 1\n",
    "    result.extend(L[l_idx:len(L)])\n",
    "    result.extend(R[r_idx:len(R)])\n",
    "    return result"
   ]
  },
  {
   "cell_type": "code",
   "execution_count": 6,
   "metadata": {},
   "outputs": [
    {
     "name": "stdout",
     "output_type": "stream",
     "text": [
      "[0 1 2 3 4]\n",
      "[5 6 7 8 9]\n"
     ]
    }
   ],
   "source": [
    "arr=gen_best_case(10)\n",
    "\n",
    "print(arr[0:int(10/2)])\n",
    "print(arr[int(10/2):10])\n",
    "#sorted_arr=merge_sort(arr)\n",
    "\n",
    "#print(sorted_arr)"
   ]
  },
  {
   "cell_type": "code",
   "execution_count": 19,
   "metadata": {},
   "outputs": [
    {
     "data": {
      "text/html": [
       "<div>\n",
       "<style scoped>\n",
       "    .dataframe tbody tr th:only-of-type {\n",
       "        vertical-align: middle;\n",
       "    }\n",
       "\n",
       "    .dataframe tbody tr th {\n",
       "        vertical-align: top;\n",
       "    }\n",
       "\n",
       "    .dataframe thead th {\n",
       "        text-align: right;\n",
       "    }\n",
       "</style>\n",
       "<table border=\"1\" class=\"dataframe\">\n",
       "  <thead>\n",
       "    <tr style=\"text-align: right;\">\n",
       "      <th></th>\n",
       "      <th>n</th>\n",
       "      <th>time</th>\n",
       "      <th>method</th>\n",
       "    </tr>\n",
       "  </thead>\n",
       "  <tbody>\n",
       "    <tr>\n",
       "      <th>0</th>\n",
       "      <td>1000</td>\n",
       "      <td>0.005908</td>\n",
       "      <td>merge_sort</td>\n",
       "    </tr>\n",
       "    <tr>\n",
       "      <th>1</th>\n",
       "      <td>1000</td>\n",
       "      <td>0.006035</td>\n",
       "      <td>merge_sort</td>\n",
       "    </tr>\n",
       "    <tr>\n",
       "      <th>2</th>\n",
       "      <td>1000</td>\n",
       "      <td>0.005476</td>\n",
       "      <td>merge_sort</td>\n",
       "    </tr>\n",
       "    <tr>\n",
       "      <th>3</th>\n",
       "      <td>1000</td>\n",
       "      <td>0.004721</td>\n",
       "      <td>merge_sort</td>\n",
       "    </tr>\n",
       "    <tr>\n",
       "      <th>4</th>\n",
       "      <td>1000</td>\n",
       "      <td>0.004311</td>\n",
       "      <td>merge_sort</td>\n",
       "    </tr>\n",
       "  </tbody>\n",
       "</table>\n",
       "</div>"
      ],
      "text/plain": [
       "      n      time      method\n",
       "0  1000  0.005908  merge_sort\n",
       "1  1000  0.006035  merge_sort\n",
       "2  1000  0.005476  merge_sort\n",
       "3  1000  0.004721  merge_sort\n",
       "4  1000  0.004311  merge_sort"
      ]
     },
     "execution_count": 19,
     "metadata": {},
     "output_type": "execute_result"
    }
   ],
   "source": [
    "import pandas as pd\n",
    "import time \n",
    "import sys\n",
    "\n",
    "method=[merge_sort,selection_sort,insertion_sort]\n",
    "fun=[gen_random,gen_worst_case,gen_best_case]\n",
    "n_data=[1000,3000,5000]\n",
    "n_samp=10\n",
    "\n",
    "s_n=[]\n",
    "ellapsed_time={m.__name__:[] for m in method}\n",
    "\n",
    "for i in n_data:\n",
    "    for j in range(n_samp):\n",
    "        s_n.append(i)\n",
    "        arr=gen_random(i)\n",
    "        for m in method:\n",
    "            start=time.clock()\n",
    "            m(arr.copy())\n",
    "            end=time.clock()\n",
    "            ellapsed_time[m.__name__].append(end-start)\n",
    " \n",
    "df_list=[]\n",
    "for m in method:\n",
    "    df=pd.DataFrame({'n':s_n,'time':ellapsed_time[m.__name__],'method':[m.__name__]*len(ellapsed_time[m.__name__])})\n",
    "    df_list.append(df)\n",
    "df_average=pd.concat(df_list,axis=0)\n",
    "df_average.head()"
   ]
  },
  {
   "cell_type": "code",
   "execution_count": 14,
   "metadata": {},
   "outputs": [
    {
     "data": {
      "image/png": "[encoded data removed]",
      "text/plain": [
       "<Figure size 476.6x360 with 1 Axes>"
      ]
     },
     "metadata": {},
     "output_type": "display_data"
    }
   ],
   "source": [
    "import warnings\n",
    "warnings.filterwarnings(\"ignore\")\n",
    "import seaborn as sns\n",
    "import matplotlib.pyplot as plt\n",
    "sns.set(style=\"whitegrid\")\n",
    "\n",
    "sns.lmplot(x=\"n\", y=\"time\", hue=\"method\",order=2, data=df)\n",
    "plt.show()"
   ]
  },
  {
   "cell_type": "code",
   "execution_count": 18,
   "metadata": {},
   "outputs": [
    {
     "data": {
      "text/html": [
       "<div>\n",
       "<style scoped>\n",
       "    .dataframe tbody tr th:only-of-type {\n",
       "        vertical-align: middle;\n",
       "    }\n",
       "\n",
       "    .dataframe tbody tr th {\n",
       "        vertical-align: top;\n",
       "    }\n",
       "\n",
       "    .dataframe thead th {\n",
       "        text-align: right;\n",
       "    }\n",
       "</style>\n",
       "<table border=\"1\" class=\"dataframe\">\n",
       "  <thead>\n",
       "    <tr style=\"text-align: right;\">\n",
       "      <th></th>\n",
       "      <th></th>\n",
       "      <th>time</th>\n",
       "    </tr>\n",
       "    <tr>\n",
       "      <th>method</th>\n",
       "      <th>n</th>\n",
       "      <th></th>\n",
       "    </tr>\n",
       "  </thead>\n",
       "  <tbody>\n",
       "    <tr>\n",
       "      <th rowspan=\"3\" valign=\"top\">insertion_sort</th>\n",
       "      <th>1000</th>\n",
       "      <td>0.187363</td>\n",
       "    </tr>\n",
       "    <tr>\n",
       "      <th>3000</th>\n",
       "      <td>1.726870</td>\n",
       "    </tr>\n",
       "    <tr>\n",
       "      <th>5000</th>\n",
       "      <td>4.879962</td>\n",
       "    </tr>\n",
       "  </tbody>\n",
       "</table>\n",
       "</div>"
      ],
      "text/plain": [
       "                         time\n",
       "method         n             \n",
       "insertion_sort 1000  0.187363\n",
       "               3000  1.726870\n",
       "               5000  4.879962"
      ]
     },
     "execution_count": 18,
     "metadata": {},
     "output_type": "execute_result"
    }
   ],
   "source": [
    "df.groupby(['method','n']).mean()\n"
   ]
  },
  {
   "cell_type": "code",
   "execution_count": 148,
   "metadata": {},
   "outputs": [
    {
     "name": "stdout",
     "output_type": "stream",
     "text": [
      "Selection Sort\n",
      "Grado : 0, Residuos : 22154.98\n",
      "Grado : 1, Residuos : 1045.01\n",
      "Grado : 2, Residuos : 16.91\n",
      "Grado : 3, Residuos : 15.47\n",
      "Grado : 4, Residuos : 15.14\n",
      "Grado : 5, Residuos : 15.04\n",
      "Grado : 6, Residuos : 15.01\n"
     ]
    }
   ],
   "source": [
    "from numpy.polynomial import polynomial as P\n",
    "\n",
    "sort_data=df[df.method=='selection_sort'][['n','time']].to_numpy()\n",
    "x = sort_data[:,0].flatten()\n",
    "y = sort_data[:,1].flatten()\n",
    "\n",
    "print(\"Selection Sort\")\n",
    "for i in np.arange(7):\n",
    "    c, stats = P.polyfit(x,y,i,full=True)\n",
    "    print(\"Grado : {0}, Residuos : {1:0.2f}\".format(i,stats[0][0]))"
   ]
  },
  {
   "cell_type": "code",
   "execution_count": 147,
   "metadata": {},
   "outputs": [
    {
     "name": "stdout",
     "output_type": "stream",
     "text": [
      "Insertion Sort\n",
      "Grado : 0, Residuos : 37728.79\n",
      "Grado : 1, Residuos : 1751.34\n",
      "Grado : 2, Residuos : 23.76\n",
      "Grado : 3, Residuos : 19.99\n",
      "Grado : 4, Residuos : 19.10\n",
      "Grado : 5, Residuos : 18.89\n",
      "Grado : 6, Residuos : 18.86\n"
     ]
    }
   ],
   "source": [
    "sort_data=df[df.method=='insertion_sort'][['n','time']].to_numpy()\n",
    "x = sort_data[:,0].flatten()\n",
    "y = sort_data[:,1].flatten()\n",
    "\n",
    "print(\"Insertion Sort\")\n",
    "for i in np.arange(7):\n",
    "    c, stats = P.polyfit(x,y,i,full=True)\n",
    "    print(\"Grado : {0}, Residuos : {1:0.2f}\".format(i,stats[0][0]))"
   ]
  },
  {
   "cell_type": "code",
   "execution_count": 146,
   "metadata": {},
   "outputs": [
    {
     "name": "stdout",
     "output_type": "stream",
     "text": [
      "Merge Sort\n",
      "Grado : 0, Residuos : 0.11\n",
      "Grado : 1, Residuos : 0.00\n",
      "Grado : 2, Residuos : 0.00\n",
      "Grado : 3, Residuos : 0.00\n",
      "Grado : 4, Residuos : 0.00\n",
      "Grado : 5, Residuos : 0.00\n",
      "Grado : 6, Residuos : 0.00\n"
     ]
    }
   ],
   "source": [
    "sort_data=df[df.method=='merge_sort'][['n','time']].to_numpy()\n",
    "x = sort_data[:,0].flatten()\n",
    "y = sort_data[:,1].flatten()\n",
    "\n",
    "print(\"Merge Sort\")\n",
    "for i in np.arange(7):\n",
    "    c, stats = P.polyfit(x,y,i,full=True)\n",
    "    print(\"Grado : {0}, Residuos : {1:0.2f}\".format(i,stats[0][0]))"
   ]
  },
  {
   "cell_type": "code",
   "execution_count": 155,
   "metadata": {},
   "outputs": [
    {
     "name": "stdout",
     "output_type": "stream",
     "text": [
      "Grado : 0, Residuos : 2480.77\n",
      "Grado : 1, Residuos : 22.01\n",
      "Grado : 2, Residuos : 0.65\n",
      "Grado : 3, Residuos : 0.04\n",
      "Grado : 4, Residuos : 0.00\n",
      "Grado : 5, Residuos : 0.00\n",
      "Grado : 6, Residuos : 0.00\n"
     ]
    }
   ],
   "source": [
    "np.random.seed(123)\n",
    "from numpy.polynomial import polynomial as P\n",
    "x = np.linspace(1,10,51)\n",
    "y = x*np.log(x)+np.random.normal(51)\n",
    "for i in np.arange(7):\n",
    "    c, stats = P.polyfit(x,y,i,full=True)\n",
    "    print(\"Grado : {0}, Residuos : {1:0.2f}\".format(i,stats[0][0]))"
   ]
  },
  {
   "cell_type": "code",
   "execution_count": 153,
   "metadata": {},
   "outputs": [
    {
     "name": "stdout",
     "output_type": "stream",
     "text": [
      "Grado : 0, Residuos : 45328.74\n",
      "Grado : 1, Residuos : 2008.32\n",
      "Grado : 2, Residuos : 0.00\n",
      "Grado : 3, Residuos : 0.00\n",
      "Grado : 4, Residuos : 0.00\n",
      "Grado : 5, Residuos : 0.00\n",
      "Grado : 6, Residuos : 0.00\n"
     ]
    }
   ],
   "source": [
    "np.random.seed(123)\n",
    "from numpy.polynomial import polynomial as P\n",
    "x = np.linspace(1,10,51)\n",
    "y = x**2+np.random.normal(51)\n",
    "for i in np.arange(7):\n",
    "    c, stats = P.polyfit(x,y,i,full=True)\n",
    "    print(\"Grado : {0}, Residuos : {1:0.2f}\".format(i,stats[0][0]))"
   ]
  },
  {
   "cell_type": "code",
   "execution_count": 16,
   "metadata": {},
   "outputs": [
    {
     "data": {
      "text/html": [
       "<div>\n",
       "<style scoped>\n",
       "    .dataframe tbody tr th:only-of-type {\n",
       "        vertical-align: middle;\n",
       "    }\n",
       "\n",
       "    .dataframe tbody tr th {\n",
       "        vertical-align: top;\n",
       "    }\n",
       "\n",
       "    .dataframe thead th {\n",
       "        text-align: right;\n",
       "    }\n",
       "</style>\n",
       "<table border=\"1\" class=\"dataframe\">\n",
       "  <thead>\n",
       "    <tr style=\"text-align: right;\">\n",
       "      <th></th>\n",
       "      <th></th>\n",
       "      <th>time</th>\n",
       "    </tr>\n",
       "    <tr>\n",
       "      <th>method</th>\n",
       "      <th>n</th>\n",
       "      <th></th>\n",
       "    </tr>\n",
       "  </thead>\n",
       "  <tbody>\n",
       "    <tr>\n",
       "      <th rowspan=\"3\" valign=\"top\">insertion_sort</th>\n",
       "      <th>1000</th>\n",
       "      <td>0.187363</td>\n",
       "    </tr>\n",
       "    <tr>\n",
       "      <th>3000</th>\n",
       "      <td>1.726870</td>\n",
       "    </tr>\n",
       "    <tr>\n",
       "      <th>5000</th>\n",
       "      <td>4.879962</td>\n",
       "    </tr>\n",
       "    <tr>\n",
       "      <th rowspan=\"3\" valign=\"top\">merge_sort</th>\n",
       "      <th>1000</th>\n",
       "      <td>0.004387</td>\n",
       "    </tr>\n",
       "    <tr>\n",
       "      <th>3000</th>\n",
       "      <td>0.014710</td>\n",
       "    </tr>\n",
       "    <tr>\n",
       "      <th>5000</th>\n",
       "      <td>0.025080</td>\n",
       "    </tr>\n",
       "    <tr>\n",
       "      <th rowspan=\"3\" valign=\"top\">selection_sort</th>\n",
       "      <th>1000</th>\n",
       "      <td>0.139444</td>\n",
       "    </tr>\n",
       "    <tr>\n",
       "      <th>3000</th>\n",
       "      <td>1.306295</td>\n",
       "    </tr>\n",
       "    <tr>\n",
       "      <th>5000</th>\n",
       "      <td>3.688228</td>\n",
       "    </tr>\n",
       "  </tbody>\n",
       "</table>\n",
       "</div>"
      ],
      "text/plain": [
       "                         time\n",
       "method         n             \n",
       "insertion_sort 1000  0.187363\n",
       "               3000  1.726870\n",
       "               5000  4.879962\n",
       "merge_sort     1000  0.004387\n",
       "               3000  0.014710\n",
       "               5000  0.025080\n",
       "selection_sort 1000  0.139444\n",
       "               3000  1.306295\n",
       "               5000  3.688228"
      ]
     },
     "execution_count": 16,
     "metadata": {},
     "output_type": "execute_result"
    }
   ],
   "source": [
    "method=[merge_sort,selection_sort,insertion_sort]\n",
    "fun=[gen_random,gen_worst_case,gen_best_case]\n",
    "n_data=[1000,3000,5000]\n",
    "n_samp=10\n",
    "\n",
    "s_n=[]\n",
    "ellapsed_time={m.__name__:[] for m in method}\n",
    "\n",
    "for i in n_data:\n",
    "    for j in range(n_samp):\n",
    "        s_n.append(i)\n",
    "        arr=gen_worst_case(i)\n",
    "        for m in method:\n",
    "            start=time.clock()\n",
    "            m(arr.copy())\n",
    "            end=time.clock()\n",
    "            ellapsed_time[m.__name__].append(end-start)\n",
    " \n",
    "df_list=[]\n",
    "for m in method:\n",
    "    df=pd.DataFrame({'n':s_n,'time':ellapsed_time[m.__name__],'method':[m.__name__]*len(ellapsed_time[m.__name__])})\n",
    "    df_list.append(df)\n",
    "df_worst=pd.concat(df_list,axis=0)\n"
   ]
  },
  {
   "cell_type": "code",
   "execution_count": 21,
   "metadata": {},
   "outputs": [
    {
     "data": {
      "text/html": [
       "<div>\n",
       "<style scoped>\n",
       "    .dataframe tbody tr th:only-of-type {\n",
       "        vertical-align: middle;\n",
       "    }\n",
       "\n",
       "    .dataframe tbody tr th {\n",
       "        vertical-align: top;\n",
       "    }\n",
       "\n",
       "    .dataframe thead th {\n",
       "        text-align: right;\n",
       "    }\n",
       "</style>\n",
       "<table border=\"1\" class=\"dataframe\">\n",
       "  <thead>\n",
       "    <tr style=\"text-align: right;\">\n",
       "      <th></th>\n",
       "      <th></th>\n",
       "      <th>time</th>\n",
       "    </tr>\n",
       "    <tr>\n",
       "      <th>method</th>\n",
       "      <th>n</th>\n",
       "      <th></th>\n",
       "    </tr>\n",
       "  </thead>\n",
       "  <tbody>\n",
       "    <tr>\n",
       "      <th rowspan=\"3\" valign=\"top\">insertion_sort</th>\n",
       "      <th>1000</th>\n",
       "      <td>0.204011</td>\n",
       "    </tr>\n",
       "    <tr>\n",
       "      <th>3000</th>\n",
       "      <td>1.731615</td>\n",
       "    </tr>\n",
       "    <tr>\n",
       "      <th>5000</th>\n",
       "      <td>4.874951</td>\n",
       "    </tr>\n",
       "    <tr>\n",
       "      <th rowspan=\"3\" valign=\"top\">merge_sort</th>\n",
       "      <th>1000</th>\n",
       "      <td>0.004821</td>\n",
       "    </tr>\n",
       "    <tr>\n",
       "      <th>3000</th>\n",
       "      <td>0.014225</td>\n",
       "    </tr>\n",
       "    <tr>\n",
       "      <th>5000</th>\n",
       "      <td>0.025173</td>\n",
       "    </tr>\n",
       "    <tr>\n",
       "      <th rowspan=\"3\" valign=\"top\">selection_sort</th>\n",
       "      <th>1000</th>\n",
       "      <td>0.154296</td>\n",
       "    </tr>\n",
       "    <tr>\n",
       "      <th>3000</th>\n",
       "      <td>1.298859</td>\n",
       "    </tr>\n",
       "    <tr>\n",
       "      <th>5000</th>\n",
       "      <td>3.726344</td>\n",
       "    </tr>\n",
       "  </tbody>\n",
       "</table>\n",
       "</div>"
      ],
      "text/plain": [
       "                         time\n",
       "method         n             \n",
       "insertion_sort 1000  0.204011\n",
       "               3000  1.731615\n",
       "               5000  4.874951\n",
       "merge_sort     1000  0.004821\n",
       "               3000  0.014225\n",
       "               5000  0.025173\n",
       "selection_sort 1000  0.154296\n",
       "               3000  1.298859\n",
       "               5000  3.726344"
      ]
     },
     "execution_count": 21,
     "metadata": {},
     "output_type": "execute_result"
    }
   ],
   "source": [
    "method=[merge_sort,selection_sort,insertion_sort]\n",
    "fun=[gen_random,gen_worst_case,gen_best_case]\n",
    "n_data=[1000,3000,5000]\n",
    "n_samp=10\n",
    "\n",
    "s_n=[]\n",
    "ellapsed_time={m.__name__:[] for m in method}\n",
    "\n",
    "for i in n_data:\n",
    "    for j in range(n_samp):\n",
    "        s_n.append(i)\n",
    "        arr=gen_best_case(i)\n",
    "        for m in method:\n",
    "            start=time.clock()\n",
    "            m(arr.copy())\n",
    "            end=time.clock()\n",
    "            ellapsed_time[m.__name__].append(end-start)\n",
    " \n",
    "df_list=[]\n",
    "for m in method:\n",
    "    df=pd.DataFrame({'n':s_n,'time':ellapsed_time[m.__name__],'method':[m.__name__]*len(ellapsed_time[m.__name__])})\n",
    "    df_list.append(df)\n",
    "df_best=pd.concat(df_list,axis=0)\n",
    "df_best.groupby(['method','n']).mean()"
   ]
  },
  {
   "cell_type": "code",
   "execution_count": 22,
   "metadata": {},
   "outputs": [
    {
     "data": {
      "text/html": [
       "<div>\n",
       "<style scoped>\n",
       "    .dataframe tbody tr th:only-of-type {\n",
       "        vertical-align: middle;\n",
       "    }\n",
       "\n",
       "    .dataframe tbody tr th {\n",
       "        vertical-align: top;\n",
       "    }\n",
       "\n",
       "    .dataframe thead th {\n",
       "        text-align: right;\n",
       "    }\n",
       "</style>\n",
       "<table border=\"1\" class=\"dataframe\">\n",
       "  <thead>\n",
       "    <tr style=\"text-align: right;\">\n",
       "      <th></th>\n",
       "      <th></th>\n",
       "      <th>time</th>\n",
       "    </tr>\n",
       "    <tr>\n",
       "      <th>method</th>\n",
       "      <th>n</th>\n",
       "      <th></th>\n",
       "    </tr>\n",
       "  </thead>\n",
       "  <tbody>\n",
       "    <tr>\n",
       "      <th rowspan=\"3\" valign=\"top\">insertion_sort</th>\n",
       "      <th>1000</th>\n",
       "      <td>0.186071</td>\n",
       "    </tr>\n",
       "    <tr>\n",
       "      <th>3000</th>\n",
       "      <td>1.670351</td>\n",
       "    </tr>\n",
       "    <tr>\n",
       "      <th>5000</th>\n",
       "      <td>4.488213</td>\n",
       "    </tr>\n",
       "    <tr>\n",
       "      <th rowspan=\"3\" valign=\"top\">merge_sort</th>\n",
       "      <th>1000</th>\n",
       "      <td>0.005233</td>\n",
       "    </tr>\n",
       "    <tr>\n",
       "      <th>3000</th>\n",
       "      <td>0.015384</td>\n",
       "    </tr>\n",
       "    <tr>\n",
       "      <th>5000</th>\n",
       "      <td>0.026576</td>\n",
       "    </tr>\n",
       "    <tr>\n",
       "      <th rowspan=\"3\" valign=\"top\">selection_sort</th>\n",
       "      <th>1000</th>\n",
       "      <td>0.134374</td>\n",
       "    </tr>\n",
       "    <tr>\n",
       "      <th>3000</th>\n",
       "      <td>1.180358</td>\n",
       "    </tr>\n",
       "    <tr>\n",
       "      <th>5000</th>\n",
       "      <td>3.231546</td>\n",
       "    </tr>\n",
       "  </tbody>\n",
       "</table>\n",
       "</div>"
      ],
      "text/plain": [
       "                         time\n",
       "method         n             \n",
       "insertion_sort 1000  0.186071\n",
       "               3000  1.670351\n",
       "               5000  4.488213\n",
       "merge_sort     1000  0.005233\n",
       "               3000  0.015384\n",
       "               5000  0.026576\n",
       "selection_sort 1000  0.134374\n",
       "               3000  1.180358\n",
       "               5000  3.231546"
      ]
     },
     "execution_count": 22,
     "metadata": {},
     "output_type": "execute_result"
    }
   ],
   "source": [
    "df_average.groupby(['method','n']).mean()"
   ]
  },
  {
   "cell_type": "code",
   "execution_count": 23,
   "metadata": {},
   "outputs": [
    {
     "data": {
      "text/html": [
       "<div>\n",
       "<style scoped>\n",
       "    .dataframe tbody tr th:only-of-type {\n",
       "        vertical-align: middle;\n",
       "    }\n",
       "\n",
       "    .dataframe tbody tr th {\n",
       "        vertical-align: top;\n",
       "    }\n",
       "\n",
       "    .dataframe thead th {\n",
       "        text-align: right;\n",
       "    }\n",
       "</style>\n",
       "<table border=\"1\" class=\"dataframe\">\n",
       "  <thead>\n",
       "    <tr style=\"text-align: right;\">\n",
       "      <th></th>\n",
       "      <th></th>\n",
       "      <th>time</th>\n",
       "    </tr>\n",
       "    <tr>\n",
       "      <th>method</th>\n",
       "      <th>n</th>\n",
       "      <th></th>\n",
       "    </tr>\n",
       "  </thead>\n",
       "  <tbody>\n",
       "    <tr>\n",
       "      <th rowspan=\"3\" valign=\"top\">insertion_sort</th>\n",
       "      <th>1000</th>\n",
       "      <td>0.187363</td>\n",
       "    </tr>\n",
       "    <tr>\n",
       "      <th>3000</th>\n",
       "      <td>1.726870</td>\n",
       "    </tr>\n",
       "    <tr>\n",
       "      <th>5000</th>\n",
       "      <td>4.879962</td>\n",
       "    </tr>\n",
       "    <tr>\n",
       "      <th rowspan=\"3\" valign=\"top\">merge_sort</th>\n",
       "      <th>1000</th>\n",
       "      <td>0.004387</td>\n",
       "    </tr>\n",
       "    <tr>\n",
       "      <th>3000</th>\n",
       "      <td>0.014710</td>\n",
       "    </tr>\n",
       "    <tr>\n",
       "      <th>5000</th>\n",
       "      <td>0.025080</td>\n",
       "    </tr>\n",
       "    <tr>\n",
       "      <th rowspan=\"3\" valign=\"top\">selection_sort</th>\n",
       "      <th>1000</th>\n",
       "      <td>0.139444</td>\n",
       "    </tr>\n",
       "    <tr>\n",
       "      <th>3000</th>\n",
       "      <td>1.306295</td>\n",
       "    </tr>\n",
       "    <tr>\n",
       "      <th>5000</th>\n",
       "      <td>3.688228</td>\n",
       "    </tr>\n",
       "  </tbody>\n",
       "</table>\n",
       "</div>"
      ],
      "text/plain": [
       "                         time\n",
       "method         n             \n",
       "insertion_sort 1000  0.187363\n",
       "               3000  1.726870\n",
       "               5000  4.879962\n",
       "merge_sort     1000  0.004387\n",
       "               3000  0.014710\n",
       "               5000  0.025080\n",
       "selection_sort 1000  0.139444\n",
       "               3000  1.306295\n",
       "               5000  3.688228"
      ]
     },
     "execution_count": 23,
     "metadata": {},
     "output_type": "execute_result"
    }
   ],
   "source": [
    "df_worst.groupby(['method','n']).mean()"
   ]
  },
  {
   "cell_type": "code",
   "execution_count": null,
   "metadata": {},
   "outputs": [],
   "source": []
  }
 ],
 "metadata": {
  "kernelspec": {
   "display_name": "Python 3",
   "language": "python",
   "name": "python3"
  },
  "language_info": {
   "codemirror_mode": {
    "name": "ipython",
    "version": 3
   },
   "file_extension": ".py",
   "mimetype": "text/x-python",
   "name": "python",
   "nbconvert_exporter": "python",
   "pygments_lexer": "ipython3",
   "version": "3.6.9"
  }
 },
 "nbformat": 4,
 "nbformat_minor": 2
}
