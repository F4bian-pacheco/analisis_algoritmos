{
  "nbformat": 4,
  "nbformat_minor": 0,
  "metadata": {
    "colab": {
      "name": "Hyperparameter backtracking tree search.ipynb",
      "provenance": [],
      "authorship_tag": "ABX9TyMTPzOA/fI70gAFnTo4NqBO",
      "include_colab_link": true
    },
    "kernelspec": {
      "name": "python3",
      "display_name": "Python 3"
    },
    "language_info": {
      "name": "python"
    }
  },
  "cells": [
    {
      "cell_type": "markdown",
      "metadata": {
        "id": "view-in-github",
        "colab_type": "text"
      },
      "source": [
        "<a href=\"https://colab.research.google.com/github/sherna90/analisis_algoritmos/blob/master/Hyperparameter_backtracking_tree_search.ipynb\" target=\"_parent\"><img src=\"https://colab.research.google.com/assets/colab-badge.svg\" alt=\"Open In Colab\"/></a>"
      ]
    },
    {
      "cell_type": "markdown",
      "metadata": {
        "id": "xU7YHcrHfm2M"
      },
      "source": [
        "# Hyperaparameter Backtracking Tree Search"
      ]
    },
    {
      "cell_type": "code",
      "metadata": {
        "id": "rT-aJyMrQvH6"
      },
      "source": [
        "import numpy as np\n",
        "\n",
        "from time import time\n",
        "import scipy.stats as stats\n",
        "from sklearn.utils.fixes import loguniform\n",
        "\n",
        "from sklearn.model_selection import GridSearchCV, RandomizedSearchCV\n",
        "from sklearn.datasets import load_digits\n",
        "from sklearn.linear_model import SGDClassifier\n",
        "from sklearn.model_selection import train_test_split\n",
        "\n",
        "# get some data\n",
        "X, y = load_digits(return_X_y=True)\n",
        "X_train, X_test, y_train, y_test = train_test_split(X, y, test_size=0.33, random_state=42)\n",
        "# build a classifier\n",
        "clf = SGDClassifier(loss='log',learning_rate='constant',eta0=1e-3,fit_intercept=True,shuffle=False)"
      ],
      "execution_count": 7,
      "outputs": []
    },
    {
      "cell_type": "code",
      "metadata": {
        "colab": {
          "base_uri": "https://localhost:8080/"
        },
        "id": "BtiHV79fTPF1",
        "outputId": "6f29683b-6b3c-4400-87b7-4a4c50e842c3"
      },
      "source": [
        "clf.get_params()"
      ],
      "execution_count": 10,
      "outputs": [
        {
          "output_type": "execute_result",
          "data": {
            "text/plain": [
              "{'alpha': 0.0001,\n",
              " 'average': False,\n",
              " 'class_weight': None,\n",
              " 'early_stopping': False,\n",
              " 'epsilon': 0.1,\n",
              " 'eta0': 0.001,\n",
              " 'fit_intercept': True,\n",
              " 'l1_ratio': 0.15,\n",
              " 'learning_rate': 'constant',\n",
              " 'loss': 'log',\n",
              " 'max_iter': 1000,\n",
              " 'n_iter_no_change': 5,\n",
              " 'n_jobs': None,\n",
              " 'penalty': 'l2',\n",
              " 'power_t': 0.5,\n",
              " 'random_state': None,\n",
              " 'shuffle': False,\n",
              " 'tol': 0.001,\n",
              " 'validation_fraction': 0.1,\n",
              " 'verbose': 0,\n",
              " 'warm_start': False}"
            ]
          },
          "metadata": {
            "tags": []
          },
          "execution_count": 10
        }
      ]
    },
    {
      "cell_type": "code",
      "metadata": {
        "colab": {
          "base_uri": "https://localhost:8080/"
        },
        "id": "P7VyGARmXiuX",
        "outputId": "88311693-dfdf-4cff-b374-7b91ae6c29ef"
      },
      "source": [
        "clf.fit(X_train,y_train)\n",
        "clf.score(X_test,y_test)"
      ],
      "execution_count": 12,
      "outputs": [
        {
          "output_type": "execute_result",
          "data": {
            "text/plain": [
              "0.9595959595959596"
            ]
          },
          "metadata": {
            "tags": []
          },
          "execution_count": 12
        }
      ]
    },
    {
      "cell_type": "code",
      "metadata": {
        "colab": {
          "base_uri": "https://localhost:8080/"
        },
        "id": "wTZ7FezKRIqO",
        "outputId": "e0dbb975-58e7-4e48-8ddc-3da07a255927"
      },
      "source": [
        "param_grid = {'penalty': ['l2','l1'],\n",
        "              'eta0': [1e-4,1e-2,1e-1],\n",
        "              'alpha':[1e-3,1e-2,1e-1,1.0,10.]}\n",
        "\n",
        "# run randomized search\n",
        "grid_search = GridSearchCV(clf, param_grid=param_grid)\n",
        "\n",
        "start = time()\n",
        "grid_search.fit(X_train, y_train)"
      ],
      "execution_count": 13,
      "outputs": [
        {
          "output_type": "execute_result",
          "data": {
            "text/plain": [
              "GridSearchCV(cv=None, error_score=nan,\n",
              "             estimator=SGDClassifier(alpha=0.0001, average=False,\n",
              "                                     class_weight=None, early_stopping=False,\n",
              "                                     epsilon=0.1, eta0=0.001,\n",
              "                                     fit_intercept=True, l1_ratio=0.15,\n",
              "                                     learning_rate='constant', loss='log',\n",
              "                                     max_iter=1000, n_iter_no_change=5,\n",
              "                                     n_jobs=None, penalty='l2', power_t=0.5,\n",
              "                                     random_state=None, shuffle=False,\n",
              "                                     tol=0.001, validation_fraction=0.1,\n",
              "                                     verbose=0, warm_start=False),\n",
              "             iid='deprecated', n_jobs=None,\n",
              "             param_grid={'alpha': [0.001, 0.01, 0.1, 1.0, 10.0],\n",
              "                         'eta0': [0.0001, 0.01, 0.1], 'penalty': ['l2', 'l1']},\n",
              "             pre_dispatch='2*n_jobs', refit=True, return_train_score=False,\n",
              "             scoring=None, verbose=0)"
            ]
          },
          "metadata": {
            "tags": []
          },
          "execution_count": 13
        }
      ]
    },
    {
      "cell_type": "code",
      "metadata": {
        "colab": {
          "base_uri": "https://localhost:8080/"
        },
        "id": "uqC6eeuWWAU2",
        "outputId": "48c7abed-cdfe-47bc-b350-eb9f8042055c"
      },
      "source": [
        "grid_search.best_params_"
      ],
      "execution_count": 14,
      "outputs": [
        {
          "output_type": "execute_result",
          "data": {
            "text/plain": [
              "{'alpha': 0.01, 'eta0': 0.0001, 'penalty': 'l1'}"
            ]
          },
          "metadata": {
            "tags": []
          },
          "execution_count": 14
        }
      ]
    },
    {
      "cell_type": "code",
      "metadata": {
        "colab": {
          "base_uri": "https://localhost:8080/"
        },
        "id": "9MAtGyM7WZsT",
        "outputId": "18adce87-5baf-4843-ffe5-8adecfc56a33"
      },
      "source": [
        "clf.set_params(**grid_search.best_params_)"
      ],
      "execution_count": 15,
      "outputs": [
        {
          "output_type": "execute_result",
          "data": {
            "text/plain": [
              "SGDClassifier(alpha=0.01, average=False, class_weight=None,\n",
              "              early_stopping=False, epsilon=0.1, eta0=0.0001,\n",
              "              fit_intercept=True, l1_ratio=0.15, learning_rate='constant',\n",
              "              loss='log', max_iter=1000, n_iter_no_change=5, n_jobs=None,\n",
              "              penalty='l1', power_t=0.5, random_state=None, shuffle=False,\n",
              "              tol=0.001, validation_fraction=0.1, verbose=0, warm_start=False)"
            ]
          },
          "metadata": {
            "tags": []
          },
          "execution_count": 15
        }
      ]
    },
    {
      "cell_type": "code",
      "metadata": {
        "colab": {
          "base_uri": "https://localhost:8080/"
        },
        "id": "pu06O6h1XO8R",
        "outputId": "2799c063-30ce-42b7-e097-f5ac71dfbe15"
      },
      "source": [
        "clf.fit(X_train,y_train)"
      ],
      "execution_count": 16,
      "outputs": [
        {
          "output_type": "execute_result",
          "data": {
            "text/plain": [
              "SGDClassifier(alpha=0.01, average=False, class_weight=None,\n",
              "              early_stopping=False, epsilon=0.1, eta0=0.0001,\n",
              "              fit_intercept=True, l1_ratio=0.15, learning_rate='constant',\n",
              "              loss='log', max_iter=1000, n_iter_no_change=5, n_jobs=None,\n",
              "              penalty='l1', power_t=0.5, random_state=None, shuffle=False,\n",
              "              tol=0.001, validation_fraction=0.1, verbose=0, warm_start=False)"
            ]
          },
          "metadata": {
            "tags": []
          },
          "execution_count": 16
        }
      ]
    },
    {
      "cell_type": "code",
      "metadata": {
        "colab": {
          "base_uri": "https://localhost:8080/"
        },
        "id": "MwXzbuXyXRIb",
        "outputId": "5b30c95d-7dd5-4484-fcaa-32d70bef27b0"
      },
      "source": [
        "clf.score(X_test,y_test)"
      ],
      "execution_count": 17,
      "outputs": [
        {
          "output_type": "execute_result",
          "data": {
            "text/plain": [
              "0.9579124579124579"
            ]
          },
          "metadata": {
            "tags": []
          },
          "execution_count": 17
        }
      ]
    },
    {
      "cell_type": "markdown",
      "metadata": {
        "id": "GJh0dMIg_aZZ"
      },
      "source": [
        "# Backtracking Tree Search"
      ]
    },
    {
      "cell_type": "code",
      "metadata": {
        "colab": {
          "base_uri": "https://localhost:8080/"
        },
        "id": "NuD3aMAuOReK",
        "outputId": "fcb17c09-1f8b-40ef-8975-0a9c9e715b72"
      },
      "source": [
        "import itertools\n",
        "\n",
        "def score(clf,X_train,y_train,X_test,y_test,par):\n",
        "  clf.set_params(**par)\n",
        "  clf.fit(X_train,y_train)\n",
        "  return clf.score(X_test,y_test)\n",
        "\n",
        "param_grid = {'penalty': ['l2','l1'],\n",
        "              'eta0': np.linspace(0.0001,1.0,10),\n",
        "              'alpha':np.linspace(0.001,1.0,10)}\n",
        "\n",
        "params=[ [{u:v} for u,vals in param_grid.items() for v in vals if u==node] for node in param_grid.keys()]\n",
        "\n",
        "i=1\n",
        "max_val=-np.infty\n",
        "min_val=np.infty\n",
        "for element in itertools.product(*params):\n",
        "  par=dict()\n",
        "  for v in element:\n",
        "    par.update(v)\n",
        "  current_val=score(clf,X_train,y_train,X_test,y_test,par)\n",
        "  print(i,par,current_val)\n",
        "  min_val=min(current_val,min_val)\n",
        "  max_val=max(current_val,max_val)\n",
        "  i+=1\n",
        "print('min val {0}, max_val : {1}'.format(min_val,max_val))"
      ],
      "execution_count": 50,
      "outputs": [
        {
          "output_type": "stream",
          "text": [
            "1 {'penalty': 'l2', 'eta0': 0.0001, 'alpha': 0.001} 0.9612794612794613\n",
            "2 {'penalty': 'l2', 'eta0': 0.0001, 'alpha': 0.112} 0.9629629629629629\n",
            "3 {'penalty': 'l2', 'eta0': 0.0001, 'alpha': 0.223} 0.9629629629629629\n",
            "4 {'penalty': 'l2', 'eta0': 0.0001, 'alpha': 0.334} 0.9612794612794613\n",
            "5 {'penalty': 'l2', 'eta0': 0.0001, 'alpha': 0.445} 0.9579124579124579\n",
            "6 {'penalty': 'l2', 'eta0': 0.0001, 'alpha': 0.556} 0.9562289562289562\n",
            "7 {'penalty': 'l2', 'eta0': 0.0001, 'alpha': 0.667} 0.9545454545454546\n",
            "8 {'penalty': 'l2', 'eta0': 0.0001, 'alpha': 0.778} 0.9545454545454546\n",
            "9 {'penalty': 'l2', 'eta0': 0.0001, 'alpha': 0.889} 0.9528619528619529\n",
            "10 {'penalty': 'l2', 'eta0': 0.0001, 'alpha': 1.0} 0.9511784511784511\n",
            "11 {'penalty': 'l2', 'eta0': 0.11120000000000001, 'alpha': 0.001} 0.8956228956228957\n",
            "12 {'penalty': 'l2', 'eta0': 0.11120000000000001, 'alpha': 0.112} 0.5185185185185185\n",
            "13 {'penalty': 'l2', 'eta0': 0.11120000000000001, 'alpha': 0.223} 0.15488215488215487\n",
            "14 {'penalty': 'l2', 'eta0': 0.11120000000000001, 'alpha': 0.334} 0.09427609427609428\n",
            "15 {'penalty': 'l2', 'eta0': 0.11120000000000001, 'alpha': 0.445} 0.09259259259259259\n",
            "16 {'penalty': 'l2', 'eta0': 0.11120000000000001, 'alpha': 0.556} 0.09259259259259259\n",
            "17 {'penalty': 'l2', 'eta0': 0.11120000000000001, 'alpha': 0.667} 0.09259259259259259\n",
            "18 {'penalty': 'l2', 'eta0': 0.11120000000000001, 'alpha': 0.778} 0.09259259259259259\n",
            "19 {'penalty': 'l2', 'eta0': 0.11120000000000001, 'alpha': 0.889} 0.09259259259259259\n",
            "20 {'penalty': 'l2', 'eta0': 0.11120000000000001, 'alpha': 1.0} 0.09259259259259259\n",
            "21 {'penalty': 'l2', 'eta0': 0.2223, 'alpha': 0.001} 0.8956228956228957\n",
            "22 {'penalty': 'l2', 'eta0': 0.2223, 'alpha': 0.112} 0.26262626262626265\n",
            "23 {'penalty': 'l2', 'eta0': 0.2223, 'alpha': 0.223} 0.09932659932659933\n",
            "24 {'penalty': 'l2', 'eta0': 0.2223, 'alpha': 0.334} 0.09259259259259259\n",
            "25 {'penalty': 'l2', 'eta0': 0.2223, 'alpha': 0.445} 0.09259259259259259\n",
            "26 {'penalty': 'l2', 'eta0': 0.2223, 'alpha': 0.556} 0.09259259259259259\n",
            "27 {'penalty': 'l2', 'eta0': 0.2223, 'alpha': 0.667} 0.09259259259259259\n",
            "28 {'penalty': 'l2', 'eta0': 0.2223, 'alpha': 0.778} 0.09259259259259259\n",
            "29 {'penalty': 'l2', 'eta0': 0.2223, 'alpha': 0.889} 0.09259259259259259\n",
            "30 {'penalty': 'l2', 'eta0': 0.2223, 'alpha': 1.0} 0.09259259259259259\n",
            "31 {'penalty': 'l2', 'eta0': 0.33340000000000003, 'alpha': 0.001} 0.8400673400673401\n",
            "32 {'penalty': 'l2', 'eta0': 0.33340000000000003, 'alpha': 0.112} 0.09595959595959595\n",
            "33 {'penalty': 'l2', 'eta0': 0.33340000000000003, 'alpha': 0.223} 0.09259259259259259\n",
            "34 {'penalty': 'l2', 'eta0': 0.33340000000000003, 'alpha': 0.334} 0.09259259259259259\n",
            "35 {'penalty': 'l2', 'eta0': 0.33340000000000003, 'alpha': 0.445} 0.09259259259259259\n",
            "36 {'penalty': 'l2', 'eta0': 0.33340000000000003, 'alpha': 0.556} 0.09259259259259259\n",
            "37 {'penalty': 'l2', 'eta0': 0.33340000000000003, 'alpha': 0.667} 0.09259259259259259\n",
            "38 {'penalty': 'l2', 'eta0': 0.33340000000000003, 'alpha': 0.778} 0.09259259259259259\n",
            "39 {'penalty': 'l2', 'eta0': 0.33340000000000003, 'alpha': 0.889} 0.09259259259259259\n",
            "40 {'penalty': 'l2', 'eta0': 0.33340000000000003, 'alpha': 1.0} 0.09259259259259259\n",
            "41 {'penalty': 'l2', 'eta0': 0.4445, 'alpha': 0.001} 0.9276094276094277\n",
            "42 {'penalty': 'l2', 'eta0': 0.4445, 'alpha': 0.112} 0.10101010101010101\n",
            "43 {'penalty': 'l2', 'eta0': 0.4445, 'alpha': 0.223} 0.09259259259259259\n",
            "44 {'penalty': 'l2', 'eta0': 0.4445, 'alpha': 0.334} 0.09259259259259259\n",
            "45 {'penalty': 'l2', 'eta0': 0.4445, 'alpha': 0.445} 0.09259259259259259\n",
            "46 {'penalty': 'l2', 'eta0': 0.4445, 'alpha': 0.556} 0.09259259259259259\n",
            "47 {'penalty': 'l2', 'eta0': 0.4445, 'alpha': 0.667} 0.09259259259259259\n",
            "48 {'penalty': 'l2', 'eta0': 0.4445, 'alpha': 0.778} 0.09259259259259259\n",
            "49 {'penalty': 'l2', 'eta0': 0.4445, 'alpha': 0.889} 0.09259259259259259\n",
            "50 {'penalty': 'l2', 'eta0': 0.4445, 'alpha': 1.0} 0.09259259259259259\n",
            "51 {'penalty': 'l2', 'eta0': 0.5556, 'alpha': 0.001} 0.8518518518518519\n",
            "52 {'penalty': 'l2', 'eta0': 0.5556, 'alpha': 0.112} 0.09259259259259259\n",
            "53 {'penalty': 'l2', 'eta0': 0.5556, 'alpha': 0.223} 0.09259259259259259\n",
            "54 {'penalty': 'l2', 'eta0': 0.5556, 'alpha': 0.334} 0.09259259259259259\n",
            "55 {'penalty': 'l2', 'eta0': 0.5556, 'alpha': 0.445} 0.09259259259259259\n",
            "56 {'penalty': 'l2', 'eta0': 0.5556, 'alpha': 0.556} 0.09259259259259259\n",
            "57 {'penalty': 'l2', 'eta0': 0.5556, 'alpha': 0.667} 0.09259259259259259\n",
            "58 {'penalty': 'l2', 'eta0': 0.5556, 'alpha': 0.778} 0.09259259259259259\n",
            "59 {'penalty': 'l2', 'eta0': 0.5556, 'alpha': 0.889} 0.09259259259259259\n",
            "60 {'penalty': 'l2', 'eta0': 0.5556, 'alpha': 1.0} 0.09259259259259259\n",
            "61 {'penalty': 'l2', 'eta0': 0.6667000000000001, 'alpha': 0.001} 0.7727272727272727\n",
            "62 {'penalty': 'l2', 'eta0': 0.6667000000000001, 'alpha': 0.112} 0.09259259259259259\n",
            "63 {'penalty': 'l2', 'eta0': 0.6667000000000001, 'alpha': 0.223} 0.09259259259259259\n",
            "64 {'penalty': 'l2', 'eta0': 0.6667000000000001, 'alpha': 0.334} 0.09259259259259259\n",
            "65 {'penalty': 'l2', 'eta0': 0.6667000000000001, 'alpha': 0.445} 0.09259259259259259\n",
            "66 {'penalty': 'l2', 'eta0': 0.6667000000000001, 'alpha': 0.556} 0.09259259259259259\n",
            "67 {'penalty': 'l2', 'eta0': 0.6667000000000001, 'alpha': 0.667} 0.09259259259259259\n",
            "68 {'penalty': 'l2', 'eta0': 0.6667000000000001, 'alpha': 0.778} 0.09259259259259259\n",
            "69 {'penalty': 'l2', 'eta0': 0.6667000000000001, 'alpha': 0.889} 0.09259259259259259\n",
            "70 {'penalty': 'l2', 'eta0': 0.6667000000000001, 'alpha': 1.0} 0.09259259259259259\n",
            "71 {'penalty': 'l2', 'eta0': 0.7778, 'alpha': 0.001} 0.8063973063973064\n",
            "72 {'penalty': 'l2', 'eta0': 0.7778, 'alpha': 0.112} 0.09595959595959595\n",
            "73 {'penalty': 'l2', 'eta0': 0.7778, 'alpha': 0.223} 0.09259259259259259\n",
            "74 {'penalty': 'l2', 'eta0': 0.7778, 'alpha': 0.334} 0.09259259259259259\n",
            "75 {'penalty': 'l2', 'eta0': 0.7778, 'alpha': 0.445} 0.09259259259259259\n",
            "76 {'penalty': 'l2', 'eta0': 0.7778, 'alpha': 0.556} 0.09259259259259259\n",
            "77 {'penalty': 'l2', 'eta0': 0.7778, 'alpha': 0.667} 0.09259259259259259\n",
            "78 {'penalty': 'l2', 'eta0': 0.7778, 'alpha': 0.778} 0.09259259259259259\n",
            "79 {'penalty': 'l2', 'eta0': 0.7778, 'alpha': 0.889} 0.09259259259259259\n",
            "80 {'penalty': 'l2', 'eta0': 0.7778, 'alpha': 1.0} 0.09259259259259259\n",
            "81 {'penalty': 'l2', 'eta0': 0.8889, 'alpha': 0.001} 0.8905723905723906\n",
            "82 {'penalty': 'l2', 'eta0': 0.8889, 'alpha': 0.112} 0.09259259259259259\n",
            "83 {'penalty': 'l2', 'eta0': 0.8889, 'alpha': 0.223} 0.09259259259259259\n",
            "84 {'penalty': 'l2', 'eta0': 0.8889, 'alpha': 0.334} 0.09259259259259259\n",
            "85 {'penalty': 'l2', 'eta0': 0.8889, 'alpha': 0.445} 0.09259259259259259\n",
            "86 {'penalty': 'l2', 'eta0': 0.8889, 'alpha': 0.556} 0.09259259259259259\n",
            "87 {'penalty': 'l2', 'eta0': 0.8889, 'alpha': 0.667} 0.09259259259259259\n",
            "88 {'penalty': 'l2', 'eta0': 0.8889, 'alpha': 0.778} 0.09259259259259259\n",
            "89 {'penalty': 'l2', 'eta0': 0.8889, 'alpha': 0.889} 0.09259259259259259\n",
            "90 {'penalty': 'l2', 'eta0': 0.8889, 'alpha': 1.0} 0.09259259259259259\n",
            "91 {'penalty': 'l2', 'eta0': 1.0, 'alpha': 0.001} 0.8737373737373737\n",
            "92 {'penalty': 'l2', 'eta0': 1.0, 'alpha': 0.112} 0.09259259259259259\n",
            "93 {'penalty': 'l2', 'eta0': 1.0, 'alpha': 0.223} 0.09259259259259259\n",
            "94 {'penalty': 'l2', 'eta0': 1.0, 'alpha': 0.334} 0.09259259259259259\n",
            "95 {'penalty': 'l2', 'eta0': 1.0, 'alpha': 0.445} 0.09259259259259259\n",
            "96 {'penalty': 'l2', 'eta0': 1.0, 'alpha': 0.556} 0.09259259259259259\n",
            "97 {'penalty': 'l2', 'eta0': 1.0, 'alpha': 0.667} 0.09259259259259259\n",
            "98 {'penalty': 'l2', 'eta0': 1.0, 'alpha': 0.778} 0.09259259259259259\n",
            "99 {'penalty': 'l2', 'eta0': 1.0, 'alpha': 0.889} 0.09259259259259259\n",
            "100 {'penalty': 'l2', 'eta0': 1.0, 'alpha': 1.0} 0.09259259259259259\n",
            "101 {'penalty': 'l1', 'eta0': 0.0001, 'alpha': 0.001} 0.9612794612794613\n",
            "102 {'penalty': 'l1', 'eta0': 0.0001, 'alpha': 0.112} 0.9242424242424242\n",
            "103 {'penalty': 'l1', 'eta0': 0.0001, 'alpha': 0.223} 0.8703703703703703\n",
            "104 {'penalty': 'l1', 'eta0': 0.0001, 'alpha': 0.334} 0.835016835016835\n",
            "105 {'penalty': 'l1', 'eta0': 0.0001, 'alpha': 0.445} 0.8215488215488216\n",
            "106 {'penalty': 'l1', 'eta0': 0.0001, 'alpha': 0.556} 0.8164983164983165\n",
            "107 {'penalty': 'l1', 'eta0': 0.0001, 'alpha': 0.667} 0.803030303030303\n",
            "108 {'penalty': 'l1', 'eta0': 0.0001, 'alpha': 0.778} 0.7878787878787878\n",
            "109 {'penalty': 'l1', 'eta0': 0.0001, 'alpha': 0.889} 0.7777777777777778\n",
            "110 {'penalty': 'l1', 'eta0': 0.0001, 'alpha': 1.0} 0.7441077441077442\n",
            "111 {'penalty': 'l1', 'eta0': 0.11120000000000001, 'alpha': 0.001} 0.9377104377104377\n",
            "112 {'penalty': 'l1', 'eta0': 0.11120000000000001, 'alpha': 0.112} 0.7356902356902357\n",
            "113 {'penalty': 'l1', 'eta0': 0.11120000000000001, 'alpha': 0.223} 0.3888888888888889\n",
            "114 {'penalty': 'l1', 'eta0': 0.11120000000000001, 'alpha': 0.334} 0.25252525252525254\n",
            "115 {'penalty': 'l1', 'eta0': 0.11120000000000001, 'alpha': 0.445} 0.2558922558922559\n",
            "116 {'penalty': 'l1', 'eta0': 0.11120000000000001, 'alpha': 0.556} 0.19528619528619529\n",
            "117 {'penalty': 'l1', 'eta0': 0.11120000000000001, 'alpha': 0.667} 0.19696969696969696\n",
            "118 {'penalty': 'l1', 'eta0': 0.11120000000000001, 'alpha': 0.778} 0.19696969696969696\n",
            "119 {'penalty': 'l1', 'eta0': 0.11120000000000001, 'alpha': 0.889} 0.1919191919191919\n",
            "120 {'penalty': 'l1', 'eta0': 0.11120000000000001, 'alpha': 1.0} 0.1835016835016835\n",
            "121 {'penalty': 'l1', 'eta0': 0.2223, 'alpha': 0.001} 0.9343434343434344\n",
            "122 {'penalty': 'l1', 'eta0': 0.2223, 'alpha': 0.112} 0.6060606060606061\n",
            "123 {'penalty': 'l1', 'eta0': 0.2223, 'alpha': 0.223} 0.4175084175084175\n",
            "124 {'penalty': 'l1', 'eta0': 0.2223, 'alpha': 0.334} 0.21043771043771045\n",
            "125 {'penalty': 'l1', 'eta0': 0.2223, 'alpha': 0.445} 0.2053872053872054\n",
            "126 {'penalty': 'l1', 'eta0': 0.2223, 'alpha': 0.556} 0.24074074074074073\n",
            "127 {'penalty': 'l1', 'eta0': 0.2223, 'alpha': 0.667} 0.19696969696969696\n",
            "128 {'penalty': 'l1', 'eta0': 0.2223, 'alpha': 0.778} 0.19696969696969696\n",
            "129 {'penalty': 'l1', 'eta0': 0.2223, 'alpha': 0.889} 0.19528619528619529\n",
            "130 {'penalty': 'l1', 'eta0': 0.2223, 'alpha': 1.0} 0.19528619528619529\n",
            "131 {'penalty': 'l1', 'eta0': 0.33340000000000003, 'alpha': 0.001} 0.9562289562289562\n",
            "132 {'penalty': 'l1', 'eta0': 0.33340000000000003, 'alpha': 0.112} 0.7508417508417509\n",
            "133 {'penalty': 'l1', 'eta0': 0.33340000000000003, 'alpha': 0.223} 0.3771043771043771\n",
            "134 {'penalty': 'l1', 'eta0': 0.33340000000000003, 'alpha': 0.334} 0.2878787878787879\n",
            "135 {'penalty': 'l1', 'eta0': 0.33340000000000003, 'alpha': 0.445} 0.1919191919191919\n",
            "136 {'penalty': 'l1', 'eta0': 0.33340000000000003, 'alpha': 0.556} 0.17003367003367004\n",
            "137 {'penalty': 'l1', 'eta0': 0.33340000000000003, 'alpha': 0.667} 0.1531986531986532\n",
            "138 {'penalty': 'l1', 'eta0': 0.33340000000000003, 'alpha': 0.778} 0.19696969696969696\n",
            "139 {'penalty': 'l1', 'eta0': 0.33340000000000003, 'alpha': 0.889} 0.19528619528619529\n",
            "140 {'penalty': 'l1', 'eta0': 0.33340000000000003, 'alpha': 1.0} 0.19528619528619529\n",
            "141 {'penalty': 'l1', 'eta0': 0.4445, 'alpha': 0.001} 0.9427609427609428\n",
            "142 {'penalty': 'l1', 'eta0': 0.4445, 'alpha': 0.112} 0.6279461279461279\n",
            "143 {'penalty': 'l1', 'eta0': 0.4445, 'alpha': 0.223} 0.5117845117845118\n",
            "144 {'penalty': 'l1', 'eta0': 0.4445, 'alpha': 0.334} 0.5117845117845118\n",
            "145 {'penalty': 'l1', 'eta0': 0.4445, 'alpha': 0.445} 0.1919191919191919\n",
            "146 {'penalty': 'l1', 'eta0': 0.4445, 'alpha': 0.556} 0.20875420875420875\n",
            "147 {'penalty': 'l1', 'eta0': 0.4445, 'alpha': 0.667} 0.13131313131313133\n",
            "148 {'penalty': 'l1', 'eta0': 0.4445, 'alpha': 0.778} 0.19528619528619529\n",
            "149 {'penalty': 'l1', 'eta0': 0.4445, 'alpha': 0.889} 0.19528619528619529\n",
            "150 {'penalty': 'l1', 'eta0': 0.4445, 'alpha': 1.0} 0.19528619528619529\n",
            "151 {'penalty': 'l1', 'eta0': 0.5556, 'alpha': 0.001} 0.9393939393939394\n",
            "152 {'penalty': 'l1', 'eta0': 0.5556, 'alpha': 0.112} 0.7727272727272727\n",
            "153 {'penalty': 'l1', 'eta0': 0.5556, 'alpha': 0.223} 0.5488215488215489\n",
            "154 {'penalty': 'l1', 'eta0': 0.5556, 'alpha': 0.334} 0.2996632996632997\n",
            "155 {'penalty': 'l1', 'eta0': 0.5556, 'alpha': 0.445} 0.25084175084175087\n",
            "156 {'penalty': 'l1', 'eta0': 0.5556, 'alpha': 0.556} 0.20707070707070707\n",
            "157 {'penalty': 'l1', 'eta0': 0.5556, 'alpha': 0.667} 0.19696969696969696\n",
            "158 {'penalty': 'l1', 'eta0': 0.5556, 'alpha': 0.778} 0.09259259259259259\n",
            "159 {'penalty': 'l1', 'eta0': 0.5556, 'alpha': 0.889} 0.19528619528619529\n",
            "160 {'penalty': 'l1', 'eta0': 0.5556, 'alpha': 1.0} 0.19528619528619529\n",
            "161 {'penalty': 'l1', 'eta0': 0.6667000000000001, 'alpha': 0.001} 0.9427609427609428\n",
            "162 {'penalty': 'l1', 'eta0': 0.6667000000000001, 'alpha': 0.112} 0.5875420875420876\n",
            "163 {'penalty': 'l1', 'eta0': 0.6667000000000001, 'alpha': 0.223} 0.3771043771043771\n",
            "164 {'penalty': 'l1', 'eta0': 0.6667000000000001, 'alpha': 0.334} 0.2558922558922559\n",
            "165 {'penalty': 'l1', 'eta0': 0.6667000000000001, 'alpha': 0.445} 0.19528619528619529\n",
            "166 {'penalty': 'l1', 'eta0': 0.6667000000000001, 'alpha': 0.556} 0.2239057239057239\n",
            "167 {'penalty': 'l1', 'eta0': 0.6667000000000001, 'alpha': 0.667} 0.12962962962962962\n",
            "168 {'penalty': 'l1', 'eta0': 0.6667000000000001, 'alpha': 0.778} 0.19528619528619529\n",
            "169 {'penalty': 'l1', 'eta0': 0.6667000000000001, 'alpha': 0.889} 0.19528619528619529\n",
            "170 {'penalty': 'l1', 'eta0': 0.6667000000000001, 'alpha': 1.0} 0.19528619528619529\n",
            "171 {'penalty': 'l1', 'eta0': 0.7778, 'alpha': 0.001} 0.9393939393939394\n",
            "172 {'penalty': 'l1', 'eta0': 0.7778, 'alpha': 0.112} 0.7744107744107744\n",
            "173 {'penalty': 'l1', 'eta0': 0.7778, 'alpha': 0.223} 0.3501683501683502\n",
            "174 {'penalty': 'l1', 'eta0': 0.7778, 'alpha': 0.334} 0.3468013468013468\n",
            "175 {'penalty': 'l1', 'eta0': 0.7778, 'alpha': 0.445} 0.1936026936026936\n",
            "176 {'penalty': 'l1', 'eta0': 0.7778, 'alpha': 0.556} 0.14983164983164984\n",
            "177 {'penalty': 'l1', 'eta0': 0.7778, 'alpha': 0.667} 0.20202020202020202\n",
            "178 {'penalty': 'l1', 'eta0': 0.7778, 'alpha': 0.778} 0.18686868686868688\n",
            "179 {'penalty': 'l1', 'eta0': 0.7778, 'alpha': 0.889} 0.1936026936026936\n",
            "180 {'penalty': 'l1', 'eta0': 0.7778, 'alpha': 1.0} 0.19528619528619529\n",
            "181 {'penalty': 'l1', 'eta0': 0.8889, 'alpha': 0.001} 0.9511784511784511\n",
            "182 {'penalty': 'l1', 'eta0': 0.8889, 'alpha': 0.112} 0.531986531986532\n",
            "183 {'penalty': 'l1', 'eta0': 0.8889, 'alpha': 0.223} 0.4663299663299663\n",
            "184 {'penalty': 'l1', 'eta0': 0.8889, 'alpha': 0.334} 0.20707070707070707\n",
            "185 {'penalty': 'l1', 'eta0': 0.8889, 'alpha': 0.445} 0.5218855218855218\n",
            "186 {'penalty': 'l1', 'eta0': 0.8889, 'alpha': 0.556} 0.22727272727272727\n",
            "187 {'penalty': 'l1', 'eta0': 0.8889, 'alpha': 0.667} 0.13131313131313133\n",
            "188 {'penalty': 'l1', 'eta0': 0.8889, 'alpha': 0.778} 0.18855218855218855\n",
            "189 {'penalty': 'l1', 'eta0': 0.8889, 'alpha': 0.889} 0.19528619528619529\n",
            "190 {'penalty': 'l1', 'eta0': 0.8889, 'alpha': 1.0} 0.09259259259259259\n",
            "191 {'penalty': 'l1', 'eta0': 1.0, 'alpha': 0.001} 0.9444444444444444\n",
            "192 {'penalty': 'l1', 'eta0': 1.0, 'alpha': 0.112} 0.5521885521885522\n",
            "193 {'penalty': 'l1', 'eta0': 1.0, 'alpha': 0.223} 0.6885521885521886\n",
            "194 {'penalty': 'l1', 'eta0': 1.0, 'alpha': 0.334} 0.25084175084175087\n",
            "195 {'penalty': 'l1', 'eta0': 1.0, 'alpha': 0.445} 0.17845117845117844\n",
            "196 {'penalty': 'l1', 'eta0': 1.0, 'alpha': 0.556} 0.16835016835016836\n",
            "197 {'penalty': 'l1', 'eta0': 1.0, 'alpha': 0.667} 0.16835016835016836\n",
            "198 {'penalty': 'l1', 'eta0': 1.0, 'alpha': 0.778} 0.19023569023569023\n",
            "199 {'penalty': 'l1', 'eta0': 1.0, 'alpha': 0.889} 0.19023569023569023\n",
            "200 {'penalty': 'l1', 'eta0': 1.0, 'alpha': 1.0} 0.1936026936026936\n",
            "min val 0.09259259259259259, max_val : 0.9629629629629629\n"
          ],
          "name": "stdout"
        }
      ]
    },
    {
      "cell_type": "markdown",
      "metadata": {
        "id": "d2-kcDlmau1C"
      },
      "source": [
        "# Hyperactive Simulated Annealing"
      ]
    },
    {
      "cell_type": "code",
      "metadata": {
        "colab": {
          "base_uri": "https://localhost:8080/",
          "height": 475
        },
        "id": "ErZ5-n62aj5z",
        "outputId": "5ab2c1e7-aec9-493e-afa8-174b73db5c8e"
      },
      "source": [
        "!pip install hyperactive"
      ],
      "execution_count": 23,
      "outputs": [
        {
          "output_type": "stream",
          "text": [
            "Collecting hyperactive\n",
            "  Downloading https://files.pythonhosted.org/packages/41/a1/4f5aa9c62a86d982bc114e2df374f9966bf6bab967d26bba585aea451b5d/hyperactive-3.1.0-py3-none-any.whl\n",
            "Collecting tqdm>=4.48.0\n",
            "\u001b[?25l  Downloading https://files.pythonhosted.org/packages/b4/20/9f1e974bb4761128fc0d0a32813eaa92827309b1756c4b892d28adfb4415/tqdm-4.61.1-py2.py3-none-any.whl (75kB)\n",
            "\u001b[K     |████████████████████████████████| 81kB 8.5MB/s \n",
            "\u001b[?25hRequirement already satisfied: numpy>=1.18.1 in /usr/local/lib/python3.7/dist-packages (from hyperactive) (1.19.5)\n",
            "Collecting gradient-free-optimizers<1.0.0,>=0.2.6\n",
            "\u001b[?25l  Downloading https://files.pythonhosted.org/packages/4f/6a/55fa1cc396c899110982f6a59843849eadecb74807b8d1a81d5b887274a3/gradient_free_optimizers-0.3.1-py3-none-any.whl (66kB)\n",
            "\u001b[K     |████████████████████████████████| 71kB 7.4MB/s \n",
            "\u001b[?25hRequirement already satisfied: pandas in /usr/local/lib/python3.7/dist-packages (from hyperactive) (1.1.5)\n",
            "Requirement already satisfied: scipy in /usr/local/lib/python3.7/dist-packages (from gradient-free-optimizers<1.0.0,>=0.2.6->hyperactive) (1.4.1)\n",
            "Requirement already satisfied: scikit-learn!=0.23.*,>=0.21 in /usr/local/lib/python3.7/dist-packages (from gradient-free-optimizers<1.0.0,>=0.2.6->hyperactive) (0.22.2.post1)\n",
            "Requirement already satisfied: python-dateutil>=2.7.3 in /usr/local/lib/python3.7/dist-packages (from pandas->hyperactive) (2.8.1)\n",
            "Requirement already satisfied: pytz>=2017.2 in /usr/local/lib/python3.7/dist-packages (from pandas->hyperactive) (2018.9)\n",
            "Requirement already satisfied: joblib>=0.11 in /usr/local/lib/python3.7/dist-packages (from scikit-learn!=0.23.*,>=0.21->gradient-free-optimizers<1.0.0,>=0.2.6->hyperactive) (1.0.1)\n",
            "Requirement already satisfied: six>=1.5 in /usr/local/lib/python3.7/dist-packages (from python-dateutil>=2.7.3->pandas->hyperactive) (1.15.0)\n",
            "Installing collected packages: tqdm, gradient-free-optimizers, hyperactive\n",
            "  Found existing installation: tqdm 4.41.1\n",
            "    Uninstalling tqdm-4.41.1:\n",
            "      Successfully uninstalled tqdm-4.41.1\n",
            "Successfully installed gradient-free-optimizers-0.3.1 hyperactive-3.1.0 tqdm-4.61.1\n"
          ],
          "name": "stdout"
        },
        {
          "output_type": "display_data",
          "data": {
            "application/vnd.colab-display-data+json": {
              "pip_warning": {
                "packages": [
                  "tqdm"
                ]
              }
            }
          },
          "metadata": {
            "tags": []
          }
        }
      ]
    },
    {
      "cell_type": "code",
      "metadata": {
        "colab": {
          "base_uri": "https://localhost:8080/"
        },
        "id": "rAs2Cqsta7l8",
        "outputId": "12bfb8d8-d6d3-4554-9792-1da277c02504"
      },
      "source": [
        "import numpy as np\n",
        "\n",
        "from time import time\n",
        "import scipy.stats as stats\n",
        "from sklearn.utils.fixes import loguniform\n",
        "from scipy.stats import gamma\n",
        "\n",
        "from sklearn.model_selection import GridSearchCV, RandomizedSearchCV\n",
        "from sklearn.datasets import load_digits\n",
        "from sklearn.linear_model import SGDClassifier\n",
        "from sklearn.model_selection import train_test_split\n",
        "import scipy\n",
        "\n",
        "from hyperactive import Hyperactive, SimulatedAnnealingOptimizer\n",
        "\n",
        "# get some data\n",
        "X, y = load_digits(return_X_y=True)\n",
        "X_train, X_test, y_train, y_test = train_test_split(X, y, test_size=0.33, random_state=42)\n",
        "# build a classifier\n",
        "clf = SGDClassifier(loss='log',learning_rate='constant',eta0=1e-3,fit_intercept=True,shuffle=False)\n",
        "\n",
        "\n",
        "\n",
        "def model(par):\n",
        "    clf.set_params(**par)\n",
        "    clf.fit(X_train,y_train)\n",
        "    return clf.score(X_test,y_test)\n",
        "\n",
        "\n",
        "param_grid = {'penalty': ['l2','l1'],\n",
        "              'eta0': loguniform(1e-3,1e0).rvs(10000),\n",
        "              'alpha':gamma(.5,1e-3).rvs(10000)}\n",
        "\n",
        "\n",
        "\n",
        "optimizer = SimulatedAnnealingOptimizer(\n",
        "    epsilon=0.1,\n",
        "    distribution=\"laplace\",\n",
        "    n_neighbours=4,\n",
        "    rand_rest_p=0.1,\n",
        "    p_accept=0.15,\n",
        "    norm_factor=\"adaptive\",\n",
        "    annealing_rate=0.999,\n",
        "    start_temp=0.8,\n",
        ")\n",
        "\n",
        "hyper = Hyperactive()\n",
        "hyper.add_search(model, param_grid, optimizer=optimizer, n_iter=100)\n",
        "hyper.run()"
      ],
      "execution_count": 51,
      "outputs": [
        {
          "output_type": "stream",
          "text": [
            "                                                                                                                               "
          ],
          "name": "stderr"
        },
        {
          "output_type": "stream",
          "text": [
            "\n",
            "Results: 'model'  \n",
            "   Best score: 0.9545454545454546  \n",
            "   Best parameter set:\n",
            "      'penalty' : l2  \n",
            "      'eta0'    : 0.0012194055429015237  \n",
            "      'alpha'   : 0.09595628954124737  \n",
            "   Best iteration: 67  \n",
            " \n",
            "   Evaluation time   : 7.650762319564819 sec    [97.99 %]\n",
            "   Optimization time : 0.15677332878112793 sec    [2.01 %]\n",
            "   Iteration time    : 7.807535648345947 sec    [12.81 iter/sec]\n",
            " \n"
          ],
          "name": "stdout"
        },
        {
          "output_type": "stream",
          "text": [
            "\r"
          ],
          "name": "stderr"
        }
      ]
    },
    {
      "cell_type": "markdown",
      "metadata": {
        "id": "OPxO_cB924Y8"
      },
      "source": [
        "# Random Search\n"
      ]
    },
    {
      "cell_type": "code",
      "metadata": {
        "colab": {
          "base_uri": "https://localhost:8080/"
        },
        "id": "OIz9bjdZ23uk",
        "outputId": "08cced6b-af1c-408f-cef3-bcee6ca9b850"
      },
      "source": [
        "from sklearn.model_selection import ParameterSampler\n",
        "\n",
        "def model(clf,X_train,y_train,X_test,y_test,par):\n",
        "  clf.set_params(**par)\n",
        "  clf.fit(X_train,y_train)\n",
        "  return clf.score(X_test,y_test)\n",
        "\n",
        "param_dist = {'penalty': ['l2','l1'],\n",
        "              'eta0': loguniform(1e-3,1e0),\n",
        "              'alpha':gamma(.5,1e-3)}\n",
        "\n",
        "param_list = list(ParameterSampler(param_dist, n_iter=100))\n",
        "\n",
        "max_val=-np.infty\n",
        "min_val=np.infty\n",
        "for i,par in enumerate(param_list):\n",
        "  current_val=model(clf,X_train,y_train,X_test,y_test,par)\n",
        "  min_val=min(current_val,min_val)\n",
        "  max_val=max(current_val,max_val)\n",
        "  print('Parametro {0}, score : {1}'.format(i,current_val))\n",
        "\n",
        "print('min val {0}, max_val : {1}'.format(min_val,max_val))"
      ],
      "execution_count": 53,
      "outputs": [
        {
          "output_type": "stream",
          "text": [
            "Parametro 0, score : 0.27104377104377103\n",
            "Parametro 1, score : 0.09259259259259259\n",
            "Parametro 2, score : 0.09259259259259259\n",
            "Parametro 3, score : 0.877104377104377\n",
            "Parametro 4, score : 0.14309764309764308\n",
            "Parametro 5, score : 0.09764309764309764\n",
            "Parametro 6, score : 0.8737373737373737\n",
            "Parametro 7, score : 0.5168350168350169\n",
            "Parametro 8, score : 0.6060606060606061\n",
            "Parametro 9, score : 0.9057239057239057\n",
            "Parametro 10, score : 0.9074074074074074\n",
            "Parametro 11, score : 0.8703703703703703\n",
            "Parametro 12, score : 0.7070707070707071\n",
            "Parametro 13, score : 0.9562289562289562\n",
            "Parametro 14, score : 0.7138047138047138\n",
            "Parametro 15, score : 0.19696969696969696\n",
            "Parametro 16, score : 0.9057239057239057\n",
            "Parametro 17, score : 0.8552188552188552\n",
            "Parametro 18, score : 0.8063973063973064\n",
            "Parametro 19, score : 0.9562289562289562\n",
            "Parametro 20, score : 0.5185185185185185\n",
            "Parametro 21, score : 0.1936026936026936\n",
            "Parametro 22, score : 0.8417508417508418\n",
            "Parametro 23, score : 0.10774410774410774\n",
            "Parametro 24, score : 0.5\n",
            "Parametro 25, score : 0.8956228956228957\n",
            "Parametro 26, score : 0.1936026936026936\n",
            "Parametro 27, score : 0.6801346801346801\n",
            "Parametro 28, score : 0.7912457912457912\n",
            "Parametro 29, score : 0.09259259259259259\n",
            "Parametro 30, score : 0.7272727272727273\n",
            "Parametro 31, score : 0.6616161616161617\n",
            "Parametro 32, score : 0.21885521885521886\n",
            "Parametro 33, score : 0.8316498316498316\n",
            "Parametro 34, score : 0.8653198653198653\n",
            "Parametro 35, score : 0.9478114478114478\n",
            "Parametro 36, score : 0.7407407407407407\n",
            "Parametro 37, score : 0.17003367003367004\n",
            "Parametro 38, score : 0.9006734006734006\n",
            "Parametro 39, score : 0.38215488215488214\n",
            "Parametro 40, score : 0.1531986531986532\n",
            "Parametro 41, score : 0.09259259259259259\n",
            "Parametro 42, score : 0.10774410774410774\n",
            "Parametro 43, score : 0.4208754208754209\n",
            "Parametro 44, score : 0.6835016835016835\n",
            "Parametro 45, score : 0.09259259259259259\n",
            "Parametro 46, score : 0.9023569023569024\n",
            "Parametro 47, score : 0.6599326599326599\n",
            "Parametro 48, score : 0.5454545454545454\n",
            "Parametro 49, score : 0.17676767676767677\n",
            "Parametro 50, score : 0.09259259259259259\n",
            "Parametro 51, score : 0.9191919191919192\n",
            "Parametro 52, score : 0.34175084175084175\n",
            "Parametro 53, score : 0.8872053872053872\n",
            "Parametro 54, score : 0.8973063973063973\n",
            "Parametro 55, score : 0.9393939393939394\n",
            "Parametro 56, score : 0.7003367003367004\n",
            "Parametro 57, score : 0.39225589225589225\n",
            "Parametro 58, score : 0.8451178451178452\n",
            "Parametro 59, score : 0.09259259259259259\n",
            "Parametro 60, score : 0.6666666666666666\n",
            "Parametro 61, score : 0.1919191919191919\n",
            "Parametro 62, score : 0.7710437710437711\n",
            "Parametro 63, score : 0.6616161616161617\n",
            "Parametro 64, score : 0.09259259259259259\n",
            "Parametro 65, score : 0.09259259259259259\n",
            "Parametro 66, score : 0.9410774410774411\n",
            "Parametro 67, score : 0.8737373737373737\n",
            "Parametro 68, score : 0.12626262626262627\n",
            "Parametro 69, score : 0.3956228956228956\n",
            "Parametro 70, score : 0.45454545454545453\n",
            "Parametro 71, score : 0.5673400673400674\n",
            "Parametro 72, score : 0.09427609427609428\n",
            "Parametro 73, score : 0.6919191919191919\n",
            "Parametro 74, score : 0.9461279461279462\n",
            "Parametro 75, score : 0.19696969696969696\n",
            "Parametro 76, score : 0.8013468013468014\n",
            "Parametro 77, score : 0.265993265993266\n",
            "Parametro 78, score : 0.7760942760942761\n",
            "Parametro 79, score : 0.37542087542087543\n",
            "Parametro 80, score : 0.2356902356902357\n",
            "Parametro 81, score : 0.8249158249158249\n",
            "Parametro 82, score : 0.09259259259259259\n",
            "Parametro 83, score : 0.36363636363636365\n",
            "Parametro 84, score : 0.7104377104377104\n",
            "Parametro 85, score : 0.10774410774410774\n",
            "Parametro 86, score : 0.8737373737373737\n",
            "Parametro 87, score : 0.8181818181818182\n",
            "Parametro 88, score : 0.9292929292929293\n",
            "Parametro 89, score : 0.42424242424242425\n",
            "Parametro 90, score : 0.930976430976431\n",
            "Parametro 91, score : 0.5437710437710438\n",
            "Parametro 92, score : 0.7996632996632996\n",
            "Parametro 93, score : 0.7188552188552189\n",
            "Parametro 94, score : 0.4882154882154882\n",
            "Parametro 95, score : 0.601010101010101\n",
            "Parametro 96, score : 0.835016835016835\n",
            "Parametro 97, score : 0.6616161616161617\n",
            "Parametro 98, score : 0.2474747474747475\n",
            "Parametro 99, score : 0.9175084175084175\n",
            "min val 0.09259259259259259, max_val : 0.9562289562289562\n"
          ],
          "name": "stdout"
        }
      ]
    },
    {
      "cell_type": "markdown",
      "metadata": {
        "id": "5AnJ_vCi3PG6"
      },
      "source": [
        "# Simulated Annealing"
      ]
    },
    {
      "cell_type": "code",
      "metadata": {
        "id": "EmEjj1wS3Rr0"
      },
      "source": [
        "import math\n",
        "\n",
        "class temperature_scheduling:\n",
        "    \n",
        "    def __init__(self,initial_temperature,min_temperature,gamma):\n",
        "        self.initial_temperature=initial_temperature\n",
        "        self.min_temperature=min_temperature\n",
        "        self.temperature=initial_temperature\n",
        "        self.gamma=gamma\n",
        "        \n",
        "    def exponential_decay(self):\n",
        "        self.temperature=self.gamma*self.temperature\n",
        "        return max(self.temperature,self.min_temperature)\n",
        "    \n",
        "    def fast_decay(self,k):\n",
        "        self.temperature=self.initial_temperature/k\n",
        "        return max(self.temperature,self.min_temperature)\n",
        "    \n",
        "    def logarithmic_decay(self,k):\n",
        "        self.temperature=self.initial_temperature*math.log(2,2)/math.log(k+1,2)\n",
        "        return max(self.temperature,self.min_temperature)"
      ],
      "execution_count": 55,
      "outputs": []
    },
    {
      "cell_type": "code",
      "metadata": {
        "id": "Bc-HNwe23lPk"
      },
      "source": [
        "from sklearn.model_selection import ParameterSampler\n",
        "import copy \n",
        "\n",
        "def mutation(param_dist,par,prior=False):\n",
        "  new_par=copy.deepcopy(par) \n",
        "  param_to_update = np.random.choice(list(param_dist.keys()))\n",
        "  param_vals = param_dist[param_to_update]\n",
        "  if isinstance(param_vals,list):\n",
        "    new_par[param_to_update]=np.random.choice(param_vals)\n",
        "  else:\n",
        "    if prior:\n",
        "      new_par[param_to_update]=param_vals.rvs()\n",
        "    else:\n",
        "      new_par[param_to_update]=np.abs(par[param_to_update]+np.random.normal(0,1e-1))\n",
        "  return new_par\n",
        "\n",
        "param_list = list(ParameterSampler(param_dist, n_iter=1))"
      ],
      "execution_count": 56,
      "outputs": []
    },
    {
      "cell_type": "code",
      "metadata": {
        "id": "hoy1gXZS3dPE"
      },
      "source": [
        "k=0.85\n",
        "initial_temperature=1.2*(max_val)\n",
        "min_temp=1e-4\n",
        "\n",
        "#par=param_list[0]\n",
        "temp=temperature_scheduling(initial_temperature,min_temp,k)\n",
        "current_val=score(clf,X_train,y_train,X_test,y_test,par)\n",
        "epochs=1000\n",
        "loss=[]\n",
        "accept_prob=[]\n",
        "\n",
        "for i in range(1,epochs):\n",
        "    new_par=mutation(param_dist,par,prior=True)\n",
        "    next_value=score(clf,X_train,y_train,X_test,y_test,new_par)\n",
        "    delta = (next_value-current_val)\n",
        "    T=temp.logarithmic_decay(i)\n",
        "    if delta>0:\n",
        "        par=copy.deepcopy(new_par)\n",
        "        current_val=next_value\n",
        "    else:\n",
        "        alpha=min(1,np.exp(delta/T))\n",
        "        if alpha>np.random.random():\n",
        "            par=copy.deepcopy(new_par)\n",
        "            current_val=next_value\n",
        "        accept_prob.append(alpha)\n",
        "    loss.append(current_val)"
      ],
      "execution_count": 67,
      "outputs": []
    },
    {
      "cell_type": "code",
      "metadata": {
        "colab": {
          "base_uri": "https://localhost:8080/",
          "height": 285
        },
        "id": "oJD3LVXz6YUM",
        "outputId": "ab1b7f86-f5e3-45b3-c425-c78b06d39179"
      },
      "source": [
        "plt.plot(loss)"
      ],
      "execution_count": 68,
      "outputs": [
        {
          "output_type": "execute_result",
          "data": {
            "text/plain": [
              "[<matplotlib.lines.Line2D at 0x7f36d4f8d450>]"
            ]
          },
          "metadata": {
            "tags": []
          },
          "execution_count": 68
        },
        {
          "output_type": "display_data",
          "data": {
            "image/png": "[encoded data removed]",
            "text/plain": [
              "<Figure size 432x288 with 1 Axes>"
            ]
          },
          "metadata": {
            "tags": [],
            "needs_background": "light"
          }
        }
      ]
    },
    {
      "cell_type": "code",
      "metadata": {
        "colab": {
          "base_uri": "https://localhost:8080/"
        },
        "id": "DGZbkNku6dQf",
        "outputId": "61a8e401-54b3-4e0f-9cec-7e0e102ad505"
      },
      "source": [
        "max(loss)"
      ],
      "execution_count": 69,
      "outputs": [
        {
          "output_type": "execute_result",
          "data": {
            "text/plain": [
              "0.9629629629629629"
            ]
          },
          "metadata": {
            "tags": []
          },
          "execution_count": 69
        }
      ]
    },
    {
      "cell_type": "code",
      "metadata": {
        "colab": {
          "base_uri": "https://localhost:8080/"
        },
        "id": "JJDsUtIOAO4G",
        "outputId": "1993e0c9-f3cb-43e6-f383-7044dba8e48f"
      },
      "source": [
        "min(loss)"
      ],
      "execution_count": 70,
      "outputs": [
        {
          "output_type": "execute_result",
          "data": {
            "text/plain": [
              "0.09259259259259259"
            ]
          },
          "metadata": {
            "tags": []
          },
          "execution_count": 70
        }
      ]
    },
    {
      "cell_type": "code",
      "metadata": {
        "colab": {
          "base_uri": "https://localhost:8080/"
        },
        "id": "3wrIG70vAX7O",
        "outputId": "6d1c175b-c71d-4471-e5c6-58869fd33dd1"
      },
      "source": [
        "loss[-1]"
      ],
      "execution_count": 71,
      "outputs": [
        {
          "output_type": "execute_result",
          "data": {
            "text/plain": [
              "0.9191919191919192"
            ]
          },
          "metadata": {
            "tags": []
          },
          "execution_count": 71
        }
      ]
    },
    {
      "cell_type": "code",
      "metadata": {
        "colab": {
          "base_uri": "https://localhost:8080/"
        },
        "id": "CtqvAdy6ApWy",
        "outputId": "66652486-0661-4daa-8dff-0e06a9e3fd30"
      },
      "source": [
        "par"
      ],
      "execution_count": 72,
      "outputs": [
        {
          "output_type": "execute_result",
          "data": {
            "text/plain": [
              "{'alpha': 0.2612108431069134, 'eta0': 0.003425562625614941, 'penalty': 'l2'}"
            ]
          },
          "metadata": {
            "tags": []
          },
          "execution_count": 72
        }
      ]
    }
  ]
}