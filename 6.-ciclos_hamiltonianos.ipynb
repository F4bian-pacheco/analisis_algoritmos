{
  "nbformat": 4,
  "nbformat_minor": 5,
  "metadata": {
    "kernelspec": {
      "display_name": "Python 3",
      "language": "python",
      "name": "python3"
    },
    "language_info": {
      "codemirror_mode": {
        "name": "ipython",
        "version": 3
      },
      "file_extension": ".py",
      "mimetype": "text/x-python",
      "name": "python",
      "nbconvert_exporter": "python",
      "pygments_lexer": "ipython3",
      "version": "3.9.1"
    },
    "colab": {
      "name": "6.-ciclos_hamiltonianos.ipynb",
      "provenance": []
    }
  },
  "cells": [
    {
      "cell_type": "code",
      "metadata": {
        "id": "racial-hamburg"
      },
      "source": [
        "class abstract_graph:\n",
        "    \n",
        "    def __init__(self,_edges):\n",
        "        self.edges=_edges\n",
        "        self.nodes={u for u,v in self.edges} | {v for u,v in self.edges}\n",
        "    \n",
        "    def adjacency_list(self):\n",
        "        pass\n",
        "\n",
        "    \n",
        "class simple_graph(abstract_graph):\n",
        "    \n",
        "    def __init__(self,_edges):\n",
        "        self.edges=_edges\n",
        "        self.nodes={u for u,v in self.edges} | {v for u,v in self.edges}    \n",
        "    \n",
        "    def adjacency_list(self):\n",
        "        adjacent=lambda n : {v for u,v in self.edges if u==n} | {u for u,v in self.edges if v==n}\n",
        "        return {v:adjacent(v) for v in self.nodes}"
      ],
      "id": "racial-hamburg",
      "execution_count": 1,
      "outputs": []
    },
    {
      "cell_type": "code",
      "metadata": {
        "id": "peaceful-mississippi"
      },
      "source": [
        "import numpy as np\n",
        "\n",
        "E=[(0,1),(0,2),(0,4),(0,3),(1,2),(2,4),(4,3),(3,0)]"
      ],
      "id": "peaceful-mississippi",
      "execution_count": 2,
      "outputs": []
    },
    {
      "cell_type": "code",
      "metadata": {
        "id": "lcOSCTW5jMOd"
      },
      "source": [
        "import networkx as nx\n",
        "import matplotlib.pyplot as plt\n",
        "\n",
        "G=nx.Graph()\n",
        "G.add_edges_from(E)\n",
        "nx.draw(G,with_labels=True, font_weight='bold')\n",
        "plt.show()"
      ],
      "id": "lcOSCTW5jMOd",
      "execution_count": null,
      "outputs": []
    },
    {
      "cell_type": "code",
      "metadata": {
        "id": "signal-retirement",
        "outputId": "2eb37b34-7a84-4f56-d9d6-37d04d79af14",
        "colab": {
          "base_uri": "https://localhost:8080/"
        }
      },
      "source": [
        "G=simple_graph(E)\n",
        "G.adjacency_list()"
      ],
      "id": "signal-retirement",
      "execution_count": 3,
      "outputs": [
        {
          "output_type": "execute_result",
          "data": {
            "text/plain": [
              "{0: {1, 2, 3, 4}, 1: {0, 2}, 2: {0, 1, 4}, 3: {0, 4}, 4: {0, 2, 3}}"
            ]
          },
          "metadata": {
            "tags": []
          },
          "execution_count": 3
        }
      ]
    },
    {
      "cell_type": "code",
      "metadata": {
        "id": "absent-guitar"
      },
      "source": [
        "from collections import deque\n",
        "\n",
        "def depth_first(G, start):\n",
        "    path, stack = [] , deque()\n",
        "    stack.append(start)\n",
        "    L = G.adjacency_list()\n",
        "    parent=None\n",
        "    while stack:\n",
        "        vertex = stack.pop()\n",
        "        if vertex not in path:\n",
        "          path.append(vertex)\n",
        "          stack.extend(L[vertex] - set(path))\n",
        "    return path"
      ],
      "id": "absent-guitar",
      "execution_count": 10,
      "outputs": []
    },
    {
      "cell_type": "code",
      "metadata": {
        "id": "naval-amount"
      },
      "source": [
        "path=depth_first(G,0)"
      ],
      "id": "naval-amount",
      "execution_count": 12,
      "outputs": []
    },
    {
      "cell_type": "code",
      "metadata": {
        "id": "fiscal-sullivan",
        "outputId": "130815f7-44e7-4765-8cdf-72c51ef6c562",
        "colab": {
          "base_uri": "https://localhost:8080/",
          "height": 319
        }
      },
      "source": [
        ""
      ],
      "id": "fiscal-sullivan",
      "execution_count": 15,
      "outputs": [
        {
          "output_type": "display_data",
          "data": {
            "image/png": "[encoded data removed]",
            "text/plain": [
              "<Figure size 432x288 with 1 Axes>"
            ]
          },
          "metadata": {
            "tags": []
          }
        }
      ]
    },
    {
      "cell_type": "code",
      "metadata": {
        "id": "forward-gospel"
      },
      "source": [
        ""
      ],
      "id": "forward-gospel",
      "execution_count": null,
      "outputs": []
    },
    {
      "cell_type": "code",
      "metadata": {
        "id": "moving-criticism"
      },
      "source": [
        ""
      ],
      "id": "moving-criticism",
      "execution_count": null,
      "outputs": []
    }
  ]
}