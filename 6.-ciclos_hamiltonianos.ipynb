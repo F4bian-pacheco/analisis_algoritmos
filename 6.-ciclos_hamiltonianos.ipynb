{
 "cells": [
  {
   "cell_type": "code",
   "execution_count": 58,
   "id": "racial-hamburg",
   "metadata": {},
   "outputs": [],
   "source": [
    "class abstract_graph:\n",
    "    \n",
    "    def __init__(self,_edges):\n",
    "        self.edges=_edges\n",
    "        self.nodes={u for u,v in self.edges} | {v for u,v in self.edges}\n",
    "    \n",
    "    def adjacency_list(self):\n",
    "        pass\n",
    "\n",
    "    \n",
    "class simple_graph(abstract_graph):\n",
    "    \n",
    "    def __init__(self,_edges):\n",
    "        self.edges=_edges\n",
    "        self.nodes={u for u,v in self.edges} | {v for u,v in self.edges}    \n",
    "    \n",
    "    def adjacency_list(self):\n",
    "        adjacent=lambda n : {v for u,v in self.edges if u==n} | {u for u,v in self.edges if v==n}\n",
    "        return {v:adjacent(v) for v in self.nodes}"
   ]
  },
  {
   "cell_type": "code",
   "execution_count": 59,
   "id": "peaceful-mississippi",
   "metadata": {},
   "outputs": [],
   "source": [
    "import numpy as np\n",
    "\n",
    "\n",
    "E=[(0,1),(0,2),(0,4),(0,3),(1,2),(2,4),(4,3),(3,0)]\n",
    "\n",
    "G=simple_graph(E)"
   ]
  },
  {
   "cell_type": "code",
   "execution_count": 61,
   "id": "signal-retirement",
   "metadata": {},
   "outputs": [
    {
     "data": {
      "text/plain": [
       "{0: {1, 2, 3, 4}, 1: {0, 2}, 2: {0, 1, 4}, 3: {0, 4}, 4: {0, 2, 3}}"
      ]
     },
     "execution_count": 61,
     "metadata": {},
     "output_type": "execute_result"
    }
   ],
   "source": [
    "G.adjacency_list()"
   ]
  },
  {
   "cell_type": "code",
   "execution_count": 141,
   "id": "absent-guitar",
   "metadata": {},
   "outputs": [],
   "source": [
    "def depth_first(G, start):\n",
    "    path, stack = dict(), deque()\n",
    "    stack.append(start)\n",
    "    L = G.adjacency_list()\n",
    "    parent=None\n",
    "    while stack:\n",
    "        u = stack.pop()\n",
    "        if u not in path.keys():\n",
    "            neighbors=L[u] \n",
    "            for v in L[u]:\n",
    "                path.update({v:u})\n",
    "                stack.extend({v})\n",
    "    return path"
   ]
  },
  {
   "cell_type": "code",
   "execution_count": 142,
   "id": "naval-amount",
   "metadata": {},
   "outputs": [],
   "source": [
    "path=depth_first(G,0)"
   ]
  },
  {
   "cell_type": "code",
   "execution_count": 143,
   "id": "fiscal-sullivan",
   "metadata": {},
   "outputs": [
    {
     "data": {
      "text/plain": [
       "{1: 0, 2: 0, 3: 0, 4: 0}"
      ]
     },
     "execution_count": 143,
     "metadata": {},
     "output_type": "execute_result"
    }
   ],
   "source": [
    "path"
   ]
  },
  {
   "cell_type": "code",
   "execution_count": null,
   "id": "forward-gospel",
   "metadata": {},
   "outputs": [],
   "source": []
  },
  {
   "cell_type": "code",
   "execution_count": null,
   "id": "moving-criticism",
   "metadata": {},
   "outputs": [],
   "source": []
  }
 ],
 "metadata": {
  "kernelspec": {
   "display_name": "Python 3",
   "language": "python",
   "name": "python3"
  },
  "language_info": {
   "codemirror_mode": {
    "name": "ipython",
    "version": 3
   },
   "file_extension": ".py",
   "mimetype": "text/x-python",
   "name": "python",
   "nbconvert_exporter": "python",
   "pygments_lexer": "ipython3",
   "version": "3.9.1"
  }
 },
 "nbformat": 4,
 "nbformat_minor": 5
}
