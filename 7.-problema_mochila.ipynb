{
 "cells": [
  {
   "cell_type": "markdown",
   "metadata": {},
   "source": [
    " # Problema de la Mochila\n",
    " \n",
    " El problema de la mochila surge en areas de investigacion de operaciones en las cuales se requiere alojar un numero de items con el maximo valor bajo ciertas restricciones. Si hacemos $X=\\{x_1,\\ldots,x_n\\}$ un conjunto de items, con $x_i \\in \\{0,1\\}$ siendo una variable binaria que indica la presencia del item $i$, $W=\\{w_1,\\ldots,w_n\\}$ los pesos de los items y $V=\\{v_1,\\ldots,v_n\\}$ el valor asociado a cada uno de los items, el problema de optimizacion puede ser escrito como:\n",
    " \n",
    " $F(X)=\\operatorname{max}\\sum_i x_i*v_i$\n",
    "  \n",
    "  Dado \n",
    "  \n",
    " $\\sum_i x_i*w_i < W_{max}$\n",
    "  "
   ]
  },
  {
   "cell_type": "code",
   "execution_count": null,
   "metadata": {},
   "outputs": [],
   "source": [
    "# A Dynamic Programming based Python Program for 0-1 Knapsack problem \n",
    "# Returns the maximum value that can be put in a knapsack of capacity W \n",
    "def knapsack(W, wt, val, n): \n",
    "    K = [[0 for x in range(W+1)] for x in range(n+1)] \n",
    "    # Build table K[][] in bottom up manner \n",
    "    for i in range(n+1): \n",
    "        for w in range(W+1): \n",
    "            if i==0 or w==0: \n",
    "                K[i][w] = 0\n",
    "            elif wt[i-1] <= w: \n",
    "                K[i][w] = max(val[i-1] + K[i-1][w-wt[i-1]],  K[i-1][w]) \n",
    "            else: \n",
    "                K[i][w] = K[i-1][w] \n",
    "  \n",
    "    return K "
   ]
  },
  {
   "cell_type": "code",
   "execution_count": 75,
   "metadata": {},
   "outputs": [],
   "source": [
    "def knapsack_greedy(W, wt, val, n):\n",
    "    # elements in the knapsack (the order must be consequent)\n",
    "    v_in_knapsack = []\n",
    "    w_in_knapsack = []\n",
    "    # current weight of all the elements put in the knapsack so far\n",
    "    weight_in_knapsack = 0\n",
    "    # sort elements by purity in descendant order\n",
    "    for v_i,w_i in sorted(zip(val,wt),key=lambda x:x[0]/x[1] if x[1]!=0 else x[0], reverse=True):\n",
    "        if w_i + weight_in_knapsack <= W:  # if I can carry it,\n",
    "            v_in_knapsack.append(v_i)\n",
    "            w_in_knapsack.append(w_i)\n",
    "            weight_in_knapsack += w_i\n",
    "\n",
    "    return v_in_knapsack, w_in_knapsack"
   ]
  },
  {
   "cell_type": "code",
   "execution_count": 80,
   "metadata": {},
   "outputs": [
    {
     "name": "stdout",
     "output_type": "stream",
     "text": [
      "[[0, 0, 0, 0, 0], [0, 1500, 1500, 1500, 1500], [0, 1500, 1500, 1500, 3000], [0, 1500, 1500, 2000, 3500]]\n"
     ]
    }
   ],
   "source": [
    "# Example from Grokking Algorithms. p161\n",
    "\n",
    "values = [1500,3000,2000]\n",
    "weights = [[1,4,3]]\n",
    "capacities = [4]\n",
    "\n",
    "C=knapsack(capacities[0],weights[0],values,len(values))\n",
    "\n",
    "print(C)"
   ]
  },
  {
   "cell_type": "code",
   "execution_count": 81,
   "metadata": {},
   "outputs": [
    {
     "name": "stdout",
     "output_type": "stream",
     "text": [
      "[1500, 2000]\n",
      "[1, 3]\n"
     ]
    }
   ],
   "source": [
    "v_c,w_c=knapsack_greedy(capacities[0],weights[0],values,len(values))\n",
    "\n",
    "print(v_c)\n",
    "print(w_c)"
   ]
  },
  {
   "cell_type": "code",
   "execution_count": 82,
   "metadata": {},
   "outputs": [
    {
     "name": "stdout",
     "output_type": "stream",
     "text": [
      "Total value = 7534\n",
      "Total weight = 850\n"
     ]
    }
   ],
   "source": [
    "# Example from https://developers.google.com/optimization/bin/knapsack\n",
    "\n",
    "values = [\n",
    "    360, 83, 59, 130, 431, 67, 230, 52, 93, 125, 670, 892, 600, 38, 48, 147,\n",
    "    78, 256, 63, 17, 120, 164, 432, 35, 92, 110, 22, 42, 50, 323, 514, 28,\n",
    "    87, 73, 78, 15, 26, 78, 210, 36, 85, 189, 274, 43, 33, 10, 19, 389, 276,\n",
    "    312\n",
    "]\n",
    "weights = [[\n",
    "    7, 0, 30, 22, 80, 94, 11, 81, 70, 64, 59, 18, 0, 36, 3, 8, 15, 42, 9, 0,\n",
    "    42, 47, 52, 32, 26, 48, 55, 6, 29, 84, 2, 4, 18, 56, 7, 29, 93, 44, 71,\n",
    "    3, 86, 66, 31, 65, 0, 79, 20, 65, 52, 13\n",
    "]]\n",
    "capacities = [850]\n",
    "\n",
    "C=knapsack(capacities[0],weights[0],values,len(values))\n",
    "print('Total value = {0}'.format(C[-1][-1]))\n",
    "print('Total weight = {0}'.format(len(C[0])-1))"
   ]
  },
  {
   "cell_type": "code",
   "execution_count": 83,
   "metadata": {},
   "outputs": [
    {
     "name": "stdout",
     "output_type": "stream",
     "text": [
      "Total value =  7534\n",
      "Total weight =  850\n"
     ]
    }
   ],
   "source": [
    "import numpy as np\n",
    "\n",
    "v_c,w_c=knapsack_greedy(capacities[0],weights[0],values,len(values))\n",
    "\n",
    "print('Total value = ',np.sum(v_c))\n",
    "print('Total weight = ',np.sum(w_c))"
   ]
  },
  {
   "cell_type": "code",
   "execution_count": null,
   "metadata": {},
   "outputs": [],
   "source": []
  }
 ],
 "metadata": {
  "kernelspec": {
   "display_name": "Python 2",
   "language": "python",
   "name": "python2"
  },
  "language_info": {
   "codemirror_mode": {
    "name": "ipython",
    "version": 3
   },
   "file_extension": ".py",
   "mimetype": "text/x-python",
   "name": "python",
   "nbconvert_exporter": "python",
   "pygments_lexer": "ipython3",
   "version": "3.6.8"
  }
 },
 "nbformat": 4,
 "nbformat_minor": 2
}
