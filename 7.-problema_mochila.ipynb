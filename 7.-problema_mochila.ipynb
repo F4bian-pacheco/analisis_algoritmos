{
 "cells": [
  {
   "cell_type": "markdown",
   "metadata": {},
   "source": [
    " # Problema de la Mochila\n",
    " \n",
    " El problema de la mochila surge en areas de investigacion de operaciones en las cuales se requiere alojar un numero de items con el maximo valor bajo ciertas restricciones. Si hacemos $X=\\{x_1,\\ldots,x_n\\}$ un conjunto de items, con $x_i \\in \\{0,1\\}$ siendo una variable binaria que indica la presencia del item $i$, $W=\\{w_1,\\ldots,w_n\\}$ los pesos de los items y $V=\\{v_1,\\ldots,v_n\\}$ el valor asociado a cada uno de los items, el problema de optimizacion puede ser escrito como:\n",
    " \n",
    " $F(X)=\\operatorname{max}\\sum_i x_i*v_i$\n",
    "  \n",
    "  Dado \n",
    "  \n",
    " $\\sum_i x_i*w_i < W_{max}$\n",
    "  "
   ]
  },
  {
   "cell_type": "code",
   "execution_count": 8,
   "metadata": {},
   "outputs": [],
   "source": [
    "from itertools import chain, combinations\n",
    "\n",
    "def powerset(iterable):\n",
    "    \"powerset([1,2,3]) --> () (1,) (2,) (3,) (1,2) (1,3) (2,3) (1,2,3)\"\n",
    "    s = list(iterable)\n",
    "    return chain.from_iterable(combinations(s, r) for r in range(len(s)+1))"
   ]
  },
  {
   "cell_type": "code",
   "execution_count": 44,
   "metadata": {},
   "outputs": [
    {
     "name": "stdout",
     "output_type": "stream",
     "text": [
      "pesos :  [996, 355, 863, 616, 786]\n",
      "valores :  [25, 633, 562, 682, 333]\n",
      "------------------------------\n",
      "Mochila 0, items : (), valor : 0.0, peso : 0.0\n",
      "Mochila 1, items : (0,), valor : 25, peso : 996\n",
      "Mochila 2, items : (1,), valor : 633, peso : 355\n",
      "Mochila 3, items : (2,), valor : 562, peso : 863\n",
      "Mochila 4, items : (3,), valor : 682, peso : 616\n",
      "Mochila 5, items : (4,), valor : 333, peso : 786\n",
      "Mochila 6, items : (0, 1), valor : 658, peso : 1351\n",
      "Mochila 7, items : (0, 2), valor : 587, peso : 1859\n",
      "Mochila 8, items : (0, 3), valor : 707, peso : 1612\n",
      "Mochila 9, items : (0, 4), valor : 358, peso : 1782\n",
      "Mochila 10, items : (1, 2), valor : 1195, peso : 1218\n",
      "Mochila 11, items : (1, 3), valor : 1315, peso : 971\n",
      "Mochila 12, items : (1, 4), valor : 966, peso : 1141\n",
      "Mochila 13, items : (2, 3), valor : 1244, peso : 1479\n",
      "Mochila 14, items : (2, 4), valor : 895, peso : 1649\n",
      "Mochila 15, items : (3, 4), valor : 1015, peso : 1402\n",
      "Mochila 16, items : (0, 1, 2), valor : 1220, peso : 2214\n",
      "Mochila 17, items : (0, 1, 3), valor : 1340, peso : 1967\n",
      "Mochila 18, items : (0, 1, 4), valor : 991, peso : 2137\n",
      "Mochila 19, items : (0, 2, 3), valor : 1269, peso : 2475\n",
      "Mochila 20, items : (0, 2, 4), valor : 920, peso : 2645\n",
      "Mochila 21, items : (0, 3, 4), valor : 1040, peso : 2398\n",
      "Mochila 22, items : (1, 2, 3), valor : 1877, peso : 1834\n",
      "Mochila 23, items : (1, 2, 4), valor : 1528, peso : 2004\n",
      "Mochila 24, items : (1, 3, 4), valor : 1648, peso : 1757\n",
      "Mochila 25, items : (2, 3, 4), valor : 1577, peso : 2265\n",
      "Mochila 26, items : (0, 1, 2, 3), valor : 1902, peso : 2830\n",
      "Mochila 27, items : (0, 1, 2, 4), valor : 1553, peso : 3000\n",
      "Mochila 28, items : (0, 1, 3, 4), valor : 1673, peso : 2753\n",
      "Mochila 29, items : (0, 2, 3, 4), valor : 1602, peso : 3261\n",
      "Mochila 30, items : (1, 2, 3, 4), valor : 2210, peso : 2620\n",
      "Mochila 31, items : (0, 1, 2, 3, 4), valor : 2235, peso : 3616\n"
     ]
    }
   ],
   "source": [
    "import random\n",
    "import numpy as np\n",
    "\n",
    "n=5\n",
    "W = [random.randint(20, 1000) for _ in range(n)]  # peso\n",
    "V  = [random.randint(10, 800) for _ in range(n)] # valor\n",
    "W_max=1000\n",
    "print('pesos : ',W)\n",
    "print('valores : ',V)\n",
    "print('------------------------------')\n",
    "for i,p in enumerate(powerset(range(n))):\n",
    "    print('Mochila {0}, items : {1}, valor : {2}, peso : {3}'.format(\n",
    "            i,p,np.sum([V[i] for i in p]),np.sum([W[i] for i in p])))"
   ]
  },
  {
   "cell_type": "code",
   "execution_count": 39,
   "metadata": {},
   "outputs": [],
   "source": [
    "# A Dynamic Programming based Python Program for 0-1 Knapsack problem \n",
    "# Returns the maximum value that can be put in a knapsack of capacity W \n",
    "def knapsack(W_max, W, V, n): \n",
    "    C = [[0 for x in range(W_max+1)] for x in range(n+1)] \n",
    "    # Build table in bottom up manner \n",
    "    for i in range(n+1): \n",
    "        for w in range(W_max+1): \n",
    "            if i==0 or w==0: \n",
    "                C[i][w] = 0\n",
    "            elif W[i-1] <= w: \n",
    "                C[i][w] = max(V[i-1] + C[i-1][w-W[i-1]],  C[i-1][w]) \n",
    "            else: \n",
    "                C[i][w] = C[i-1][w] \n",
    "  \n",
    "    return C "
   ]
  },
  {
   "cell_type": "code",
   "execution_count": 37,
   "metadata": {},
   "outputs": [],
   "source": [
    "def knapsack_greedy(W, wt, val, n):\n",
    "    # elements in the knapsack (the order must be consequent)\n",
    "    v_in_knapsack = []\n",
    "    w_in_knapsack = []\n",
    "    # current weight of all the elements put in the knapsack so far\n",
    "    weight_in_knapsack = 0\n",
    "    # sort elements by purity in descendant order\n",
    "    for v_i,w_i in sorted(zip(val,wt),key=lambda x:x[0]/x[1] if x[1]!=0 else x[0], reverse=True):\n",
    "        if w_i + weight_in_knapsack <= W:  # if I can carry it,\n",
    "            v_in_knapsack.append(v_i)\n",
    "            w_in_knapsack.append(w_i)\n",
    "            weight_in_knapsack += w_i\n",
    "\n",
    "    return v_in_knapsack, w_in_knapsack"
   ]
  },
  {
   "cell_type": "code",
   "execution_count": 38,
   "metadata": {},
   "outputs": [
    {
     "name": "stdout",
     "output_type": "stream",
     "text": [
      "[[   0    0    0    0    0]\n",
      " [   0 1500 1500 1500 1500]\n",
      " [   0 1500 1500 1500 3000]\n",
      " [   0 1500 1500 2000 3500]]\n"
     ]
    }
   ],
   "source": [
    "# Example from Grokking Algorithms. p161\n",
    "import numpy as np\n",
    "\n",
    "values = [1500,3000,2000]\n",
    "weights = [[1,4,3]]\n",
    "capacities = [4]\n",
    "\n",
    "C=knapsack(capacities[0],weights[0],values,len(values))\n",
    "\n",
    "print(np.asarray(C))"
   ]
  },
  {
   "cell_type": "code",
   "execution_count": 32,
   "metadata": {},
   "outputs": [
    {
     "name": "stdout",
     "output_type": "stream",
     "text": [
      "[1500, 2000]\n",
      "[1, 3]\n"
     ]
    }
   ],
   "source": [
    "v_c,w_c=knapsack_greedy(capacities[0],weights[0],values,len(values))\n",
    "\n",
    "print(v_c)\n",
    "print(w_c)"
   ]
  },
  {
   "cell_type": "code",
   "execution_count": 24,
   "metadata": {},
   "outputs": [
    {
     "name": "stdout",
     "output_type": "stream",
     "text": [
      "Total value = 7534\n",
      "Total weight = 850\n"
     ]
    }
   ],
   "source": [
    "# Example from https://developers.google.com/optimization/bin/knapsack\n",
    "\n",
    "values = [\n",
    "    360, 83, 59, 130, 431, 67, 230, 52, 93, 125, 670, 892, 600, 38, 48, 147,\n",
    "    78, 256, 63, 17, 120, 164, 432, 35, 92, 110, 22, 42, 50, 323, 514, 28,\n",
    "    87, 73, 78, 15, 26, 78, 210, 36, 85, 189, 274, 43, 33, 10, 19, 389, 276,\n",
    "    312\n",
    "]\n",
    "weights = [[\n",
    "    7, 0, 30, 22, 80, 94, 11, 81, 70, 64, 59, 18, 0, 36, 3, 8, 15, 42, 9, 0,\n",
    "    42, 47, 52, 32, 26, 48, 55, 6, 29, 84, 2, 4, 18, 56, 7, 29, 93, 44, 71,\n",
    "    3, 86, 66, 31, 65, 0, 79, 20, 65, 52, 13\n",
    "]]\n",
    "capacities = [850]\n",
    "\n",
    "C=knapsack(capacities[0],weights[0],values,len(values))\n",
    "print('Total value = {0}'.format(C[-1][-1]))\n",
    "print('Total weight = {0}'.format(len(C[0])-1))"
   ]
  },
  {
   "cell_type": "code",
   "execution_count": 25,
   "metadata": {},
   "outputs": [
    {
     "name": "stdout",
     "output_type": "stream",
     "text": [
      "Total value =  7534\n",
      "Total weight =  850\n"
     ]
    }
   ],
   "source": [
    "import numpy as np\n",
    "\n",
    "v_c,w_c=knapsack_greedy(capacities[0],weights[0],values,len(values))\n",
    "\n",
    "print('Total value = ',np.sum(v_c))\n",
    "print('Total weight = ',np.sum(w_c))"
   ]
  },
  {
   "cell_type": "code",
   "execution_count": null,
   "metadata": {},
   "outputs": [],
   "source": []
  }
 ],
 "metadata": {
  "kernelspec": {
   "display_name": "Python 3",
   "language": "python",
   "name": "python3"
  },
  "language_info": {
   "codemirror_mode": {
    "name": "ipython",
    "version": 3
   },
   "file_extension": ".py",
   "mimetype": "text/x-python",
   "name": "python",
   "nbconvert_exporter": "python",
   "pygments_lexer": "ipython3",
   "version": "3.6.9"
  }
 },
 "nbformat": 4,
 "nbformat_minor": 2
}
