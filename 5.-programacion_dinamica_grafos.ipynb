{
 "cells": [
  {
   "cell_type": "markdown",
   "metadata": {},
   "source": [
    "# Programacion Dinamica Grafos\n",
    "\n"
   ]
  },
  {
   "cell_type": "code",
   "execution_count": 5,
   "metadata": {},
   "outputs": [],
   "source": [
    "class abstract_graph:\n",
    "    \n",
    "    def __init__(self,_edges):\n",
    "        self.edges=_edges\n",
    "        self.nodes={u for u,v in self.edges} | {v for u,v in self.edges}\n",
    "    \n",
    "    def adjacency_list(self):\n",
    "        pass\n",
    "    \n",
    "class weighted_graph(abstract_graph):\n",
    "    \n",
    "    def __init__(self,_edges):\n",
    "        self.edges=_edges\n",
    "        self.nodes={u for u,v in self.edges.keys()} | {v for u,v in self.edges.keys()}    \n",
    "    \n",
    "    def adjacency_list(self):\n",
    "        adjacent=lambda n : {v:self.edges[(u,v)] for u,v in self.edges.keys() if u==n }\n",
    "        return {v:adjacent(v) for v in self.nodes}"
   ]
  },
  {
   "cell_type": "code",
   "execution_count": 6,
   "metadata": {},
   "outputs": [],
   "source": [
    "import heapq\n",
    "import numpy as np\n",
    "\n",
    "def dijkstra(G,start):\n",
    "    if start not in G.nodes:\n",
    "        return None\n",
    "    neighbors=G.adjacency_list()\n",
    "    path={}    \n",
    "    path.update({start:None})\n",
    "    distance={}\n",
    "    distance.update({start:0})\n",
    "    frontier=[]\n",
    "    heapq.heappush(frontier,(0,start))\n",
    "    while frontier:\n",
    "        dist_u,u=heapq.heappop(frontier)\n",
    "        for v in neighbors[u]:\n",
    "            dist_v=dist_u+G.edges[(u,v)]\n",
    "            if v not in distance.keys() or dist_v<distance[v]:\n",
    "                path.update({v:u})\n",
    "                distance.update({v:dist_v})\n",
    "                heapq.heappush(frontier,(dist_v,v))\n",
    "    return path,distance\n",
    "\n",
    "def bellman_ford(G,start):\n",
    "    if start not in G.nodes:\n",
    "        return None\n",
    "    neighbors=G.adjacency_list()\n",
    "    path={}    \n",
    "    path.update({start:None})\n",
    "    distance={v:float('inf') for v in G.nodes}\n",
    "    distance.update({start:0})\n",
    "    for i in range(len(G.nodes)-1):\n",
    "        for (u,v) in G.edges.keys():\n",
    "            dist_v=distance[u]+G.edges[(u,v)]\n",
    "            if dist_v<distance[v]:\n",
    "                path.update({v:u})\n",
    "                distance.update({v:dist_v})\n",
    "    return path,distance\n",
    "\n",
    "def shortest_path(parent,end):\n",
    "    path=[end]\n",
    "    k=end\n",
    "    while k is not None:\n",
    "        path.append(parent[k])\n",
    "        k=parent[k]\n",
    "    return path[:-1][::-1]"
   ]
  },
  {
   "cell_type": "code",
   "execution_count": 7,
   "metadata": {},
   "outputs": [],
   "source": [
    "random_graph = lambda n,p : {(u,v):np.random.randint(1,10) for u in np.arange(n) for v \n",
    "                    in np.arange(n) if np.random.rand()>p and u!=v}\n",
    "# cantidad de vértices\n",
    "n=10\n",
    "# 1- probabilidad de crear aristas\n",
    "p=0.9\n",
    "\n",
    "E=random_graph(n,p)\n",
    "\n",
    "G=weighted_graph(E)\n",
    "# chequear que el grafo sea conexo y que el vértice inicial exista!\n",
    "start=0\n",
    "path,distance=dijkstra(G,start)"
   ]
  },
  {
   "cell_type": "code",
   "execution_count": 8,
   "metadata": {},
   "outputs": [
    {
     "name": "stdout",
     "output_type": "stream",
     "text": [
      "Dijkstra Tiempo : 0.03884\n",
      "Bellman Ford Tiempo : 0.17316\n"
     ]
    }
   ],
   "source": [
    "import time\n",
    "\n",
    "n=100\n",
    "# 1- probabilidad de crear aristas\n",
    "p=0.3\n",
    "\n",
    "E=random_graph(n,p)\n",
    "G=weighted_graph(E)\n",
    "\n",
    "t1=time.clock()\n",
    "p,d=dijkstra(G,0)\n",
    "t2=time.clock()\n",
    "print('Dijkstra Tiempo : {0:0.5f}'.format(t2-t1))\n",
    "\n",
    "t3=time.clock()\n",
    "p,d=bellman_ford(G,0)\n",
    "t4=time.clock()\n",
    "print('Bellman Ford Tiempo : {0:0.5f}'.format(t4-t3))"
   ]
  },
  {
   "cell_type": "markdown",
   "metadata": {},
   "source": [
    "# Tarea\n",
    "\n",
    "En esta tarea Ud. debe comprobar las siguientes hipótesis:\n",
    "\n",
    "    1.) La complejidad del algoritmo Dijsktra depende de la cantidad de aristas del grafo.\n",
    "    2.) El peor caso del algoritmo Bellman-Ford se produce cuando el grafo es denso (gran cantidad de aristas).\n",
    "    3.) Cuando se requiere calcular las distancias más cortas entre todos los vértices del grafo, independiente de la cantidad de vértices el algoritmo Floyd-Warshall mejora el tiempo de ejecución de la fuerza bruta."
   ]
  },
  {
   "cell_type": "code",
   "execution_count": 49,
   "metadata": {},
   "outputs": [
    {
     "name": "stdout",
     "output_type": "stream",
     "text": [
      "Dijkstra Tiempo : 38.00020\n",
      "Bellman Ford Tiempo : 303.26168\n"
     ]
    }
   ],
   "source": [
    "import time\n",
    "\n",
    "n=1000\n",
    "# 1- probabilidad de crear aristas\n",
    "p=0.3\n",
    "\n",
    "E=random_graph(n,p)\n",
    "G=weighted_graph(E)\n",
    "\n",
    "t1=time.clock()\n",
    "p,d=dijkstra(G,0)\n",
    "t2=time.clock()\n",
    "print('Dijkstra Tiempo : {0:0.5f}'.format(t2-t1))\n",
    "\n",
    "t3=time.clock()\n",
    "p,d=bellman_ford(G,0)\n",
    "t4=time.clock()\n",
    "print('Bellman Ford Tiempo : {0:0.5f}'.format(t4-t3))"
   ]
  },
  {
   "cell_type": "code",
   "execution_count": 9,
   "metadata": {},
   "outputs": [],
   "source": [
    "import numpy as np\n",
    "import time\n",
    "import pandas as pd\n",
    "\n",
    "def run_experiment(n,method,p=0.5,n_samp=10):\n",
    "    ellapsed_time={m:[] for m in method}\n",
    "    s_n=[]\n",
    "    p_n=[]\n",
    "    for n in n:\n",
    "      for prob in p:\n",
    "        for j in range(n_samp):\n",
    "            s_n.append(n)\n",
    "            p_n.append(prob)\n",
    "            E=random_graph(n,prob)\n",
    "            G=weighted_graph(E)\n",
    "            for m in method:\n",
    "                start=time.clock()\n",
    "                eval(m+\"(G,0)\")\n",
    "                end=time.clock()\n",
    "                ellapsed_time[m].append(end-start)\n",
    "    df_list=[]\n",
    "    for m in method:\n",
    "      j=len(ellapsed_time[m])\n",
    "      df=pd.DataFrame({'n':s_n,'time':ellapsed_time[m],'method':[m]*j,'p':p_n})\n",
    "      df_list.append(df)\n",
    "    df_average=pd.concat(df_list,axis=0)\n",
    "    return df_average"
   ]
  },
  {
   "cell_type": "code",
   "execution_count": 10,
   "metadata": {},
   "outputs": [],
   "source": [
    "method=['dijkstra','bellman_ford']\n",
    "\n",
    "n=[100,200,300]\n",
    "p=[0.3,0.5,0.9]\n",
    "\n",
    "df=run_experiment(n,method,p,n_samp=10)"
   ]
  },
  {
   "cell_type": "code",
   "execution_count": 12,
   "metadata": {},
   "outputs": [
    {
     "data": {
      "image/png": "[encoded data removed]",
      "text/plain": [
       "<Figure size 716.9x288 with 3 Axes>"
      ]
     },
     "metadata": {},
     "output_type": "display_data"
    }
   ],
   "source": [
    "import warnings\n",
    "warnings.filterwarnings(\"ignore\")\n",
    "import seaborn as sns\n",
    "import matplotlib.pyplot as plt\n",
    "sns.set(style=\"whitegrid\")\n",
    "\n",
    "sns.catplot(x=\"n\", y=\"time\",hue=\"method\", col=\"p\",height=4, aspect=.7, data=df)\n",
    "plt.show()"
   ]
  },
  {
   "cell_type": "code",
   "execution_count": 13,
   "metadata": {},
   "outputs": [
    {
     "data": {
      "text/html": [
       "<div>\n",
       "<style scoped>\n",
       "    .dataframe tbody tr th:only-of-type {\n",
       "        vertical-align: middle;\n",
       "    }\n",
       "\n",
       "    .dataframe tbody tr th {\n",
       "        vertical-align: top;\n",
       "    }\n",
       "\n",
       "    .dataframe thead th {\n",
       "        text-align: right;\n",
       "    }\n",
       "</style>\n",
       "<table border=\"1\" class=\"dataframe\">\n",
       "  <thead>\n",
       "    <tr style=\"text-align: right;\">\n",
       "      <th></th>\n",
       "      <th></th>\n",
       "      <th>time</th>\n",
       "    </tr>\n",
       "    <tr>\n",
       "      <th>p</th>\n",
       "      <th>n</th>\n",
       "      <th></th>\n",
       "    </tr>\n",
       "  </thead>\n",
       "  <tbody>\n",
       "    <tr>\n",
       "      <th rowspan=\"3\" valign=\"top\">0.3</th>\n",
       "      <th>100</th>\n",
       "      <td>0.039149</td>\n",
       "    </tr>\n",
       "    <tr>\n",
       "      <th>200</th>\n",
       "      <td>0.326177</td>\n",
       "    </tr>\n",
       "    <tr>\n",
       "      <th>300</th>\n",
       "      <td>1.008524</td>\n",
       "    </tr>\n",
       "    <tr>\n",
       "      <th rowspan=\"3\" valign=\"top\">0.5</th>\n",
       "      <th>100</th>\n",
       "      <td>0.031398</td>\n",
       "    </tr>\n",
       "    <tr>\n",
       "      <th>200</th>\n",
       "      <td>0.211751</td>\n",
       "    </tr>\n",
       "    <tr>\n",
       "      <th>300</th>\n",
       "      <td>0.773520</td>\n",
       "    </tr>\n",
       "    <tr>\n",
       "      <th rowspan=\"3\" valign=\"top\">0.9</th>\n",
       "      <th>100</th>\n",
       "      <td>0.006345</td>\n",
       "    </tr>\n",
       "    <tr>\n",
       "      <th>200</th>\n",
       "      <td>0.039852</td>\n",
       "    </tr>\n",
       "    <tr>\n",
       "      <th>300</th>\n",
       "      <td>0.135730</td>\n",
       "    </tr>\n",
       "  </tbody>\n",
       "</table>\n",
       "</div>"
      ],
      "text/plain": [
       "             time\n",
       "p   n            \n",
       "0.3 100  0.039149\n",
       "    200  0.326177\n",
       "    300  1.008524\n",
       "0.5 100  0.031398\n",
       "    200  0.211751\n",
       "    300  0.773520\n",
       "0.9 100  0.006345\n",
       "    200  0.039852\n",
       "    300  0.135730"
      ]
     },
     "execution_count": 13,
     "metadata": {},
     "output_type": "execute_result"
    }
   ],
   "source": [
    "df1=df[df['method']=='dijkstra']\n",
    "df2=df[df['method']=='bellman_ford']\n",
    "\n",
    "df1.groupby(['p','n']).mean()"
   ]
  },
  {
   "cell_type": "code",
   "execution_count": 14,
   "metadata": {},
   "outputs": [
    {
     "data": {
      "text/html": [
       "<div>\n",
       "<style scoped>\n",
       "    .dataframe tbody tr th:only-of-type {\n",
       "        vertical-align: middle;\n",
       "    }\n",
       "\n",
       "    .dataframe tbody tr th {\n",
       "        vertical-align: top;\n",
       "    }\n",
       "\n",
       "    .dataframe thead th {\n",
       "        text-align: right;\n",
       "    }\n",
       "</style>\n",
       "<table border=\"1\" class=\"dataframe\">\n",
       "  <thead>\n",
       "    <tr style=\"text-align: right;\">\n",
       "      <th></th>\n",
       "      <th></th>\n",
       "      <th>time</th>\n",
       "    </tr>\n",
       "    <tr>\n",
       "      <th>p</th>\n",
       "      <th>n</th>\n",
       "      <th></th>\n",
       "    </tr>\n",
       "  </thead>\n",
       "  <tbody>\n",
       "    <tr>\n",
       "      <th rowspan=\"3\" valign=\"top\">0.3</th>\n",
       "      <th>100</th>\n",
       "      <td>0.182430</td>\n",
       "    </tr>\n",
       "    <tr>\n",
       "      <th>200</th>\n",
       "      <td>1.685375</td>\n",
       "    </tr>\n",
       "    <tr>\n",
       "      <th>300</th>\n",
       "      <td>5.445786</td>\n",
       "    </tr>\n",
       "    <tr>\n",
       "      <th rowspan=\"3\" valign=\"top\">0.5</th>\n",
       "      <th>100</th>\n",
       "      <td>0.138972</td>\n",
       "    </tr>\n",
       "    <tr>\n",
       "      <th>200</th>\n",
       "      <td>1.041372</td>\n",
       "    </tr>\n",
       "    <tr>\n",
       "      <th>300</th>\n",
       "      <td>4.102306</td>\n",
       "    </tr>\n",
       "    <tr>\n",
       "      <th rowspan=\"3\" valign=\"top\">0.9</th>\n",
       "      <th>100</th>\n",
       "      <td>0.027742</td>\n",
       "    </tr>\n",
       "    <tr>\n",
       "      <th>200</th>\n",
       "      <td>0.202469</td>\n",
       "    </tr>\n",
       "    <tr>\n",
       "      <th>300</th>\n",
       "      <td>0.739842</td>\n",
       "    </tr>\n",
       "  </tbody>\n",
       "</table>\n",
       "</div>"
      ],
      "text/plain": [
       "             time\n",
       "p   n            \n",
       "0.3 100  0.182430\n",
       "    200  1.685375\n",
       "    300  5.445786\n",
       "0.5 100  0.138972\n",
       "    200  1.041372\n",
       "    300  4.102306\n",
       "0.9 100  0.027742\n",
       "    200  0.202469\n",
       "    300  0.739842"
      ]
     },
     "execution_count": 14,
     "metadata": {},
     "output_type": "execute_result"
    }
   ],
   "source": [
    "df2.groupby(['p','n']).mean()"
   ]
  },
  {
   "cell_type": "code",
   "execution_count": 15,
   "metadata": {},
   "outputs": [
    {
     "data": {
      "text/plain": [
       "Ttest_indResult(statistic=5.157963823641714, pvalue=3.162065672365701e-06)"
      ]
     },
     "execution_count": 15,
     "metadata": {},
     "output_type": "execute_result"
    }
   ],
   "source": [
    "from scipy.stats import ttest_ind\n",
    "\n",
    "cat1=df1[df1['p']==0.3]\n",
    "cat2=df1[df1['p']==0.9]\n",
    "\n",
    "ttest_ind(cat1['time'], cat2['time'])"
   ]
  },
  {
   "cell_type": "code",
   "execution_count": 16,
   "metadata": {},
   "outputs": [
    {
     "data": {
      "text/plain": [
       "Ttest_indResult(statistic=5.072839235500257, pvalue=4.313299829888708e-06)"
      ]
     },
     "execution_count": 16,
     "metadata": {},
     "output_type": "execute_result"
    }
   ],
   "source": [
    "cat1=df2[df2['p']==0.3]\n",
    "cat2=df2[df2['p']==0.9]\n",
    "\n",
    "ttest_ind(cat1['time'], cat2['time'])"
   ]
  },
  {
   "cell_type": "code",
   "execution_count": null,
   "metadata": {},
   "outputs": [],
   "source": []
  }
 ],
 "metadata": {
  "kernelspec": {
   "display_name": "Python 3",
   "language": "python",
   "name": "python3"
  },
  "language_info": {
   "codemirror_mode": {
    "name": "ipython",
    "version": 3
   },
   "file_extension": ".py",
   "mimetype": "text/x-python",
   "name": "python",
   "nbconvert_exporter": "python",
   "pygments_lexer": "ipython3",
   "version": "3.6.9"
  }
 },
 "nbformat": 4,
 "nbformat_minor": 2
}
